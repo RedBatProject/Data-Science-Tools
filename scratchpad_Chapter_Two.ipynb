{
  "cells": [
    {
      "cell_type": "markdown",
      "metadata": {
        "id": "view-in-github",
        "colab_type": "text"
      },
      "source": [
        "<a href=\"https://colab.research.google.com/github/horsinnaround/Data-Science-Tools/blob/main/scratchpad_Chapter_Two.ipynb\" target=\"_parent\"><img src=\"https://colab.research.google.com/assets/colab-badge.svg\" alt=\"Open In Colab\"/></a>"
      ]
    },
    {
      "cell_type": "code",
      "execution_count": 1,
      "metadata": {
        "colab": {
          "base_uri": "https://localhost:8080/"
        },
        "id": "vVyoP_uIRRKC",
        "outputId": "3195bc4b-dc55-4e4a-bfde-85b11e6cd0fd"
      },
      "outputs": [
        {
          "output_type": "stream",
          "name": "stdout",
          "text": [
            "Downloading...\n",
            "From: https://amazon-massive-nlu-dataset.s3.amazonaws.com/amazon-massive-dataset-1.0.tar.gz\n",
            "To: /content/amazon-massive-dataset-1.0.tar.gz\n",
            "100% 39.5M/39.5M [00:00<00:00, 46.0MB/s]\n"
          ]
        }
      ],
      "source": [
        "!gdown 'https://amazon-massive-nlu-dataset.s3.amazonaws.com/amazon-massive-dataset-1.0.tar.gz'"
      ]
    },
    {
      "cell_type": "code",
      "execution_count": 2,
      "metadata": {
        "colab": {
          "base_uri": "https://localhost:8080/"
        },
        "id": "fxF8S1hVSflR",
        "outputId": "4c90a02a-cae2-4279-ab43-9450a843d473"
      },
      "outputs": [
        {
          "output_type": "stream",
          "name": "stdout",
          "text": [
            "1.0/\n",
            "1.0/CITATION.md\n",
            "1.0/NOTICE.md\n",
            "1.0/data/\n",
            "1.0/data/mn-MN.jsonl\n",
            "1.0/data/af-ZA.jsonl\n",
            "1.0/data/el-GR.jsonl\n",
            "1.0/data/ta-IN.jsonl\n",
            "1.0/data/ar-SA.jsonl\n",
            "1.0/data/ur-PK.jsonl\n",
            "1.0/data/pl-PL.jsonl\n",
            "1.0/data/ko-KR.jsonl\n",
            "1.0/data/az-AZ.jsonl\n",
            "1.0/data/da-DK.jsonl\n",
            "1.0/data/kn-IN.jsonl\n",
            "1.0/data/tl-PH.jsonl\n",
            "1.0/data/is-IS.jsonl\n",
            "1.0/data/lv-LV.jsonl\n",
            "1.0/data/it-IT.jsonl\n",
            "1.0/data/es-ES.jsonl\n",
            "1.0/data/fr-FR.jsonl\n",
            "1.0/data/ml-IN.jsonl\n",
            "1.0/data/km-KH.jsonl\n",
            "1.0/data/fa-IR.jsonl\n",
            "1.0/data/sw-KE.jsonl\n",
            "1.0/data/en-US.jsonl\n",
            "1.0/data/tr-TR.jsonl\n",
            "1.0/data/bn-BD.jsonl\n",
            "1.0/data/he-IL.jsonl\n",
            "1.0/data/te-IN.jsonl\n",
            "1.0/data/pt-PT.jsonl\n",
            "1.0/data/ka-GE.jsonl\n",
            "1.0/data/ja-JP.jsonl\n",
            "1.0/data/id-ID.jsonl\n",
            "1.0/data/ru-RU.jsonl\n",
            "1.0/data/hy-AM.jsonl\n",
            "1.0/data/nb-NO.jsonl\n",
            "1.0/data/ms-MY.jsonl\n",
            "1.0/data/sq-AL.jsonl\n",
            "1.0/data/sv-SE.jsonl\n",
            "1.0/data/fi-FI.jsonl\n",
            "1.0/data/th-TH.jsonl\n",
            "1.0/data/de-DE.jsonl\n",
            "1.0/data/vi-VN.jsonl\n",
            "1.0/data/my-MM.jsonl\n",
            "1.0/data/jv-ID.jsonl\n",
            "1.0/data/sl-SL.jsonl\n",
            "1.0/data/hi-IN.jsonl\n",
            "1.0/data/nl-NL.jsonl\n",
            "1.0/data/zh-CN.jsonl\n",
            "1.0/data/hu-HU.jsonl\n",
            "1.0/data/ro-RO.jsonl\n",
            "1.0/data/zh-TW.jsonl\n",
            "1.0/data/cy-GB.jsonl\n",
            "1.0/data/am-ET.jsonl\n",
            "1.0/LICENSE\n"
          ]
        }
      ],
      "source": [
        "!tar -xzvf '/content/amazon-massive-dataset-1.0.tar.gz';"
      ]
    },
    {
      "cell_type": "code",
      "execution_count": 3,
      "metadata": {
        "id": "I2isbCfdTnLf"
      },
      "outputs": [],
      "source": [
        "import json"
      ]
    },
    {
      "cell_type": "code",
      "execution_count": 4,
      "metadata": {
        "id": "5A6RpmNmUwn5"
      },
      "outputs": [],
      "source": [
        "import pandas as pd"
      ]
    },
    {
      "cell_type": "code",
      "execution_count": 302,
      "metadata": {
        "id": "CnFXJ_mcVFP9"
      },
      "outputs": [],
      "source": [
        "data = []\n",
        "for id in open('/content/1.0/data/en-US.jsonl','r'):\n",
        "    data.append(json.loads(id))"
      ]
    },
    {
      "cell_type": "code",
      "execution_count": 303,
      "metadata": {
        "id": "_uJHw_OYVqV7"
      },
      "outputs": [],
      "source": [
        "l = ['utt','scenario','id']"
      ]
    },
    {
      "cell_type": "code",
      "execution_count": 304,
      "metadata": {
        "id": "cdjZg0v5WBNm"
      },
      "outputs": [],
      "source": [
        "dataset = pd.DataFrame(data)"
      ]
    },
    {
      "cell_type": "code",
      "execution_count": 305,
      "metadata": {
        "colab": {
          "base_uri": "https://localhost:8080/",
          "height": 424
        },
        "id": "Vhx596UdWh2P",
        "outputId": "6da28175-e6d6-4591-948a-85611827e61f"
      },
      "outputs": [
        {
          "output_type": "execute_result",
          "data": {
            "text/plain": [
              "                                       utt scenario     id\n",
              "0          wake me up at five am this week    alarm      0\n",
              "1          wake me up at nine am on friday    alarm      1\n",
              "2      set an alarm for two hours from now    alarm      2\n",
              "3                                    quiet    audio      3\n",
              "4                               olly quiet    audio      4\n",
              "...                                    ...      ...    ...\n",
              "16516                     do i have emails    email  17176\n",
              "16517                  what emails are new    email  17177\n",
              "16518       do i have new emails from john    email  17178\n",
              "16519            has john sent me an email    email  17179\n",
              "16520                check email from john    email  17180\n",
              "\n",
              "[16521 rows x 3 columns]"
            ],
            "text/html": [
              "\n",
              "  <div id=\"df-c64ad229-8fde-4dc9-ae33-703d4cf91bb5\">\n",
              "    <div class=\"colab-df-container\">\n",
              "      <div>\n",
              "<style scoped>\n",
              "    .dataframe tbody tr th:only-of-type {\n",
              "        vertical-align: middle;\n",
              "    }\n",
              "\n",
              "    .dataframe tbody tr th {\n",
              "        vertical-align: top;\n",
              "    }\n",
              "\n",
              "    .dataframe thead th {\n",
              "        text-align: right;\n",
              "    }\n",
              "</style>\n",
              "<table border=\"1\" class=\"dataframe\">\n",
              "  <thead>\n",
              "    <tr style=\"text-align: right;\">\n",
              "      <th></th>\n",
              "      <th>utt</th>\n",
              "      <th>scenario</th>\n",
              "      <th>id</th>\n",
              "    </tr>\n",
              "  </thead>\n",
              "  <tbody>\n",
              "    <tr>\n",
              "      <th>0</th>\n",
              "      <td>wake me up at five am this week</td>\n",
              "      <td>alarm</td>\n",
              "      <td>0</td>\n",
              "    </tr>\n",
              "    <tr>\n",
              "      <th>1</th>\n",
              "      <td>wake me up at nine am on friday</td>\n",
              "      <td>alarm</td>\n",
              "      <td>1</td>\n",
              "    </tr>\n",
              "    <tr>\n",
              "      <th>2</th>\n",
              "      <td>set an alarm for two hours from now</td>\n",
              "      <td>alarm</td>\n",
              "      <td>2</td>\n",
              "    </tr>\n",
              "    <tr>\n",
              "      <th>3</th>\n",
              "      <td>quiet</td>\n",
              "      <td>audio</td>\n",
              "      <td>3</td>\n",
              "    </tr>\n",
              "    <tr>\n",
              "      <th>4</th>\n",
              "      <td>olly quiet</td>\n",
              "      <td>audio</td>\n",
              "      <td>4</td>\n",
              "    </tr>\n",
              "    <tr>\n",
              "      <th>...</th>\n",
              "      <td>...</td>\n",
              "      <td>...</td>\n",
              "      <td>...</td>\n",
              "    </tr>\n",
              "    <tr>\n",
              "      <th>16516</th>\n",
              "      <td>do i have emails</td>\n",
              "      <td>email</td>\n",
              "      <td>17176</td>\n",
              "    </tr>\n",
              "    <tr>\n",
              "      <th>16517</th>\n",
              "      <td>what emails are new</td>\n",
              "      <td>email</td>\n",
              "      <td>17177</td>\n",
              "    </tr>\n",
              "    <tr>\n",
              "      <th>16518</th>\n",
              "      <td>do i have new emails from john</td>\n",
              "      <td>email</td>\n",
              "      <td>17178</td>\n",
              "    </tr>\n",
              "    <tr>\n",
              "      <th>16519</th>\n",
              "      <td>has john sent me an email</td>\n",
              "      <td>email</td>\n",
              "      <td>17179</td>\n",
              "    </tr>\n",
              "    <tr>\n",
              "      <th>16520</th>\n",
              "      <td>check email from john</td>\n",
              "      <td>email</td>\n",
              "      <td>17180</td>\n",
              "    </tr>\n",
              "  </tbody>\n",
              "</table>\n",
              "<p>16521 rows × 3 columns</p>\n",
              "</div>\n",
              "      <button class=\"colab-df-convert\" onclick=\"convertToInteractive('df-c64ad229-8fde-4dc9-ae33-703d4cf91bb5')\"\n",
              "              title=\"Convert this dataframe to an interactive table.\"\n",
              "              style=\"display:none;\">\n",
              "        \n",
              "  <svg xmlns=\"http://www.w3.org/2000/svg\" height=\"24px\"viewBox=\"0 0 24 24\"\n",
              "       width=\"24px\">\n",
              "    <path d=\"M0 0h24v24H0V0z\" fill=\"none\"/>\n",
              "    <path d=\"M18.56 5.44l.94 2.06.94-2.06 2.06-.94-2.06-.94-.94-2.06-.94 2.06-2.06.94zm-11 1L8.5 8.5l.94-2.06 2.06-.94-2.06-.94L8.5 2.5l-.94 2.06-2.06.94zm10 10l.94 2.06.94-2.06 2.06-.94-2.06-.94-.94-2.06-.94 2.06-2.06.94z\"/><path d=\"M17.41 7.96l-1.37-1.37c-.4-.4-.92-.59-1.43-.59-.52 0-1.04.2-1.43.59L10.3 9.45l-7.72 7.72c-.78.78-.78 2.05 0 2.83L4 21.41c.39.39.9.59 1.41.59.51 0 1.02-.2 1.41-.59l7.78-7.78 2.81-2.81c.8-.78.8-2.07 0-2.86zM5.41 20L4 18.59l7.72-7.72 1.47 1.35L5.41 20z\"/>\n",
              "  </svg>\n",
              "      </button>\n",
              "      \n",
              "  <style>\n",
              "    .colab-df-container {\n",
              "      display:flex;\n",
              "      flex-wrap:wrap;\n",
              "      gap: 12px;\n",
              "    }\n",
              "\n",
              "    .colab-df-convert {\n",
              "      background-color: #E8F0FE;\n",
              "      border: none;\n",
              "      border-radius: 50%;\n",
              "      cursor: pointer;\n",
              "      display: none;\n",
              "      fill: #1967D2;\n",
              "      height: 32px;\n",
              "      padding: 0 0 0 0;\n",
              "      width: 32px;\n",
              "    }\n",
              "\n",
              "    .colab-df-convert:hover {\n",
              "      background-color: #E2EBFA;\n",
              "      box-shadow: 0px 1px 2px rgba(60, 64, 67, 0.3), 0px 1px 3px 1px rgba(60, 64, 67, 0.15);\n",
              "      fill: #174EA6;\n",
              "    }\n",
              "\n",
              "    [theme=dark] .colab-df-convert {\n",
              "      background-color: #3B4455;\n",
              "      fill: #D2E3FC;\n",
              "    }\n",
              "\n",
              "    [theme=dark] .colab-df-convert:hover {\n",
              "      background-color: #434B5C;\n",
              "      box-shadow: 0px 1px 3px 1px rgba(0, 0, 0, 0.15);\n",
              "      filter: drop-shadow(0px 1px 2px rgba(0, 0, 0, 0.3));\n",
              "      fill: #FFFFFF;\n",
              "    }\n",
              "  </style>\n",
              "\n",
              "      <script>\n",
              "        const buttonEl =\n",
              "          document.querySelector('#df-c64ad229-8fde-4dc9-ae33-703d4cf91bb5 button.colab-df-convert');\n",
              "        buttonEl.style.display =\n",
              "          google.colab.kernel.accessAllowed ? 'block' : 'none';\n",
              "\n",
              "        async function convertToInteractive(key) {\n",
              "          const element = document.querySelector('#df-c64ad229-8fde-4dc9-ae33-703d4cf91bb5');\n",
              "          const dataTable =\n",
              "            await google.colab.kernel.invokeFunction('convertToInteractive',\n",
              "                                                     [key], {});\n",
              "          if (!dataTable) return;\n",
              "\n",
              "          const docLinkHtml = 'Like what you see? Visit the ' +\n",
              "            '<a target=\"_blank\" href=https://colab.research.google.com/notebooks/data_table.ipynb>data table notebook</a>'\n",
              "            + ' to learn more about interactive tables.';\n",
              "          element.innerHTML = '';\n",
              "          dataTable['output_type'] = 'display_data';\n",
              "          await google.colab.output.renderOutput(dataTable, element);\n",
              "          const docLink = document.createElement('div');\n",
              "          docLink.innerHTML = docLinkHtml;\n",
              "          element.appendChild(docLink);\n",
              "        }\n",
              "      </script>\n",
              "    </div>\n",
              "  </div>\n",
              "  "
            ]
          },
          "metadata": {},
          "execution_count": 305
        }
      ],
      "source": [
        "dataset = dataset[l]\n",
        "dataset"
      ]
    },
    {
      "cell_type": "code",
      "execution_count": 306,
      "metadata": {
        "id": "awslXET7RdAG"
      },
      "outputs": [],
      "source": [
        "import re"
      ]
    },
    {
      "cell_type": "code",
      "execution_count": 355,
      "metadata": {
        "id": "XFdguGwgRfeN"
      },
      "outputs": [],
      "source": [
        "def rere(x):\n",
        "    x = re.sub(r\"[.,.،_؟!@#$%?!]\",\"\",x)\n",
        "    x = re.sub(r'[  ]',' ',x)\n",
        "    return x\n",
        "# def rere(x):\n",
        "#     x.str.replace()"
      ]
    },
    {
      "cell_type": "code",
      "execution_count": 356,
      "metadata": {
        "id": "N6N-4tp0Sy_H"
      },
      "outputs": [],
      "source": [
        "dataset['utt'] = dataset['utt'].apply(lambda x:rere(x))"
      ]
    },
    {
      "cell_type": "code",
      "execution_count": null,
      "metadata": {
        "colab": {
          "base_uri": "https://localhost:8080/"
        },
        "id": "lt4A-bu7WlRl",
        "outputId": "a02bef08-005e-485c-eb5a-89c984eb6bb0"
      },
      "outputs": [
        {
          "output_type": "execute_result",
          "data": {
            "text/plain": [
              "(18,)"
            ]
          },
          "metadata": {},
          "execution_count": 17
        }
      ],
      "source": [
        "dataset['scenario'].value_counts().shape"
      ]
    },
    {
      "cell_type": "code",
      "execution_count": null,
      "metadata": {
        "colab": {
          "base_uri": "https://localhost:8080/",
          "height": 332
        },
        "id": "FnowXaHTWzlG",
        "outputId": "c314dc2f-0623-4d97-b529-f078bea66db2"
      },
      "outputs": [
        {
          "output_type": "execute_result",
          "data": {
            "text/plain": [
              "                                                   utt scenario    id\n",
              "983                       how is the weather right now  weather  1020\n",
              "1014                             how hot is it outside  weather  1051\n",
              "1015                  what is the chance of rain today  weather  1052\n",
              "1042  what will be tomorrow's weather in this location  weather  1079\n",
              "1043                 give me tomorrow's weather update  weather  1080\n",
              "1044                 show me weather list for tomorrow  weather  1081\n",
              "1067          what's the current weather in new jersey  weather  1104\n",
              "1068            get me the weather forecast of beijing  weather  1105\n",
              "1069              i want to know the weather in nashik  weather  1106"
            ],
            "text/html": [
              "\n",
              "  <div id=\"df-1274788f-249f-40b8-9eb4-6b8e3c5815ae\">\n",
              "    <div class=\"colab-df-container\">\n",
              "      <div>\n",
              "<style scoped>\n",
              "    .dataframe tbody tr th:only-of-type {\n",
              "        vertical-align: middle;\n",
              "    }\n",
              "\n",
              "    .dataframe tbody tr th {\n",
              "        vertical-align: top;\n",
              "    }\n",
              "\n",
              "    .dataframe thead th {\n",
              "        text-align: right;\n",
              "    }\n",
              "</style>\n",
              "<table border=\"1\" class=\"dataframe\">\n",
              "  <thead>\n",
              "    <tr style=\"text-align: right;\">\n",
              "      <th></th>\n",
              "      <th>utt</th>\n",
              "      <th>scenario</th>\n",
              "      <th>id</th>\n",
              "    </tr>\n",
              "  </thead>\n",
              "  <tbody>\n",
              "    <tr>\n",
              "      <th>983</th>\n",
              "      <td>how is the weather right now</td>\n",
              "      <td>weather</td>\n",
              "      <td>1020</td>\n",
              "    </tr>\n",
              "    <tr>\n",
              "      <th>1014</th>\n",
              "      <td>how hot is it outside</td>\n",
              "      <td>weather</td>\n",
              "      <td>1051</td>\n",
              "    </tr>\n",
              "    <tr>\n",
              "      <th>1015</th>\n",
              "      <td>what is the chance of rain today</td>\n",
              "      <td>weather</td>\n",
              "      <td>1052</td>\n",
              "    </tr>\n",
              "    <tr>\n",
              "      <th>1042</th>\n",
              "      <td>what will be tomorrow's weather in this location</td>\n",
              "      <td>weather</td>\n",
              "      <td>1079</td>\n",
              "    </tr>\n",
              "    <tr>\n",
              "      <th>1043</th>\n",
              "      <td>give me tomorrow's weather update</td>\n",
              "      <td>weather</td>\n",
              "      <td>1080</td>\n",
              "    </tr>\n",
              "    <tr>\n",
              "      <th>1044</th>\n",
              "      <td>show me weather list for tomorrow</td>\n",
              "      <td>weather</td>\n",
              "      <td>1081</td>\n",
              "    </tr>\n",
              "    <tr>\n",
              "      <th>1067</th>\n",
              "      <td>what's the current weather in new jersey</td>\n",
              "      <td>weather</td>\n",
              "      <td>1104</td>\n",
              "    </tr>\n",
              "    <tr>\n",
              "      <th>1068</th>\n",
              "      <td>get me the weather forecast of beijing</td>\n",
              "      <td>weather</td>\n",
              "      <td>1105</td>\n",
              "    </tr>\n",
              "    <tr>\n",
              "      <th>1069</th>\n",
              "      <td>i want to know the weather in nashik</td>\n",
              "      <td>weather</td>\n",
              "      <td>1106</td>\n",
              "    </tr>\n",
              "  </tbody>\n",
              "</table>\n",
              "</div>\n",
              "      <button class=\"colab-df-convert\" onclick=\"convertToInteractive('df-1274788f-249f-40b8-9eb4-6b8e3c5815ae')\"\n",
              "              title=\"Convert this dataframe to an interactive table.\"\n",
              "              style=\"display:none;\">\n",
              "        \n",
              "  <svg xmlns=\"http://www.w3.org/2000/svg\" height=\"24px\"viewBox=\"0 0 24 24\"\n",
              "       width=\"24px\">\n",
              "    <path d=\"M0 0h24v24H0V0z\" fill=\"none\"/>\n",
              "    <path d=\"M18.56 5.44l.94 2.06.94-2.06 2.06-.94-2.06-.94-.94-2.06-.94 2.06-2.06.94zm-11 1L8.5 8.5l.94-2.06 2.06-.94-2.06-.94L8.5 2.5l-.94 2.06-2.06.94zm10 10l.94 2.06.94-2.06 2.06-.94-2.06-.94-.94-2.06-.94 2.06-2.06.94z\"/><path d=\"M17.41 7.96l-1.37-1.37c-.4-.4-.92-.59-1.43-.59-.52 0-1.04.2-1.43.59L10.3 9.45l-7.72 7.72c-.78.78-.78 2.05 0 2.83L4 21.41c.39.39.9.59 1.41.59.51 0 1.02-.2 1.41-.59l7.78-7.78 2.81-2.81c.8-.78.8-2.07 0-2.86zM5.41 20L4 18.59l7.72-7.72 1.47 1.35L5.41 20z\"/>\n",
              "  </svg>\n",
              "      </button>\n",
              "      \n",
              "  <style>\n",
              "    .colab-df-container {\n",
              "      display:flex;\n",
              "      flex-wrap:wrap;\n",
              "      gap: 12px;\n",
              "    }\n",
              "\n",
              "    .colab-df-convert {\n",
              "      background-color: #E8F0FE;\n",
              "      border: none;\n",
              "      border-radius: 50%;\n",
              "      cursor: pointer;\n",
              "      display: none;\n",
              "      fill: #1967D2;\n",
              "      height: 32px;\n",
              "      padding: 0 0 0 0;\n",
              "      width: 32px;\n",
              "    }\n",
              "\n",
              "    .colab-df-convert:hover {\n",
              "      background-color: #E2EBFA;\n",
              "      box-shadow: 0px 1px 2px rgba(60, 64, 67, 0.3), 0px 1px 3px 1px rgba(60, 64, 67, 0.15);\n",
              "      fill: #174EA6;\n",
              "    }\n",
              "\n",
              "    [theme=dark] .colab-df-convert {\n",
              "      background-color: #3B4455;\n",
              "      fill: #D2E3FC;\n",
              "    }\n",
              "\n",
              "    [theme=dark] .colab-df-convert:hover {\n",
              "      background-color: #434B5C;\n",
              "      box-shadow: 0px 1px 3px 1px rgba(0, 0, 0, 0.15);\n",
              "      filter: drop-shadow(0px 1px 2px rgba(0, 0, 0, 0.3));\n",
              "      fill: #FFFFFF;\n",
              "    }\n",
              "  </style>\n",
              "\n",
              "      <script>\n",
              "        const buttonEl =\n",
              "          document.querySelector('#df-1274788f-249f-40b8-9eb4-6b8e3c5815ae button.colab-df-convert');\n",
              "        buttonEl.style.display =\n",
              "          google.colab.kernel.accessAllowed ? 'block' : 'none';\n",
              "\n",
              "        async function convertToInteractive(key) {\n",
              "          const element = document.querySelector('#df-1274788f-249f-40b8-9eb4-6b8e3c5815ae');\n",
              "          const dataTable =\n",
              "            await google.colab.kernel.invokeFunction('convertToInteractive',\n",
              "                                                     [key], {});\n",
              "          if (!dataTable) return;\n",
              "\n",
              "          const docLinkHtml = 'Like what you see? Visit the ' +\n",
              "            '<a target=\"_blank\" href=https://colab.research.google.com/notebooks/data_table.ipynb>data table notebook</a>'\n",
              "            + ' to learn more about interactive tables.';\n",
              "          element.innerHTML = '';\n",
              "          dataTable['output_type'] = 'display_data';\n",
              "          await google.colab.output.renderOutput(dataTable, element);\n",
              "          const docLink = document.createElement('div');\n",
              "          docLink.innerHTML = docLinkHtml;\n",
              "          element.appendChild(docLink);\n",
              "        }\n",
              "      </script>\n",
              "    </div>\n",
              "  </div>\n",
              "  "
            ]
          },
          "metadata": {},
          "execution_count": 187
        }
      ],
      "source": [
        "dataset[dataset['scenario']=='weather'][120:129]"
      ]
    },
    {
      "cell_type": "code",
      "execution_count": null,
      "metadata": {
        "colab": {
          "base_uri": "https://localhost:8080/"
        },
        "id": "8SwKYua-iNa_",
        "outputId": "9b4513e1-126b-4930-99a5-78b18804ddd7"
      },
      "outputs": [
        {
          "output_type": "execute_result",
          "data": {
            "text/plain": [
              "0"
            ]
          },
          "metadata": {},
          "execution_count": 188
        }
      ],
      "source": [
        "pd.isna(dataset).sum().sum()"
      ]
    },
    {
      "cell_type": "markdown",
      "source": [
        "# Part One Vectorize"
      ],
      "metadata": {
        "id": "tputhvVtlgJz"
      }
    },
    {
      "cell_type": "code",
      "execution_count": null,
      "metadata": {
        "id": "6DIiyGxUYGS3"
      },
      "outputs": [],
      "source": [
        "dataset_dummy = dataset['utt'].str.get_dummies(' ')"
      ]
    },
    {
      "cell_type": "code",
      "execution_count": null,
      "metadata": {
        "id": "VuYkxSmeTmEi"
      },
      "outputs": [],
      "source": [
        "dataset_dummy"
      ]
    },
    {
      "cell_type": "code",
      "source": [
        "dataset_dummy.columns[5568]"
      ],
      "metadata": {
        "colab": {
          "base_uri": "https://localhost:8080/",
          "height": 35
        },
        "id": "AzVWsR1ldsX6",
        "outputId": "24cfabf3-40ac-43ce-e5c5-74c50f5c25b6"
      },
      "execution_count": null,
      "outputs": [
        {
          "output_type": "execute_result",
          "data": {
            "text/plain": [
              "'takeaways'"
            ],
            "application/vnd.google.colaboratory.intrinsic+json": {
              "type": "string"
            }
          },
          "metadata": {},
          "execution_count": 191
        }
      ]
    },
    {
      "cell_type": "code",
      "execution_count": null,
      "metadata": {
        "id": "jpoMfG7QbTR_"
      },
      "outputs": [],
      "source": [
        "from wordcloud import WordCloud\n",
        "import matplotlib.pyplot as plt\n",
        "# plt.rcParams[\"font.family\"] = \"Times New Roman\"\n",
        "# !pip install wordcloud-fa\n",
        "# from wordcloud_fa import WordCloudFa\n",
        "# import matplotlib.pyplot as plt\n",
        "plt.rcParams['font.family'] = 'serif'\n",
        "plt.rcParams['font.serif'] = ['Times New Roman'] + plt.rcParams['font.serif']"
      ]
    },
    {
      "cell_type": "code",
      "execution_count": null,
      "metadata": {
        "colab": {
          "base_uri": "https://localhost:8080/"
        },
        "id": "_nIvaT2ib48q",
        "outputId": "88d3b5fc-8912-4322-9ecc-e855d79be0e1"
      },
      "outputs": [
        {
          "output_type": "execute_result",
          "data": {
            "text/plain": [
              "0            wake me up at five am this week\n",
              "1            wake me up at nine am on friday\n",
              "2        set an alarm for two hours from now\n",
              "3                                      quiet\n",
              "4                                 olly quiet\n",
              "                        ...                 \n",
              "16516                       do i have emails\n",
              "16517                    what emails are new\n",
              "16518         do i have new emails from john\n",
              "16519              has john sent me an email\n",
              "16520                  check email from john\n",
              "Name: utt, Length: 16521, dtype: object"
            ]
          },
          "metadata": {},
          "execution_count": 192
        }
      ],
      "source": [
        "dataset['utt']"
      ]
    },
    {
      "cell_type": "code",
      "execution_count": null,
      "metadata": {
        "colab": {
          "base_uri": "https://localhost:8080/"
        },
        "id": "FCYeejngz2Ga",
        "outputId": "421334c6-a9c6-46bd-8fbe-d915bf0d51ed"
      },
      "outputs": [
        {
          "output_type": "execute_result",
          "data": {
            "text/plain": [
              "calendar          2370\n",
              "play              2024\n",
              "qa                1685\n",
              "email             1381\n",
              "iot               1107\n",
              "general            963\n",
              "weather            855\n",
              "transport          805\n",
              "lists              793\n",
              "news               709\n",
              "recommendation     596\n",
              "datetime           578\n",
              "social             565\n",
              "alarm              550\n",
              "music              469\n",
              "audio              387\n",
              "takeaway           358\n",
              "cooking            326\n",
              "Name: scenario, dtype: int64"
            ]
          },
          "metadata": {},
          "execution_count": 193
        }
      ],
      "source": [
        "dataset['scenario'].value_counts()"
      ]
    },
    {
      "cell_type": "code",
      "execution_count": null,
      "metadata": {
        "id": "K986QjbObWQ2"
      },
      "outputs": [],
      "source": [
        "# text = ' '\n",
        "# for i in set(dataset['scenario']):\n",
        "#     plt.figure(figsize=(12,8))\n",
        "#     text = \" \".join(t for t in dataset[dataset['scenario']==i].utt)\n",
        "#     wordclouds = WordCloud(width=1200, height=900).generate(text)\n",
        "#     plt.title(i)\n",
        "\n",
        "#     plt.imshow(wordclouds, interpolation='bilinear')\n",
        "#     plt.axis(\"off\")\n",
        "#     plt.savefig(f'./{i}.png',bbox_inches='tight')\n",
        "#     plt.show()"
      ]
    },
    {
      "cell_type": "code",
      "execution_count": null,
      "metadata": {
        "id": "RluyFq6_sqdY"
      },
      "outputs": [],
      "source": [
        "# figs,axes = plt.subplots(6,3,figsize=(18, 29))\n",
        "# axes2 = axes.flat\n",
        "# j = 0\n",
        "# for i in set(dataset['scenario']):\n",
        "#     # plt.figure(figsize=(12,8))\n",
        "#     text = \" \".join(t for t in dataset[dataset['scenario']==i].utt)\n",
        "#     wordclouds = WordCloud(width=800, height=600).generate(text)\n",
        "#     axes2[j].title.set_text(i)\n",
        "\n",
        "#     axes2[j].imshow(wordclouds, interpolation='bilinear')\n",
        "#     axes2[j].axis(\"off\")\n",
        "#     j += 1\n",
        "# plt.savefig('./wordcloud.png', bbox_inches='tight')\n",
        "\n",
        "# # plt.show()"
      ]
    },
    {
      "cell_type": "code",
      "execution_count": null,
      "metadata": {
        "id": "q0YB2fQdtb4u"
      },
      "outputs": [],
      "source": [
        "# g = np.array(wordclouds)\n",
        "# g.shape"
      ]
    },
    {
      "cell_type": "code",
      "execution_count": null,
      "metadata": {
        "id": "tuoAzOz3f9V-"
      },
      "outputs": [],
      "source": [
        "# col = dataset_dummy.columns\n",
        "# col2 = []\n",
        "# for i in col:\n",
        "#     if len(i) >1:\n",
        "#         col2.append(i)\n",
        "# dataset_dummy = dataset_dummy[col2]"
      ]
    },
    {
      "cell_type": "code",
      "source": [],
      "metadata": {
        "id": "yqRi3J1mhU9L"
      },
      "execution_count": null,
      "outputs": []
    },
    {
      "cell_type": "code",
      "execution_count": null,
      "metadata": {
        "id": "BaVzJW6j5EOU"
      },
      "outputs": [],
      "source": [
        "S = dataset['scenario'].factorize()\n",
        "dataset_dummy['target'] = S[0]\n",
        "label = S[1]"
      ]
    },
    {
      "cell_type": "code",
      "execution_count": null,
      "metadata": {
        "colab": {
          "base_uri": "https://localhost:8080/",
          "height": 35
        },
        "id": "hZGeMyUvRqN4",
        "outputId": "10f4532e-d0ae-4b88-eb4f-ca27e2090c18"
      },
      "outputs": [
        {
          "output_type": "execute_result",
          "data": {
            "text/plain": [
              "'wake me up at five am this week'"
            ],
            "application/vnd.google.colaboratory.intrinsic+json": {
              "type": "string"
            }
          },
          "metadata": {},
          "execution_count": 195
        }
      ],
      "source": [
        "dataset.iloc[0].utt"
      ]
    },
    {
      "cell_type": "code",
      "execution_count": null,
      "metadata": {
        "colab": {
          "base_uri": "https://localhost:8080/"
        },
        "id": "pEWfWLLaaB78",
        "outputId": "ce7c3a01-84b9-4252-9767-d05f8af35686"
      },
      "outputs": [
        {
          "output_type": "execute_result",
          "data": {
            "text/plain": [
              "&           0\n",
              "<empty>     0\n",
              "a           0\n",
              "aa          0\n",
              "aamir       0\n",
              "           ..\n",
              "zone        0\n",
              "zones       0\n",
              "zoo         0\n",
              "zucchini    0\n",
              "zydeco      0\n",
              "Name: 0, Length: 6326, dtype: int64"
            ]
          },
          "metadata": {},
          "execution_count": 196
        }
      ],
      "source": [
        "dataset_dummy.iloc[0]"
      ]
    },
    {
      "cell_type": "code",
      "execution_count": null,
      "metadata": {
        "id": "bgK_lVn6gqVf"
      },
      "outputs": [],
      "source": [
        "import numpy as np"
      ]
    },
    {
      "cell_type": "code",
      "execution_count": null,
      "metadata": {
        "id": "Qf22JFF2C8Yf"
      },
      "outputs": [],
      "source": [
        "# Split Data to Test and Train Sets"
      ]
    },
    {
      "cell_type": "code",
      "execution_count": null,
      "metadata": {
        "id": "0SIQ0iR9gvVc"
      },
      "outputs": [],
      "source": [
        "dsdum = dataset_dummy.sample(frac=1)"
      ]
    },
    {
      "cell_type": "code",
      "execution_count": null,
      "metadata": {
        "id": "G6w-FqBri4xX"
      },
      "outputs": [],
      "source": [
        "datats = dsdum[0:-1:5]"
      ]
    },
    {
      "cell_type": "code",
      "execution_count": null,
      "metadata": {
        "id": "d4SpkybijAd3"
      },
      "outputs": [],
      "source": [
        "datatr = dsdum.drop(datats.index)"
      ]
    },
    {
      "cell_type": "code",
      "execution_count": null,
      "metadata": {
        "colab": {
          "base_uri": "https://localhost:8080/"
        },
        "id": "ZAdbgs1_jJ3x",
        "outputId": "69d7e7df-2d46-4bb4-e822-4c4185614644"
      },
      "outputs": [
        {
          "output_type": "stream",
          "name": "stdout",
          "text": [
            "train size: 13217\n",
            "test size 3304\n"
          ]
        }
      ],
      "source": [
        "print(\"train size: {}\\ntest size {}\".format(datatr.shape[0],datats.shape[0]))"
      ]
    },
    {
      "cell_type": "markdown",
      "metadata": {
        "id": "tApiNqOH55-0"
      },
      "source": [
        "# Machine Learning / Deep Learning"
      ]
    },
    {
      "cell_type": "code",
      "execution_count": null,
      "metadata": {
        "id": "nkD1WK-Jjc1u"
      },
      "outputs": [],
      "source": [
        "from sklearn.tree import DecisionTreeClassifier"
      ]
    },
    {
      "cell_type": "code",
      "execution_count": null,
      "metadata": {
        "colab": {
          "base_uri": "https://localhost:8080/"
        },
        "id": "NxtcBqv3jjj6",
        "outputId": "39247702-6454-41f0-ba99-8926d09aa37c"
      },
      "outputs": [
        {
          "output_type": "execute_result",
          "data": {
            "text/plain": [
              "DecisionTreeClassifier()"
            ]
          },
          "metadata": {},
          "execution_count": 202
        }
      ],
      "source": [
        "dt = DecisionTreeClassifier()\n",
        "dt.fit(datatr.drop('target',axis=1),datatr['target'])"
      ]
    },
    {
      "cell_type": "code",
      "execution_count": null,
      "metadata": {
        "id": "p4hvekFrjvKZ"
      },
      "outputs": [],
      "source": [
        "dts = dt.predict(datats.drop('target',axis=1))"
      ]
    },
    {
      "cell_type": "code",
      "execution_count": null,
      "metadata": {
        "id": "z9ab884AkM1G"
      },
      "outputs": [],
      "source": [
        "dtsf = pd.DataFrame()\n",
        "dtsf[\"real\"] = list(datats['target'])\n",
        "dtsf['pres'] = list(dts)"
      ]
    },
    {
      "cell_type": "code",
      "execution_count": null,
      "metadata": {
        "id": "PiaFZzfjkdPm",
        "colab": {
          "base_uri": "https://localhost:8080/"
        },
        "outputId": "6895163d-0725-4b8a-9e00-b62a3cbf82aa"
      },
      "outputs": [
        {
          "output_type": "stream",
          "name": "stdout",
          "text": [
            "The accuracy: 0.8008474576271186\n"
          ]
        }
      ],
      "source": [
        "print(f\"The accuracy: {dtsf[dtsf['pres']==dtsf['real']].shape[0]/dtsf.shape[0]}\")"
      ]
    },
    {
      "cell_type": "code",
      "execution_count": null,
      "metadata": {
        "id": "3G1OcWuykzoC"
      },
      "outputs": [],
      "source": [
        "# Numpying the data\n",
        "X,Y,x,y = datatr.drop('target',axis=1).to_numpy().astype('float64'),datatr['target'].to_numpy(),datats.drop('target',axis=1).to_numpy().astype('float64'),datats['target'].to_numpy()"
      ]
    },
    {
      "cell_type": "code",
      "source": [
        "# x = x.reshape(x.shape[0], x.shape[1], 1)\n",
        "# X = X.reshape(X.shape[0], X.shape[1], 1)"
      ],
      "metadata": {
        "id": "YvqO1QMkPxTi"
      },
      "execution_count": null,
      "outputs": []
    },
    {
      "cell_type": "code",
      "source": [
        "# x = x.reshape(x.shape[0], x.shape[1])\n",
        "# X = X.reshape(X.shape[0], X.shape[1])"
      ],
      "metadata": {
        "id": "CdBsYB3mVuma"
      },
      "execution_count": null,
      "outputs": []
    },
    {
      "cell_type": "code",
      "execution_count": null,
      "metadata": {
        "id": "tojNm7YfzX_O"
      },
      "outputs": [],
      "source": [
        "# One hot encoding test labels\n",
        "b = np.zeros((y.size, y.max() + 1))\n",
        "b[np.arange(y.size), y] = 1\n",
        "y = b"
      ]
    },
    {
      "cell_type": "code",
      "execution_count": null,
      "metadata": {
        "id": "NDkXELUywfjQ"
      },
      "outputs": [],
      "source": [
        "# One hot encoding train labels\n",
        "b = np.zeros((Y.size, Y.max() + 1))\n",
        "b[np.arange(Y.size), Y] = 1\n",
        "Y = b"
      ]
    },
    {
      "cell_type": "code",
      "execution_count": 50,
      "metadata": {
        "colab": {
          "base_uri": "https://localhost:8080/"
        },
        "id": "k9jmeClck98a",
        "outputId": "8885d826-d425-4cf0-9226-ea1062c5fec8"
      },
      "outputs": [
        {
          "output_type": "stream",
          "name": "stdout",
          "text": [
            "GPU device not found\n"
          ]
        }
      ],
      "source": [
        "import tensorflow as tf\n",
        "dir(tf.keras)\n",
        "from tensorflow.keras import Sequential,Input,layers\n",
        "device_name = tf.test.gpu_device_name()\n",
        "if device_name != '/device:GPU:0':\n",
        "  print('GPU device not found')\n",
        "else:print('Found GPU at: {}'.format(device_name))"
      ]
    },
    {
      "cell_type": "code",
      "execution_count": null,
      "metadata": {
        "id": "Qrtkqh9XpUCu"
      },
      "outputs": [],
      "source": [
        "dir(tf.keras.losses)"
      ]
    },
    {
      "cell_type": "code",
      "source": [
        "X.shape"
      ],
      "metadata": {
        "colab": {
          "base_uri": "https://localhost:8080/"
        },
        "id": "UvEXP6UcP-_c",
        "outputId": "88a46b62-4c1f-496e-a55c-b96e5afcf645"
      },
      "execution_count": null,
      "outputs": [
        {
          "output_type": "execute_result",
          "data": {
            "text/plain": [
              "(13217, 6325)"
            ]
          },
          "metadata": {},
          "execution_count": 212
        }
      ]
    },
    {
      "cell_type": "code",
      "source": [
        "# model = Sequential()\n",
        "# model.add(layers.Conv1D(512, 64, activation=\"relu\", input_shape=(X.shape[1],X.shape[2])))\n",
        "# model.add(layers.Dense(128, activation=\"relu\"))\n",
        "# model.add(layers.MaxPooling1D())\n",
        "# model.add(layers.Flatten())\n",
        "# model.add(layers.Dense(128, activation=\"relu\"))\n",
        "# model.add(layers.Dense(18, activation = 'softmax'))\n",
        "# model.compile(loss = 'categorical_crossentropy', \n",
        "#      optimizer = \"adam\",               \n",
        "#               metrics = ['accuracy'])\n",
        "# model.summary()"
      ],
      "metadata": {
        "id": "hDoPL-njP9kh"
      },
      "execution_count": null,
      "outputs": []
    },
    {
      "cell_type": "code",
      "source": [
        "# history = model.fit(X,Y,32,4,validation_data=(x,y))"
      ],
      "metadata": {
        "id": "4tsnvlZFRIFK"
      },
      "execution_count": null,
      "outputs": []
    },
    {
      "cell_type": "code",
      "execution_count": null,
      "metadata": {
        "colab": {
          "base_uri": "https://localhost:8080/"
        },
        "id": "Q6zSWk4Ono4p",
        "outputId": "f36da60b-3f3f-48d9-c5e8-62b00b5e4169"
      },
      "outputs": [
        {
          "output_type": "stream",
          "name": "stdout",
          "text": [
            "Model: \"sequential_2\"\n",
            "_________________________________________________________________\n",
            " Layer (type)                Output Shape              Param #   \n",
            "=================================================================\n",
            " dense_6 (Dense)             (None, 128)               809728    \n",
            "                                                                 \n",
            " dropout_4 (Dropout)         (None, 128)               0         \n",
            "                                                                 \n",
            " dense_7 (Dense)             (None, 64)                8256      \n",
            "                                                                 \n",
            " dropout_5 (Dropout)         (None, 64)                0         \n",
            "                                                                 \n",
            " dense_8 (Dense)             (None, 18)                1170      \n",
            "                                                                 \n",
            "=================================================================\n",
            "Total params: 819,154\n",
            "Trainable params: 819,154\n",
            "Non-trainable params: 0\n",
            "_________________________________________________________________\n"
          ]
        }
      ],
      "source": [
        "# Creating the deep learning model\n",
        "model = tf.keras.Sequential()\n",
        "model.add(Input( shape=(X.shape[1],)))\n",
        "# input_shape = (0,X.shape[0],X.shape[1])\n",
        "\n",
        "model.add(layers.Dense(128,'relu'))\n",
        "model.add(layers.Dropout(0.2))\n",
        "\n",
        "model.add(layers.Dense(64,'relu'))\n",
        "model.add(layers.Dropout(0.1))\n",
        "\n",
        "model.add(layers.Dense(18, activation='softmax'))\n",
        "\n",
        "model.summary()"
      ]
    },
    {
      "cell_type": "code",
      "execution_count": null,
      "metadata": {
        "id": "smtmoZvfpFY1"
      },
      "outputs": [],
      "source": [
        "model.compile(optimizer='adam',loss='categorical_crossentropy',metrics=['accuracy'])"
      ]
    },
    {
      "cell_type": "code",
      "execution_count": null,
      "metadata": {
        "colab": {
          "base_uri": "https://localhost:8080/"
        },
        "id": "DkbT891EoiaH",
        "outputId": "22882440-d1cc-4960-fb19-ca4e0d8ca275"
      },
      "outputs": [
        {
          "output_type": "stream",
          "name": "stdout",
          "text": [
            "Epoch 1/4\n",
            "414/414 [==============================] - 5s 11ms/step - loss: 1.2248 - accuracy: 0.6776 - val_loss: 0.4984 - val_accuracy: 0.8677\n",
            "Epoch 2/4\n",
            "414/414 [==============================] - 4s 9ms/step - loss: 0.3351 - accuracy: 0.9109 - val_loss: 0.4137 - val_accuracy: 0.8874\n",
            "Epoch 3/4\n",
            "414/414 [==============================] - 4s 10ms/step - loss: 0.1871 - accuracy: 0.9509 - val_loss: 0.4121 - val_accuracy: 0.8892\n",
            "Epoch 4/4\n",
            "414/414 [==============================] - 4s 10ms/step - loss: 0.1230 - accuracy: 0.9674 - val_loss: 0.4326 - val_accuracy: 0.8898\n"
          ]
        }
      ],
      "source": [
        "history = model.fit(X,Y,32,4,validation_data=(x,y))"
      ]
    },
    {
      "cell_type": "code",
      "execution_count": null,
      "metadata": {
        "colab": {
          "base_uri": "https://localhost:8080/",
          "height": 591
        },
        "id": "qX-aqHw9pjSf",
        "outputId": "25739572-1835-4faa-99e8-65866844f66e"
      },
      "outputs": [
        {
          "output_type": "display_data",
          "data": {
            "text/plain": [
              "<Figure size 1008x720 with 1 Axes>"
            ],
            "image/png": "[encoded data removed]"
          },
          "metadata": {
            "needs_background": "light"
          }
        }
      ],
      "source": [
        "pd.DataFrame(history.history).plot(figsize=(14,10));\n",
        "# plt.figure(dpi=200)\n",
        "# plt.savefig('./g.png')"
      ]
    },
    {
      "cell_type": "code",
      "execution_count": null,
      "metadata": {
        "colab": {
          "base_uri": "https://localhost:8080/"
        },
        "id": "m_xSNcu2d6Dr",
        "outputId": "26f05fb0-8488-4e06-89ac-413acb159be2"
      },
      "outputs": [
        {
          "output_type": "stream",
          "name": "stdout",
          "text": [
            "104/104 [==============================] - 0s 3ms/step\n"
          ]
        }
      ],
      "source": [
        "y_test = model.predict(x)"
      ]
    },
    {
      "cell_type": "code",
      "execution_count": null,
      "metadata": {
        "id": "_FfbHKsWd-m0"
      },
      "outputs": [],
      "source": [
        "y_pre = y_test.argmax(axis=1)"
      ]
    },
    {
      "cell_type": "code",
      "execution_count": null,
      "metadata": {
        "id": "JKjTswp8eQv6"
      },
      "outputs": [],
      "source": [
        "y_tre = y.argmax(axis=1)"
      ]
    },
    {
      "cell_type": "code",
      "execution_count": null,
      "metadata": {
        "colab": {
          "base_uri": "https://localhost:8080/"
        },
        "id": "idYRLXs4eWCl",
        "outputId": "f9a9b617-2b8f-4b47-adcc-a6aa855a97dc"
      },
      "outputs": [
        {
          "output_type": "stream",
          "name": "stdout",
          "text": [
            "the accuracy is: 0.8916464891041163\n"
          ]
        }
      ],
      "source": [
        "print(f\"the accuracy is: {(y_pre==y_tre).sum()/y_pre.shape[0]}\")"
      ]
    },
    {
      "cell_type": "code",
      "execution_count": null,
      "metadata": {
        "colab": {
          "base_uri": "https://localhost:8080/"
        },
        "id": "iLYm8vz-A9LO",
        "outputId": "8a8f3e80-2184-41da-8b67-f8a5d87e6601"
      },
      "outputs": [
        {
          "output_type": "stream",
          "name": "stdout",
          "text": [
            "1/1 [==============================] - 0s 21ms/step\n"
          ]
        }
      ],
      "source": [
        "v = 6\n",
        "y_test = model.predict(x[v:v+1])"
      ]
    },
    {
      "cell_type": "code",
      "execution_count": null,
      "metadata": {
        "colab": {
          "base_uri": "https://localhost:8080/"
        },
        "id": "jwOktHvkBNSi",
        "outputId": "071e5a01-32e3-4791-af8b-60656dea7a13"
      },
      "outputs": [
        {
          "output_type": "stream",
          "name": "stdout",
          "text": [
            "social social\n"
          ]
        }
      ],
      "source": [
        "# Check if th predict label is true or not\n",
        "print(label[y_test.argmax()],label[y[v].argmax()])"
      ]
    },
    {
      "cell_type": "code",
      "execution_count": null,
      "metadata": {
        "id": "4s_zt7KpA5M0"
      },
      "outputs": [],
      "source": [
        "def generate(text):\n",
        "    text = rere(text)\n",
        "    new = np.zeros(dataset_dummy.columns.shape[0]-1)\n",
        "    newt = text.split()\n",
        "    for i,ne in enumerate(dataset_dummy.columns):\n",
        "        if ne in newt:\n",
        "            # print(ne)\n",
        "            new[i]=1\n",
        "    print(f'{int(new.sum())}/{len(newt)}')\n",
        "    return new"
      ]
    },
    {
      "cell_type": "code",
      "execution_count": null,
      "metadata": {
        "colab": {
          "base_uri": "https://localhost:8080/"
        },
        "id": "hPGq4V8ECgTR",
        "outputId": "fe3f4416-5da6-4296-b212-d012ac416a59"
      },
      "outputs": [
        {
          "output_type": "stream",
          "name": "stdout",
          "text": [
            "sex\n",
            "1/1\n",
            "1/1 [==============================] - 0s 18ms/step\n",
            "it could be:\n",
            "general with 0.9399766325950623\n",
            "music with 0.010030246339738369\n",
            "calendar with 0.007336896378546953\n"
          ]
        }
      ],
      "source": [
        "text = input()\n",
        "\n",
        "xp = generate(text)\n",
        "\n",
        "y_test = model.predict(xp.reshape((1,-1)));\n",
        "p = np.flip(np.argsort(y_test))[0][0:3]\n",
        "# print(y_test.argmax(),label[y_test.argmax()])\n",
        "print('it could be:\\n{} with {}\\n{} with {}\\n{} with {}'.format(label[p[0]],y_test[0][p[0]],label[p[1]],y_test[0][p[1]],label[p[2]],y_test[0][p[2]]))"
      ]
    },
    {
      "cell_type": "code",
      "execution_count": null,
      "metadata": {
        "id": "ulAmb1JiX8Kl",
        "colab": {
          "base_uri": "https://localhost:8080/"
        },
        "outputId": "acb5d234-0daf-4bc0-a4b7-d0f8b09a37a7"
      },
      "outputs": [
        {
          "output_type": "execute_result",
          "data": {
            "text/plain": [
              "(Index(['general', 'qa', 'play', 'audio', 'news', 'email', 'music', 'iot',\n",
              "        'calendar', 'lists', 'cooking', 'social', 'takeaway', 'weather',\n",
              "        'transport', 'recommendation', 'datetime', 'alarm'],\n",
              "       dtype='object'),\n",
              " array([0.46843198, 0.10765477, 0.09410164, 0.0450245 , 0.04026192,\n",
              "        0.03527036, 0.03294452, 0.02641904, 0.02637018, 0.02341259,\n",
              "        0.02296855, 0.01792793, 0.01359527, 0.01335226, 0.01186631,\n",
              "        0.01088644, 0.00681915, 0.00269259], dtype=float32))"
            ]
          },
          "metadata": {},
          "execution_count": 95
        }
      ],
      "source": [
        "label[p],y_test[0][p]"
      ]
    },
    {
      "cell_type": "markdown",
      "metadata": {
        "id": "aeAx1eb04K0X"
      },
      "source": [
        "# Part 2 DataStuff"
      ]
    },
    {
      "cell_type": "code",
      "source": [
        "dataset_dummys = datats"
      ],
      "metadata": {
        "id": "jMaov-chBgIR"
      },
      "execution_count": null,
      "outputs": []
    },
    {
      "cell_type": "code",
      "execution_count": null,
      "metadata": {
        "id": "FD6zpbAn6mvg"
      },
      "outputs": [],
      "source": [
        "lst = [[] for i in range(18)]"
      ]
    },
    {
      "cell_type": "code",
      "execution_count": null,
      "metadata": {
        "id": "uPjW-3VU6z3o"
      },
      "outputs": [],
      "source": [
        "for i in set(dataset_dummys.target):\n",
        "    lst[i] = dataset_dummys[dataset_dummys.target==i].index"
      ]
    },
    {
      "cell_type": "code",
      "execution_count": null,
      "metadata": {
        "colab": {
          "base_uri": "https://localhost:8080/"
        },
        "id": "mvTu-tXw7FbJ",
        "outputId": "71d5beb7-f0c6-4e80-feff-ddf8e10af464"
      },
      "outputs": [
        {
          "output_type": "execute_result",
          "data": {
            "text/plain": [
              "Int64Index([2415, 3054, 4443, 3569, 4877, 5301, 2960, 3830, 1904, 1912,\n",
              "            ...\n",
              "             200,  588, 3825, 3853, 5300, 4915, 2091, 1585, 2007, 4433],\n",
              "           dtype='int64', length=123)"
            ]
          },
          "metadata": {},
          "execution_count": 63
        }
      ],
      "source": [
        "lst[0]"
      ]
    },
    {
      "cell_type": "code",
      "execution_count": null,
      "metadata": {
        "id": "21zGAe3x4O9j"
      },
      "outputs": [],
      "source": [
        "cols = dataset_dummys.columns"
      ]
    },
    {
      "cell_type": "code",
      "execution_count": null,
      "metadata": {
        "id": "koeeUXSv6S14"
      },
      "outputs": [],
      "source": [
        "dts = dataset_dummys.drop('target',axis=1)"
      ]
    },
    {
      "cell_type": "code",
      "execution_count": null,
      "metadata": {
        "colab": {
          "base_uri": "https://localhost:8080/"
        },
        "id": "fNm1NLHwneZV",
        "outputId": "0c705b6c-d80d-4c94-85a8-ad2b49087295"
      },
      "outputs": [
        {
          "output_type": "execute_result",
          "data": {
            "text/plain": [
              "Index(['alarm', 'audio', 'iot', 'calendar', 'play', 'general', 'datetime',\n",
              "       'takeaway', 'news', 'music', 'weather', 'qa', 'social',\n",
              "       'recommendation', 'cooking', 'transport', 'email', 'lists'],\n",
              "      dtype='object')"
            ]
          },
          "metadata": {},
          "execution_count": 66
        }
      ],
      "source": [
        "label"
      ]
    },
    {
      "cell_type": "code",
      "source": [],
      "metadata": {
        "id": "DVErJXnoBRY8"
      },
      "execution_count": null,
      "outputs": []
    },
    {
      "cell_type": "code",
      "execution_count": null,
      "metadata": {
        "colab": {
          "base_uri": "https://localhost:8080/"
        },
        "id": "M2y1Q3yP_ti6",
        "outputId": "9c6d356a-5614-453a-f16c-b91bdee0d224"
      },
      "outputs": [
        {
          "output_type": "stream",
          "name": "stdout",
          "text": [
            "num: 76\n",
            "audio\n"
          ]
        },
        {
          "output_type": "execute_result",
          "data": {
            "text/plain": [
              "Index(['noise', 'low', 'am', 'make', 'notifications', 'answer', 'alexa',\n",
              "       'decrease', 'loud', 'all', 'do', 'five', 'pause', 'google', 'little',\n",
              "       'no', 'hours', 'your', 'in', 'hour', 'could', 'tempo', 'music', 'on',\n",
              "       'next', 'my', 'thanksgiving', 'of', 'not', 'off', 'it', 'twitter',\n",
              "       'need', 'silent', 'silence', 'minutes', 'sound', 'louder', 'speak',\n",
              "       'olly', 'set', 'level', 'unset', 'speaker', 'be', 'change', 'settings',\n",
              "       'increase', 'hear', 'quiet', 'can', 'down', 'until', 'lower',\n",
              "       'speakers', 'yosemite', 'for', 'mute', 'turks', 'tmz', 'please',\n",
              "       'that's', 'volkswagen'],\n",
              "      dtype='object')"
            ]
          },
          "metadata": {},
          "execution_count": 67
        }
      ],
      "source": [
        "s = 1\n",
        "dt = dts.loc[lst[s]]\n",
        "print(\"num: {}\".format(dt.shape[0]))\n",
        "dt_num = dt.sum(axis=0).to_numpy()\n",
        "dt_nump = pd.Series(dt_num)\n",
        "dt_nump = dt_nump.sort_values()\n",
        "ind = dt_nump.index\n",
        "print(label[s])\n",
        "cols[list(ind[int(ind.shape[0]*0.99):])]"
      ]
    },
    {
      "cell_type": "code",
      "execution_count": null,
      "metadata": {
        "id": "_ZoUUE7r7TTi"
      },
      "outputs": [],
      "source": [
        "# Next three Cell for important words\n",
        "play = dts.loc[lst[4]]\n",
        "music = dts.loc[lst[9]]"
      ]
    },
    {
      "cell_type": "code",
      "execution_count": null,
      "metadata": {
        "colab": {
          "base_uri": "https://localhost:8080/"
        },
        "id": "v9PIBnMmAOyz",
        "outputId": "93a800fd-ac94-4373-cbd0-68c55853ad61"
      },
      "outputs": [
        {
          "output_type": "execute_result",
          "data": {
            "text/plain": [
              "Index(['song', 'that's', 'thirty', 'is', 'whales', 'save', 'of', 'my',\n",
              "       'playing', 'on'],\n",
              "      dtype='object')"
            ]
          },
          "metadata": {},
          "execution_count": 69
        }
      ],
      "source": [
        "cols[np.flip(np.argsort(music.sum(axis=0).to_numpy()))[0:10]]"
      ]
    },
    {
      "cell_type": "code",
      "execution_count": null,
      "metadata": {
        "colab": {
          "base_uri": "https://localhost:8080/"
        },
        "id": "CopTfWX-q6rt",
        "outputId": "00c3af00-d53f-4999-a211-ef8b678ed304"
      },
      "outputs": [
        {
          "output_type": "execute_result",
          "data": {
            "text/plain": [
              "Index(['play', 'that's', 'tmz', 'my', 'please', 'music', 'me', 'radio',\n",
              "       'playlist', 'and'],\n",
              "      dtype='object')"
            ]
          },
          "metadata": {},
          "execution_count": 70
        }
      ],
      "source": [
        "cols[np.flip(np.argsort(play.sum(axis=0).to_numpy()))[0:10]]"
      ]
    },
    {
      "cell_type": "code",
      "execution_count": null,
      "metadata": {
        "colab": {
          "base_uri": "https://localhost:8080/"
        },
        "id": "3URBQmMNQMNI",
        "outputId": "31861868-f9f3-471e-f973-f78492675493"
      },
      "outputs": [
        {
          "output_type": "execute_result",
          "data": {
            "text/plain": [
              "(532, 2217)"
            ]
          },
          "metadata": {},
          "execution_count": 71
        }
      ],
      "source": [
        "music.sum(axis=0).sum(),play.sum(axis=0).sum()"
      ]
    },
    {
      "cell_type": "code",
      "execution_count": null,
      "metadata": {
        "colab": {
          "base_uri": "https://localhost:8080/"
        },
        "id": "SsomQaHQSi7A",
        "outputId": "419963bd-f86a-4db4-f64f-42730cc4d727"
      },
      "outputs": [
        {
          "output_type": "execute_result",
          "data": {
            "text/plain": [
              "0.32847346451997617"
            ]
          },
          "metadata": {},
          "execution_count": 72
        }
      ],
      "source": [
        "np.dot(play.mean(axis=0) , music.mean(axis=0))"
      ]
    },
    {
      "cell_type": "code",
      "execution_count": null,
      "metadata": {
        "colab": {
          "base_uri": "https://localhost:8080/"
        },
        "id": "qJVhH_TpTDwy",
        "outputId": "64b16e3b-2463-436d-db27-db63cafefb35"
      },
      "outputs": [
        {
          "output_type": "stream",
          "name": "stdout",
          "text": [
            "play and play\n"
          ]
        },
        {
          "output_type": "execute_result",
          "data": {
            "text/plain": [
              "0.6382708744247205"
            ]
          },
          "metadata": {},
          "execution_count": 73
        }
      ],
      "source": [
        "# Correlation between Two Classes\n",
        "i,j = 4,4\n",
        "print(label[i],\"and\",label[j])\n",
        "np.dot(dts.loc[lst[i]].mean(axis=0),dts.loc[lst[j]].mean(axis=0))"
      ]
    },
    {
      "cell_type": "code",
      "execution_count": null,
      "metadata": {
        "colab": {
          "base_uri": "https://localhost:8080/"
        },
        "id": "87G6UluQa3Q0",
        "outputId": "45ea2411-fc8a-4de5-8320-9213d68daa92"
      },
      "outputs": [
        {
          "output_type": "execute_result",
          "data": {
            "text/plain": [
              "Index(['that's', 'is', 'whales', 'of', 'how', 'me', 'in', 'television', 'tmz',\n",
              "       'does'],\n",
              "      dtype='object')"
            ]
          },
          "metadata": {},
          "execution_count": 74
        }
      ],
      "source": [
        "mu = dts.loc[lst[11]]\n",
        "cols[np.flip(np.argsort(mu.mean(axis=0).to_numpy()))[0:10]]"
      ]
    },
    {
      "cell_type": "code",
      "execution_count": null,
      "metadata": {
        "id": "_KGnOpJYUb7Q"
      },
      "outputs": [],
      "source": [
        "cor = np.zeros((18,18))\n",
        "for i in range(18):\n",
        "    for j in range(18):\n",
        "        cor[i,j] = np.dot(dts.loc[lst[i]].var(axis=0),dts.loc[lst[j]].var(axis=0))"
      ]
    },
    {
      "cell_type": "code",
      "source": [
        "i,j = 5,10\n",
        "print(label[i],\"and\",label[j])\n",
        "print(cor[i,j])"
      ],
      "metadata": {
        "colab": {
          "base_uri": "https://localhost:8080/"
        },
        "id": "hKn7XTi1ARiB",
        "outputId": "1b8213a9-1573-4b59-a0ae-df0faeb1d088"
      },
      "execution_count": null,
      "outputs": [
        {
          "output_type": "stream",
          "name": "stdout",
          "text": [
            "general and weather\n",
            "0.21476605515314146\n"
          ]
        }
      ]
    },
    {
      "cell_type": "code",
      "source": [
        "cor = cor/cor.max()"
      ],
      "metadata": {
        "id": "ze0R5DTvzZP6"
      },
      "execution_count": null,
      "outputs": []
    },
    {
      "cell_type": "code",
      "execution_count": null,
      "metadata": {
        "colab": {
          "base_uri": "https://localhost:8080/",
          "height": 471
        },
        "id": "gsKxCi8JZq5Q",
        "outputId": "a06afc73-059a-4212-efbc-f8fc7b85b8d1"
      },
      "outputs": [
        {
          "output_type": "display_data",
          "data": {
            "text/plain": [
              "<Figure size 576x576 with 2 Axes>"
            ],
            "image/png": "[encoded data removed]"
          },
          "metadata": {
            "needs_background": "light"
          }
        }
      ],
      "source": [
        "# Correlation between Classes\n",
        "plt.figure(figsize=(8,8))\n",
        "plt.imshow(cor)\n",
        "plt.colorbar()\n",
        "# plt.yticks(labels=label,ticks=range(18))\n",
        "# plt.xticks(labels=label,ticks=range(18),rotation=-90)\n",
        "plt.show()"
      ]
    },
    {
      "cell_type": "code",
      "source": [
        "from sklearn.metrics import classification_report,confusion_matrix"
      ],
      "metadata": {
        "id": "Vh1ahGyS3tja"
      },
      "execution_count": null,
      "outputs": []
    },
    {
      "cell_type": "code",
      "source": [
        "con = confusion_matrix(y_tre,y_pre)\n",
        "con = con/con.max()"
      ],
      "metadata": {
        "id": "VD7cOsVA_EhI"
      },
      "execution_count": null,
      "outputs": []
    },
    {
      "cell_type": "code",
      "source": [
        "for i in range(18):\n",
        "    con[i,i] = 0\n",
        "    cor[i,i] = 0"
      ],
      "metadata": {
        "id": "-DBLwm0bDv6D"
      },
      "execution_count": null,
      "outputs": []
    },
    {
      "cell_type": "code",
      "source": [
        "# Correlation between Classes\n",
        "plt.figure(figsize=(8,8))\n",
        "plt.imshow(con)\n",
        "plt.colorbar()\n",
        "# plt.yticks(labels=label,ticks=range(18))\n",
        "# plt.xticks(labels=label,ticks=range(18),rotation=-90)\n",
        "plt.show()\n"
      ],
      "metadata": {
        "colab": {
          "base_uri": "https://localhost:8080/",
          "height": 471
        },
        "id": "z4k9TWyf3y6C",
        "outputId": "43e5a3cd-dfd3-4356-be3f-778318545c14"
      },
      "execution_count": null,
      "outputs": [
        {
          "output_type": "display_data",
          "data": {
            "text/plain": [
              "<Figure size 576x576 with 2 Axes>"
            ],
            "image/png": "[encoded data removed]"
          },
          "metadata": {
            "needs_background": "light"
          }
        }
      ]
    },
    {
      "cell_type": "code",
      "source": [
        "figs,axis = plt.subplots(1,2,figsize=(16,8),sharey=True)\n",
        "figs.subplots_adjust(wspace=0.01)\n",
        "axis[0].imshow(cor)\n",
        "axis[0].set_xticks(range(18))\n",
        "axis[0].set_yticks(range(18))\n",
        "axis[0].set_xticklabels(labels=label,rotation=-90)\n",
        "axis[0].set_yticklabels(labels=label,rotation=0)\n",
        "axis[0].title.set_text(\"Corelation\")\n",
        "\n",
        "axis[1].imshow(con)\n",
        "axis[1].set_xticks(range(18))\n",
        "axis[1].set_yticks(range(18))\n",
        "axis[1].set_xticklabels(labels=label,rotation=-90)\n",
        "axis[1].set_yticklabels(labels=label,rotation=0)\n",
        "axis[1].title.set_text(\"Confusion\")\n",
        "\n"
      ],
      "metadata": {
        "colab": {
          "base_uri": "https://localhost:8080/",
          "height": 575
        },
        "id": "4wu83GnAAt8V",
        "outputId": "c49ae974-593d-480a-fe29-ac88c43ce942"
      },
      "execution_count": null,
      "outputs": [
        {
          "output_type": "display_data",
          "data": {
            "text/plain": [
              "<Figure size 1152x576 with 2 Axes>"
            ],
            "image/png": "[encoded data removed]"
          },
          "metadata": {
            "needs_background": "light"
          }
        }
      ]
    },
    {
      "cell_type": "code",
      "source": [
        "axis[0].set_xticklabels(labels=label)"
      ],
      "metadata": {
        "colab": {
          "base_uri": "https://localhost:8080/"
        },
        "id": "PXzoV6nCJ3ZB",
        "outputId": "739f737f-0adc-4d8e-e02d-365eccb2a68a"
      },
      "execution_count": null,
      "outputs": [
        {
          "output_type": "execute_result",
          "data": {
            "text/plain": [
              "[Text(0, 0, 'alarm'),\n",
              " Text(1, 0, 'audio'),\n",
              " Text(2, 0, 'iot'),\n",
              " Text(3, 0, 'calendar'),\n",
              " Text(4, 0, 'play'),\n",
              " Text(5, 0, 'general'),\n",
              " Text(6, 0, 'datetime'),\n",
              " Text(7, 0, 'takeaway'),\n",
              " Text(8, 0, 'news'),\n",
              " Text(9, 0, 'music'),\n",
              " Text(10, 0, 'weather'),\n",
              " Text(11, 0, 'qa'),\n",
              " Text(12, 0, 'social'),\n",
              " Text(13, 0, 'recommendation'),\n",
              " Text(14, 0, 'cooking'),\n",
              " Text(15, 0, 'transport'),\n",
              " Text(16, 0, 'email'),\n",
              " Text(17, 0, 'lists')]"
            ]
          },
          "metadata": {},
          "execution_count": 84
        }
      ]
    },
    {
      "cell_type": "code",
      "source": [
        "dir(axis[0])"
      ],
      "metadata": {
        "colab": {
          "base_uri": "https://localhost:8080/"
        },
        "id": "y-ukr9PiJvGI",
        "outputId": "6a4c1223-2b26-454e-c7b5-d9617e0e0288"
      },
      "execution_count": null,
      "outputs": [
        {
          "output_type": "execute_result",
          "data": {
            "text/plain": [
              "['__class__',\n",
              " '__delattr__',\n",
              " '__dict__',\n",
              " '__dir__',\n",
              " '__doc__',\n",
              " '__eq__',\n",
              " '__format__',\n",
              " '__ge__',\n",
              " '__getattribute__',\n",
              " '__getstate__',\n",
              " '__gt__',\n",
              " '__hash__',\n",
              " '__init__',\n",
              " '__init_subclass__',\n",
              " '__le__',\n",
              " '__lt__',\n",
              " '__module__',\n",
              " '__ne__',\n",
              " '__new__',\n",
              " '__reduce__',\n",
              " '__reduce_ex__',\n",
              " '__repr__',\n",
              " '__setattr__',\n",
              " '__setstate__',\n",
              " '__sizeof__',\n",
              " '__str__',\n",
              " '__subclasshook__',\n",
              " '__weakref__',\n",
              " '_add_text',\n",
              " '_adjustable',\n",
              " '_agg_filter',\n",
              " '_alpha',\n",
              " '_anchor',\n",
              " '_animated',\n",
              " '_aspect',\n",
              " '_autoscaleXon',\n",
              " '_autoscaleYon',\n",
              " '_autotitlepos',\n",
              " '_axes',\n",
              " '_axes_class',\n",
              " '_axes_locator',\n",
              " '_axisbelow',\n",
              " '_clipon',\n",
              " '_clippath',\n",
              " '_contains',\n",
              " '_convert_dx',\n",
              " '_current_image',\n",
              " '_default_contains',\n",
              " '_facecolor',\n",
              " '_frameon',\n",
              " '_gci',\n",
              " '_gen_axes_patch',\n",
              " '_gen_axes_spines',\n",
              " '_get_axis_list',\n",
              " '_get_axis_map',\n",
              " '_get_clipping_extent_bbox',\n",
              " '_get_lines',\n",
              " '_get_patches_for_fill',\n",
              " '_get_view',\n",
              " '_gid',\n",
              " '_gridOn',\n",
              " '_in_layout',\n",
              " '_init_axis',\n",
              " '_label',\n",
              " '_layoutbox',\n",
              " '_left_title',\n",
              " '_make_twin_axes',\n",
              " '_mouseover',\n",
              " '_mouseover_set',\n",
              " '_navigate',\n",
              " '_navigate_mode',\n",
              " '_oid',\n",
              " '_on_units_changed',\n",
              " '_originalPosition',\n",
              " '_parse_scatter_color_args',\n",
              " '_path_effects',\n",
              " '_pcolorargs',\n",
              " '_picker',\n",
              " '_position',\n",
              " '_poslayoutbox',\n",
              " '_process_unit_info',\n",
              " '_prop_order',\n",
              " '_propobservers',\n",
              " '_quiver_units',\n",
              " '_rasterization_zorder',\n",
              " '_rasterized',\n",
              " '_remove_legend',\n",
              " '_remove_method',\n",
              " '_request_autoscale_view',\n",
              " '_right_title',\n",
              " '_sci',\n",
              " '_set_artist_props',\n",
              " '_set_gc_clip',\n",
              " '_set_lim_and_transforms',\n",
              " '_set_position',\n",
              " '_set_title_offset_trans',\n",
              " '_set_view',\n",
              " '_set_view_from_bbox',\n",
              " '_shared_x_axes',\n",
              " '_shared_y_axes',\n",
              " '_sharex',\n",
              " '_sharey',\n",
              " '_sketch',\n",
              " '_snap',\n",
              " '_stale',\n",
              " '_stale_viewlim_x',\n",
              " '_stale_viewlim_y',\n",
              " '_sticky_edges',\n",
              " '_subplotspec',\n",
              " '_tight',\n",
              " '_transform',\n",
              " '_transformSet',\n",
              " '_twinned_axes',\n",
              " '_unstale_viewLim',\n",
              " '_update_image_limits',\n",
              " '_update_line_limits',\n",
              " '_update_patch_limits',\n",
              " '_update_title_position',\n",
              " '_update_transScale',\n",
              " '_url',\n",
              " '_use_sticky_edges',\n",
              " '_validate_converted_limits',\n",
              " '_viewLim',\n",
              " '_visible',\n",
              " '_xaxis_transform',\n",
              " '_xcid',\n",
              " '_xmargin',\n",
              " '_yaxis_transform',\n",
              " '_ycid',\n",
              " '_ymargin',\n",
              " 'acorr',\n",
              " 'add_artist',\n",
              " 'add_callback',\n",
              " 'add_child_axes',\n",
              " 'add_collection',\n",
              " 'add_container',\n",
              " 'add_image',\n",
              " 'add_line',\n",
              " 'add_patch',\n",
              " 'add_table',\n",
              " 'aname',\n",
              " 'angle_spectrum',\n",
              " 'annotate',\n",
              " 'apply_aspect',\n",
              " 'arrow',\n",
              " 'artists',\n",
              " 'autoscale',\n",
              " 'autoscale_view',\n",
              " 'axes',\n",
              " 'axhline',\n",
              " 'axhspan',\n",
              " 'axis',\n",
              " 'axison',\n",
              " 'axvline',\n",
              " 'axvspan',\n",
              " 'bar',\n",
              " 'barbs',\n",
              " 'barh',\n",
              " 'bbox',\n",
              " 'boxplot',\n",
              " 'broken_barh',\n",
              " 'bxp',\n",
              " 'callbacks',\n",
              " 'can_pan',\n",
              " 'can_zoom',\n",
              " 'change_geometry',\n",
              " 'child_axes',\n",
              " 'cla',\n",
              " 'clabel',\n",
              " 'clear',\n",
              " 'clipbox',\n",
              " 'cohere',\n",
              " 'colNum',\n",
              " 'collections',\n",
              " 'containers',\n",
              " 'contains',\n",
              " 'contains_point',\n",
              " 'contour',\n",
              " 'contourf',\n",
              " 'convert_xunits',\n",
              " 'convert_yunits',\n",
              " 'csd',\n",
              " 'dataLim',\n",
              " 'drag_pan',\n",
              " 'draw',\n",
              " 'draw_artist',\n",
              " 'end_pan',\n",
              " 'errorbar',\n",
              " 'eventplot',\n",
              " 'eventson',\n",
              " 'figbox',\n",
              " 'figure',\n",
              " 'fill',\n",
              " 'fill_between',\n",
              " 'fill_betweenx',\n",
              " 'findobj',\n",
              " 'fmt_xdata',\n",
              " 'fmt_ydata',\n",
              " 'format_coord',\n",
              " 'format_cursor_data',\n",
              " 'format_xdata',\n",
              " 'format_ydata',\n",
              " 'get_adjustable',\n",
              " 'get_agg_filter',\n",
              " 'get_alpha',\n",
              " 'get_anchor',\n",
              " 'get_animated',\n",
              " 'get_aspect',\n",
              " 'get_autoscale_on',\n",
              " 'get_autoscalex_on',\n",
              " 'get_autoscaley_on',\n",
              " 'get_axes_locator',\n",
              " 'get_axisbelow',\n",
              " 'get_children',\n",
              " 'get_clip_box',\n",
              " 'get_clip_on',\n",
              " 'get_clip_path',\n",
              " 'get_contains',\n",
              " 'get_cursor_data',\n",
              " 'get_data_ratio',\n",
              " 'get_data_ratio_log',\n",
              " 'get_default_bbox_extra_artists',\n",
              " 'get_facecolor',\n",
              " 'get_fc',\n",
              " 'get_figure',\n",
              " 'get_frame_on',\n",
              " 'get_geometry',\n",
              " 'get_gid',\n",
              " 'get_gridspec',\n",
              " 'get_images',\n",
              " 'get_in_layout',\n",
              " 'get_label',\n",
              " 'get_legend',\n",
              " 'get_legend_handles_labels',\n",
              " 'get_lines',\n",
              " 'get_navigate',\n",
              " 'get_navigate_mode',\n",
              " 'get_path_effects',\n",
              " 'get_picker',\n",
              " 'get_position',\n",
              " 'get_rasterization_zorder',\n",
              " 'get_rasterized',\n",
              " 'get_renderer_cache',\n",
              " 'get_shared_x_axes',\n",
              " 'get_shared_y_axes',\n",
              " 'get_sketch_params',\n",
              " 'get_snap',\n",
              " 'get_subplotspec',\n",
              " 'get_tightbbox',\n",
              " 'get_title',\n",
              " 'get_transform',\n",
              " 'get_transformed_clip_path_and_affine',\n",
              " 'get_url',\n",
              " 'get_visible',\n",
              " 'get_window_extent',\n",
              " 'get_xaxis',\n",
              " 'get_xaxis_text1_transform',\n",
              " 'get_xaxis_text2_transform',\n",
              " 'get_xaxis_transform',\n",
              " 'get_xbound',\n",
              " 'get_xgridlines',\n",
              " 'get_xlabel',\n",
              " 'get_xlim',\n",
              " 'get_xmajorticklabels',\n",
              " 'get_xminorticklabels',\n",
              " 'get_xscale',\n",
              " 'get_xticklabels',\n",
              " 'get_xticklines',\n",
              " 'get_xticks',\n",
              " 'get_yaxis',\n",
              " 'get_yaxis_text1_transform',\n",
              " 'get_yaxis_text2_transform',\n",
              " 'get_yaxis_transform',\n",
              " 'get_ybound',\n",
              " 'get_ygridlines',\n",
              " 'get_ylabel',\n",
              " 'get_ylim',\n",
              " 'get_ymajorticklabels',\n",
              " 'get_yminorticklabels',\n",
              " 'get_yscale',\n",
              " 'get_yticklabels',\n",
              " 'get_yticklines',\n",
              " 'get_yticks',\n",
              " 'get_zorder',\n",
              " 'grid',\n",
              " 'has_data',\n",
              " 'have_units',\n",
              " 'hexbin',\n",
              " 'hist',\n",
              " 'hist2d',\n",
              " 'hlines',\n",
              " 'ignore_existing_data_limits',\n",
              " 'images',\n",
              " 'imshow',\n",
              " 'in_axes',\n",
              " 'indicate_inset',\n",
              " 'indicate_inset_zoom',\n",
              " 'inset_axes',\n",
              " 'invert_xaxis',\n",
              " 'invert_yaxis',\n",
              " 'is_first_col',\n",
              " 'is_first_row',\n",
              " 'is_last_col',\n",
              " 'is_last_row',\n",
              " 'is_transform_set',\n",
              " 'label_outer',\n",
              " 'legend',\n",
              " 'legend_',\n",
              " 'lines',\n",
              " 'locator_params',\n",
              " 'loglog',\n",
              " 'magnitude_spectrum',\n",
              " 'margins',\n",
              " 'matshow',\n",
              " 'minorticks_off',\n",
              " 'minorticks_on',\n",
              " 'mouseover',\n",
              " 'name',\n",
              " 'numCols',\n",
              " 'numRows',\n",
              " 'patch',\n",
              " 'patches',\n",
              " 'pchanged',\n",
              " 'pcolor',\n",
              " 'pcolorfast',\n",
              " 'pcolormesh',\n",
              " 'phase_spectrum',\n",
              " 'pick',\n",
              " 'pickable',\n",
              " 'pie',\n",
              " 'plot',\n",
              " 'plot_date',\n",
              " 'properties',\n",
              " 'psd',\n",
              " 'quiver',\n",
              " 'quiverkey',\n",
              " 'redraw_in_frame',\n",
              " 'relim',\n",
              " 'remove',\n",
              " 'remove_callback',\n",
              " 'reset_position',\n",
              " 'rowNum',\n",
              " 'scatter',\n",
              " 'secondary_xaxis',\n",
              " 'secondary_yaxis',\n",
              " 'semilogx',\n",
              " 'semilogy',\n",
              " 'set',\n",
              " 'set_adjustable',\n",
              " 'set_agg_filter',\n",
              " 'set_alpha',\n",
              " 'set_anchor',\n",
              " 'set_animated',\n",
              " 'set_aspect',\n",
              " 'set_autoscale_on',\n",
              " 'set_autoscalex_on',\n",
              " 'set_autoscaley_on',\n",
              " 'set_axes_locator',\n",
              " 'set_axis_off',\n",
              " 'set_axis_on',\n",
              " 'set_axisbelow',\n",
              " 'set_clip_box',\n",
              " 'set_clip_on',\n",
              " 'set_clip_path',\n",
              " 'set_contains',\n",
              " 'set_facecolor',\n",
              " 'set_fc',\n",
              " 'set_figure',\n",
              " 'set_frame_on',\n",
              " 'set_gid',\n",
              " 'set_in_layout',\n",
              " 'set_label',\n",
              " 'set_navigate',\n",
              " 'set_navigate_mode',\n",
              " 'set_path_effects',\n",
              " 'set_picker',\n",
              " 'set_position',\n",
              " 'set_prop_cycle',\n",
              " 'set_rasterization_zorder',\n",
              " 'set_rasterized',\n",
              " 'set_sketch_params',\n",
              " 'set_snap',\n",
              " 'set_subplotspec',\n",
              " 'set_title',\n",
              " 'set_transform',\n",
              " 'set_url',\n",
              " 'set_visible',\n",
              " 'set_xbound',\n",
              " 'set_xlabel',\n",
              " 'set_xlim',\n",
              " 'set_xmargin',\n",
              " 'set_xscale',\n",
              " 'set_xticklabels',\n",
              " 'set_xticks',\n",
              " 'set_ybound',\n",
              " 'set_ylabel',\n",
              " 'set_ylim',\n",
              " 'set_ymargin',\n",
              " 'set_yscale',\n",
              " 'set_yticklabels',\n",
              " 'set_yticks',\n",
              " 'set_zorder',\n",
              " 'specgram',\n",
              " 'spines',\n",
              " 'spy',\n",
              " 'stackplot',\n",
              " 'stale',\n",
              " 'stale_callback',\n",
              " 'start_pan',\n",
              " 'stem',\n",
              " 'step',\n",
              " 'sticky_edges',\n",
              " 'streamplot',\n",
              " 'table',\n",
              " 'tables',\n",
              " 'text',\n",
              " 'texts',\n",
              " 'tick_params',\n",
              " 'ticklabel_format',\n",
              " 'title',\n",
              " 'titleOffsetTrans',\n",
              " 'transAxes',\n",
              " 'transData',\n",
              " 'transLimits',\n",
              " 'transScale',\n",
              " 'tricontour',\n",
              " 'tricontourf',\n",
              " 'tripcolor',\n",
              " 'triplot',\n",
              " 'twinx',\n",
              " 'twiny',\n",
              " 'update',\n",
              " 'update_datalim',\n",
              " 'update_datalim_bounds',\n",
              " 'update_from',\n",
              " 'update_params',\n",
              " 'use_sticky_edges',\n",
              " 'viewLim',\n",
              " 'violin',\n",
              " 'violinplot',\n",
              " 'vlines',\n",
              " 'xaxis',\n",
              " 'xaxis_date',\n",
              " 'xaxis_inverted',\n",
              " 'xcorr',\n",
              " 'yaxis',\n",
              " 'yaxis_date',\n",
              " 'yaxis_inverted',\n",
              " 'zorder']"
            ]
          },
          "metadata": {},
          "execution_count": 85
        }
      ]
    },
    {
      "cell_type": "code",
      "source": [
        "print(confusion_matrix(y_tre,y_pre))"
      ],
      "metadata": {
        "colab": {
          "base_uri": "https://localhost:8080/"
        },
        "id": "tYbdfNrn-c5x",
        "outputId": "62618591-0581-4d86-d1d7-7fc2dd424e30"
      },
      "execution_count": null,
      "outputs": [
        {
          "output_type": "stream",
          "name": "stdout",
          "text": [
            "[[118   0   0   0   1   4   0   0   0   0   0   0   0   0   0   0   0   0]\n",
            " [  1  69   1   0   2   2   0   0   0   0   0   0   0   0   0   0   1   0]\n",
            " [  0   0 225   0   3   5   0   0   0   0   0   0   0   0   0   0   0   0]\n",
            " [  1   0   0 419   0  16   3   0   2   0   0   3   1   4   0   0   0   1]\n",
            " [  0   2   2   1 371   7   0   0   0   4   0   1   0   0   0   1   1   0]\n",
            " [  1   0   1   5   5 144   3   0   6   1   4  19   1   3   2   0   3   3]\n",
            " [  1   0   0   2   0   7  97   1   0   0   0   5   0   0   0   0   0   0]\n",
            " [  0   0   0   0   0   2   0  63   1   0   1   1   0   2   1   0   0   0]\n",
            " [  0   0   0   0   2  12   2   0 119   0   0   3   1   1   0   0   0   0]\n",
            " [  0   2   0   0  14   2   0   0   0  64   0   2   0   1   0   0   0   1]\n",
            " [  0   1   0   1   0   4   0   0   1   0 174   1   0   0   0   1   1   1]\n",
            " [  0   0   0   2   3  44   0   0   2   0   1 271   0   1   0   2   2   1]\n",
            " [  0   0   0   1   0   9   0   0   2   0   1   0  93   0   0   0   1   0]\n",
            " [  0   0   0   6   1   7   0   2   1   0   0   5   0 105   0   3   0   1]\n",
            " [  0   0   0   0   0   4   0   0   0   0   0   3   0   1  63   0   0   0]\n",
            " [  0   0   0   2   3   1   1   0   1   0   1   3   0   1   0 155   0   0]\n",
            " [  0   0   0   1   0   6   0   0   2   0   0   3   0   0   0   0 255   0]\n",
            " [  0   1   0   6   0   5   0   2   1   1   0   2   0   2   0   0   2 141]]\n"
          ]
        }
      ]
    },
    {
      "cell_type": "code",
      "source": [
        "print(classification_report(y_tre,y_pre))"
      ],
      "metadata": {
        "colab": {
          "base_uri": "https://localhost:8080/"
        },
        "id": "mMkvstYS-6sj",
        "outputId": "3eb5886c-3415-4083-84f4-3dc03f01df9b"
      },
      "execution_count": null,
      "outputs": [
        {
          "output_type": "stream",
          "name": "stdout",
          "text": [
            "              precision    recall  f1-score   support\n",
            "\n",
            "           0       0.97      0.96      0.96       123\n",
            "           1       0.92      0.91      0.91        76\n",
            "           2       0.98      0.97      0.97       233\n",
            "           3       0.94      0.93      0.94       450\n",
            "           4       0.92      0.95      0.93       390\n",
            "           5       0.51      0.72      0.60       201\n",
            "           6       0.92      0.86      0.89       113\n",
            "           7       0.93      0.89      0.91        71\n",
            "           8       0.86      0.85      0.86       140\n",
            "           9       0.91      0.74      0.82        86\n",
            "          10       0.96      0.94      0.95       185\n",
            "          11       0.84      0.82      0.83       329\n",
            "          12       0.97      0.87      0.92       107\n",
            "          13       0.87      0.80      0.83       131\n",
            "          14       0.95      0.89      0.92        71\n",
            "          15       0.96      0.92      0.94       168\n",
            "          16       0.96      0.96      0.96       267\n",
            "          17       0.95      0.87      0.90       163\n",
            "\n",
            "    accuracy                           0.89      3304\n",
            "   macro avg       0.91      0.88      0.89      3304\n",
            "weighted avg       0.90      0.89      0.90      3304\n",
            "\n"
          ]
        }
      ]
    },
    {
      "cell_type": "code",
      "source": [],
      "metadata": {
        "id": "pimXqTXJcfU1"
      },
      "execution_count": null,
      "outputs": []
    },
    {
      "cell_type": "markdown",
      "source": [
        "# Tfidf"
      ],
      "metadata": {
        "id": "g5RbR6rulUw6"
      }
    },
    {
      "cell_type": "code",
      "source": [
        "dataset = dataset.sample(frac=1)\n",
        "S = dataset['scenario'].factorize()\n",
        "labels = S[0]\n",
        "label_name = S[1]"
      ],
      "metadata": {
        "id": "TOWGmVzGlkG6"
      },
      "execution_count": 309,
      "outputs": []
    },
    {
      "cell_type": "code",
      "source": [
        "dataset['utt'] = dataset['utt'].apply(lambda x:replacer.replace(x))"
      ],
      "metadata": {
        "id": "N8zw2kLytU_L"
      },
      "execution_count": 61,
      "outputs": []
    },
    {
      "cell_type": "code",
      "source": [
        "from sklearn.feature_extraction.text import TfidfTransformer,TfidfVectorizer\n",
        "from sklearn.feature_extraction.text import CountVectorizer\n",
        "import numpy as np"
      ],
      "metadata": {
        "id": "KcpqZRWZltWL"
      },
      "execution_count": 36,
      "outputs": []
    },
    {
      "cell_type": "code",
      "source": [
        "tfidf = TfidfVectorizer(sublinear_tf=True, min_df=5, norm='l2', encoding='latin-1', ngram_range=(1, 2))\n",
        "features = tfidf.fit_transform(dataset.utt).toarray()\n",
        "features.shape"
      ],
      "metadata": {
        "colab": {
          "base_uri": "https://localhost:8080/"
        },
        "id": "kzYbPLsYlym7",
        "outputId": "45db3752-8a80-416b-8ce9-d582e08a5ac3"
      },
      "execution_count": 339,
      "outputs": [
        {
          "output_type": "execute_result",
          "data": {
            "text/plain": [
              "(16521, 4308)"
            ]
          },
          "metadata": {},
          "execution_count": 339
        }
      ]
    },
    {
      "cell_type": "code",
      "source": [
        "S = tfidf.vocabulary_"
      ],
      "metadata": {
        "id": "4U4mm9vaKC01"
      },
      "execution_count": 166,
      "outputs": []
    },
    {
      "cell_type": "code",
      "source": [
        "Sl = list(S.keys())"
      ],
      "metadata": {
        "id": "I5sJckQ2KSgV"
      },
      "execution_count": 169,
      "outputs": []
    },
    {
      "cell_type": "code",
      "source": [
        "for i in Sl:\n",
        "    if len(i)<3:\n",
        "        Sl.remove(i)"
      ],
      "metadata": {
        "id": "L02rcubMKbE7"
      },
      "execution_count": 171,
      "outputs": []
    },
    {
      "cell_type": "code",
      "source": [
        "len(Sl)"
      ],
      "metadata": {
        "colab": {
          "base_uri": "https://localhost:8080/"
        },
        "id": "hytYi40cKoU5",
        "outputId": "1f4e8466-3da7-4421-f0ec-8144f66b66cf"
      },
      "execution_count": 172,
      "outputs": [
        {
          "output_type": "execute_result",
          "data": {
            "text/plain": [
              "1267"
            ]
          },
          "metadata": {},
          "execution_count": 172
        }
      ]
    },
    {
      "cell_type": "code",
      "source": [
        "dir(tfidf)"
      ],
      "metadata": {
        "id": "pb-B2LoMJ7b5"
      },
      "execution_count": null,
      "outputs": []
    },
    {
      "cell_type": "code",
      "source": [],
      "metadata": {
        "id": "c7BR3cDcJ5g9"
      },
      "execution_count": null,
      "outputs": []
    },
    {
      "cell_type": "code",
      "source": [
        "\n",
        "\n",
        "vectorizer = CountVectorizer( min_df=5, ngram_range=(1, 2),stop_words='english')\n",
        "vectors = vectorizer.fit_transform(dataset.utt)\n",
        "\n",
        "features.shape"
      ],
      "metadata": {
        "colab": {
          "base_uri": "https://localhost:8080/"
        },
        "id": "BdCJd4hcsOsb",
        "outputId": "809098cd-bc13-40a4-b707-0daf5c97f2cd"
      },
      "execution_count": 341,
      "outputs": [
        {
          "output_type": "execute_result",
          "data": {
            "text/plain": [
              "(16521, 4308)"
            ]
          },
          "metadata": {},
          "execution_count": 341
        }
      ]
    },
    {
      "cell_type": "code",
      "source": [
        "from sklearn.preprocessing import Binarizer\n",
        "\n",
        "freq   = CountVectorizer( min_df=5, ngram_range=(1, 2),stop_words='english')\n",
        "corpus = freq.fit_transform(dataset.utt)\n",
        "\n",
        "onehot = Binarizer()\n",
        "features = onehot.fit_transform(corpus.toarray())\n",
        "features.shape"
      ],
      "metadata": {
        "colab": {
          "base_uri": "https://localhost:8080/"
        },
        "id": "bmOIZ60vtv6j",
        "outputId": "20a57f6c-635e-4120-fef4-80f6755d44a4"
      },
      "execution_count": 344,
      "outputs": [
        {
          "output_type": "execute_result",
          "data": {
            "text/plain": [
              "(16521, 2359)"
            ]
          },
          "metadata": {},
          "execution_count": 344
        }
      ]
    },
    {
      "cell_type": "code",
      "source": [
        "features"
      ],
      "metadata": {
        "colab": {
          "base_uri": "https://localhost:8080/"
        },
        "id": "L_Q0R1YtUI-2",
        "outputId": "c6887f9d-77a3-4e07-a696-a8437e2cd208"
      },
      "execution_count": 345,
      "outputs": [
        {
          "output_type": "execute_result",
          "data": {
            "text/plain": [
              "array([[0, 0, 0, ..., 0, 0, 0],\n",
              "       [0, 0, 0, ..., 0, 0, 0],\n",
              "       [0, 0, 0, ..., 0, 0, 0],\n",
              "       ...,\n",
              "       [0, 0, 0, ..., 0, 0, 0],\n",
              "       [0, 0, 0, ..., 0, 0, 0],\n",
              "       [0, 0, 0, ..., 0, 0, 0]])"
            ]
          },
          "metadata": {},
          "execution_count": 345
        }
      ]
    },
    {
      "cell_type": "code",
      "source": [
        "from sklearn.feature_extraction.text import TfidfVectorizer\n",
        "\n",
        "tfidf  = TfidfVectorizer(min_df=10, ngram_range=(1, 5))\n",
        "features = tfidf.fit_transform(dataset.utt).toarray()\n",
        "\n",
        "features.shape"
      ],
      "metadata": {
        "colab": {
          "base_uri": "https://localhost:8080/"
        },
        "id": "kPppAxJr2tzL",
        "outputId": "e73c0bd7-e727-4a9d-e2c0-ca285b473d33"
      },
      "execution_count": 348,
      "outputs": [
        {
          "output_type": "execute_result",
          "data": {
            "text/plain": [
              "(16521, 2912)"
            ]
          },
          "metadata": {},
          "execution_count": 348
        }
      ]
    },
    {
      "cell_type": "code",
      "source": [
        "\n",
        "from sklearn.feature_extraction.text import HashingVectorizer\n",
        "# list of text documents\n",
        "text = dataset.utt\n",
        "# create the transform\n",
        "vectorizer = HashingVectorizer(n_features=8000)\n",
        "# encode document\n",
        "features = vectorizer.transform(text)\n",
        "# summarize encoded vector\n",
        "print(features.shape)\n",
        "features = features.toarray()"
      ],
      "metadata": {
        "colab": {
          "base_uri": "https://localhost:8080/"
        },
        "id": "7AUgyHoW3mIW",
        "outputId": "1db44d0c-9e8b-4114-c635-cd68ab33801b"
      },
      "execution_count": null,
      "outputs": [
        {
          "output_type": "stream",
          "name": "stdout",
          "text": [
            "(16521, 8000)\n"
          ]
        }
      ]
    },
    {
      "cell_type": "code",
      "source": [
        "features = h"
      ],
      "metadata": {
        "id": "VjHNqWFWR762"
      },
      "execution_count": 347,
      "outputs": []
    },
    {
      "cell_type": "code",
      "source": [
        "p = 0.80\n",
        "u = int(features.shape[0] * p)\n",
        "X = features[0:u]\n",
        "Y = labels[0:u]\n",
        "x = features[u:]\n",
        "y = labels[u:]\n",
        "print(\"train size: {}\\ntest size: {}\".format(Y.shape,y.shape))"
      ],
      "metadata": {
        "colab": {
          "base_uri": "https://localhost:8080/"
        },
        "id": "K8sKNofamTdF",
        "outputId": "ca9e619d-9b16-4ed8-dfa3-1f7db162b7d2"
      },
      "execution_count": 318,
      "outputs": [
        {
          "output_type": "stream",
          "name": "stdout",
          "text": [
            "train size: (13216,)\n",
            "test size: (3305,)\n"
          ]
        }
      ]
    },
    {
      "cell_type": "code",
      "source": [
        "# One hot encoding train labels\n",
        "b = np.zeros((Y.size, Y.max() + 1))\n",
        "b[np.arange(Y.size), Y] = 1\n",
        "Y2 = b\n",
        "# One hot encoding train labels\n",
        "b = np.zeros((y.size, y.max() + 1))\n",
        "b[np.arange(y.size), y] = 1\n",
        "y2 = b"
      ],
      "metadata": {
        "id": "9WmcfG2dnr1b"
      },
      "execution_count": 349,
      "outputs": []
    },
    {
      "cell_type": "code",
      "source": [
        "# Creating the deep learning model\n",
        "model = tf.keras.Sequential()\n",
        "model.add(Input( shape=(X.shape[1],)))\n",
        "\n",
        "# model.add(layers.Dense(512,'relu'))\n",
        "# model.add(layers.Dropout(0.22))\n",
        "\n",
        "model.add(layers.Dense(256,'relu'))\n",
        "model.add(layers.Dropout(0.21))\n",
        "\n",
        "model.add(layers.Dense(72,'relu'))\n",
        "model.add(layers.Dropout(0.21))\n",
        "\n",
        "model.add(layers.Dense(18, activation='softmax'))\n",
        "\n",
        "model.summary()\n",
        "model.compile(optimizer='adam',loss='categorical_crossentropy',metrics=['accuracy'])\n"
      ],
      "metadata": {
        "id": "9A-tyKYhncPq",
        "colab": {
          "base_uri": "https://localhost:8080/"
        },
        "outputId": "1c4b8606-e1fc-4606-9943-5fd80850ee4f"
      },
      "execution_count": 350,
      "outputs": [
        {
          "output_type": "stream",
          "name": "stdout",
          "text": [
            "Model: \"sequential_14\"\n",
            "_________________________________________________________________\n",
            " Layer (type)                Output Shape              Param #   \n",
            "=================================================================\n",
            " dense_47 (Dense)            (None, 256)               650752    \n",
            "                                                                 \n",
            " dropout_33 (Dropout)        (None, 256)               0         \n",
            "                                                                 \n",
            " dense_48 (Dense)            (None, 72)                18504     \n",
            "                                                                 \n",
            " dropout_34 (Dropout)        (None, 72)                0         \n",
            "                                                                 \n",
            " dense_49 (Dense)            (None, 18)                1314      \n",
            "                                                                 \n",
            "=================================================================\n",
            "Total params: 670,570\n",
            "Trainable params: 670,570\n",
            "Non-trainable params: 0\n",
            "_________________________________________________________________\n"
          ]
        }
      ]
    },
    {
      "cell_type": "code",
      "source": [
        "history = model.fit(X,Y2,32,16,validation_data=(x,y2))"
      ],
      "metadata": {
        "colab": {
          "base_uri": "https://localhost:8080/",
          "height": 623
        },
        "id": "BvcFv1Xjn9Qk",
        "outputId": "eaaa7882-9c65-446d-d13c-5dd633e56d37"
      },
      "execution_count": 351,
      "outputs": [
        {
          "output_type": "stream",
          "name": "stdout",
          "text": [
            "Epoch 1/16\n",
            "413/413 [==============================] - 4s 9ms/step - loss: 1.2243 - accuracy: 0.6758 - val_loss: 0.5345 - val_accuracy: 0.8511\n",
            "Epoch 2/16\n",
            "413/413 [==============================] - 4s 9ms/step - loss: 0.4586 - accuracy: 0.8719 - val_loss: 0.4679 - val_accuracy: 0.8654\n",
            "Epoch 3/16\n",
            "413/413 [==============================] - 4s 9ms/step - loss: 0.3447 - accuracy: 0.8969 - val_loss: 0.4694 - val_accuracy: 0.8629\n",
            "Epoch 4/16\n",
            "413/413 [==============================] - 4s 9ms/step - loss: 0.2912 - accuracy: 0.9119 - val_loss: 0.4883 - val_accuracy: 0.8626\n",
            "Epoch 5/16\n",
            "413/413 [==============================] - 4s 10ms/step - loss: 0.2606 - accuracy: 0.9205 - val_loss: 0.5047 - val_accuracy: 0.8651\n",
            "Epoch 6/16\n",
            "413/413 [==============================] - 4s 9ms/step - loss: 0.2378 - accuracy: 0.9239 - val_loss: 0.5283 - val_accuracy: 0.8626\n",
            "Epoch 7/16\n",
            "413/413 [==============================] - 4s 9ms/step - loss: 0.2250 - accuracy: 0.9286 - val_loss: 0.5400 - val_accuracy: 0.8654\n",
            "Epoch 8/16\n",
            "413/413 [==============================] - 4s 9ms/step - loss: 0.2107 - accuracy: 0.9327 - val_loss: 0.5536 - val_accuracy: 0.8608\n",
            "Epoch 9/16\n",
            "411/413 [============================>.] - ETA: 0s - loss: 0.1990 - accuracy: 0.9345"
          ]
        },
        {
          "output_type": "error",
          "ename": "KeyboardInterrupt",
          "evalue": "ignored",
          "traceback": [
            "\u001b[0;31m---------------------------------------------------------------------------\u001b[0m",
            "\u001b[0;31mKeyboardInterrupt\u001b[0m                         Traceback (most recent call last)",
            "\u001b[0;32m<ipython-input-351-1dc37cdb04f2>\u001b[0m in \u001b[0;36m<module>\u001b[0;34m\u001b[0m\n\u001b[0;32m----> 1\u001b[0;31m \u001b[0mhistory\u001b[0m \u001b[0;34m=\u001b[0m \u001b[0mmodel\u001b[0m\u001b[0;34m.\u001b[0m\u001b[0mfit\u001b[0m\u001b[0;34m(\u001b[0m\u001b[0mX\u001b[0m\u001b[0;34m,\u001b[0m\u001b[0mY2\u001b[0m\u001b[0;34m,\u001b[0m\u001b[0;36m32\u001b[0m\u001b[0;34m,\u001b[0m\u001b[0;36m16\u001b[0m\u001b[0;34m,\u001b[0m\u001b[0mvalidation_data\u001b[0m\u001b[0;34m=\u001b[0m\u001b[0;34m(\u001b[0m\u001b[0mx\u001b[0m\u001b[0;34m,\u001b[0m\u001b[0my2\u001b[0m\u001b[0;34m)\u001b[0m\u001b[0;34m)\u001b[0m\u001b[0;34m\u001b[0m\u001b[0;34m\u001b[0m\u001b[0m\n\u001b[0m",
            "\u001b[0;32m/usr/local/lib/python3.7/dist-packages/keras/utils/traceback_utils.py\u001b[0m in \u001b[0;36merror_handler\u001b[0;34m(*args, **kwargs)\u001b[0m\n\u001b[1;32m     62\u001b[0m     \u001b[0mfiltered_tb\u001b[0m \u001b[0;34m=\u001b[0m \u001b[0;32mNone\u001b[0m\u001b[0;34m\u001b[0m\u001b[0;34m\u001b[0m\u001b[0m\n\u001b[1;32m     63\u001b[0m     \u001b[0;32mtry\u001b[0m\u001b[0;34m:\u001b[0m\u001b[0;34m\u001b[0m\u001b[0;34m\u001b[0m\u001b[0m\n\u001b[0;32m---> 64\u001b[0;31m       \u001b[0;32mreturn\u001b[0m \u001b[0mfn\u001b[0m\u001b[0;34m(\u001b[0m\u001b[0;34m*\u001b[0m\u001b[0margs\u001b[0m\u001b[0;34m,\u001b[0m \u001b[0;34m**\u001b[0m\u001b[0mkwargs\u001b[0m\u001b[0;34m)\u001b[0m\u001b[0;34m\u001b[0m\u001b[0;34m\u001b[0m\u001b[0m\n\u001b[0m\u001b[1;32m     65\u001b[0m     \u001b[0;32mexcept\u001b[0m \u001b[0mException\u001b[0m \u001b[0;32mas\u001b[0m \u001b[0me\u001b[0m\u001b[0;34m:\u001b[0m  \u001b[0;31m# pylint: disable=broad-except\u001b[0m\u001b[0;34m\u001b[0m\u001b[0;34m\u001b[0m\u001b[0m\n\u001b[1;32m     66\u001b[0m       \u001b[0mfiltered_tb\u001b[0m \u001b[0;34m=\u001b[0m \u001b[0m_process_traceback_frames\u001b[0m\u001b[0;34m(\u001b[0m\u001b[0me\u001b[0m\u001b[0;34m.\u001b[0m\u001b[0m__traceback__\u001b[0m\u001b[0;34m)\u001b[0m\u001b[0;34m\u001b[0m\u001b[0;34m\u001b[0m\u001b[0m\n",
            "\u001b[0;32m/usr/local/lib/python3.7/dist-packages/keras/engine/training.py\u001b[0m in \u001b[0;36mfit\u001b[0;34m(self, x, y, batch_size, epochs, verbose, callbacks, validation_split, validation_data, shuffle, class_weight, sample_weight, initial_epoch, steps_per_epoch, validation_steps, validation_batch_size, validation_freq, max_queue_size, workers, use_multiprocessing)\u001b[0m\n\u001b[1;32m   1454\u001b[0m               \u001b[0muse_multiprocessing\u001b[0m\u001b[0;34m=\u001b[0m\u001b[0muse_multiprocessing\u001b[0m\u001b[0;34m,\u001b[0m\u001b[0;34m\u001b[0m\u001b[0;34m\u001b[0m\u001b[0m\n\u001b[1;32m   1455\u001b[0m               \u001b[0mreturn_dict\u001b[0m\u001b[0;34m=\u001b[0m\u001b[0;32mTrue\u001b[0m\u001b[0;34m,\u001b[0m\u001b[0;34m\u001b[0m\u001b[0;34m\u001b[0m\u001b[0m\n\u001b[0;32m-> 1456\u001b[0;31m               _use_cached_eval_dataset=True)\n\u001b[0m\u001b[1;32m   1457\u001b[0m           \u001b[0mval_logs\u001b[0m \u001b[0;34m=\u001b[0m \u001b[0;34m{\u001b[0m\u001b[0;34m'val_'\u001b[0m \u001b[0;34m+\u001b[0m \u001b[0mname\u001b[0m\u001b[0;34m:\u001b[0m \u001b[0mval\u001b[0m \u001b[0;32mfor\u001b[0m \u001b[0mname\u001b[0m\u001b[0;34m,\u001b[0m \u001b[0mval\u001b[0m \u001b[0;32min\u001b[0m \u001b[0mval_logs\u001b[0m\u001b[0;34m.\u001b[0m\u001b[0mitems\u001b[0m\u001b[0;34m(\u001b[0m\u001b[0;34m)\u001b[0m\u001b[0;34m}\u001b[0m\u001b[0;34m\u001b[0m\u001b[0;34m\u001b[0m\u001b[0m\n\u001b[1;32m   1458\u001b[0m           \u001b[0mepoch_logs\u001b[0m\u001b[0;34m.\u001b[0m\u001b[0mupdate\u001b[0m\u001b[0;34m(\u001b[0m\u001b[0mval_logs\u001b[0m\u001b[0;34m)\u001b[0m\u001b[0;34m\u001b[0m\u001b[0;34m\u001b[0m\u001b[0m\n",
            "\u001b[0;32m/usr/local/lib/python3.7/dist-packages/keras/utils/traceback_utils.py\u001b[0m in \u001b[0;36merror_handler\u001b[0;34m(*args, **kwargs)\u001b[0m\n\u001b[1;32m     62\u001b[0m     \u001b[0mfiltered_tb\u001b[0m \u001b[0;34m=\u001b[0m \u001b[0;32mNone\u001b[0m\u001b[0;34m\u001b[0m\u001b[0;34m\u001b[0m\u001b[0m\n\u001b[1;32m     63\u001b[0m     \u001b[0;32mtry\u001b[0m\u001b[0;34m:\u001b[0m\u001b[0;34m\u001b[0m\u001b[0;34m\u001b[0m\u001b[0m\n\u001b[0;32m---> 64\u001b[0;31m       \u001b[0;32mreturn\u001b[0m \u001b[0mfn\u001b[0m\u001b[0;34m(\u001b[0m\u001b[0;34m*\u001b[0m\u001b[0margs\u001b[0m\u001b[0;34m,\u001b[0m \u001b[0;34m**\u001b[0m\u001b[0mkwargs\u001b[0m\u001b[0;34m)\u001b[0m\u001b[0;34m\u001b[0m\u001b[0;34m\u001b[0m\u001b[0m\n\u001b[0m\u001b[1;32m     65\u001b[0m     \u001b[0;32mexcept\u001b[0m \u001b[0mException\u001b[0m \u001b[0;32mas\u001b[0m \u001b[0me\u001b[0m\u001b[0;34m:\u001b[0m  \u001b[0;31m# pylint: disable=broad-except\u001b[0m\u001b[0;34m\u001b[0m\u001b[0;34m\u001b[0m\u001b[0m\n\u001b[1;32m     66\u001b[0m       \u001b[0mfiltered_tb\u001b[0m \u001b[0;34m=\u001b[0m \u001b[0m_process_traceback_frames\u001b[0m\u001b[0;34m(\u001b[0m\u001b[0me\u001b[0m\u001b[0;34m.\u001b[0m\u001b[0m__traceback__\u001b[0m\u001b[0;34m)\u001b[0m\u001b[0;34m\u001b[0m\u001b[0;34m\u001b[0m\u001b[0m\n",
            "\u001b[0;32m/usr/local/lib/python3.7/dist-packages/keras/engine/training.py\u001b[0m in \u001b[0;36mevaluate\u001b[0;34m(self, x, y, batch_size, verbose, sample_weight, steps, callbacks, max_queue_size, workers, use_multiprocessing, return_dict, **kwargs)\u001b[0m\n\u001b[1;32m   1754\u001b[0m             \u001b[0;32mwith\u001b[0m \u001b[0mtf\u001b[0m\u001b[0;34m.\u001b[0m\u001b[0mprofiler\u001b[0m\u001b[0;34m.\u001b[0m\u001b[0mexperimental\u001b[0m\u001b[0;34m.\u001b[0m\u001b[0mTrace\u001b[0m\u001b[0;34m(\u001b[0m\u001b[0;34m'test'\u001b[0m\u001b[0;34m,\u001b[0m \u001b[0mstep_num\u001b[0m\u001b[0;34m=\u001b[0m\u001b[0mstep\u001b[0m\u001b[0;34m,\u001b[0m \u001b[0m_r\u001b[0m\u001b[0;34m=\u001b[0m\u001b[0;36m1\u001b[0m\u001b[0;34m)\u001b[0m\u001b[0;34m:\u001b[0m\u001b[0;34m\u001b[0m\u001b[0;34m\u001b[0m\u001b[0m\n\u001b[1;32m   1755\u001b[0m               \u001b[0mcallbacks\u001b[0m\u001b[0;34m.\u001b[0m\u001b[0mon_test_batch_begin\u001b[0m\u001b[0;34m(\u001b[0m\u001b[0mstep\u001b[0m\u001b[0;34m)\u001b[0m\u001b[0;34m\u001b[0m\u001b[0;34m\u001b[0m\u001b[0m\n\u001b[0;32m-> 1756\u001b[0;31m               \u001b[0mtmp_logs\u001b[0m \u001b[0;34m=\u001b[0m \u001b[0mself\u001b[0m\u001b[0;34m.\u001b[0m\u001b[0mtest_function\u001b[0m\u001b[0;34m(\u001b[0m\u001b[0miterator\u001b[0m\u001b[0;34m)\u001b[0m\u001b[0;34m\u001b[0m\u001b[0;34m\u001b[0m\u001b[0m\n\u001b[0m\u001b[1;32m   1757\u001b[0m               \u001b[0;32mif\u001b[0m \u001b[0mdata_handler\u001b[0m\u001b[0;34m.\u001b[0m\u001b[0mshould_sync\u001b[0m\u001b[0;34m:\u001b[0m\u001b[0;34m\u001b[0m\u001b[0;34m\u001b[0m\u001b[0m\n\u001b[1;32m   1758\u001b[0m                 \u001b[0mcontext\u001b[0m\u001b[0;34m.\u001b[0m\u001b[0masync_wait\u001b[0m\u001b[0;34m(\u001b[0m\u001b[0;34m)\u001b[0m\u001b[0;34m\u001b[0m\u001b[0;34m\u001b[0m\u001b[0m\n",
            "\u001b[0;32m/usr/local/lib/python3.7/dist-packages/tensorflow/python/util/traceback_utils.py\u001b[0m in \u001b[0;36merror_handler\u001b[0;34m(*args, **kwargs)\u001b[0m\n\u001b[1;32m    148\u001b[0m     \u001b[0mfiltered_tb\u001b[0m \u001b[0;34m=\u001b[0m \u001b[0;32mNone\u001b[0m\u001b[0;34m\u001b[0m\u001b[0;34m\u001b[0m\u001b[0m\n\u001b[1;32m    149\u001b[0m     \u001b[0;32mtry\u001b[0m\u001b[0;34m:\u001b[0m\u001b[0;34m\u001b[0m\u001b[0;34m\u001b[0m\u001b[0m\n\u001b[0;32m--> 150\u001b[0;31m       \u001b[0;32mreturn\u001b[0m \u001b[0mfn\u001b[0m\u001b[0;34m(\u001b[0m\u001b[0;34m*\u001b[0m\u001b[0margs\u001b[0m\u001b[0;34m,\u001b[0m \u001b[0;34m**\u001b[0m\u001b[0mkwargs\u001b[0m\u001b[0;34m)\u001b[0m\u001b[0;34m\u001b[0m\u001b[0;34m\u001b[0m\u001b[0m\n\u001b[0m\u001b[1;32m    151\u001b[0m     \u001b[0;32mexcept\u001b[0m \u001b[0mException\u001b[0m \u001b[0;32mas\u001b[0m \u001b[0me\u001b[0m\u001b[0;34m:\u001b[0m\u001b[0;34m\u001b[0m\u001b[0;34m\u001b[0m\u001b[0m\n\u001b[1;32m    152\u001b[0m       \u001b[0mfiltered_tb\u001b[0m \u001b[0;34m=\u001b[0m \u001b[0m_process_traceback_frames\u001b[0m\u001b[0;34m(\u001b[0m\u001b[0me\u001b[0m\u001b[0;34m.\u001b[0m\u001b[0m__traceback__\u001b[0m\u001b[0;34m)\u001b[0m\u001b[0;34m\u001b[0m\u001b[0;34m\u001b[0m\u001b[0m\n",
            "\u001b[0;32m/usr/local/lib/python3.7/dist-packages/tensorflow/python/eager/def_function.py\u001b[0m in \u001b[0;36m__call__\u001b[0;34m(self, *args, **kwds)\u001b[0m\n\u001b[1;32m    913\u001b[0m \u001b[0;34m\u001b[0m\u001b[0m\n\u001b[1;32m    914\u001b[0m       \u001b[0;32mwith\u001b[0m \u001b[0mOptionalXlaContext\u001b[0m\u001b[0;34m(\u001b[0m\u001b[0mself\u001b[0m\u001b[0;34m.\u001b[0m\u001b[0m_jit_compile\u001b[0m\u001b[0;34m)\u001b[0m\u001b[0;34m:\u001b[0m\u001b[0;34m\u001b[0m\u001b[0;34m\u001b[0m\u001b[0m\n\u001b[0;32m--> 915\u001b[0;31m         \u001b[0mresult\u001b[0m \u001b[0;34m=\u001b[0m \u001b[0mself\u001b[0m\u001b[0;34m.\u001b[0m\u001b[0m_call\u001b[0m\u001b[0;34m(\u001b[0m\u001b[0;34m*\u001b[0m\u001b[0margs\u001b[0m\u001b[0;34m,\u001b[0m \u001b[0;34m**\u001b[0m\u001b[0mkwds\u001b[0m\u001b[0;34m)\u001b[0m\u001b[0;34m\u001b[0m\u001b[0;34m\u001b[0m\u001b[0m\n\u001b[0m\u001b[1;32m    916\u001b[0m \u001b[0;34m\u001b[0m\u001b[0m\n\u001b[1;32m    917\u001b[0m       \u001b[0mnew_tracing_count\u001b[0m \u001b[0;34m=\u001b[0m \u001b[0mself\u001b[0m\u001b[0;34m.\u001b[0m\u001b[0mexperimental_get_tracing_count\u001b[0m\u001b[0;34m(\u001b[0m\u001b[0;34m)\u001b[0m\u001b[0;34m\u001b[0m\u001b[0;34m\u001b[0m\u001b[0m\n",
            "\u001b[0;32m/usr/local/lib/python3.7/dist-packages/tensorflow/python/eager/def_function.py\u001b[0m in \u001b[0;36m_call\u001b[0;34m(self, *args, **kwds)\u001b[0m\n\u001b[1;32m    952\u001b[0m       \u001b[0;31m# In this case we have not created variables on the first call. So we can\u001b[0m\u001b[0;34m\u001b[0m\u001b[0;34m\u001b[0m\u001b[0;34m\u001b[0m\u001b[0m\n\u001b[1;32m    953\u001b[0m       \u001b[0;31m# run the first trace but we should fail if variables are created.\u001b[0m\u001b[0;34m\u001b[0m\u001b[0;34m\u001b[0m\u001b[0;34m\u001b[0m\u001b[0m\n\u001b[0;32m--> 954\u001b[0;31m       \u001b[0mresults\u001b[0m \u001b[0;34m=\u001b[0m \u001b[0mself\u001b[0m\u001b[0;34m.\u001b[0m\u001b[0m_stateful_fn\u001b[0m\u001b[0;34m(\u001b[0m\u001b[0;34m*\u001b[0m\u001b[0margs\u001b[0m\u001b[0;34m,\u001b[0m \u001b[0;34m**\u001b[0m\u001b[0mkwds\u001b[0m\u001b[0;34m)\u001b[0m\u001b[0;34m\u001b[0m\u001b[0;34m\u001b[0m\u001b[0m\n\u001b[0m\u001b[1;32m    955\u001b[0m       \u001b[0;32mif\u001b[0m \u001b[0mself\u001b[0m\u001b[0;34m.\u001b[0m\u001b[0m_created_variables\u001b[0m \u001b[0;32mand\u001b[0m \u001b[0;32mnot\u001b[0m \u001b[0mALLOW_DYNAMIC_VARIABLE_CREATION\u001b[0m\u001b[0;34m:\u001b[0m\u001b[0;34m\u001b[0m\u001b[0;34m\u001b[0m\u001b[0m\n\u001b[1;32m    956\u001b[0m         raise ValueError(\"Creating variables on a non-first call to a function\"\n",
            "\u001b[0;32m/usr/local/lib/python3.7/dist-packages/tensorflow/python/eager/function.py\u001b[0m in \u001b[0;36m__call__\u001b[0;34m(self, *args, **kwargs)\u001b[0m\n\u001b[1;32m   2452\u001b[0m        filtered_flat_args) = self._maybe_define_function(args, kwargs)\n\u001b[1;32m   2453\u001b[0m     return graph_function._call_flat(\n\u001b[0;32m-> 2454\u001b[0;31m         filtered_flat_args, captured_inputs=graph_function.captured_inputs)  # pylint: disable=protected-access\n\u001b[0m\u001b[1;32m   2455\u001b[0m \u001b[0;34m\u001b[0m\u001b[0m\n\u001b[1;32m   2456\u001b[0m   \u001b[0;34m@\u001b[0m\u001b[0mproperty\u001b[0m\u001b[0;34m\u001b[0m\u001b[0;34m\u001b[0m\u001b[0m\n",
            "\u001b[0;32m/usr/local/lib/python3.7/dist-packages/tensorflow/python/eager/function.py\u001b[0m in \u001b[0;36m_call_flat\u001b[0;34m(self, args, captured_inputs, cancellation_manager)\u001b[0m\n\u001b[1;32m   1859\u001b[0m       \u001b[0;31m# No tape is watching; skip to running the function.\u001b[0m\u001b[0;34m\u001b[0m\u001b[0;34m\u001b[0m\u001b[0;34m\u001b[0m\u001b[0m\n\u001b[1;32m   1860\u001b[0m       return self._build_call_outputs(self._inference_function.call(\n\u001b[0;32m-> 1861\u001b[0;31m           ctx, args, cancellation_manager=cancellation_manager))\n\u001b[0m\u001b[1;32m   1862\u001b[0m     forward_backward = self._select_forward_and_backward_functions(\n\u001b[1;32m   1863\u001b[0m         \u001b[0margs\u001b[0m\u001b[0;34m,\u001b[0m\u001b[0;34m\u001b[0m\u001b[0;34m\u001b[0m\u001b[0m\n",
            "\u001b[0;32m/usr/local/lib/python3.7/dist-packages/tensorflow/python/eager/function.py\u001b[0m in \u001b[0;36mcall\u001b[0;34m(self, ctx, args, cancellation_manager)\u001b[0m\n\u001b[1;32m    500\u001b[0m               \u001b[0minputs\u001b[0m\u001b[0;34m=\u001b[0m\u001b[0margs\u001b[0m\u001b[0;34m,\u001b[0m\u001b[0;34m\u001b[0m\u001b[0;34m\u001b[0m\u001b[0m\n\u001b[1;32m    501\u001b[0m               \u001b[0mattrs\u001b[0m\u001b[0;34m=\u001b[0m\u001b[0mattrs\u001b[0m\u001b[0;34m,\u001b[0m\u001b[0;34m\u001b[0m\u001b[0;34m\u001b[0m\u001b[0m\n\u001b[0;32m--> 502\u001b[0;31m               ctx=ctx)\n\u001b[0m\u001b[1;32m    503\u001b[0m         \u001b[0;32melse\u001b[0m\u001b[0;34m:\u001b[0m\u001b[0;34m\u001b[0m\u001b[0;34m\u001b[0m\u001b[0m\n\u001b[1;32m    504\u001b[0m           outputs = execute.execute_with_cancellation(\n",
            "\u001b[0;32m/usr/local/lib/python3.7/dist-packages/tensorflow/python/eager/execute.py\u001b[0m in \u001b[0;36mquick_execute\u001b[0;34m(op_name, num_outputs, inputs, attrs, ctx, name)\u001b[0m\n\u001b[1;32m     53\u001b[0m     \u001b[0mctx\u001b[0m\u001b[0;34m.\u001b[0m\u001b[0mensure_initialized\u001b[0m\u001b[0;34m(\u001b[0m\u001b[0;34m)\u001b[0m\u001b[0;34m\u001b[0m\u001b[0;34m\u001b[0m\u001b[0m\n\u001b[1;32m     54\u001b[0m     tensors = pywrap_tfe.TFE_Py_Execute(ctx._handle, device_name, op_name,\n\u001b[0;32m---> 55\u001b[0;31m                                         inputs, attrs, num_outputs)\n\u001b[0m\u001b[1;32m     56\u001b[0m   \u001b[0;32mexcept\u001b[0m \u001b[0mcore\u001b[0m\u001b[0;34m.\u001b[0m\u001b[0m_NotOkStatusException\u001b[0m \u001b[0;32mas\u001b[0m \u001b[0me\u001b[0m\u001b[0;34m:\u001b[0m\u001b[0;34m\u001b[0m\u001b[0;34m\u001b[0m\u001b[0m\n\u001b[1;32m     57\u001b[0m     \u001b[0;32mif\u001b[0m \u001b[0mname\u001b[0m \u001b[0;32mis\u001b[0m \u001b[0;32mnot\u001b[0m \u001b[0;32mNone\u001b[0m\u001b[0;34m:\u001b[0m\u001b[0;34m\u001b[0m\u001b[0;34m\u001b[0m\u001b[0m\n",
            "\u001b[0;31mKeyboardInterrupt\u001b[0m: "
          ]
        }
      ]
    },
    {
      "cell_type": "code",
      "source": [
        "from nltk.stem import PorterStemmer\n",
        "import nltk\n",
        "import nltk.stem as st\n",
        "nltk.download('rslp')\n",
        "nltk.download('wordnet')\n",
        "nltk.download('omw-1.4')"
      ],
      "metadata": {
        "id": "P_w0XxfTIO4N",
        "colab": {
          "base_uri": "https://localhost:8080/"
        },
        "outputId": "d6a4ff53-f4e9-46fa-e817-ad482481c1f2"
      },
      "execution_count": 12,
      "outputs": [
        {
          "output_type": "stream",
          "name": "stderr",
          "text": [
            "[nltk_data] Downloading package rslp to /root/nltk_data...\n",
            "[nltk_data]   Unzipping stemmers/rslp.zip.\n",
            "[nltk_data] Downloading package wordnet to /root/nltk_data...\n",
            "[nltk_data] Downloading package omw-1.4 to /root/nltk_data...\n"
          ]
        },
        {
          "output_type": "execute_result",
          "data": {
            "text/plain": [
              "True"
            ]
          },
          "metadata": {},
          "execution_count": 12
        }
      ]
    },
    {
      "cell_type": "code",
      "source": [
        "dataset"
      ],
      "metadata": {
        "colab": {
          "base_uri": "https://localhost:8080/",
          "height": 424
        },
        "id": "OFlj3YRcoDaU",
        "outputId": "b88f8956-2e8a-425a-ad83-c825f6a0a563"
      },
      "execution_count": 69,
      "outputs": [
        {
          "output_type": "execute_result",
          "data": {
            "text/plain": [
              "                                                     utt        scenario  \\\n",
              "4222                                  i want some coffee             iot   \n",
              "11202               where be the nearest pub in the city  recommendation   \n",
              "5143                                please find me music            play   \n",
              "7500                    set a recur event in my calendar        calendar   \n",
              "14311        find me some celebrities that be capricorns              qa   \n",
              "...                                                  ...             ...   \n",
              "184    turn on my playlist and play third song in the...            play   \n",
              "6303             who will win this presidential election         general   \n",
              "14867  tweet consumer service that the goods be of lo...          social   \n",
              "14390                                      open internet              qa   \n",
              "7096   check the events on calendar and delete the ne...        calendar   \n",
              "\n",
              "          id  \n",
              "4222    4368  \n",
              "11202  11608  \n",
              "5143    5327  \n",
              "7500    7754  \n",
              "14311  14868  \n",
              "...      ...  \n",
              "184      185  \n",
              "6303    6528  \n",
              "14867  15449  \n",
              "14390  14951  \n",
              "7096    7342  \n",
              "\n",
              "[16521 rows x 3 columns]"
            ],
            "text/html": [
              "\n",
              "  <div id=\"df-851200f0-157b-48bd-9ecf-c0d4a2dad594\">\n",
              "    <div class=\"colab-df-container\">\n",
              "      <div>\n",
              "<style scoped>\n",
              "    .dataframe tbody tr th:only-of-type {\n",
              "        vertical-align: middle;\n",
              "    }\n",
              "\n",
              "    .dataframe tbody tr th {\n",
              "        vertical-align: top;\n",
              "    }\n",
              "\n",
              "    .dataframe thead th {\n",
              "        text-align: right;\n",
              "    }\n",
              "</style>\n",
              "<table border=\"1\" class=\"dataframe\">\n",
              "  <thead>\n",
              "    <tr style=\"text-align: right;\">\n",
              "      <th></th>\n",
              "      <th>utt</th>\n",
              "      <th>scenario</th>\n",
              "      <th>id</th>\n",
              "    </tr>\n",
              "  </thead>\n",
              "  <tbody>\n",
              "    <tr>\n",
              "      <th>4222</th>\n",
              "      <td>i want some coffee</td>\n",
              "      <td>iot</td>\n",
              "      <td>4368</td>\n",
              "    </tr>\n",
              "    <tr>\n",
              "      <th>11202</th>\n",
              "      <td>where be the nearest pub in the city</td>\n",
              "      <td>recommendation</td>\n",
              "      <td>11608</td>\n",
              "    </tr>\n",
              "    <tr>\n",
              "      <th>5143</th>\n",
              "      <td>please find me music</td>\n",
              "      <td>play</td>\n",
              "      <td>5327</td>\n",
              "    </tr>\n",
              "    <tr>\n",
              "      <th>7500</th>\n",
              "      <td>set a recur event in my calendar</td>\n",
              "      <td>calendar</td>\n",
              "      <td>7754</td>\n",
              "    </tr>\n",
              "    <tr>\n",
              "      <th>14311</th>\n",
              "      <td>find me some celebrities that be capricorns</td>\n",
              "      <td>qa</td>\n",
              "      <td>14868</td>\n",
              "    </tr>\n",
              "    <tr>\n",
              "      <th>...</th>\n",
              "      <td>...</td>\n",
              "      <td>...</td>\n",
              "      <td>...</td>\n",
              "    </tr>\n",
              "    <tr>\n",
              "      <th>184</th>\n",
              "      <td>turn on my playlist and play third song in the...</td>\n",
              "      <td>play</td>\n",
              "      <td>185</td>\n",
              "    </tr>\n",
              "    <tr>\n",
              "      <th>6303</th>\n",
              "      <td>who will win this presidential election</td>\n",
              "      <td>general</td>\n",
              "      <td>6528</td>\n",
              "    </tr>\n",
              "    <tr>\n",
              "      <th>14867</th>\n",
              "      <td>tweet consumer service that the goods be of lo...</td>\n",
              "      <td>social</td>\n",
              "      <td>15449</td>\n",
              "    </tr>\n",
              "    <tr>\n",
              "      <th>14390</th>\n",
              "      <td>open internet</td>\n",
              "      <td>qa</td>\n",
              "      <td>14951</td>\n",
              "    </tr>\n",
              "    <tr>\n",
              "      <th>7096</th>\n",
              "      <td>check the events on calendar and delete the ne...</td>\n",
              "      <td>calendar</td>\n",
              "      <td>7342</td>\n",
              "    </tr>\n",
              "  </tbody>\n",
              "</table>\n",
              "<p>16521 rows × 3 columns</p>\n",
              "</div>\n",
              "      <button class=\"colab-df-convert\" onclick=\"convertToInteractive('df-851200f0-157b-48bd-9ecf-c0d4a2dad594')\"\n",
              "              title=\"Convert this dataframe to an interactive table.\"\n",
              "              style=\"display:none;\">\n",
              "        \n",
              "  <svg xmlns=\"http://www.w3.org/2000/svg\" height=\"24px\"viewBox=\"0 0 24 24\"\n",
              "       width=\"24px\">\n",
              "    <path d=\"M0 0h24v24H0V0z\" fill=\"none\"/>\n",
              "    <path d=\"M18.56 5.44l.94 2.06.94-2.06 2.06-.94-2.06-.94-.94-2.06-.94 2.06-2.06.94zm-11 1L8.5 8.5l.94-2.06 2.06-.94-2.06-.94L8.5 2.5l-.94 2.06-2.06.94zm10 10l.94 2.06.94-2.06 2.06-.94-2.06-.94-.94-2.06-.94 2.06-2.06.94z\"/><path d=\"M17.41 7.96l-1.37-1.37c-.4-.4-.92-.59-1.43-.59-.52 0-1.04.2-1.43.59L10.3 9.45l-7.72 7.72c-.78.78-.78 2.05 0 2.83L4 21.41c.39.39.9.59 1.41.59.51 0 1.02-.2 1.41-.59l7.78-7.78 2.81-2.81c.8-.78.8-2.07 0-2.86zM5.41 20L4 18.59l7.72-7.72 1.47 1.35L5.41 20z\"/>\n",
              "  </svg>\n",
              "      </button>\n",
              "      \n",
              "  <style>\n",
              "    .colab-df-container {\n",
              "      display:flex;\n",
              "      flex-wrap:wrap;\n",
              "      gap: 12px;\n",
              "    }\n",
              "\n",
              "    .colab-df-convert {\n",
              "      background-color: #E8F0FE;\n",
              "      border: none;\n",
              "      border-radius: 50%;\n",
              "      cursor: pointer;\n",
              "      display: none;\n",
              "      fill: #1967D2;\n",
              "      height: 32px;\n",
              "      padding: 0 0 0 0;\n",
              "      width: 32px;\n",
              "    }\n",
              "\n",
              "    .colab-df-convert:hover {\n",
              "      background-color: #E2EBFA;\n",
              "      box-shadow: 0px 1px 2px rgba(60, 64, 67, 0.3), 0px 1px 3px 1px rgba(60, 64, 67, 0.15);\n",
              "      fill: #174EA6;\n",
              "    }\n",
              "\n",
              "    [theme=dark] .colab-df-convert {\n",
              "      background-color: #3B4455;\n",
              "      fill: #D2E3FC;\n",
              "    }\n",
              "\n",
              "    [theme=dark] .colab-df-convert:hover {\n",
              "      background-color: #434B5C;\n",
              "      box-shadow: 0px 1px 3px 1px rgba(0, 0, 0, 0.15);\n",
              "      filter: drop-shadow(0px 1px 2px rgba(0, 0, 0, 0.3));\n",
              "      fill: #FFFFFF;\n",
              "    }\n",
              "  </style>\n",
              "\n",
              "      <script>\n",
              "        const buttonEl =\n",
              "          document.querySelector('#df-851200f0-157b-48bd-9ecf-c0d4a2dad594 button.colab-df-convert');\n",
              "        buttonEl.style.display =\n",
              "          google.colab.kernel.accessAllowed ? 'block' : 'none';\n",
              "\n",
              "        async function convertToInteractive(key) {\n",
              "          const element = document.querySelector('#df-851200f0-157b-48bd-9ecf-c0d4a2dad594');\n",
              "          const dataTable =\n",
              "            await google.colab.kernel.invokeFunction('convertToInteractive',\n",
              "                                                     [key], {});\n",
              "          if (!dataTable) return;\n",
              "\n",
              "          const docLinkHtml = 'Like what you see? Visit the ' +\n",
              "            '<a target=\"_blank\" href=https://colab.research.google.com/notebooks/data_table.ipynb>data table notebook</a>'\n",
              "            + ' to learn more about interactive tables.';\n",
              "          element.innerHTML = '';\n",
              "          dataTable['output_type'] = 'display_data';\n",
              "          await google.colab.output.renderOutput(dataTable, element);\n",
              "          const docLink = document.createElement('div');\n",
              "          docLink.innerHTML = docLinkHtml;\n",
              "          element.appendChild(docLink);\n",
              "        }\n",
              "      </script>\n",
              "    </div>\n",
              "  </div>\n",
              "  "
            ]
          },
          "metadata": {},
          "execution_count": 69
        }
      ]
    },
    {
      "cell_type": "code",
      "source": [
        "def lammen(text):\n",
        "    textw = text.split()\n",
        "    for i,j in enumerate(textw):\n",
        "        textw[i] = Lemmatizer.lemmatize(j,pos='v')\n",
        "    text = ''\n",
        "    text = \" \".join(t for t in textw)\n",
        "    return text"
      ],
      "metadata": {
        "id": "vvmK7O2foOFk"
      },
      "execution_count": 15,
      "outputs": []
    },
    {
      "cell_type": "code",
      "source": [
        "dataset2 = dataset2.apply(lambda x:lammen(x))"
      ],
      "metadata": {
        "id": "PMhGGhQwrfHb"
      },
      "execution_count": null,
      "outputs": []
    },
    {
      "cell_type": "code",
      "source": [
        "dataset2"
      ],
      "metadata": {
        "colab": {
          "base_uri": "https://localhost:8080/"
        },
        "id": "ySf5zU09ro8E",
        "outputId": "03e97a49-d786-4ace-ef2f-1d23ee8d4d7b"
      },
      "execution_count": 43,
      "outputs": [
        {
          "output_type": "execute_result",
          "data": {
            "text/plain": [
              "0            wake me up at five be this week\n",
              "1            wake me up at nine be on friday\n",
              "2        set an alarm for two hours from now\n",
              "3                                      quiet\n",
              "4                                 olly quiet\n",
              "                        ...                 \n",
              "16516                        do i have email\n",
              "16517                      what email be new\n",
              "16518          do i have new email from john\n",
              "16519             have john send me an email\n",
              "16520                  check email from john\n",
              "Name: utt, Length: 16521, dtype: object"
            ]
          },
          "metadata": {},
          "execution_count": 43
        }
      ]
    },
    {
      "cell_type": "code",
      "source": [
        "tfidf = TfidfVectorizer(sublinear_tf=True, min_df=5, norm='l2', encoding='latin-1', ngram_range=(1, 5))\n",
        "features = tfidf.fit_transform(dataset2).toarray()\n",
        "features.shape"
      ],
      "metadata": {
        "colab": {
          "base_uri": "https://localhost:8080/"
        },
        "id": "qSRthqaUsQU9",
        "outputId": "f06add6b-0e67-49a8-8683-4dc708997a95"
      },
      "execution_count": 46,
      "outputs": [
        {
          "output_type": "execute_result",
          "data": {
            "text/plain": [
              "(16521, 6862)"
            ]
          },
          "metadata": {},
          "execution_count": 46
        }
      ]
    },
    {
      "cell_type": "code",
      "source": [
        "tfidf = TfidfVectorizer(sublinear_tf=True, min_df=5, norm='l2', encoding='latin-1', ngram_range=(1, 5))\n",
        "features = tfidf.fit_transform(dataset.utt).toarray()\n",
        "features.shape"
      ],
      "metadata": {
        "colab": {
          "base_uri": "https://localhost:8080/"
        },
        "id": "H75l0POqsKIV",
        "outputId": "116689fa-2927-4b2a-e15d-20a24bbdca2e"
      },
      "execution_count": 39,
      "outputs": [
        {
          "output_type": "execute_result",
          "data": {
            "text/plain": [
              "(16521, 6733)"
            ]
          },
          "metadata": {},
          "execution_count": 39
        }
      ]
    },
    {
      "cell_type": "code",
      "source": [
        "lammen(\"hey you did breads\")"
      ],
      "metadata": {
        "colab": {
          "base_uri": "https://localhost:8080/",
          "height": 35
        },
        "id": "1qYL9Wtlo4o1",
        "outputId": "3a924fd8-d89b-4daf-9707-1a68c204d522"
      },
      "execution_count": 35,
      "outputs": [
        {
          "output_type": "execute_result",
          "data": {
            "text/plain": [
              "'hey you do bread'"
            ],
            "application/vnd.google.colaboratory.intrinsic+json": {
              "type": "string"
            }
          },
          "metadata": {},
          "execution_count": 35
        }
      ]
    },
    {
      "cell_type": "code",
      "source": [
        "Lemmatizer = st.WordNetLemmatizer()\n",
        "for s in [\"don't\",\"doing\",\"painting\",\"cookery\",\"buses\",\"did\"]:\n",
        "    print(Lemmatizer.lemmatize(s,pos='v'))"
      ],
      "metadata": {
        "colab": {
          "base_uri": "https://localhost:8080/"
        },
        "id": "b5H4U4Z6jhaT",
        "outputId": "15f19ae6-3669-48cc-bac0-e12d07ef3f95"
      },
      "execution_count": 14,
      "outputs": [
        {
          "output_type": "stream",
          "name": "stdout",
          "text": [
            "don't\n",
            "do\n",
            "paint\n",
            "cookery\n",
            "bus\n",
            "do\n"
          ]
        }
      ]
    },
    {
      "cell_type": "code",
      "source": [
        "import re"
      ],
      "metadata": {
        "id": "lafzFLIxqOWm"
      },
      "execution_count": 17,
      "outputs": []
    },
    {
      "cell_type": "code",
      "source": [
        "replacement_patterns = [\n",
        " (r'won\\'t', 'will not'),\n",
        " (r'can\\'t', 'can not'),\n",
        " (r'i\\'m', 'i am'),\n",
        " (r'ain\\'t', 'is not'),\n",
        " (r'(\\w+)\\'ll', '\\g<1> will'),\n",
        " (r'(\\w+)n\\'t', '\\g<1> not'),\n",
        " (r'(\\w+)\\'ve', '\\g<1> have'),\n",
        " (r'(\\w+)\\'s', '\\g<1> is'),\n",
        " (r'(\\w+)\\'re', '\\g<1> are'),\n",
        " (r'(\\w+)\\'d', '\\g<1> would')\n",
        "]"
      ],
      "metadata": {
        "id": "VtkESgiPqdVr"
      },
      "execution_count": 24,
      "outputs": []
    },
    {
      "cell_type": "code",
      "source": [
        "class RegexpReplacer(object):\n",
        "    def __init__(self, patterns=replacement_patterns):\n",
        "        self.patterns = [(re.compile(regex), repl) for (regex, repl) in\n",
        "        patterns]\n",
        "    def replace(self, text):\n",
        "        s = text\n",
        "        for (pattern, repl) in self.patterns:\n",
        "            s = re.sub(pattern, repl, s)\n",
        "        return s"
      ],
      "metadata": {
        "id": "RDSJDIftqgCD"
      },
      "execution_count": 25,
      "outputs": []
    },
    {
      "cell_type": "code",
      "source": [
        "replacer = RegexpReplacer()"
      ],
      "metadata": {
        "id": "oKIazXLDq-Be"
      },
      "execution_count": 26,
      "outputs": []
    },
    {
      "cell_type": "code",
      "source": [
        "replacer.replace(\"can't is a contraction\")"
      ],
      "metadata": {
        "colab": {
          "base_uri": "https://localhost:8080/",
          "height": 35
        },
        "id": "fgYF77BhrCMs",
        "outputId": "514a5840-ce60-46b2-e5d9-4632ade1e729"
      },
      "execution_count": 27,
      "outputs": [
        {
          "output_type": "execute_result",
          "data": {
            "text/plain": [
              "'can not is a contraction'"
            ],
            "application/vnd.google.colaboratory.intrinsic+json": {
              "type": "string"
            }
          },
          "metadata": {},
          "execution_count": 27
        }
      ]
    },
    {
      "cell_type": "code",
      "source": [
        "dir(nltk.stem)"
      ],
      "metadata": {
        "id": "EFfQ0Wgmjyv3"
      },
      "execution_count": null,
      "outputs": []
    },
    {
      "cell_type": "code",
      "source": [
        "!apt update\n",
        "!apt install enchant --fix-missing\n",
        "!apt install -qq enchant\n",
        "!pip install pyenchant"
      ],
      "metadata": {
        "id": "0vc8tHw6wU-7"
      },
      "execution_count": null,
      "outputs": []
    },
    {
      "cell_type": "code",
      "source": [
        "import enchant\n",
        "from nltk.metrics import edit_distance\n",
        "class SpellingReplacer(object):\n",
        "    def __init__(self, dict_name='en', max_dist=2):\n",
        "        self.spell_dict = enchant.Dict(dict_name)\n",
        "        self.max_dist = max_dist\n",
        "    def replace(self, word):\n",
        "        if self.spell_dict.check(word):\n",
        "            return word\n",
        "        suggestions = self.spell_dict.suggest(word)\n",
        "        if suggestions and edit_distance(word, suggestions[0]) <= self.max_dist:\n",
        "            return suggestions[0]\n",
        "        else:\n",
        "            return word\n"
      ],
      "metadata": {
        "id": "PGIbKg71v536"
      },
      "execution_count": 101,
      "outputs": []
    },
    {
      "cell_type": "code",
      "source": [
        "replacer = SpellingReplacer()\n",
        "replacer.replace('pritn')"
      ],
      "metadata": {
        "colab": {
          "base_uri": "https://localhost:8080/",
          "height": 35
        },
        "id": "wmCTdH7yxtDG",
        "outputId": "f508c0e9-0ca0-4213-e796-c9af80e189ff"
      },
      "execution_count": 107,
      "outputs": [
        {
          "output_type": "execute_result",
          "data": {
            "text/plain": [
              "'print'"
            ],
            "application/vnd.google.colaboratory.intrinsic+json": {
              "type": "string"
            }
          },
          "metadata": {},
          "execution_count": 107
        }
      ]
    },
    {
      "cell_type": "code",
      "source": [
        "d = enchant.Dict('en')"
      ],
      "metadata": {
        "id": "NulYZn1wyA7N"
      },
      "execution_count": 108,
      "outputs": []
    },
    {
      "cell_type": "code",
      "source": [
        "d.suggest('languege')[0]\n"
      ],
      "metadata": {
        "colab": {
          "base_uri": "https://localhost:8080/",
          "height": 35
        },
        "id": "ByM8HcxnyES3",
        "outputId": "603ea0df-0067-415d-dee7-21e316d3aca0"
      },
      "execution_count": 115,
      "outputs": [
        {
          "output_type": "execute_result",
          "data": {
            "text/plain": [
              "'language'"
            ],
            "application/vnd.google.colaboratory.intrinsic+json": {
              "type": "string"
            }
          },
          "metadata": {},
          "execution_count": 115
        }
      ]
    },
    {
      "cell_type": "code",
      "source": [
        "from nltk.metrics import edit_distance"
      ],
      "metadata": {
        "id": "lN7rIwX7yJRM"
      },
      "execution_count": 110,
      "outputs": []
    },
    {
      "cell_type": "code",
      "source": [
        "edit_distance('Angela', 'language')\n"
      ],
      "metadata": {
        "colab": {
          "base_uri": "https://localhost:8080/"
        },
        "id": "2Vk49WoByLej",
        "outputId": "51acf7fa-ecb3-441c-ab1c-5f1614673fbc"
      },
      "execution_count": 114,
      "outputs": [
        {
          "output_type": "execute_result",
          "data": {
            "text/plain": [
              "6"
            ]
          },
          "metadata": {},
          "execution_count": 114
        }
      ]
    },
    {
      "cell_type": "code",
      "source": [
        "dataset2 = dataset2.apply(lambda x:lammen(x))"
      ],
      "metadata": {
        "id": "_5k4HREjylXU"
      },
      "execution_count": 119,
      "outputs": []
    },
    {
      "cell_type": "code",
      "source": [
        "dataset2"
      ],
      "metadata": {
        "colab": {
          "base_uri": "https://localhost:8080/"
        },
        "id": "ubWwJ-MDy-I9",
        "outputId": "aefb7411-359b-40da-af6b-7c060ff9fb5f"
      },
      "execution_count": 120,
      "outputs": [
        {
          "output_type": "execute_result",
          "data": {
            "text/plain": [
              "0         quake ME u ta dive Be thighs week\n",
              "1           quake ME u ta nine Be ON Friday\n",
              "2        est ab alarm fro tow hour form NOW\n",
              "3                                     quite\n",
              "4                               lolly quite\n",
              "                        ...                \n",
              "16516                       dew I gave mail\n",
              "16517                       thaw mail Be no\n",
              "16518          dew I gave no mail form John\n",
              "16519             gave John dens ME ab mail\n",
              "16520                  check mail form John\n",
              "Name: utt, Length: 16521, dtype: object"
            ]
          },
          "metadata": {},
          "execution_count": 120
        }
      ]
    },
    {
      "cell_type": "code",
      "source": [
        "dataset"
      ],
      "metadata": {
        "colab": {
          "base_uri": "https://localhost:8080/",
          "height": 424
        },
        "id": "qm6WvddB84Ex",
        "outputId": "638efce0-d892-4502-a4aa-1f954a3f75e8"
      },
      "execution_count": 123,
      "outputs": [
        {
          "output_type": "execute_result",
          "data": {
            "text/plain": [
              "                                                     utt        scenario  \\\n",
              "4222                                  i want some coffee             iot   \n",
              "11202               where be the nearest pub in the city  recommendation   \n",
              "5143                                please find me music            play   \n",
              "7500                    set a recur event in my calendar        calendar   \n",
              "14311        find me some celebrities that be capricorns              qa   \n",
              "...                                                  ...             ...   \n",
              "184    turn on my playlist and play third song in the...            play   \n",
              "6303             who will win this presidential election         general   \n",
              "14867  tweet consumer service that the goods be of lo...          social   \n",
              "14390                                      open internet              qa   \n",
              "7096   check the events on calendar and delete the ne...        calendar   \n",
              "\n",
              "          id  \n",
              "4222    4368  \n",
              "11202  11608  \n",
              "5143    5327  \n",
              "7500    7754  \n",
              "14311  14868  \n",
              "...      ...  \n",
              "184      185  \n",
              "6303    6528  \n",
              "14867  15449  \n",
              "14390  14951  \n",
              "7096    7342  \n",
              "\n",
              "[16521 rows x 3 columns]"
            ],
            "text/html": [
              "\n",
              "  <div id=\"df-f78068a7-0e82-4a6c-885a-f1999cc830f6\">\n",
              "    <div class=\"colab-df-container\">\n",
              "      <div>\n",
              "<style scoped>\n",
              "    .dataframe tbody tr th:only-of-type {\n",
              "        vertical-align: middle;\n",
              "    }\n",
              "\n",
              "    .dataframe tbody tr th {\n",
              "        vertical-align: top;\n",
              "    }\n",
              "\n",
              "    .dataframe thead th {\n",
              "        text-align: right;\n",
              "    }\n",
              "</style>\n",
              "<table border=\"1\" class=\"dataframe\">\n",
              "  <thead>\n",
              "    <tr style=\"text-align: right;\">\n",
              "      <th></th>\n",
              "      <th>utt</th>\n",
              "      <th>scenario</th>\n",
              "      <th>id</th>\n",
              "    </tr>\n",
              "  </thead>\n",
              "  <tbody>\n",
              "    <tr>\n",
              "      <th>4222</th>\n",
              "      <td>i want some coffee</td>\n",
              "      <td>iot</td>\n",
              "      <td>4368</td>\n",
              "    </tr>\n",
              "    <tr>\n",
              "      <th>11202</th>\n",
              "      <td>where be the nearest pub in the city</td>\n",
              "      <td>recommendation</td>\n",
              "      <td>11608</td>\n",
              "    </tr>\n",
              "    <tr>\n",
              "      <th>5143</th>\n",
              "      <td>please find me music</td>\n",
              "      <td>play</td>\n",
              "      <td>5327</td>\n",
              "    </tr>\n",
              "    <tr>\n",
              "      <th>7500</th>\n",
              "      <td>set a recur event in my calendar</td>\n",
              "      <td>calendar</td>\n",
              "      <td>7754</td>\n",
              "    </tr>\n",
              "    <tr>\n",
              "      <th>14311</th>\n",
              "      <td>find me some celebrities that be capricorns</td>\n",
              "      <td>qa</td>\n",
              "      <td>14868</td>\n",
              "    </tr>\n",
              "    <tr>\n",
              "      <th>...</th>\n",
              "      <td>...</td>\n",
              "      <td>...</td>\n",
              "      <td>...</td>\n",
              "    </tr>\n",
              "    <tr>\n",
              "      <th>184</th>\n",
              "      <td>turn on my playlist and play third song in the...</td>\n",
              "      <td>play</td>\n",
              "      <td>185</td>\n",
              "    </tr>\n",
              "    <tr>\n",
              "      <th>6303</th>\n",
              "      <td>who will win this presidential election</td>\n",
              "      <td>general</td>\n",
              "      <td>6528</td>\n",
              "    </tr>\n",
              "    <tr>\n",
              "      <th>14867</th>\n",
              "      <td>tweet consumer service that the goods be of lo...</td>\n",
              "      <td>social</td>\n",
              "      <td>15449</td>\n",
              "    </tr>\n",
              "    <tr>\n",
              "      <th>14390</th>\n",
              "      <td>open internet</td>\n",
              "      <td>qa</td>\n",
              "      <td>14951</td>\n",
              "    </tr>\n",
              "    <tr>\n",
              "      <th>7096</th>\n",
              "      <td>check the events on calendar and delete the ne...</td>\n",
              "      <td>calendar</td>\n",
              "      <td>7342</td>\n",
              "    </tr>\n",
              "  </tbody>\n",
              "</table>\n",
              "<p>16521 rows × 3 columns</p>\n",
              "</div>\n",
              "      <button class=\"colab-df-convert\" onclick=\"convertToInteractive('df-f78068a7-0e82-4a6c-885a-f1999cc830f6')\"\n",
              "              title=\"Convert this dataframe to an interactive table.\"\n",
              "              style=\"display:none;\">\n",
              "        \n",
              "  <svg xmlns=\"http://www.w3.org/2000/svg\" height=\"24px\"viewBox=\"0 0 24 24\"\n",
              "       width=\"24px\">\n",
              "    <path d=\"M0 0h24v24H0V0z\" fill=\"none\"/>\n",
              "    <path d=\"M18.56 5.44l.94 2.06.94-2.06 2.06-.94-2.06-.94-.94-2.06-.94 2.06-2.06.94zm-11 1L8.5 8.5l.94-2.06 2.06-.94-2.06-.94L8.5 2.5l-.94 2.06-2.06.94zm10 10l.94 2.06.94-2.06 2.06-.94-2.06-.94-.94-2.06-.94 2.06-2.06.94z\"/><path d=\"M17.41 7.96l-1.37-1.37c-.4-.4-.92-.59-1.43-.59-.52 0-1.04.2-1.43.59L10.3 9.45l-7.72 7.72c-.78.78-.78 2.05 0 2.83L4 21.41c.39.39.9.59 1.41.59.51 0 1.02-.2 1.41-.59l7.78-7.78 2.81-2.81c.8-.78.8-2.07 0-2.86zM5.41 20L4 18.59l7.72-7.72 1.47 1.35L5.41 20z\"/>\n",
              "  </svg>\n",
              "      </button>\n",
              "      \n",
              "  <style>\n",
              "    .colab-df-container {\n",
              "      display:flex;\n",
              "      flex-wrap:wrap;\n",
              "      gap: 12px;\n",
              "    }\n",
              "\n",
              "    .colab-df-convert {\n",
              "      background-color: #E8F0FE;\n",
              "      border: none;\n",
              "      border-radius: 50%;\n",
              "      cursor: pointer;\n",
              "      display: none;\n",
              "      fill: #1967D2;\n",
              "      height: 32px;\n",
              "      padding: 0 0 0 0;\n",
              "      width: 32px;\n",
              "    }\n",
              "\n",
              "    .colab-df-convert:hover {\n",
              "      background-color: #E2EBFA;\n",
              "      box-shadow: 0px 1px 2px rgba(60, 64, 67, 0.3), 0px 1px 3px 1px rgba(60, 64, 67, 0.15);\n",
              "      fill: #174EA6;\n",
              "    }\n",
              "\n",
              "    [theme=dark] .colab-df-convert {\n",
              "      background-color: #3B4455;\n",
              "      fill: #D2E3FC;\n",
              "    }\n",
              "\n",
              "    [theme=dark] .colab-df-convert:hover {\n",
              "      background-color: #434B5C;\n",
              "      box-shadow: 0px 1px 3px 1px rgba(0, 0, 0, 0.15);\n",
              "      filter: drop-shadow(0px 1px 2px rgba(0, 0, 0, 0.3));\n",
              "      fill: #FFFFFF;\n",
              "    }\n",
              "  </style>\n",
              "\n",
              "      <script>\n",
              "        const buttonEl =\n",
              "          document.querySelector('#df-f78068a7-0e82-4a6c-885a-f1999cc830f6 button.colab-df-convert');\n",
              "        buttonEl.style.display =\n",
              "          google.colab.kernel.accessAllowed ? 'block' : 'none';\n",
              "\n",
              "        async function convertToInteractive(key) {\n",
              "          const element = document.querySelector('#df-f78068a7-0e82-4a6c-885a-f1999cc830f6');\n",
              "          const dataTable =\n",
              "            await google.colab.kernel.invokeFunction('convertToInteractive',\n",
              "                                                     [key], {});\n",
              "          if (!dataTable) return;\n",
              "\n",
              "          const docLinkHtml = 'Like what you see? Visit the ' +\n",
              "            '<a target=\"_blank\" href=https://colab.research.google.com/notebooks/data_table.ipynb>data table notebook</a>'\n",
              "            + ' to learn more about interactive tables.';\n",
              "          element.innerHTML = '';\n",
              "          dataTable['output_type'] = 'display_data';\n",
              "          await google.colab.output.renderOutput(dataTable, element);\n",
              "          const docLink = document.createElement('div');\n",
              "          docLink.innerHTML = docLinkHtml;\n",
              "          element.appendChild(docLink);\n",
              "        }\n",
              "      </script>\n",
              "    </div>\n",
              "  </div>\n",
              "  "
            ]
          },
          "metadata": {},
          "execution_count": 123
        }
      ]
    },
    {
      "cell_type": "code",
      "source": [
        "def lammen(text):\n",
        "    textw = text.split()\n",
        "    for i,j in enumerate(textw):\n",
        "        try:\n",
        "            textw[i] = d.suggest(j)[0]\n",
        "        except:\n",
        "            pass\n",
        "    text = ''\n",
        "    text = \" \".join(t for t in textw)\n",
        "    return text"
      ],
      "metadata": {
        "id": "_qpKI2kvymgU"
      },
      "execution_count": 118,
      "outputs": []
    },
    {
      "cell_type": "code",
      "source": [
        "d.suggest(\"coffee\")[0]"
      ],
      "metadata": {
        "colab": {
          "base_uri": "https://localhost:8080/",
          "height": 35
        },
        "id": "ikPdP9k3yqts",
        "outputId": "c7b9e240-e741-4956-b164-663f0486022a"
      },
      "execution_count": 127,
      "outputs": [
        {
          "output_type": "execute_result",
          "data": {
            "text/plain": [
              "'coffee'"
            ],
            "application/vnd.google.colaboratory.intrinsic+json": {
              "type": "string"
            }
          },
          "metadata": {},
          "execution_count": 127
        }
      ]
    },
    {
      "cell_type": "markdown",
      "source": [
        "# New Works"
      ],
      "metadata": {
        "id": "q0pXrU7M9DcM"
      }
    },
    {
      "cell_type": "code",
      "source": [
        "import re\n",
        "ie = re.IGNORECASE"
      ],
      "metadata": {
        "id": "JjbyYRSe9JPw"
      },
      "execution_count": 135,
      "outputs": []
    },
    {
      "cell_type": "code",
      "source": [
        "r = \"(hi|hello|hey)[ ]*([a-z]*)\""
      ],
      "metadata": {
        "id": "O-FwMS0W9LAE"
      },
      "execution_count": 129,
      "outputs": []
    },
    {
      "cell_type": "code",
      "source": [
        "re.match(r, 'Hello Rosa hello reza', flags=ie)"
      ],
      "metadata": {
        "colab": {
          "base_uri": "https://localhost:8080/"
        },
        "id": "yFGZ7SS49XDV",
        "outputId": "068ece38-5b0b-4479-f9c4-a9722ebe8c94"
      },
      "execution_count": 134,
      "outputs": [
        {
          "output_type": "execute_result",
          "data": {
            "text/plain": [
              "<re.Match object; span=(0, 10), match='Hello Rosa'>"
            ]
          },
          "metadata": {},
          "execution_count": 134
        }
      ]
    },
    {
      "cell_type": "code",
      "source": [
        "re.match(r, \"hi ho hi ho\", flags=ie)"
      ],
      "metadata": {
        "colab": {
          "base_uri": "https://localhost:8080/"
        },
        "id": "yyXMzQgd9tk3",
        "outputId": "288fbc6c-f945-48d1-b79e-577996c0cee7"
      },
      "execution_count": 137,
      "outputs": [
        {
          "output_type": "execute_result",
          "data": {
            "text/plain": [
              "<re.Match object; span=(0, 5), match='hi ho'>"
            ]
          },
          "metadata": {},
          "execution_count": 137
        }
      ]
    },
    {
      "cell_type": "code",
      "source": [
        "re.match(r, \"hey. ehats up\", flags=ie)"
      ],
      "metadata": {
        "colab": {
          "base_uri": "https://localhost:8080/"
        },
        "id": "_llyEE5P959y",
        "outputId": "3b9bd6cf-53dc-42dc-d6e3-3162db98fcce"
      },
      "execution_count": 142,
      "outputs": [
        {
          "output_type": "execute_result",
          "data": {
            "text/plain": [
              "<re.Match object; span=(0, 3), match='hey'>"
            ]
          },
          "metadata": {},
          "execution_count": 142
        }
      ]
    },
    {
      "cell_type": "code",
      "source": [
        "r = r\"[^a-z]*([y]o|[h']?ello|ok|hey|(good[ ])?(morn[gin']{0,3}|\"\\\n",
        "... r\"afternoon|even[gin']{0,3}))[\\s,;:]{1,3}([a-z]{1,20})\"\n",
        "r"
      ],
      "metadata": {
        "colab": {
          "base_uri": "https://localhost:8080/",
          "height": 35
        },
        "id": "2Pq5o3BS-LUQ",
        "outputId": "8d611425-a854-4404-adb8-4477c349ecba"
      },
      "execution_count": 156,
      "outputs": [
        {
          "output_type": "execute_result",
          "data": {
            "text/plain": [
              "\"[^a-z]*([y]o|[h']?ello|ok|hey|(good[ ])?(morn[gin']{0,3}|afternoon|even[gin']{0,3}))[\\\\s,;:]{1,3}([a-z]{1,20})\""
            ],
            "application/vnd.google.colaboratory.intrinsic+json": {
              "type": "string"
            }
          },
          "metadata": {},
          "execution_count": 156
        }
      ]
    },
    {
      "cell_type": "code",
      "source": [
        "re_greeting = re.compile(r, flags=re.IGNORECASE)"
      ],
      "metadata": {
        "id": "K6VmPyoJ-ybN"
      },
      "execution_count": 147,
      "outputs": []
    },
    {
      "cell_type": "code",
      "source": [
        "re_greeting.match('Hello Rosa good morning')"
      ],
      "metadata": {
        "colab": {
          "base_uri": "https://localhost:8080/"
        },
        "id": "nMuEBfZ8-3pc",
        "outputId": "e3e30cfd-cda0-4eb7-94ce-f892b8d2ff51"
      },
      "execution_count": 154,
      "outputs": [
        {
          "output_type": "execute_result",
          "data": {
            "text/plain": [
              "<re.Match object; span=(0, 11), match=' Hello Rosa'>"
            ]
          },
          "metadata": {},
          "execution_count": 154
        }
      ]
    },
    {
      "cell_type": "code",
      "source": [
        "re_greeting.match('good evening Rosa').groups()"
      ],
      "metadata": {
        "colab": {
          "base_uri": "https://localhost:8080/"
        },
        "id": "yYb2Os7y_UEf",
        "outputId": "3f2c1545-c03d-4dcb-ac8a-b427d3d8a296"
      },
      "execution_count": 158,
      "outputs": [
        {
          "output_type": "execute_result",
          "data": {
            "text/plain": [
              "('good evening', 'good ', 'evening', 'Rosa')"
            ]
          },
          "metadata": {},
          "execution_count": 158
        }
      ]
    },
    {
      "cell_type": "code",
      "source": [],
      "metadata": {
        "id": "Y_pkA3uX_doo"
      },
      "execution_count": null,
      "outputs": []
    },
    {
      "cell_type": "markdown",
      "source": [
        "# Wait a minute"
      ],
      "metadata": {
        "id": "v0J0bwmWJTdo"
      }
    },
    {
      "cell_type": "code",
      "source": [
        " (r'won\\'t', 'will not'),\n",
        " (r'can\\'t', 'can not'),\n",
        " (r'i\\'m', 'i am'),\n",
        " (r'ain\\'t', 'is not'),\n",
        " (r'(\\w+)\\'ll', '\\g<1> will'),\n",
        " (r'(\\w+)n\\'t', '\\g<1> not'),\n",
        " (r'(\\w+)\\'ve', '\\g<1> have'),\n",
        " (r'(\\w+)\\'s', '\\g<1> is'),\n",
        " (r'(\\w+)\\'re', '\\g<1> are'),\n",
        " (r'(\\w+)\\'d', '\\g<1> would')"
      ],
      "metadata": {
        "id": "53fa4hUqWIT5"
      },
      "execution_count": null,
      "outputs": []
    },
    {
      "cell_type": "code",
      "source": [
        "def ret(test):\n",
        "    test = re.sub(r'won\\'t', 'will not',test)\n",
        "    test = re.sub(r'can\\'t', 'can not',test)\n",
        "    test = re.sub(r'i\\'m', 'i am',test)\n",
        "    test = re.sub(r'ain\\'t', 'is not',test)\n",
        "    test = re.sub(r'(\\w+)\\'ll', '\\g<1> will',test)\n",
        "    test = re.sub(r'(\\w+)n\\'t', '\\g<1> not',test)\n",
        "    test = re.sub(r'(\\w+)\\'ve', '\\g<1> have',test)\n",
        "    test = re.sub(r'(\\w+)\\'s', '\\g<1> is',test)\n",
        "    test = re.sub(r'(\\w+)\\'re', '\\g<1> are',test)\n",
        "    test = re.sub(r'(\\w+)\\'d', '\\g<1> would',test)\n",
        "    return test"
      ],
      "metadata": {
        "id": "TgFXQZ3IVxQH"
      },
      "execution_count": 363,
      "outputs": []
    },
    {
      "cell_type": "code",
      "source": [
        "dataset.utt = dataset.utt.apply(lambda x:ret(x))"
      ],
      "metadata": {
        "id": "WdAL52B7V9gA"
      },
      "execution_count": 364,
      "outputs": []
    },
    {
      "cell_type": "code",
      "source": [
        "text = \" \".join(txt for txt in dataset.utt)"
      ],
      "metadata": {
        "id": "QKYj6g8zMnFf"
      },
      "execution_count": 365,
      "outputs": []
    },
    {
      "cell_type": "code",
      "source": [
        "text"
      ],
      "metadata": {
        "colab": {
          "base_uri": "https://localhost:8080/",
          "height": 105
        },
        "id": "wOMdcRuSVqxN",
        "outputId": "cb8f8a5c-24d5-482c-83e0-05432e4f8922"
      },
      "execution_count": 366,
      "outputs": [
        {
          "output_type": "execute_result",
          "data": {
            "text/plain": [
              "\"am i on vacation this week do you think it would rain today show me tomorrow is weather in this area app management give us president is election news have i received any emails in the last hour lights out find an uber on twenty ninth save opinion lower the light to forty percent change my room lights to some romantic color can the latest news be pulled up on the latest weather forecast for the week hi google please remove the dinner plan on thursday please post so bored to facebook can you tell me the times the train leaves for chicago please set event on tuesday play the newest bob dylan playlist it is depend pon the seen what do i have planned today how tall is brad pitt make the living room light orange what lists are in my notebook could you tell me who is birthdays are there in february play the first playlist tennis show me events in sacramento please tell me when is my financial meeting please play podcasts on science my schedule i want to hear country music celebrities remind me at this time send an email to stan francis start the podcast i need to make a grocery list who is the artist of the current song playing look up whether or not charley is steakhouse delivers tell me what is going on tomorrow remind me to go to my meeting tomorrow can you see if i have any new emails could you please remove my card details from wallet start playing f m one oh nine can you tell me current time please tell me if there is going to be snow this weekend please let me know today is date play miley cyrus radio order me an uber ride please do i have a sales meeting today hey cancel all my other meetings and calls for second march as it is jim is birthday tag it as an event in your calendar is my wake up alarm set a six am play irene from tobymac please play me the madonna song again remind me at eight p m to do laundry play my favorite song should i wear a coat outside play old classic music personal digital assistant send an email to with the subject as test and no content please check and repeat this song one time more i am unable to hear you can you speak little loud do not make any sounds once a new topic on politics comes up alert me enable smart socket i got a package in the mail today what is the exchange rate of u s d to cad turn off bedroom light at nine thirty p m the definition of life add pastries to the christmas list please submit status to facebook how you know me add wine to list olly do i have any new emails what friends were in popular places the last day start the radio find a description about a samsung t v remind me in the future of this play scrabble with me let is tweet a complaint is this the least or most important moment in history ever please give me notice when i need to leave for the conference please mute the speakers what is the current time in our home town remove from my calendar meeting at nine am list my today is meeting can you shuffle the light colors in the house find the nearest taxi calculate a close integral of exponential function from zero to five hey olly do i have any emails from bob about the bulldog add event for date and time with these people will there be fog after sunset set the settings to mute what lists are currently available right now do not make any noise until morning alarm please send a business email about the time of the meeting change to lauren tell me the funniest joke that was ever told turn on the vacuum check celebrity where abouts can you remind me to order the turkey three weeks before thanksgiving delete last entry open f m are there any reminders left this article is super cool can you share the link to facebook for me tell me when the next big earthquake will hit california next episode please wooo what fun things are there to do in this area play let me love you by ariana grande should i bring extra water with me today set an alarm for twelve i need an alarm describe about it turn off one light on porch slow the volume speaker please play the morning show on ninety one point five point one f m could you please create a pandora channel for adele olly how many stars has swat received on i m d b listening song of arijit singh post it on my facebook account what is the date for next tuesday how do i check my currency exchange rate please cancel all alarms for tomorrow what is a hypothesis define loquaciousness has anyone commented on my status local theater screening which movie what is the time now can you turn off wemo plug socket order a pizza with sausage from domino is delete the next event on my calendar so that i do not see it again how is the traffic now best paid jobs in digital marketing in my area please raise the lights to max its dark in here mind turning up the light intensity get me a coffee get me a stock price of audi what time is my domino is order expected to arrive what is the weather like in iowa can you put the lights on the high setting ok google play rock music please show me the list that i have what bands are playing in town this weekend what time is the evening meeting i have with john refresh my list and tell me what is on it play the playlist we were listening last night how do you cook a good burger kickball is over i do not need the alarm for kickball on wednesday evening any longer do i have any reminders for today what are examples of spicy cuisines what is status of current weather play old book a train ticket from washington d c to savannah georgia play the radio station rock one hundred and eight i need to send a reply to charlotte i have canceled the order placed at mcd did it go through add dale at gmail dot com to my contacts play my recently downloaded songs give me the time in p s t play songs related to a c d c remove birthday from calendar what is the capital of new hampshire what is the stock price of nike today olly i need directions to madison street olly how long should i boil the eggs what is the easiest and quickest way to cook a turkey give me the exchange rate between united states dollar and canadian dollar please turn off the alarm can you erase the past event i visited can i order olive garden to go let me know when i am three days out from this event in my calendar schedule a meeting with the accounting department on two thirty p m on friday pull up a complaint for a o l how is the day today what is the current forecast for maine tweet consumer service that i am very disappointed with my recent interaction show pending reminders have i received any emails from my father look up the map to stores near me what is going on in japan switch on the roomba is my schedule for july seventh completely open play a game with me when is president is day repeat this event weather news send danielle an email delete item four remove all my calendar events play the young mummy is podcast remind me of my dentist appointment in two hours what will the weather be like in oklahoma city on monday audio book play jai ho get rid of the five p m alarm play random radio station what days are my alarms set for please define forensic what do you think was the best decade make me happy juice what is joe joe is home address find local events mark the event monthly book me a train ticket to chicago for tomorrow morning before ten what apple trading at do i have any tasks today could you repeat this event tell me about my upcoming events what day is the twenty second mute for twenty minutes turn off the lights make a complaint to target news around the city add monas wedding even to my calendar for tuesday what events do i have for tomorrow tell me what is new am i going to have to worry about the snowplows burying my car in the driveway tuesday buy me a ticket to take the train to atlanta alexa what is it like being a tool for the n s a set a notification for sixth march that there is a society meeting at eleven am what is email id of john which part of antarctica belongs to the us change the color of the lights remind me at the time of the event what is the name of this song and who sings it what will be the weather this week do you like the president set a reminder for my shopping trip tomorrow at five p m is it snowing now what appointments or meetings do i have coming up for this week please list the subject lines of last twenty received emails play the top forty station with rocket and theresa olly please turn off the smart socket i would like to listen to some down tempo i feel like jazz right now how about you today feels like hard rock meeting with love the next day what is on the agenda for today how many people live in los angeles what is the meaning of the word home what sound does a dog make what is the time in dubai what events are on my calendar shut the smart socket down what is the last day of the month make lights brightener remind me that i have a meeting with cassy for an ola event happening tomorrow open all unread emails order mcdonalds did i ever get the email from sean today please check alarms i have report any of the pda is increase the volume of the speaker get me answers what day is halloween this year play one love show me derek is contact information add to the calendar a reunion event for this afternoon turn up the brightness of the lights delete scheduled alarm how to calculate trigonametry trash the open list google how much wood could a woodchuck chuck if a woodchuck could chuck wood add this event with this people whether in u k is cold tweet a complaint about potholes on road i want five hours freed up for jenn is birthday this saturday what is the weather like olly search events and meetups for central park west include an item to a list tag you are it show me what the ingredients are olly i would like a cup of coffee with one cream and three sugars show me the current traffic nearby me can anyone tell me what is you guys discussing is there any news about the presidency olly do you have any local news who are the last number of people i got emails from get rid of everything on my calendar play game send this message to at microsoft on twitter retrieve the light for me how it is possible display all unread messages from my gmail account activate vacuum cleaner sarcastic jokes send email to daughter what time is it in switzerland make me a coffee please distance to local landmarks get a cup of coffee ready now please make me a cappuccino write email to my company mate to submit the task tomorrow turn on the light socket show me most recent emails send the email to this new email address please call china wok and order number seven answer shuffle and play the playlist have i received emails from sarah tweet a complaint about poor drainage system tell me the street address of my facebook friend george what time is it in the central time zone read my next reminders for this afternoon remember to remind me about client meet at four p m create a list of monthly groceries to be bought play list of music from avatar pop-up meeting make a coffee please what are the hours from cvs turn off all lights what shops are within ten miles i need a recipe of veg pulav remove alarm of six am on tuesday i need to set an alarm how many do i have set send an uber to me right now lower brightness of lights list all of my upcoming alarms birth date for movie star keanu reeves play lady now ask my adviser weather in bristol v t access my fitbit app and record this activity yoga fifty minutes high intensity please play the next episode in the podcast how many rivers are there in the world resume the last kingdom for me please remind me about the eleven am business meet tell me what was the temperature in our city at twelve p m will gloves come in handy on tuesday add detergent to the list of things i need to buy send an email to grandma saying we are dropping by on saturday see you then play latest country music releases play justin bieber on shuffle please post to jeff i like my robot to know if there is a promo or discount in the mall or any shop store which days will i be working nights in the month of march book a train for me i need the exchange rate for the us dollar and the euro book a taxi to airport for me in the evening remind me at location i want you to remind me to take my rain coat because it may rain what is the best clothes store here let me know about the new emails louder i need a train ticket to denver new list please i want to play fifa seventeen show me my husbands facebook posts today turn off eight am alarm trump remind me what i am doing on sunday afternoon activate a different light color stream all songs from rock please rate this song five stars please what is the plan for tonight olly play be warned by tech nine did anybody email me today play the rock radio station open the local news app do i have any emails about chemistry add happy new year to calendar the weather is sunny today weather report of the week i would like this new email should be added to my contacts read all new emails please start the dogwalking playlist i want to hear unk song unk give me the age of chuck norris add a wrist watch to the shopping list remove events from calendar reply to this email what movie is this song from raise volume to level seven on music player what time is the cantonese dog festival let me know about the news of india pakistan match ask for the weather today evening turn off my wemo plug on radio mirch can you play feel dil program where are italian restaurants in my area play podcast a make a playlist of all songs of justin bibber and play with shuffle does john is pizza have takeaway purple haze what is the best way to france would you provide me with the answer to this question is the data prefers any problems in objects hey olly make the house lights a different color what is it like outside do you like my girlfriend do i have any events happening next week what are the things i need for my journey turn off the bathroom light what to do lists do i have what dance move is the most attractive where is the radio head concert tell me the train ticket price of california to chicago did anyone like my photo i just posted would you own a dog if you were able to where should i avoid this morning how is the traffic near me please tell me what is the formula for the perimeter of a rectangle cook some coffees turn on the plug nice horoscope make sure there is no events on my calendar please put to my calendar daily stand-up to ten am i would like a cup of coffee please play me the most popular podcast on itunes its peaceful disable wemo socket email work team this week is schedule arrange a taxi resume lord of the rings set a reminder for the thirteenth that i have a lunch with dale check emails color of light should be dimmed bright olly skip song today date can you describe what she was wearing in that movie shut the lights off google i need the living room vacuumed can you turn on the vacuum cleaner what is the wake up time for my alarm i have set for the flight this weekend olly play me an upbeat song through your speakers how many new emails since i last checked tell me the current time in central time set list please play rap order general t iso eggroll to go olly cut down the volume vacuum the living room carpet tweet long wait time and unprofessional employees are there any events going on in milan what is the time in paris what is ten am in eastern time show map light is too much is it going to rain on friday how many meetings are on my calendar today please increase the light when is asparagus in season play me the latest song of adele add an event for july thirtieth named birthday do i have a lunch date today wake me up at four am tweet freedom pop customer service i am dissatisfied how do you activate the robot vacuum cleaner how weather info call city cab to airport next i want to hear shinedown is it male or female put on some love songs what is the weather near me olly please schedule all my doctors appointments set a reminder alarm for my meeting with the agent this evening calendar invite for breakfast with sarah at eight am when was last academy award winning movie recommend artists similar to rihanna solve the calculation what kind of free activities can i do locally this week what color are chairs please make the lights reading friendly show me the exchange rate between czk and dollar olly what is the definition of the word snafu do i need to wear sunscreen today do not forget about meeting reveca today at six p m do i have anything scheduled for one p m next monday has the weather changed for wednesday at all please give me information on michael jackson searching for recent happenings on the particular dates add event to calendar set a reminder for my meeting today add that song to my playlist provide me with the news about iphone write this message to the coworker group tell me my lists could you explain the meaning of exorbitant for me please emails tell me a dirty joke please add superbowl to calendar remember me my child is birthday how many minutes pass four p m what is the currency exchange rate for china i will require full cover jacket if it is too stormy in evening add to my calendar mom is fashion dinner for may fifth just let me know the area of the asian continent is there is a high traffic how far in steps is home from here please play some lady gaga please mute the volume control show me recent news on particular subject do they have take-out stop the audio what are the things make a woman happy search for the latest news about iphone tell me how are the results of assembly elections in delhi going to come out please start my podcast how many new emails do i have play rock music please erase all events on the calendar switch to los angeles time should i close the window before i leave this afternoon can i tell you about my day any new podcasts available yet play news in f m i want to listen to n p r in the living room mileage of b m w cars make a repeating reminder for my yoga practice every day at noon call domino is pizza send email to tim review latest movies what is on my list remind me after ten minutes do i require a winter jacket this am do you know about this lyrics train times for tomorrow when was born abraham lincoln can you update my facebook profile picture to the image i took from google office yesterday has my calendar been updated in the last ten minutes are there any local events being put on tonight olly play next recording do you recommend an umbrellas add diapers in cosmetic list olly i had the worst day ever today play all songs from playlist favorite tweet complain about service a what hour is it in new york now siri what is one american dollar in japanese yen send that what is the largest desk please play this playback on audiobook do i have any emails from jessica what do i have scheduled today at eleven am tomorrow remind me of my three p m meeting who mailed me yesterday add grocery to list send me a wake up alert at seven am tomorrow morning all new email messages open meeting time look up next week weather for me please i want to play rock paper scissors let is play show emails about contract add to calendar new event thanksgiving please remind me my doctor appointment on thirteenth july what events do i have planned for the next two weeks notify me the day before the horse race at santa anita on march seventh what is the value of apple how many alarms do i have set for morning hours between six and nine am show future events i am no longer attending the wedding on the tenth so remove it from my calendar pull up all emails sent to me from amazon please set my coffee machine to start at four p m time cancel medical engagements this weekend please tell me what is the election result today happened which country would end up converting the most money out of a thousand dollars us compare the stock prices for nintendo and sony and tell me which ones are better play me harry potter from the place i last stopped listening on by switch off complain to the d m v office about the excessively long line how many reminders are there for tomorrow delete alarm hot news which is the next event coming up what is my afternoon schedule tomorrow set brightness to fifty percent please quiet the speaker i want to listen to nine hundred and forty one please schedule a meeting event in my calendar do i have any email from work what does priyanka chopra do to look beautiful tell me when there is new news about donald trump what can you do how did your day go open the list when does the closest bar close give me today is calendar events after six p m delete meeting scheduled with john on twenty one march where can i buy a switch can you confirm that my meeting for tomorrow has been canceled start the radio now are there any upcoming concerts by new notification for meeting in two hours what alarms have been set for me what time is it in central time zone call the nearest pizza place that offers buffalo pizza add an event labeled dan is graduation party may fifth in goshen remind me about my schedule for the afternoon what is happening in the news traffic congestion issues how old is david bowie can you tell me about today bring up a recipe for turkey meatballs get me a uber i intended to do it what does one plus olly please tweet a complaint about a store i visit how do i make a pizza remember how i rate this song what is the longest day of the year sad what is mary s is birthday create event with alarm for meeting in two hours remind me to meet sarah at safeway in mckinleyville california at noon what time is the function of the play joy in broadway theater today i need a reminder for tomorrow for joe is party after work set to mute is it hot outside right now i am hawaii put on some techno music please replay the song what is computer game we need milk money exchange get me a ride to hospital create a list that is available how do i reach sarah what is the weather like today play some blues by atif aslam tell me what is currently trending save to contacts book for me a train ticket to california what are the effects which will cause when america splits in to three post that i am going to mcdonalds at manhattan i need directions to madison street set wake up thursday seven am search to find current local time and time zone tell me current situation of traffic near central park road play the last podcast i listened to explain to me the dark matter theory and show my its applications play latest reason podcast what are my plans for today please turn on the lights is the farmers market open this weekend in iowa give me the newest new york times now what siri what does obstacle mean remind find the list you want to delete what emails did i get yesterday set an alarm for four p m tuesday add this email address to my contacts and send an email to how many emails today do you have a boyfriend tell me comparison between trump and putin draw how do i make meatloaf turn up speakers send reply to joe cancel my plans to pick up my parents from the airport do you know math what are the chances of the stock market closing below the two hundred moving average in the next fourteen days tell me about the latest events going around my city how do i get from my house to the target along i forty show me weather list for tomorrow turn to billy bob show i need to know what is the date today start radio and go to frequency on one thousand and forty eight what are the current lists i have have i received any emails from my mother silent what kind of lists do i have tweet british airways that my last flight from chicago to london was delayed set the color of light to red olly compare the stock prices for nintendo and sony and tell me which ones are better turn my plug on reply to the email from my bank and inform them that i have paid the credit card dues hey hey i am going to the oar concert in paris on march twenty four does bob live in france i want the light to be switched off resume audiobook please please play justin bieber album who is the governor of new york please create an event with only these people what is a romantic meal for my girlfriend tell me how to make tacos how much snow has fallen in maine since yesterday book a train ticket weekend of the twenty sixth phoenix to los angeles enter event for mondays only delete the last phrase when am i busy this month remove all data from my calendar put on the next song in five minutes play music by queen set reminder to pick up kids on weekdays at three p m i need some ideas for dinner that are mexican delete the dentist appointment next week please play top country olly how much time to cook pasta tell me about things to do in london mute the audio what is new with the stock market check the status of my power usage tell me the current time in ottawa where should i take my wife for dinner tonight please reduce the sound remind me to go to bed before one am everyday play over the rainbow please check my reminders set reminder at what is the average price of a house in michigan check for all the movie theater prices and availability for a newly released movie in my location tell exchange rate of pound what is the financial capital of canada how old is cher tell me the song track please reserve the next taxi a nine am look up contacts please say to the email that sent me george i need the money now its urgent will it be cold tomorrow made media volume louder is emma stone single change this song to the first place tweet at turn off wemo plug in game room i would like to know her history tweet to the customer service account of starbucks how is weather in new york city who is the artist of the current playing song how do i duct tape a gooseto apig please define word open radio how is my commute knock knock what are you play the fifty songs i listen to most often i would like to know the traffic condition what is the mass of a microwave what is the definition of a home run add to calendar october first at two p m lunch with ann latest news feed from facebook tell me the name of the song who is arnold schwarzenegger give me train times from station to location what day of the week is valentine is on how have megatel shares done last week what is the definition of problematic play ipl two thousand and seventeen who covered the song one more cup of coffee what is infinity i want a train ticket to oregon i will need my filter coffee in ten minutes please ask the coffee maker accordingly what is the exchange rate between us and france play my country playlist am i going to need to put on sunscreen lotion today crockpot recipe for chicken alfredo check celebrity wiki start the coffee machine at three show me my social media notifications how can i cook meal i would like to listen to my favorite morning show in the car on the way to work please create vacation list have i received any emails from beth i would like to set a date for this week can you tell me the current traffic condition of my location give me the stock price of sony activate the roomba repeat this song porn jonathan wants to meet up sundays at eleven can you remind me saturday night every week robotics play i love you and then next happy can you please tell me the time what is happening to my order put on the screen the lists i have available how many oceans are there what is the weather supposed to be like this week olly set meeting at seven p m what is the current traffic in washington town remove the event off the calendar turn the lights on party mode how many kilometers did i walk today what is on this specific list open alarm get louder how far does my dollar go in japan is this my sisters cell phone number olly i had a great day today what is the us dollar equivalent of one euro open the radio app what is the exchange rates in this region olly trending hot news topics lower the volume please how long should you cook a whole chicken in a three hundred and seventy five degree oven hey olly what is on the radio right now check on this week is weather report what is the forecast for saturday make that song play next up what is the recipe for fried chicken what does rice wine go with i would love to hear more songs by that artist what year did this song come out turn off the smart plug just delete the next engagement event meaning of enthusiastic play papa pear saga have you heard any good music lately gather all my songs from madonna play electronic dance music after this one most rated delivery options for chinese food show todays news about migration what time is the earliest train to glasgow give me some good sounds is the weather supposed to be nice today tweet google customer service their products are inferior b b c news world news in this country what is the exchange rate what shops are near me stock rate of facebook by proper formula when will mankind reach the singularity are you aware this joke new reminder at three p m clear future event stocks f flat get me to alarm setting initiate celine dion music alexa what is on my calendar for today tweet consumer service define what a wizard is pull up the headlines please how many phone numbers do i have for brenden stop play check for me new emails received from peter how you will define religion tell me if taco bell delivers alexa i want to check julia is available dates so would you send her mail and ask about it play pop songs how many times has adel gone diamond please play my nineties rap hits i want hot coffee any recent news about north korea can you get me a cup of coffee save this song in my favorites delete the scheduled meeting on fourth october twelve p m how crowded is los angeles how can i make your day a little better should i wear rain boots please pull up the email that was sent this morning at ten am any festivals in town at this time or in the coming week did the boss send anything nobody knows exchange rate of euro with dollar send an email to my supervisor is it currently snowing i want to listen some music play a radio station how much sugar goes in sweet tea add appointment in the list what is the tallest mountain start a new grocery list please give me address of salman khan apartment read available lists tell me when the event starts remove my meeting today at one p m alexa add jpearsonjessica at gmail dot com to email contacts how hot is it outside math courses search for nearby chinese restaurants play last libertarian podcast call a car for me take me to the next episode if her story i would like to listen to hear a music of dance and country what is definition of plot please purchase a amtrak ticket from las vegas nevada to lakeland florida leaving on the first of april alexa state the weather in our city clear all my calendar events what will the weather conditions of lucknow on ninth february two thousand and seventeen please provide world hot news can you send a tweet to lif saying that their app crashed how long is the nile river you like the song please turn on my music what does situation mean let me know about the alarms you set can you turn on the wemo plug socket given me the exchange rates between u s d and inr find easy recipe for almond milk what is a parsec find me the earliest train ticket departing friday morning to miami give me the latest news ok google what is a president is it hot outside recent tech headlines is tonight the full moon wake up olly raise a tweet on consumer please open chess game i would like to play with you switch the lights off what day of the week is it olly what is hot social media topics headlines from b b c world please remind me at clock check email and what is the latest subject i want to tweet a complaint to target tell me the time in g m t plus five please tell me where i can get a drink nearby after midnight let me know if i get a new email today hey siri give me a list of nearby shops for how many years was abraham lincoln president of united states read me new headlines is my calendar free for four p m today how do i set my coffee machine to make coffee what should i cook tonight give me the information of today is cricket match what is my list check latest news find me someone enter new address in email form please mute for five minutes delete everything from my calendar tell me the weather in miami florida start coffee what day is it on fifth december remove all scheduled terawatts meetings from the calendar please remove a list of food items purchased last week show stock of goog please create new list what is the capital of kazakhstan get yourself muted turn on the vacuum now give me dark make a playlist of motivational songs that can boost my morale while running and jogging and play them turn off the bedroom lamp my day was hectic i have a function at washington tomorrow remind it where can i find a preparation professional for under dollars just let me know the current date today which song is this what is on the list make a repeating reminder for this calendar event send an email to my brother and say wedding anniversary i have a date with the world bank group on the twenty eighth please remind me you will never guess what happened earlier today please tell me the latest news about the election scenario in our state what are the new rock radio stations turn the lights off in the living room is my calendar empty hey what sapp about cricket jump to eight twenty remind me an hour before my next work meeting order some fried chicken from church is chicken via grubhub what is the weather in columbus remember that i need to turn in my math assignment tonight by eleven in delhi traffic level is more read out my list open my list check for new email how is traffic favorite foke get me to the nearest train station what day of the week is the twenty second march google music find me some enya to listen to what is happening in milwaukee today what is the stock value of google today is news what is the prevailing exchange rate us versus indian rupees tell me about the news my party planning it was a cool day turn the lights blue at three p m play my playlist olly let is listen to hunt for read october ok google tweet mcdonald is down reseda has terrible service delete my list do i have free time this weekend please show me best run program in jodhpur draft response to john is email hi can you please turn lower the lights which part of the country has tropical forest when is the next touring current politics play the song title what time is it in that city when is taco bell going to arrive i went to the park play music from a given artist play previous episode go back to previous episode of podcast what is the current stock price for hasbro please turn on the radio is the weather cloudy tonight tell me what is trending on twitter can i pick up my large order at pizza hut what is the time in perth do i have new email from work since yesterday what is on for this week pawel prepare the meeting with john tell me about michael jackson how is the weather where i am decrease the volume just idle chit chat what are all the upcoming events book for me an uber taxi to carmen drive remind me tomorrow at four about an event olly pinpoint me the location of the shop ok google lower all volume on speakers please do i have any new friend requests turn off my desk lamp please turn down the lights list albums of rihana resume harry potter book four what is the time difference between here and dakar this song is too good what do you want to do today play outside give me a three day notification before my chemistry exam please reserve train tickets tell me how the world began switch on radio mango i am exhausted from work mention event in calendar with others which day will be rainy in this week remember what i think about this song tell me a joke twenty ninth march comes on what day can you place the sound on mute please tweet that directv has horrible customer service what is the best tasting cut of beef olly book me a ticket to paris on eurostar this weekend tell me speed to go sun what is twenty percent of one hundred and twenty play walking list show me my new emails what is up with this yellow light get some white up in here olly can we listen to reply all podcast tell me the latest stock of pepsi please show me detail of previous played song pull up my c n n app and read it to me find map am i going to bring umbrella later my this song for me latest news how many canadian dollars are in a u s dollar reply with thanks confirm alarm for tomorrow morning what us state is farthest north what are my current list how old is kim kardashian is it raining tonight calendar up when is my financial meeting on friday check to see if i have new emails please what is my schedule for the day where is raleigh what events are this week when is the next train to london should i watch this movie what does tense mean where is india located how long until my next doctor appointment remind me to take my medicine at nine am cancel all meetings for today play playlist one play music that i like erase all the events in the calendar is this program is scheduled origin of word what is the highest temperature of delhi order pizza from domino is hey olly order me some take out from jason is deli put shoes on my list skip remind me of mondays meeting play my jazz playlist delete event i need to add bananas to my grocery list create repeating event john is birthday on calendar compare more of countries when is the event going to start how much is one plus one what is the current temperature in austin open song name show me best in class theater please set alarm for today play for me the game harry potter and the chamber of secrets what is going on between three hundred and thirty and four remind me tomorrow at two p m a step by step guide for how to save music continue pride and prejudice tweet at united airlines i am angry you lost my bags find the meaning mark on my calendar can you play kxly for me can you suggest a good drama for me to watch please have vacuum go for one hour what is the event name going in me area pull up the shopping list olly is a dollar worth more or less in brazil listen to sports talk bring me the latest tech news is a peso worth more than a dollar save my opinion on the currently playing song what is the weather this week for miami hey siri clear all my calendar appoints for today start from last time on my audio book what time is my wake up alarm set for send email to grandma subject saturday message we are dropping by on saturday see you then send email to new contact play me some hihop find me a joke related to baseball list lists never ever play me any country what is garam masala update my list with shoes can you please book a train ticket for next saturday to boston hey olly what will the weather be like to today in los angeles california modify the light colors of the house and make them dark instead go to my gmail and click on compose when finished i will tell you what i want to write in the email what is the closing price of a b c given me the exchange rates between u s d and cad hey olly how is it going show me all scheduled alarms i need to know what time it is right now in new york city what is the history of smart phones tell me more about john smith how latest news i want to send an email to my family do you help me when did the statue of liberty made did the stock prices of google go up or down church with mom and dad on sunday humor me what time is my appointment tomorrow hey what time is it in dallas texas go to the next episode in this podcast i enjoy music tallest building can you reserve a ticket to grand rapids by train what are some updates about the stock market raise the volume to sixty jobs in my area for my skill set i occasionally pay attention book ola cab for now delete the shopping trip i have scheduled march twenty third current news erase next calendar event what is the highest rated joke today i want to see news about politics please find me the p e most recent news on set alarm of every tuesday of march month morning eight am send me the stock market updates for today open clock are the streets congested right now send a tweet hey olly order two wings with french fries from the chinese food store volume louder softer hey check email schedule a meeting with ri on april first at ten am olly will it rain on saturday i really enjoy rock and roll weather this week hey olly have you heard any funny jokes lately tune best topic please turn off the lights in bedroom read me the latest international news do i have any unread emails add doctor rosenstock as an email contact remove tuesday alarm of nine am how do i steam rice how tall is madonna what time is it in des moines let is just skip appointment at time who is celebrity send email to marissa good night find a non stop train to seattle tell me the highest mountain in the world play playlist workout play the newest morning show podcast list the twenty most repeated songs how old is dolly parton re add eggs to the list tell me starting phrase of this music schedule an uber in twenty minutes to tesco on fifth street journal entry for today what is the best podcast can you open my itunes should i bring a jacket with me tonight what are the breaking news how many kilometers are in a mile the list contain what i am bored play a game pause the audiobook can you play me a rap song on the radio where can i get something to eat by the art museum remove my wake up alarm what are the definitions of orange olly what is this playing right now what color is a basketball i like it artificial intelligence may i have a list of five star hotels in paris who has sent me an email in the past week play my spotify dance play list is the weekend going to be nice what alarms do i have set right now what is the longest river in spain play radio music movie times tonight send a reply to robert for his email received today morning what day is it how about a nice game of chess switch off kitchen lights when is the next train leaving for austin start a game and play with me exchange rate with these currencies are there any construction areas on harvard remove noodles from the list you are too loud give me the definition of school someone play the radio show meetings lower lights is there any traffic to work what are some recent emails in my inbox please can you keep secrets find out if kfc delivers please set alarm six am i want to listen to the rap station favorite does this restaurant have takeaway nobody knows by pink set me a reminder for the get together with the women is club on sunday after church what is the time now what day this year has the longest daylight time tell me the info about india is geography please set a notification on twenty third october about meeting with my colleague the event will include walter and gemma can you please download my podcast file available in internet and play it once give me today is market trends for panasonic save that song and my opinion turn the lights on did bert write me today do i have a meeting tomorrow look for irene and play it change your colors to something different what has trump done now is there any grocery nearby hey turn off the light please can you turn on the vacuum is the largest ocean in the world the pacific what will the weather be on the seventh i got promoted today it feels so good call yellow cab send email to new email address get set need me music track order the best priced general tofu in nyack remove milk from my grocery list what time is it in dooa could you play you do not bring me flowers its sunny today what is going on in politics where is the food festival tonight can we play twenty questions tell me more about the show you should know about what is on november twenty is there any rap that does not involve sex money and drugs may i ask you to add a new event to my calendar can you provide me with the contact information assigned to this person please play jingle bells in media folder add shoes to my list one plus two equal i want the light in the kitchen powered off what movies are playing tonight at nine p m at the amc nine draft an email to kailey about work later turn off all alarms delete all of my appointments with doctor smith this week play the radio station remove events from my list what does speaker mean tell me a random trivia get me match highlights what is the current time in boston remind me tomorrow morning of my schedules for tuesday please organize a meeting with my company workers please play me my latin music playlist hey can you check my email and see if there are any new messages how to make taco show me the name of the song playing right now do not play this song again tell me the definition of arrow when does the next train traveling the city leave here order from dominoes what is my schedule like today i have got an important meeting this sunday noon two hundred p m do not forget to remind me turn off do you want to play a game how expensive is google stock new meeting add bill and malinda as attendees nighttime mode train wreck check the status of my order how many likes did i get today what day does halloween fall on this year fix the driving route from here to grant market i got loads of sleep today when is my alarm set for play me something pop weather like on my sisters birthday send her flowers what is the population of florida olly please make me a cup of coffee can you see if john has replied to my email yet post this picture on twitter schedule an alarm to wake me up after three hours google home when can i expect my chinese take-out from fortune garden is there a need for sun glasses search next station repeat the music tell me what lists i currently have olly go to the next episode of the united states of anxiety podcast can you remind me to go to the corner store on tuesday why are whales big olly what is the weather forecast for today please check for recent emailstudy from this sender add an event how many euros are in a dollar what is this week is weather forecast should i wear a jacket today find the exact location of the places activate robot vacuum can you get me news from ny times please resume my audiobook play me the new podcast from n p r i need an alarm set for five hundred and thirty am tomorrow are there any events coming up erase that from my calendar what is a mango open jokes remind me if anything else happens please play songs i have purchased and favorited show me one week weather of mumbai post to twitter trump is such an ass turn on the wemo plug socket to connect my charger to it update my calendar and delete next event i want a reminder that repeats every week olly name me some current events in the bay area what do you think about future send a tweet to at modcloth that i do not like that they would not honor sales prices for me prepare a reply email to mark what time will my alarm wake me up do you have feelings any cultural events in california how is the news in ireland sent complaint to twitter at wake me up every weekday at seven am what time am i supposed to pick up john again what is the current weather in new york city turn the wemo off where can i book a train ticket to oregon ok google what happened to katy perry i have my lists right what are they play britney spears crazy does my company worker have a home phone number remind to at eight p m to take my medicine turn the volume down forward email address to my new email olly open pandora app resume harry potter book one what shape is a ball save appointment to list what does session mean anything else left on the list meeting please set reminder please change the color of my lights surprise me what is the square root of ninety seven add a five am alarm in place of my nine p m alarm west side races tell me the time in this time zone where do i get my pet fixed shutoff light in the kitchen do i have any new emails where is the acme meeting being held on friday could you speak a little more softly what is the home city of the bolshoi theater how cold will it get each night this week remind me to take out the garbage at six p m save the new list here is the truth about meals on wheels in someone is budget do i have the address for the apple store in my contacts find a ride to the bar turn up the volume on my speakers how do i figure women out its raining turn down the noise that background song is terrible i want to take a trip to switzerland for free can you take me there what is the best chocolate chip cookie recipe please slow down volume of speaker play new songs by barenaked ladies how to spell the word giraffe turn off the kitchen lights play song by frubs artist train times tell me who the thirty second president is remember that i do not like this music could you please confirm if paradise does takeaway has any mail received with an attachment add note that my day is going well what is john is last name create reminder for laundry at eight p m play a program about crime in dallas area remind me to call the bank next thursday play my rock station on pandora can you look up train ticket prices for me what appointments do i have between one p m till three p m quieter turn all the lights off next thursday i need to be reminded to call the bank how to make a burger which store is got the cheapest three pound beef rump can you turn up the lights please set the brightness of lightness appropriately in kitchen play a talk program about child care what time is it on the west coast let is play our favorite football match on t v show me the recipe of tandoori chicken set an office meeting reminder for the next three days set my alarm for tuesday at six p m kindly switch off the light in the drawing hall the weather updated to the using seconds per bit weatherit either updates forecasts from intellicast or weathercom both rather poor for my site will the temperature be in the today how high is this mountain could you find a train back home at around seven p m select rai music file what will be the weather on monday this week lower all volume on speakers please i have a event clock remind me please list all my alarms shuffle this playlist google find the new email address for bill that i added friday is it going to be cloudy in london during the weekend is it supposed to rain tonight remove frida from contacts next podcast turn on the smart charger who was john dillinger what is the weight of an elephant notify me about any festival occurring next month brighten lights in living room what is going on lately with the europe find my thai takeaways around grassmarket meeting july calendar set a reminder to happy thing every two days would you play some music please create a notification reminder for meeting tomorrow what is the latest joke please book me a taxi uber history of person remove the list of apps which started with letter a play football match for myself now alert me when my anniversary is did you meet her myspace turn on my alarm resume the song from the audiobook by madonna please continue playing odd thomas by dean koontz any free events in la today what are amd stock prices how old is rue mcclanahan can you play me some skramz how does an elephant looks like i could not hear you repeat that louder change the lights in my home to orange send email to enalen i am going to send the files the next day assistant shuffle entire library tvs stock price what is the exchange rate between the dollar and the yen could you fix me some coffee siri open twitter tweet at flooringco your carpet seams are showing in less than a month good morning olly delete all appointments for tomorrow use facebook to post i want to listen to a joke when is it describe the general topography of central park who do i have a meeting with on january nineteenth in the afternoon do i have any emails from hongbin please set the lighting suitable for reading open pandora and play hoizer radio add that song to my top ten favorites list what year was bill pullman born schedule a lunch meeting with brent on wednesday at noon how do you cook black eye pea please negative response tweet on daikin service buy me a train ticket i want to hear i got you babe by sonny and cher can you play that what is the story of the movie titanic i would like to hear some levin what movies has emma watson acted in clear my schedule play music from my favorite artist give me my social media update remind the required events to be reset olly where did the first americans settle what are my reminders for this month olly tell me about my events when does the next train to work leave why did gotse shoot mahatma gandhi what on my calendar search news about a celebrity i want to go to the outdoor movie screening this weekend remind me i like my robot to show me images or graphics add spent five dollars in my expenses list alexa play pdr on the am band radio send email to daddy i will be going to the birthday party does spain share its border with morrocco tell me what time it is what is coral made of remind me to buy a gift once in morning and once in evening my list should be ready mind telling me what is on there what is the geology of this location what unread emails do i have set reminder at three p m it seems cold olly what movies are playing right now selection of restaurants give an entry to this list remove the list of things to do start playing what is the current time in new york make a note of this on the list could you please send an email to my husband shut off the lights in the kitchen tell me about sean connery keep playing secret garden what is jimmy johns is corporate number i want to see the twitter handler of samsung delete all read s m s from s m s list book a train ticket to canada this evening when is the best time to shop at target so that i do not have to deal with a lot of people tweet consumer service about their dirty area show me the best podcast of rock songs having good rating play for me the music by madonna play the song doggy style in continuous mode favorite music what is the latest news for fashion recent particular subject news do i need to wear some warm clothes today remember that this song is good but too slow to exercise to please dim the lights please add shopping at mall on twenty six march at twelve p m which type of music it is can you please advise order me chinese food java instagram is there a contact named allen in my list save this song to playlist what do you know about mary list college sports for tomorrow in tulsa make a note on my to do list to call the realtor play a news radio station hey siri what time is it please delete everything from my calendar who is singing what time does the zach brown concert on june third begin alexa do all my chores so i can take a nap change my plan erase my next event meeting reminder describe scheduled events have i set any alarms in the morning is there anything i need to know before i activate the robot vacuum cleaner set a reminder for gymnastics every wednesday at three please play the latest song from the album abbas skip to the next episode play my favorites make this email a new contact what is the square root of thirty four how many contacts do i have in my phone book play favorited podcasts on fishing i need to get a ticket via train to orlando from hwood i finished my to do list i need this email sent now send me all the info for the houston texans draft please be sure to remind me of this add a party tonight in my remainder is traffic to work clear do i have a date friday new email the capital of nigeria is what show me the most recent emails olly i had a long hard day delete that item from my list who is the singer of song how many inches are in a foot play enrique play r & b music delete any and all events where is fallout boy performing next olly what day of the week is halloween what is the time in hyderabad if i could go anywhere in the world where should i travel is there valet service at the event do i have anything set for the fourth of july this year become a helicopter download and save song of dangal movie start playlist play chess please tell me the name of this band what is the difference between yesterday is and today is stock prices for walmart how many calories did i burn with my fifty minutes of yoga post hey everyone on facebook contacts please what time does the match start remind me of my dentist appointment the night before please respond to greg is email stating that his idea is fantastic hey olly inform me about latest picture updated by priya chopra on instagram notify me in fifteen before meeting starts set my calendar to remind me to buy groceries every friday where is justin beiber from what do you suggest that i watch this weekend get me a recipe for cookies read my unread emails what is the status on my latest order is the pound up or down against the dollar i need the details about my next schedule should i wear sandals or shoes with socks how free am i this week do i have any events today let me know as soon as there is more news on brexit schedule could you tell me what time it is inform me on the items on the list what is the weather like outside it is cloudy remind me for tomorrow interview play lady by kenny rogers now is my alarm set for seven am high stock price on what date is easter this year how many notifications do i have on facebook michael jackson family background i do not want to hear any more songs of that type are there any emails in regard to my promotion i want to see all set alarms restaurant delivery update how do i roll sushi can i wear shorts today what is happening around me remove my work alarm let me know the time in india hey make sure i go to sarahs birthday party on the twelveth i am gonna need an umbrella today after sunset how are you doing today what are the upcoming reminders i want you to play the podcast is it gonna snow tell me about activities in my area this weekend remind me the meeting with allen on fifteenth march book a taxi for pickup at my current location in one hour is time can you please put the vacuum on i want to hear the radio i want to listen to treasure island by robert louis stevenson olly edit list remove the grocery list this product never use ingredients needed at grocery store play giants by banks and steelz play favorite music google calendar please put my birthday party on the calendar what can you tell me about the dance on friday hey send email to john explain how u s a social status differs from the one in the u k now and in the past what day is memorial day this year can you tweet a complaint to the furniture store customer service olly what movies are playing at carmike cinemas remove my eight p m alarm and set it to seven p m am i booked for something have i got any new email from my company please turn off the wemo plug remove tonights dinner with shelly please send an email to uncle john with the following yes i can make it how much is the dollar verus the pound remind me two days before my wife birthday tell me about this week is weather i wish to know the weather in san fransico change my room lights to blue play hip hop music weather san antonio texas rap tune in to n p r please change the volume to mute what day of the week is june twenty seventh on this year show all the received emails recently with time stamp update me with the election results who is going to win the next elections in the france what temperature should a baked chicken be play my favorite song of last year is it raining now play for me music by madonna current time in london please play a song by bruno mars show local events near me how cold is it i want to hear limelight by rush play the most recent podcast for this american life i need to something every monday set a reminder for it play snake with me what is today is exact date go to the next event in the calendar and delete it most viewed list define the word absolute is today is date the ninth remove my dinner event for monday turn on this socket what are my new emails shall i get an umbrella tomorrow i want to order a takeaway from papa john is anything new tell me the email address for aunt ruth can you describe a credit card delete the next wedding event have halifax shares gone up today be my clock i need an alarm for sunday at eight am can you please set one for me remind me of meeting time at seven p m next monday vacuum start search nandy i need to reply to this email its not possible switch the light off in bedroom drop a message to jan write i will be late just how bad is traffic on my commute ask a shopping malls in me area i want to hear yesterday is podcast from my favorite channel change the genre from rock to classic mark first january as new year event for every day open hershey twitter what is the traffic like today place a takeaway order for a cheeseburger and fries from burger king what is this music called please play shake it off by taylor swiftm stop the music tell me the time in canberra play next what events do i have for this coming week how many unread messages have i got any event message is available in last two days olly what does snafu mean play song alexa provide me the alarm times you have set list events around ny turn off lights in all bathrooms is today march sixth send an email to my wife about next week weather is it a rainy and stormy day please access g p s to direct me what is burmuda tiangle alexa i would like to have a sushi can you order me a lunch i would like to start a new list can you turn off the smart socket ask your network reduce light intensity do i have any incoming emails play a mi song of rap and rock one after the other please turn off right side of light are there new emails for me post to twitter got a hectic day ahead what is happening with president trump open my twitter account and tell sams club they made my cake order delicious new tweet show me current exchange rate between euros and other currencies how strong is the dollar compared to the peso show me recently added events show me what lists are available can you turn on the radio are there any events going on close by what is the word orange mean nano technology is there an alarm at four am what has happened recently in the world i need to see if i got any new email please remove my alarm can you please check my gmail for new messages what is channing tatum is birthday i have not checked my facebook yet are there any updates from my close friends let me hear my list i have all details about pda is exchange rate of yan with dollar define the moon for me his hardword is properly quead send a message on facebook to pending friend requests that my friend list is full and i will be creating a new profile soon which country is have a border to india please give height of lindsey lohan what else is on my calendar after my last meeting at two p m play song from my trance list any good movies play the music what is the current time in eastern standard let is hear some country and western not from the us i need some ambiance please where seth lives i was chased by a dog what movies are playing nearby how is the traffic on i twenty five play you are my sunshine please post a status on twitter say email happy new year to john remove the concert from the calendar events i do not know how to answer this question you left a word or two out do i have any reminders on my list do i have a party tomorrow save on my calendar play for me the music by michael jackson happy please draft an email to shaun requesting sunday is off for the next schedule how this song olly i want blue lighting turn up the lights in here please i want to clean my bedroom put the vacuum on and go to my room switch to night light setting what is the weather today how tall is frank goggins j take off this list please turn down the lights in the living room turn cleaner robot on i need to set reminder on fifteenth march call me an uber for right now set an alarm for eight p m please tell me what the world news headlines are play maroon five playlist i need to have better focus olky i could not concentrate on a single task how do you make vegetarian lasagna delete that item blue lights please what is the latest news on the health care reform play my current playlist from top play my most watched podcast clear my schedule for today hi google please cancel all the programs for friday do i have an appointment next wednesday at two what is the temperature outside if there is event of show then remove it how many text messages has john smith sent me in the last twelve months what is happening in france today turn off the six am alarm for wednesday set an alarm for this eight hundred p m this evening front page news articles please please email to my wife about next week weather i need to know the time right now what is it how is the new movie swat set my alarm for six am knowledge about food processing play the pre gaming playlist do i need a jacket today how much does stock cost in walmart internet please who is janet jackson currently dating or married to clean the sofa with the vacuum cleaner can we play a game of hangman remember this music hey siri make sure my calendar is completely clear tomorrow tell me about barack obama resume play on my most recent audiobook selection provide what is there on the list are there any new snapchats what is program for today weather in florida this week what reminders do i have pending how warm is it right now outside set a birthday event for martin search for podcasts that cover men is issues post my latest entry to twitter at nsa if my vacuum cleaner is not activated please activate it is on eighth november there is monday or some other day auto lock the house after two and half hours tell me the preparation method for chicken sixty five i want to know today is weather reduce volume unread emails i wish it could give me advice get me takeaway food what meetings do i have between eight ten today have i got any alarms set please tell me if there will be sun with no clouds on friday of this week play my midnight love playlist show me timetables for trains going from prague to brno what is the weather right now outside send a replay email do i have any recent emails from my contact favorites play it louder give me a days notice before my next meeting find naty from my contacts and send her an email what is the current time in orlando floor tune in to ryan seacrest on the living room radio find jokes on the web how do you think the world ends tune me song in radio what is going on around me what time is my doctor appointment on march thirty first hey please reply to last pawel is email show me how to cook lasagna i want to hear song cancel my eight o'clock meeting tomorrow does restaurant has home delivery how many pending reminders do i have find and read to me world events happening today show conversion rate of u s d and euro who is the singer of hotel california how much is b p in u s d answer this question what is the first boss in super mario brothers currency exchange rate can i have the ten day forecast for me area remove my earliest alarm for tomorrow what is a stock price of tata define a stronomy what is happening in the world today please remind me to pickup john at school today at one p m what road is longest what is my event schedule tomorrow tell me about donald trumps early life what is the exchange rate between u s d and inr set aside this day for this calendar event what was the temperature when i was in the park what is traffic did the yankees win last night how many subscriber does captain disillusion have what clothes store would you recommend here i need you to put walk the dog on my list to do i have heard this riff before what song stole this riff it is exactly the same delete the following list play stuff you should know what is a movie like star wars remove all alarm of sunday i want to mute the speaker lower the lights in the living room give me information about this song tweet my complaint to at nsa please open the news app play anything by cat stevens and i will be happy when is the next train to glasgow from aberdeen make the room light blue i need something fun to do this weekend nearby can you give me ideas show me the list of alarms what is five over three where is hallway list the lists i have make a new contact with this email give me some lavender toned light remind me about the meeting with dentist on the twenty third of may what is the weather for my location this week what is todays weather forecast tell me current events between yesterday and this morning let me know when my phone is due help me to mute my speaker play coldplay album meaning of name is there any chances of rain this week how busy am i this week did paok won liverpool start the smart plug what is the weather in zip code thirty two thousand two hundred and thirty four start the robot roomba olly what is playing in the roosendaal cinema will there be a farmers market in the area this weekend i would like to know if in math operations is calculated before the addition subtraction multiply or division google the word how is the weather in orlando what is the closing price of apple is yellowstone park the largest park could you delete all events on my calendar order a meal from a nice restaurant what time is my project meeting at what is the definition of indignation post a tweet as follows very bad follow up by a b c company not satisfied in my account california what is the forecast i want to play a game with you what time is it in boston hot topic what events are coming up what is now stock price of tata get me some latte please book me an uber ride to go home what meetings occurred between january one and january twelve daily news from source can you get me the route to chicago before midnight please make the lights watching friendly carlos linux upgrade email could you please display the videos for cooking italian food turn off the room light put on be warned by tech nine i had a lot of meetings today to compare in people remove alarm of seven thirty am on monday how do i cook chicken alfredo what is mondays actual date where is laos located play imagine dragons turn the lights down to seven set an event for friday send a hi to what time is friday is doctor is appointment play the song major tom by david bowie olly submit a negative review about a company what new movie is jennifer lawrence working on free up my schedule for the next week should i wear galoshes today write in my calendar i have a event for next friday send an email to adele tell me about oldest reminder is this event date right remove lunch with company workers on thursday it is time for junk food what will be the weather day after add a item what is my age i heard ale just got married can you please show me the wedding pictures on their instagram how large is alaska what is the weather right now alexa amd is current stock prices play my favorite podcast please take out the milk from the shopping list did i remember to set a reminder alarm for my next doctor is appointment do you know the definition of school i need the arrival time for new york train call the phone number respond to graham and let him know that i will be free tomorrow what is the recipe for pasta sauce reset alarm what is laptop play romantic playlist add my upcoming meeting to my calendar what alarms are coming up can you order me a pizza today from dominoes please mute the sound please remove dinner date scheduled for this friday at nine p m i want to hear snow by red hot chili peppers how can i contact this person i do not like it can you tell me the exchange rate for canadian currency convert czk to euro how people are thinking in such a manner that they can hide everything from god does mary smith live on main street alert me when registration opens what is the weather today what is the traffic like right now what is the best mexican restaurant in seattle is the thanks giving event on fourteenth of this month true check the dish price and all set rotating event i need you to find a good channels to listen to show me the alarms i have set shoutcast dot com tell me about it ask a pub in my area find the events lower the lights what is the weather forecast for chicago please change light color to purple start radio hey what time is it in london now find recipe chicken casserole is the alarm to the backdoor set and ready to go look up the definition to ambulance could you give me the exact rate for dow nifty futures have any emails come in since four hundred today practical driving assessment check for any new emails google write this complaint to comcasts customer service twitter do i have any reminders set could you please yell the answer out to me reply to mark is email where in the world is lyon explain to fellow tweeters how horrible their customer service is at the local store my lists could you please play the f m radio of one station for me what is the time in beijing what is the time difference between here and japan clear all events in calendar for march please check new email from andy did i receive any new email from robert replay the following podcast hey olly clear all my calendar appoints for today let is hear some indie rock okay how long was bryan cranston on breaking bad how is the weather turn off light send an email to peter that where he is now and if he is at the market text him to bring some wine book a cab in the evening for me should i wear a jacket to work tell me the most strange thing happening in the world today check if i need umbrella now set alarm reminder for calendar what is the capital of maryland i want to know the news form miami herald olly today i had a record breaking sale remove pepper from my grocery list can you turn off the lights latest instagram posts what is the weather in paris add pencil to school supplies list make the lights pink turn down media volume check wikipedia for a definition of the word homosapien next one olly radio on update on april the giraffe delete my to do is for this week whose song is this biography of person open contacts and call john smith list of the nearby restaurant what are the latest news headlines what is the rate of inr text an email to donna hey what are you doing today can you tell me the weather for monday send a tweet to safeway about water in my gas resume audiobook player how to eat healthy is umbrella necessary for my outing add conference call at four p m to my reminders for today switch on the vacuum cleaner show me what day the thirty first is on decrease lighting find food and order i want to respond to my last email get me the weather forecast of beijing put on some led zeppelin remind me about the meeting in one hour pick up wuthering heights where we left off who won the sports game last night my review play enrique iglesias song after this one play radio mirchi for me book me a train ticket in any train to bombay for tomorrow play a song that will make me smile how old is adele games olly what do i need to get done today send john smith and email where is my twelve p m meeting today happening tell me how to get from here to the chimes in covington play bob dylan playlist show me some food court nearest to my location give me the description of smartphone software can you see what andrew emailed me about please remove the alarm that is set for weekdays at nine search word synonym i need to arrange a meeting with jack music tracking cut off noise when is my next reminder i like soft rock music show me nearby take-out restaurants reply to that email olly get me a train ticket to atlanta begin radio play i want to start war and peace where i left off can you create a sugar free diet for me and create a shopping list for the ingredients remove cheese from my list what do i need to complete first from the list do i have a meeting for today in my calendar please play the podcast for me new emails received in past hour what is the exchange rate for the english pound and u s dollar current date time please tell me what time it is alexa who is bob dean remove calendar events what is happening in news express what is happening in pop industry please keep everything i have on this song give me some bowie give me charles telephone number is there a way to clear my calendar play book hey order me some take out from jason is deli what is the event name going in my area make an appointment for me next saturday at five at the library and set a reminder how many bones does a human body have what news do you have today expenses what do you think of the three laws of robotics weather today please play the song games by disturbed hi send i love you message to my wife can you put on the next i heart music radio show alexa when will mankind reach the singularity i want you to remind me the next meeting with my girlfriend it will be at eight p m next sunday what would be the exchange rate of currency in japan play my downloaded music play the latest songs by dalida what list do i have delete it get rid of this list increase the light what is taylor swift is birthday the list should contain this item when do i have that test tell me mary is cell number will i need to carry around a br today can you tell me what happened to my social media where can i shop as a local tourist email tom the date and time of tomorrow is meeting is there any train plying from pune to mumbai tonight how do i poach an egg do you expect sun on sunday have bing is stocks dropped i want to hear some rap please set an alarm for tomorrow at six in the morning you need to find an alternate route to my destination give me the weather for merced at three p m when can we eat how are the top ten stocks at the moment why people like movies i want to hear the best country songs of the nineties could you play this song love for me please order me the fish risotto from the golden fork reset the alarm what music genre do i listen to the most make my calendar empty open remainder and find meeting time look for this playback in audiobook and play for me delete my birthday reminder for next week send a tweet to the local wawa that their service is terrible at their market street location add my sister on calendar for pedicures on friday book me a train ticket for this afternoon to chicago is there any festivals this weekend this is the best band ever can you play my latest audio book please open go fish game and play it with me show me the date of today do i need a coat today fine me a train to denver give details about the current traffic please add an email for john doe to my contacts johndoe at yahoo dot com set the alarm tell me my music likes change volume open calendar remove all events what time is my appointment on april fourth decrease volume to very soft call a taxi to pick me up right now set lights brightness higher book me a taxi does the nearby dominoes have delivery schedule meeting with laura what is the extended forecast what is the name of this song what is your favorite joke note this event to my calendar hey olly what is the definition of passive explain it remind me at the fifteenth of every month if it is six am here what time is it in tokyo continue playing my book of vitamins do i have an appointment next week play workout playlist in five sentences let me know the procedure of making thanksgiving turkey how far is the distance to rccg ikoyi lagos from here by train add build my resume to my to do list what are some good restaurants near by what time is my alarm set for what food is good where can i shop as a local tourist olly i need to talk to mom read about the latest new about this world can you tell me what is on my shopping list what is today is date display trains going to antwerp after two p m saturday where is stonehenge what day does my birthday fall on next year when are holiday in current month send an email to james asking when he is getting off of work please play help is there a groomer in town for cats only vacuum cleaner start what time is it in honolulu turn on hall lights make the lights in the house red tell me what day of the week it is open pandora and search for a classic rock station can they do delivery i wish to go for cheap shopping is there any dollars shop nearby please turn the lights up start cappuccino for me now will i need to be warm read me some more deadly death killers make it red in here please call a taxi to arrive at four hundred and take me to the manor theater where is the event venue what is the title of the song that is playing when is the yearly cultural event coming up dolores do you notice something odd about your world what is the next event at the library check if any alarm is there after five am what is the residing place of cricketer dhoni what is so clean news for the last six hours how long until my takeaway lets solve the puzzle when is halloween would you set the coffee maker running please play anything by afi erase all my event in my calendar explain it to me i am going to chinatown in half an hour book an uber for me will you help me write an email to chelsea can we go to sun much more clearer and subject oriented olly tell me about activities in my area this weekend please delete my morning alarm what will the weather be like a week from now tell me the news about the current scenario in chennai is there any program for tomorrow evening travel book a train ticket can you search c n n what is happening where is justin beiber from what date is today turn the lamp off play for me american idol show what is the funniest joke ever could please tweet that the kinley water bottle was charged for more than maximum retail price at the movies check my new emails that song in the background is annoying please play the latest bill simmons podcast are eggs on my shopping list any fast food meal offers is there any chance of rains in mysore to beat the heat light green a priest walks into a bar please find the most popular store in the area on the day project one is due does my daughter have a recital what time does the train departs lagos what is the exchange rate for u s d to nzd add a notification from bob is news on the weather is that person living currently if yes where and how old is that person now tweet the current temperature create a new grocery list play songs by sia i want to hear chopin now what is the time in clock find route turn down the brightness give me the description of a laptop circuit remind me at work to take a meeting with dave on friday who is obama dim the lights in the bathroom what does diverse mean delete item from list what is that song playing in the background suggest movies and songs that i would like but that are not necessarily like ones i have already said i like can i make back home without a traffic jam find a recipe for german chocolate cake what is the weather forecast for today what is s d in francs currency to currency rate please remove any alarms that i have set i like jazz was einstein married cricket live scorecards delete the famous actors list did i get an email from mike set reminder describe what a poltergeist is what is the weather in pittsburgh what is the email i got from my girlfriend delete all my meetings what is your age what day is the fifth i would ask it to play the beep sound continuously create an email to mom and ask about this week is weather can you tell me a little about yourself i need to make a list of bills that are due make an event reminder for monas wedding on tuesday is there any reminder which is most urgent please find events in the month of march open harrypotter audiobook and play from last played party beach are trains on schedule at ten please play c n n tweet to google costumer service my new nexus phone stop working help please i do not need light how much indian rupees per u s d today call an uberpool to get me at long island bar please continue reading the hunger games what time is the alarm set for tomorrow morning list ongoing events near me play rock ninety eight point seven on the f m dial please can you remove that on my calendar please rub my back where is the event today mute the living room speakers try out in wikipedia resume series podcast increase the volume please define schadenfraude no lights in the kitchen change the bedroom lights to green the time in cairo please what is eastern standard time right noe do i have anything scheduled for march seventh what is the definition of pda please reschedule the meeting to six p m tomorrow and inform members make me coffee now when was angelina jolie born what is the weather in home town alexa what is the news in my area please pull up the wikipedia article on glass blowing tell me when the next alarms are for what is todays weather please play nightmare by avenged sevenfold please tell me how many days in a leap year i would like to hear heathens by twenty one pilots do i need to take an umbrella with me this afternoon what is the current stock price of samsung show me a video about new mobile launches this year increase the intensity of the lighting in the room what is the name of a lake that has dried up over the years define this iterate events on the note add a movie name to the wish list i like this song that is playing what is included in the tour is list on the music player set the volume level at sixty i am tired remember to pick me up by twelve noon from the airport i have a three p m meeting can you play file open grocery list and add milk show me the directions to the closest starbucks tell me a good joke olly you need to give me different directions what day today a good first impression get me the recipe for rice do i have any pending reminder what is new tell me the temperature where is mount rushmore located make the lighting bit more warm here which is the highest peak in the world calculate two multiplied by two any new emails from work select radio menu can you tell me about wayne gretszky do i have any appointments tomorrow afternoon notify me of the meeting on tuesday list out my schedule today add chives to my shopping list make a calendar entry for brunch on saturday morning with chris kimberly and aaronson please check the exchange rates of the us dollar versus the euro olly what is on my lists news nineteen add to the list set alarm for six am everyday tweet error log to samsung search matthews deadlines take away from the list all food items with prefix dry olly dim the lights in the hall can you put the vacuum on tell me about the new foreign policy of trump what is us dollar today how to cook rice what is the date for the following monday how long should i boil an egg would like to know the time of train four what events are happening between two four p m today can you tell me the time right now have i received any emails from jeffrey burnette remind me to play this song tonight what is the date for the event scheduled on the twentieth of february play only songs by the beatles please turn my bathroom plug socket on send john a mail for financial report two thousand and seventeen when will the match start could you change the lights color to green please olly what are some highly rated restaurants in this area check my laptop is working when is sunset when is bank holiday attenuate the lights post that i am going to woodland shoe store please tune nine hundred and thirty eight f m radio mirchi what currency does england use order two hamburgers for me tell me when my next doctors appointment is i would love the wemo socket to not be active right now read me new post on my feed alexa how many tornadoes have there been this month email message to address input a meeting with jack for tuesday remove this event from my calendar recommend some local shops to me calendar play lady gaga starting with poker face what are the titles of the lists in contacts what mexican food is around me email my sister about mom is birthday jane we should think about arranging the party at the park play music by that artist turn on the radio on this channel what do i have scheduled for next week it is not going to rain is it add event schedule a meeting with the vice president on monday movies with good reviews how much traffic is there right now in bowery street where is my food play c n n news list out buy me today train ticket to city leeds directions to disney world i would like to hear the podcast from the website i was at earlier which events my facebook friends will be attending i need to write a bad review for yahoo plants please tell me what is on the list check emails from cindy how many sides are on a pentagon i would like the house lights to be pink i need a break start it after five minutes play c n n radio please help me turn on the robot vacuum cleaner who is the president of america breeds of dog that are most hypoallergenic remind me i have a meeting at seven p m i would like some red lighting how is the traffic presently near central park road what is on nine news tell me when trump was born what is the chance of rain today how is traffic over the donner summit now tell me c n n is latest headlines make the smart socket turn off i want to make next week is to do list recipes that can be cooked in an hour resume my audio book from karl pilkington list stock price for this company stock reply to name google who was the last president who did not own a dog what is the difference in value of a dollar and a peso can you tell me more about that festival meeting this friday tell me the weather for new brighton pa resume pride and prejudice please give me the date today mark thirteen october of this year as my birthday show mobile number of john check new emails from jim how much yens per u s d today yes or no tomorrow is temperature is to be hot end this podcast start anew can you tell me about the alarm called bed next last open the davinci code where i left off set reminder for date night with husband next friday give me the opening stock price of apple play the most current episode of levin i took my truck to the shop can you let amazon know that this new phone case is junk what do you do with my personal data how tall is micheal jackson play rock playlist i want to listen song one check when the show starts olly anything else left on the list give me instructions on how to cook chicken tell sean i appreciate him reaching out to me please play folk music let is play that song again locate local pizza shops what new emails do i have evaporated how to abs in six week please play trivial pursuit with me how me the latest news update on b b c ask my brokers local area events remember me to meet reveca today at six p m emails in the last ten minutes how many teeth does ryan reynolds have turn the news on give me notifications when i get any news from the starbucks i applied to please start vacuum tweet at quote unquote bring up facebook and wish a happy birthday to the country u s a olly are there any events on my calendar for this week book me a train ticket to newcastle i want to find some chinese food what is near me best rap music what is the most densely populated country in the world what street do i take to get to downtown sunday ticket for new york i helped a poor needy today olly what type of learning system do you use do i need to wear a coat tomorrow when i leave for work add toothpaste to my shopping list i like songs from show b b c report on migration books show meaning of clarion play the last hit song of metallica last album please let me know when a next event if occurring from my calendar and send me a notification bing up my list remove my task list play melody songs what music is playing how is the weather today hi play me playlist of a r rehman songs released current year is jessica is birthday on april twelfth is there any construction on route sixty six i like top forty music olly does panda garden deliver get rid of my current alarms on the plug what is an alternative to flour after this song ends i want to hear hotel california next the cosmos do i have free time next tuesday to schedule a meeting set a reminder for five p m tomorrow please turn on coffee maker and start brew cycle i want to listen to my playlist will you play it now add the item to a list r & b music what are my favorite types of music what is twenty four times twenty four olly what is my agenda for the remainder of the week remind me to go grocery shopping today make the light more visible play this programs in this pad is mark my calendar as unavailable today will it rain later in manila respond to mom is mail message about the recipe site please set the alarm for next friday at six thirty am remove playlist what are my appointments for twelve p m to four p m what ingredient can be used to replace white wine check most current emails please search for events in my location will i need a jacket after ten p m in my area has derek logged into facebook today solve this equation one plus one where is the pharmacy in leavenworth what is the answer to life any email from my client read email and send to family member please note today a terrible things happened to me because my friend behaved rudely on me cancel the tomorrow is meeting from my calendar do i have any meetings scheduled the weekend after next how much is twelve divided by four when is my takeaway going to get here open podcast by the young turks is there a holiday on the twenty second call me a taxi remind this event in future open the door search and play the best of mike eden songs tell me the latest updates of new york make list find and make a playlist of all the latest dancing tracks remind me to send email to boss after one hour send a mail to alex asking about the due payment change the lights in the kitchen to blue dial the number email friend tweet complaint to american eagle customer service remind me about mike is birthdays olly no notifications for five minutes please turn off the plug socket of my phone when it will be charged give me the definition of the word haughty remove that item from my list email my mother please play some jazz stay quiet setting repeating event in calendar tell me this date program play sleepyhead by passion pit what is marketing add to list what are the jobs to be done today why are we here when can you use word set olly do you have any advise for me how i should handle answer the equation eight times seven i need a train ticket start the robot vacuum cleaner at one p m today be silent for thirty minutes what is the temperature how many emails have i got since yesterday what is happening in the news tell me the date and the time find some smooth jazz for me what is a cell tower please i want to hear we will rock you from queen today was a tiring day my day was stressful order a medium pizza with pepperoni and bacon on it cleaning is good dust is so bad do now your magic clean my carpet funny joke i have got dollars for the month how much can i spend every day this month brighten the lights in the hallway switch on the wemo plug send email to martha saying last evening was wild tell me tom hanks middle name turn off socket what is trending where is the train station i need a reminder every single day at nine am i want the status on my screen brightness could you reschedule my meeting today is sunny day or not i want to play the next episode of this podcast new music tracks give me some dim light wake me up at ten add remainder mute for volume dim lights set alarm on twenty fifth may at five p m delete upcoming event kung fu panda three do i have a number for jerry i want to hear my favorite song send this reply to received email play the circle hey lets just talk pull up today is news from c n n google chrome olly i have to tell you about my day remind me at two p m tuesday for the three p m meeting with the boss in delhi traffic level too high can you please order me some mcdonalds i am going to work today email to pawel regarding latest news can you play me some dance music how are you feeling lately look for a pizza recipe olly change my light color to blue and please turn off the kitchen light what was the subject of the last email from mom find me news about trumps speech delete my meeting for tomorrow check by inbox for me i would need to be notified of church services on sundays at eleven am did you add tomorrow is meeting to my calendar i want to reply to bob smith is email how do i save money on groceries for family of six play a jazz music play music radio for me read me the email from mom including the subject post new status on facebook time to celebrate paper scissors or stone wakey wakey eggs and bakey facebook launches disputed tag to crack down on fake news are there any special events near me this weekend am i free at four p m can you turn up the volume olly turn on the coffee machine to make me some coffee play the radio please what does word mean reopen groceries and add milk remove dinner with mike from my calendar i love zydeco jams what conducts heat better copper bottomed pots or cast iron repeat reminder for my schedule for christmas what is planned for today in my local area olly what is on my to do list for today do i have any new emails today text your lost android phone to turn the ringer volume up one percent please check the time i want to resume where i last left off in my audio book share me a joke on my calendar are there any birthdays list things on my list stock up or down for walgreens how do i cook meatballs brighten the lights olly where can i got to grab some drinks in west chester give me an update on the election tomorrow at noon play the celine dion song from the titanic movie dictate email aroma set an event go near vacuum cleaner is it wednesday set notification for news on the stock market will it rain this week what is currently breaking news tell me how old is ryan seacrest this song is amazing is not it add new items in the alarm list how many tornadoes have there been this month remove the bank transaction list is there a canoe shop around here olly open a reminder about next week is managers meeting on tuesday play tunes find me all mails from magda with holidays word in the title hey put carrots on that what to cook for lunch traffic please turn the music up please tell me how to make a screwdriver let us play cross words send complaint via tweet to j crew if it is midnight in colorado what time is it in munich make the socket available for me i would like to order a meal do have any special offers for sea food i went shopping today and bought a massive dildo do i have any undone tasks tell joke what is latest news about donald trump tell me about controversial statements of donald trump tell me the keys to success olly show me some news from b b c siri cancel all soccer practice alarms did erin send me any emails book a taxi for me when does olive garden close today what events are planned in my area find me a train ticket next monday to new york city olly send bob and email set twelve noon prayer for every friday add event book club debbie is house wednesday night i would like it to be able to check if there was anyone else in the house olly what is the time in zimbabwe right now play last song from my favorite playlist turn up music please please save my rating on this song it is five stars please get with new one open minestart game from previous played level i had food as soon as i got up tell me the nearest location send an email to bill that i am sorry i did not realize he was so sick what is the current breaking news about the economy what are the traffic conditions on the one hundred and one list most rated delivery options for chinese food schedule lunch at tomo in arcata california tomorrow at noon adjust light when i get home i want to listen to be more chill by ned vizzini what date is justin is school play schedule meeting with our employees regarding bonus i heard ale just got married can you please sshow me the wedding pictures on their instagram hey olly has john sent me any email lately what is current time set a notification about my meeting next tuesday how does merriam webster define ultra play the next episode what is the name of this musical group how many meetings do i have this week what is the exchange rate between the us and canada when is the next boston redso game yes i like to save opinion on song playing and which player support that song latest t v show news how old is madonna clean the floor please edit list let me know the day before my trip to california read out my to do list remind me to take out the trash was it windy yesterday set a reminder for twelve thirty meeting with the boss tell me how to create a will how does a cheetah look what is the animal with a duck bill and a beavers tail when did i get an email from john smith about car accident replay this song i really like it how to cook crabmeat open songs from major lazer how is it outside post a facebook status engaged show me some news from b b c delete an first event of twenty third of march twenty seventeen which is the nearest restaurants available where is olly how old is tom cruise add item i would like a train ticket to this location is my order ready for pick up now what is the current exchange rate with the g b p play nine hundred and eighty nine the radio station what rohan have to say about marriage when he meet me today how to cook that meal post this message in facebook i want to play the audiobook good grief did angelina jolie leave brad pitt groceries list exchange rate dirham and rupees can you cook something special for me and my wife position the top five most listened to songs on my playlist in a queue starting at most listened to what is the current date time group tell me length and star ratings it is very tough one olly have i gotten any emails from mom lately write on twitter that customer service in this location is horrible what playlist is on shuffle how old is ryan reynolds please add concert at summerfest to calendar what time does the train arrive in sacremento stop playing i need to find a gift what stores are within a one mile radius what restaurant is open after midnight is the eighteenth a monday or a sunday time n date start a conversation with me about sports get the roomba to clean the kitchen place a birthday party with ale ross and amy in my calendar where was bill clinton born please define textual create event christmas on december twenty five two thousand and seventeen and set it to a repeating reminder check email today what is the news from source how long does it take the train to get from here and the met is the birthday event on fifteenth of this month true where is a theater in my area skip to the next song please lower the shuffle rate of hips do not lie play for me the program american idol please tell me how can i remove the item i will no longer be joining mom for lunch tomorrow open my reminders olly change the color of the lights book a ticket to ny by train what do i have to do on monday yesterday at noontime in times square what was the protest about book me a ride a little brighter thanks how old is hugh jackman olly turn the lights down to seven what does blank mean add a meeting with john donaldson to my calendar and fastest route to turiellos what time is my meeting play green day please schedule a meeting with brian billings in accounting i need to remember to get to the shops before they close add grocery shopping to my to do list delete the birthday party tomorrow at two p m stop start the juice i need you to say that last information again but much louder show volume settings what new email says start the robot vacuum cleaner notify me two hours before my meeting for how much can we exchange us dollar for indian rupee is objects prefers any problems tell me when and if i should buy a new home where can i find that recipe for magic cookie bars book me an uber olly please tell me the contact details of my brother erase all the events what is the current stock rate of facebook alexa please turn down the lights in the house multiply one thousand by twelve i will not be getting an oil change for my car today check my calendar for today help me get to sleep delete the song what if in my music turn it to frequency nine hundred and ninety seven play some david bowie make the light more brighter please add my birthday list shops in second street all meetings between tenth and thirteenth may i want to hear any songs that got grammys this year what area has at least a thousand miles of open desert sunset temperature today olly i got into a wreck today what kind of weather are they having in orange tx right now hi there congratulate me i got a promoted in my job at office clear list things to do this weekend tell me what the weather is doing in grand rapids mi right now put on radio mango u s d to g b p how is the weather looking in los angeles what is the exchange rates show me news about the environment lets play battleship what is the cheapest marathon to enter within fifty miles of here did mike send me an email tell me the quickest route to joe is place what is a wicker chair send an email to sarah about brunch today please set up a meeting with becky at three p m on tuesday change light colors from blue to white what events are upcoming today how long does it take to make vegetable lasagna what are the train schedules to new york what is the time difference between pacific and central i said can you tell me the next scheduled event go on sweet talk me any interesting happenings in the world how is the weather in san francisco resuming playing my current audio book show me the one week forecast by our scores locate my podcast delete the shopping list quiet i want to listen to podcast how long will it take to finish cooking my meal tell me latest updates of new york day on twenty second april what is in my inbox since we last looked add event to calendar app please explain the chinese culture my alarms give an full details of pda is what is six divided by two get ready for the meeting before the event starts make a cup of coffee for me give me the news on my provider open pandora and play workout go to the event year and delete set an alarm for five thirty hey olly i need you to make a list of cricket players of indian team who played for the international team in two thousand and fourteen ethics olly open new email to this coworker at this email brighten the lights on the front porch i need to get to bristol friday night can you book me a ticket please i hate this song what new movies are played in cinemas this week cup of coffee please find a taxi to go home have my iroomba clean the house please give me the name of all my lists i want to say something about this song what are some theme parks nearby update my status what is the subject of mom is last email i want some coffee now can you add gloria to my list of clients how many hours difference is hong kong from new york city tell me about india location is my alarm set what was elvis presley is birthday did i set an alarm to have tablets in the noon super song olly accumulation of snow predictions in buffalo check for hot news in times of india set reminder for meeting date in new york play mocking bird by eminem tap start and then select settings who is the prime minister of india what is the latest news from t mobile olly what will the weather be like on saturday please power down play me a song by van halen facebook let me listen to my top rock songs playlist give me the name of all the shops in my area fix the lights in the living room to red play the last next episode order a double bacon cheeseburger with bacon an white american cheese check my spam email for phishing please change the color of the lights i will tell you when to stop find me the definition of indefatigable i want you to go to hot one hundred and five on the radio event reminder mona tuesday comfort my ears with arijit singh send an email to ray alex has told me that he will send an email regarding the price of the machine please check if that has come color change of lights inform me about international news tell me about some cool events going on here tweet for me the complaint about drainage work what is job title of jan medvesek enjoyment find the latest article from chris hedges on truthdig tell me what lists i have what is population per mile in asia put dark colors instead of light ones in the house how many mega pixel is listed in the description of the canon restart the audiobook heaven is for real olly what is the most recent update regarding the hurricane katrina jump to the next podcast give me the opening stock price of sony tell me some joke i want to do funny thing every day please set a reminder what year did tim burton divorce helena initiate polling for new email i needed to prepare for a meeting remind me to pick up more dog food at petco tomorrow at seven twenty p m ask for the weather today morning what is the latest email i have is it going to be hot in two hours dreams can you turn that down can you tell me what hypertrophy means any new mail from jack i need a taxi uber what is the weather now play music for me keanu reeves date of birth weird things people want to know switch to eastern time zone what hour of the day is it in dallas tweet a complaint for the online bookstore send an email to guy selling the boat telling him that i have the money tell me the current weather for danville il remove today is meeting at evening what city was elvis born i want tickets to the sold out concert on saturday night who are your developers cancel my birthday party checkout top restaurant near me and order shahi panner what is the hobby of ajay devgn please cancel the next event on the calendar how far is orlando from my house how he works perfectly remind me of sarah is birthday three days ahead of time let dog out what is the best chocolate chip cookies recipe will the fast food shop at the corner open today create an event gym day on monday and set it to repeat olly has amy sent me any new emails can you recommend good stores in this area remind me of my meeting at five p m what is the weather like tomorrow do i have any mails olly turn on the wemo plug make an event reminder for a meeting with mona on tuesday put this on my facebook call a taxi for me you have to check out kfi he is the best can i order takeaway dinner from byron is what is the best cuisine in the country add this email to my contact shuffle and play all songs by gavenda artist set up an alarm clock at one p m create email to yulia show me the train schedules to the metropolitan opera house add to calendar a home visit everyday this week how do you make pasta tweet complain at comcast what should i do this weekend open me a new list please set the vacuum to start going now is my school alarm set what is the time in chicago resume the audiobook i listened to last send answer to george loudly i want a recipe for a burrito am i available at five p m on sunday fetch me the phone number of alexander can you make my music file to play can you add name location to calendar prepare coffee tell me the news in technology from engadget send a consumer service complaint search for local shops report alarm settings are there any alarms currently set go to the washington post website is there anything new in my gmail make blank on july three calendar search for all titles for huey lewis and play tell me which catering packages are available find a recipe for chicken alfredo book taxi for now what time will it rain tomorrow please make me a coffee what is the current share value for m s n b c what time is the train to san francisco due what is the time in australia alexa create a new list lyrics change the light color to blue search the item what events are happening today is there any new mail for me what is the weather in miami it is time to lower the kitchen lights no more comments olly what is the capital of california lower volume on the radio when is the closest concert at ford is remind me about please play rap music check currencies what ingredients do i need to bake a large cake add new songs to playlist can you please delete all events from my calendar resume born to run tell about my new emails schedule meeting with manager tomorrow at two p m in this matter in currency remove list from the database what are the latest news you can set schedules for your devices and control them remotely using a mobile internet connection repeat song download cooking app how many miles in five kilometers is it warm outside what is the weather like right now turn the living room lights to one percent turn off lighting wake me up at five am this week get me the details of upcoming oscar two thousand and seventeen what time does mondays meeting start tell me the weather in shanghai is there snow in the forecast give details of rock sand todays date great song for the commute book me a cab please tell me what is the definition of cylinder play cricket i want to listen arijit singh song once again what is the time in london right now please tell me where the fair is going to be this year what is the best pizza near me that delivers give me the list of available train tickets from edinburgh to leeds will i need sunblock this weekend what events do i have remaining today brighten the lights a little bit its very dangerous one what does tweet mean is there any carnival taking place in our area what are the vietnamese restaurants in the area tell me when obama was born can you find me a train ticket to montauk add weekly one p m call to calendar cancel appointment for third of april let me see my alarms schedule a meeting with the v p of the department on the twenty first of march two thousand and seventeen what is this week is weather lets listen to the playlist where is the closest sweet frog popular culture news cross out bread from shopping list clear current calendar forward the mail to new email address what is the biggest blockbuster this week play rap music move to next episode please be quiet for the next two hours tweet comcast and tell them that their service is down again is it snowing in california please make me a cup of coffee tell me the singer of this track send email to boss saying i will be late how many hours remaining to reach midnight in city please turn off only right side light play favorites mark sarahs birthday party on the twelveth set a meeting with the h r department for the end of the month delete all lists where is the nearest train to me turn down the lights in the living room make an alarm to wake me up after five hours olly what is a good movie that is out right now which things should i do when i visit the yellowstone national park thursday at three p m there is a teachers meeting i need to be reminded of save this song play wuthering heights from where i left off hey olly what is the definition of recipe set a reminder for next saturday go to the library at five o'clock find news about brexit what time is my next appointment i would like it to be able to tell if something is starting to burn and turn off the oven stove or microwave take it in hand play for me the game star wars please remove the doctor appointment in my calendar for february twelfth at nine am can you tell me how many stomachs a cow has what is leonardo dicaprio is networth set reminder for noon to get lunch with boss what is the current weather condition in my place do i have a party planned this weekend play music from where you left off alexa great song for the commute will i need an umbrella this week what is the date olly i just cleaned my car play jingle bells next has jane doe emailed me where is the nearest walmart who are the top five all time n h l goal scorers how long do you cook a fifteen pound turkey how do you make steel find me the best knock knock joke on the internet i would like to order takeaway is this week trash pickup week i want to listen arijit is songs please tune that describe the new football game rules can you create new list for me please order one train ticket to los angeles set an alarm for time tell me how to go bali without airplane with lowest cost option time does not matter i have two hundred days travel time and only dollars to spend play my favorite station at nine p m is there going to be any snow on tuesday send the email to jill that is saved in my drafts folder i need oranges added to my grocery list check definition of capricious please show me a list of entertainment options in my area google set my alarm to go off in an hour get the roomba to start cleaning add eggs to my list open my calendar tell me news from canada what is the current date today give me up to date on sports news next train to d c can you tell me if my guitar is in tune what i play it this weeks events what are the local events delete recent list now find chicken tikka recipe i need a manger be funny for me do you have any news from news provides will i need a jacket today off lights please set a reminder for tuesdays at nine am what is the weather in minneapoliscity order some takeaway food play my rock playlist how are you today doing well thank you rewind the episode of podcast schedule a meeting by asking your remind me the night before my doctor is appointment play sirius on satellite radio tell what is the value of sin thirty respond to the email from john doe i have to done it on the post important music file how bad is traffic this morning tell me about the meeting i have this week who is the prettiest actress in the world in this century remind me after a month get me updates from kenny is facebook from the weekend i need an email chain to my mother i am planning a trip to see her ask her how the weather will be so i know how to pack tell me the best exchange rate move to the next episode of hipsterhood the time do i need to bring a coat out tonight delete an item what are my available lists tell me the latest technology news can you tell me about animal kingdom in amazon forest any email in the last hour delete apples from my grocery list find me a zoo or animal park in chicago that open this weekend hi what are you doing check my email inboxes and tell me about new mails what is the latest news from c n n how about you what is the weather going to be like on march twentieth two thousand and seventeen has the celebrity does any charitable work olly recommend a restaurant with medium expense i hate this song please remember that so that i do not hear this song ever again i want to tweet a complaint on apples phone issues reduce the lights four p m remind it on tuesday anything i need to know remind me that i have an appointment twelve o'clock on saturday when is the first seventy degree day forecast what is the highest mountain in italy dim the lights a bit what is a shoal i want to hear the jim and bob show on one oh three point three please lower music volume what is a good movie to see right now play doctor demento on my bedside radio please add an appointment at nine am wednesday at doctor greens office do you have any updates on blank can you play the last podcast what is the weather like right now do add this on my calendar what is the fastest route to town i like justin beibers music please play it time to workout clear my calendar for saturday when is my order arriving find all the contacts named john set the alarm off tell me my options for a train to los angles next wednesday or thursday does pings do takeaway i can barely hear you olly olly tweet apple that the iphone does not work what is the name of that song that just went off tell me later to file the invoice play a country station what is on my to do list how old is tony bennett please turn on my spotify playlist what is the news from that newsource how old is carrie underwood next play atmosphere ask them to remember always to lock the door and keep a careful watch on their keys send a copy of the bills to mecky by email i need to know all new news on the houston texans draft i have an appointment tomorrow remind me i would like a listing of all train ticket prices for this location please what is the distance to the grand canyon set music system to mute what events are going in my town this week current events what is hurricane what is the biggest city in new hampshire when is the next appointment on my calendar can you book me a taxi i have to go to a meting on friday at noon can you remind me please add this song to my playlist favorites tell bob smith tell me all the distance locations and times turn off my wemo socket what time is it alexa how large is the universe in miles set reminder for tennis game with peter on sunday at four p m any breaking news from the huffington post describe heaven alexa play music relating to the music i listened to this morning remove all my meetings for the rest of the week please find today is forecast please remove this event from my calendar does my favorite restaurant do delivery check the current playing music title current news c n n play true love next send an email to mom subject weather body what is the weather like there this week what is a calone worth compared to a u s dollar tweet at phohouse your server was rude number badpho today i had a meeting with george will it be raining tomorrow chicago time recent emails find a joke in your vault and tell me what did ben email me does ming ten do take out open recurring reply thank you to john want to have vibrant colors how long will my order be what will the weather be like on date where is nayagara falls located how was the day increase volume to fifty percent how much long is atlanta hey olly do you like my girlfriend show me the alarms that are set show upcoming local events what is the square root of four learn to cut potatoes correctly is it hot or cold outside should i bring gloves with me tonight please provide me with notifications on the election results what color is the sky use email to let chris know i will be late add to calendar an office meeting for the next three days tell me the weather this week i need you to be quiet until tomorrow what time are my alarms where is my appointment with doctor next week who was appointed as deputy centimeter of uttar pradesh get me a local restaurant his new award when will the world end make the living room blue could you please remove the set of alarms between eight and nine read mail countdown for time what ingredient can be used instead of saffron hey olly list the local shops for me play for me the beatles song from audiobook book a rajdhani train ticket from mumbai to ahmedabad remove all upcoming events please can you please turn off the wemo plug socket how tall is channin tatum i want you to put on be warned by tech nine what t v show is jennifer aniston on please tell me the latest on the houston texans draft picks olly find the nearest uber tell me where should i go in world tour and which places are most important do you have the train times for beaumont tx do i have anything going on in every three hours give me my facebook update what day of the week does the fifteenth of march fall on today is fifth march is it or not what did i put down already on the walmart list can you set my coffee machine to make me coffee at seven am please let me know the dog shows events going on in my home town pull up peking garden online resume the reading of the french lesson recipe for spaghetti tell me the date of inauguration of my friend sams business tell me a play list is there any event around who should i expect to be at the meeting today movies is it going to rain later raise the volume of the speakers to fifty five percent hey olly please set a reminder for tomorrow morning ten am meeting i want to know more about the upcoming commonwealth games what is the definition of pwd wake me at daybreak what does hesitant mean start sirius xm radio channel how about the latest news do they deliver home trending tech news play the last album on a loop send email to joejoe at gmail dot com how about some pizza tonight can you please order a pepperoni large get me a taxi tell me current time in los angels is the time currently correct for where i am located create a new list called grocery store please political news play i walk the line by johnny cash can you order me take-out what lists do you have on you right now play n p r on the car radio what will be the condition of weather next seven days what will be the time now in washington please save my opinion about the song that is currently playing make the lights a different color turn the living rooms lights off please give me the weather report for this week how to get somewhere play a random song from my playlist does this restaurant only do carry-out how many hours gone from midnight on city status of my restaurant order start radio and go to frequency on nine hundred and twenty seven where is the shopping mall for shirts is it going to rain tomorrow what is new in the news please book the five p m train to rockville wake me up at six thirty repeat all how do i get to brighton please send a taxi to my house make a note of my doctor is appointment on wednesday next week can you change the volume at radio play nine hundred and eighty nine please what have i played the most search for any upcoming book fairs during next week in washington d c what is on my grocery list turn on my first scheduled alarm reply to email topic schedule lunch with mom on tuesday of this month do i have an appointment next wednesday show me my last email i want to listen classical music please set this date to repeat is i b m up today send ashmit his latest tech topics available are there any upcoming events on my calendar play f m what is by plus y post comment from my phone on facebook play magic run after thirty min music shuffle and play blue playlist can you turn on pandora m s n news get rid of item on the list please delete my grocery list in entirety create an item to be added to my list tell me summary forecast microsoft stock forecast to thirty days ahead what new posts are on my page tell me the train arrival time to new york give me a weather report for las vegas clear my activities list for today open all mails from steffi could you tell me about the alerts i have set how do i start the robot vacuum cleaner tell me joe joe is home address tell me everything you know about sloths just let me know the important meetings with my boss over the week read me the news for the day pull up the complaint website for starbucks i would like to solve maths issues spread some lights how you have solve the problem can you find me a street fair in the neighborhood set me a meeting next tuesday at eleven am with jesse add this email to my address book what alarms do i have remove upcoming calendar event kill item play a song i like set up uber new email notifications tell me the time when punjab mail will reach gwalior please tell me what the word home means show me the stock price for google current time in cpt give me information on the song that is playing directions to new orleans could you tell me funny things please check my emails and notify me if exists any new email will i be able to get away with shorts today calculate ohm is law based on these values is there a chili cook-off this weekend please switch off on the wemo plug socket email john saying i am on leave find the ways of travel for the same what list is available for my favorite music from ed sheeran what time is alarm set for switch on all the lights tell me about the latest environmental news what is on my schedule this week start the dog walking playlist tell me about george washington pinpoint me the location of the shop what events are happening soon clear my next event post picture to facebook check emails from jane doe what events near hear are happening this week i would like to listen to ninety nine point five remove this list from the others is it raining in barcelona remind me to pay rent every month add email to contacts how me my last two emails just set me reminders about pending bill payments show me the alarms i set i wish to know the weather in s f play the newest album by jay z please send the following email to uncle john yes i will be there find me a nice restaurant for dinner how high is pikes peak next one please check whether i have set any alarms for tomorrow morning please give me update of cricket how to make chicken tikka check my twitter account please go to amtrak dot com to purchase tickets is there a sports bar near kansas city plaza area is snap doing good after the i p o delete butterfly clips from my wish list can i go outing without any umbrella where is my pizza from domino is at show contact of john tell me interesting events around set reminder in one hour for a meeting hows twitter clear my nine am alarms what is the meaning of the word sanctimonious what are the latest articles from yahoo news it is a bit dark increase lighting what does the word labyrinth mean can you give me details on john wake me only after the sun is up on sundays is there going to be fog in the morning do i have any new email from joe do i have alarms set alert me at ten am please can you tell me what solution can we do to solve the climate change what is the fastest way to get to starbucks what time does the first train depart from chicago remove set alarm let me know any updates about new trump cabinet appointments the song you are playing is amazing when does the train from kansas city to iowa leave what is up olly explain bob dylan check emails for last two hours what alarms i have set what would you recommend for me to read where is los angeles turn off my wemo plug socket now how to barbecue a steak well is today when my paper is due i want to cancel the recording i have on the d v r list for this morning run reply to latest email received what is the best part of being you i would like it to help analyze ideas increase the volume of the music to ninety olly what is this week is weather forecast obtain latest news how humid is the environment today play uptown girl by billy joel will i need to wear a jacket next wednesday find radio please send my family an email that says the following will i need my heavy coat after lunch today raise the volume of the speakers open pandora app and play station amed hoizer radio wake me up could you please give me a summary of the latest news headlines does sarah have a new email address listed check mail with subject what is the net worth of the celebrity post a facebook status update is there anything happening on jazz scene around edinburgh i wan to play me a justin bieber song today is monday is it prepare email for susan favorite podcast check emails from gary for last hour please skip to the next podcast episode start up the coffee machine cancels lunch at the restaurant booked for march twenty five what is the stock price of sensex right now what is the size of a small cub tell me when it is five p m send email to rajesh climate details now turn corner light on tweet complaint at verizon please turn my speakers on google book a train ticket to oregon can you make the room brighter what is a substitute for margarine what is the music playing right now remove chat with allan what time is it in new york now mute please turn on some n p r and play them out of my speakers what happened to the dow jones today try following these steps to select the correct answer what artist sings this song i need to hear the volume of the current music if it is five am in berlin what time is it here what went on in the world today please list the senders of received emails from the last three days google what songs have i listened to at least ten times play sholay tell me what clothing stores are within five miles of me show me the weather for dallas pull up trump stories how long to get to work olly let is hear wgrr one hundred and three point five turn off the bass from the audio change background what song in the theme song for frasier what is my location entertainment i need a plane ticket turn on when plugged in else turn off can you please book train tickets for two for this friday change the speaker volume to sixty five percent tweet this sick today olly put on be warned by tech nine what is next in my calendar recommend a restaurant with medium expense are my contacts mostly female or male play sleepyhead by passion pit do i have any meeting tomorrow morning will it rain on august fifteenth i need an email to be sent to sdfa at hotmail dot com schedule a meeting with my colleague restart american gods tell me to go to the grocery store after work set volume to zero find transportation to rome forward email address to my new email make the bedroom lights red and the hall lights normal color please what are the pending reminder for today evening hey google hey what time can i catch the nearest train to me can you look up and add john is old email to my contacts again resume inkheart what news has happened on c n n today pink is all we need convert eastern time to western time send email to my uncle about situation of current weather how many legs does a dog have will there be sunset at five thirty p m tomorrow can you check train schedule to berkeley alert me about birthday of wife in advance olly switch to red colored lights is dinner ready yet catch a ride display weather for the week replace the current light colors in the house with dark ones do i need to wear a heavy coat today send an email to a new address what are the list of things i need to buy today tell a joke hey olly what is up can you tell me the latest news turn on the wemo plug socket olly what else do i have on the list send a tweet about sonys volume issues please remind me about the meeting with julie at five p m this evening what reminders did i set check time of ten thousand eight hundred and eighty seven train from luni station on tuesday how many inches make one feet what is the capital of nigeria olly play poker with me send a request to martin find train time to ny what day of the week is halloween i want you to delete my shopping list from last month i would like it to easily keep an inventory and tell me when i am running low on something can you add this event with karl delete bread from shopping list please brighten the room what is the answer to ten tell me about the current weather what is his number reply to john is email today saying i will be late remind me to check the oven in fifteen minutes turn off my wemo plug socket how long do i need to cook a brisket for it to be medium please alert me song title tweet my current location could you please play the classical music for me please set a reminder in my calendar for my meeting on march twenty five is it going to warm up soon silence please turn on radio play prambors with max volume as alarm in the morning tweet at wendys that i do not like their product how bad is the traffic near the airport talk quieter please please purchase me a train ticket to atlanta tell chris i will be late through email shift the light off how much does nestle company cost check calendar are there any free events on in my area today play next reason podcast plan for tomorrow how long has princess kate been pregnant listen to the martian from downpour t v alert me thirty minutes before my meeting at three p m tomorrow i want to hear the radio olly look up the number of people living in miami florida where is the closest barber show latest events around new york turn off one light in my bedroom add the song to my favorites tweet to the bbb that burger king is too expensive stock prices at walmart how long should i cook chicken for set the default audio setting what are the train times on the twenty third to clarksville please delete all appointments for today set radio give me directions for the place delete item from my list lists i have may i know what is trending in facebook please sound an alarm three hours before a scheduled event hold alexa can you play my favorite music is tomorrow is appointment in the middletown office continue to next song please remove calendar events increase light intensity could you please play the song from the artist madonna play the song for me play c d led zeppelin houses of the holy how old is george clooney can you find the preacher joe show on gospel radio please find all name start with alphabetic of a and create a list i like electronic music what does the analysts say about the new immigration policies provide me the alarm times you have set find list and remove apple say the time do i have a work number for susan search for events in the chicago area bypass certain passwords find the right amount of cinnamon for the garam masala how many alarms do i have tell me every day to take green tea at four p m show me the list of pending meetings please lower the volume make a list of camera photos please turn off the kitchen give me the time of the events can i mine for gold on any public land remove that item let is see what is around find me the oldies channel what day of the week is twelfth what is the purpose of life what did i tell susan in my last email play the jungle book will you write an email to chelsea for me hey i want to know about your inception how is the weather this week anything good happening this weekend in the area olly turn the news on bring me a train ticket change the light color to red remind me to call mom every tuesday at ten am is there any current news on the presidential election status of weather clean the flat save my contacts recommend a movie with justin bieber when is the birth date of taylor lautner remove all scheduled events on my calendar please what is today is date what is the capital of denmark add tal meeting this thursday to calendar tune in some radio please delete the contacts that i have not spoken to in three of months what is happening with brexit today increase lights please unmute what is my schedule for june fourteenth two thousand and seventeen where is trump from what is a funny joke order me postmates of mcdonald how does the dollar compare to the pound start next episode playing save the email to my contact order a takeaway will you please post this to my facebook i love you olly i am starving what is good to eat in cincinnati how many eggs should i put in my cake mixture is snow coming tonight open tasks delete future events increase the volume when does the last train from work leave what is shakin bacon has anything happened to mass effect did ben is email have an attachment play only classical music give me the latest updates please play the mark levin podcast send tweet to united airlines i am angry you lost my bags what is the most current exchange rate in china please give me all updates on the election do not let me forget to buy a gift for my sister what is the weather did you receive this person email delete eric is b day from the calendar set feeling happy status on facebook i need to change my house lights color to blue what is the estimated travel time for the train ride to orlando please remove the first list set alarm at ten am mean what the singer meant by the title of the song bohemian rhapsody is it better to invest or save play recently added audiobook do not let me forget i have a parent teacher conference this monday at four hundred p m what time will my alarm go off today play my favorite music now turn the kitchen lights off what is today increase the volume to max please who recently posted on social media register an event or a ticket tell me a joke about chickens please find out the share price of microsoft in nasdaq siri open twitter tweet at scapingyards you missed the entire side of the left patio when you pressure washed what date is tomorrow look up economy in the dictionary there are anything in my list set color blue for all lights of my house what does this word means searching for any special holidays for us country olly name stores within ten mile radius with music mention the thing in the list tell me which mutual funds have maximum yearly returns how much snow has maine received as of today can you enter an event to my calendar can i get the time please unmute the settings can you give me train times for ann arbor respond to the mail of ash in morning do i have to do something later remind me tonight to pick up my dry cleaning at eight p m turn on the radio and play channel one hundred and six point nine please give me information next movie of aamir khan remind me to fill college is application form every two days from now can i dry my clothes on the line how do i make tuna casserole from scratch new address age of brad pitt is my daughter is play friday night hey olly mute the speakers show chicken tikka recipe when is the best time to travel to canada what airport to use i need to check today is email of jack what are the latest photos on my instagram account pop wikipedia page about sean connery go to cnncom tell me the latest news from b b c sports set a reminder on fifteenth march as meeting what is happening in football today vacation will the sky be overcast i need everything deleted from calendar please how much is a dollar worth compared to a yen i have some salmon how do i prepare this what is there to do here tell me any yard sales happening did i make a shopping list please remind me angelina jolie spouses please continue reading audiobook what time are the trains going to chennai leaving how far away is seattle tell me more about the japan day festival list all of my alarms play the audiobook swan from first could you please play temple run game for me please shut off find me the name of the artist of this music which date is today show us red just a joke here or there baseball scores remind me in fifty minutes olly book me a taxi to leith in half an hour fifty thousand two hundred and seventeenth tell me a joke please olly how much are tickets at wonder works play my most recent playlist reply to the email remember that this is my favorite music give me the headlines from sky news will you please turn the lights off tweet rude salesperson on october first at two p m lunch with ann four divided by two equals two calculate the costs of cable and internet providers in my area where can i save the most write a complaint to alzacz for the tablet i bought today what is up how much is one dollar in pounds overhead lights on please my new work schedule list did dan send me any emails how many languages does it know reserve a train ticket for me today to des moines tell about the latest world news does that restaurant deliver what is the news add eva is birthday party at roller jam for twelve thirty p m on may seventh silently adjust i would like to mute the speakers please tell me how to cook a cheese souffle what is elvis favorite ride set meeting at seven p m remind me about the meeting tomorrow at two p m book a train ticket from baltimore maryland to new york new york which restaurants offer take out food what is angelina jolie is birthday who is donald trump when monet is exhibition takes place how often do you complete updates how long will it take to get to the airport f m ninety three point five radio songs can you delete this dinner party event what open lists do i have what is jesse is number brighten the lamp next to the sofa olly can you play hunt for red october activate the cleaner for furniture cleaning i need one cup of coffee will it be too cold for a dress on sunday why has politics become so polarized recently check to see if pizza hut has my order on the way how do i get to poughkeepsie from new york city please we are the following alarm please reply to my colleagues mail about his query do i need to be reminded of any meetings on monday alexa look up bill information hi what is going on remove my calendar event at one p m today what is happening in town tonight can you make it a little quieter please check my mail make me happy what is traffic to work now delete my to do list open stock price for name i am looking for some dress shows can you find clothing stores within one mile why do we continue to have daylight savings time what is the weather in los angeles do i have any new emails from dan set an alarm for seven thirty am set frequency of the radio what does a grapefruit look like find recent events of the celebrity i want to listen to a sports podcast information can this room have green light can i have my list when is dale is birthday are there any accidents today i want it to remember my preferences and recommend me things based on them when i ask alexa define television mention the stock price of hdfc please turn the lights up to eight what is the status of my food order olly please purchase me a train ticket to atlanta cut red peppers from groceries brew coffee at noon how is lasagne made recommend a blue grass band event within twenty miles of manchester ma this week start play johns audiobook read me any new messages in my email please clear my calendar sum of five and two do you think it will be okay to wear shorts this week please look up exchange between us and mexico i want to send email to my friend jack at gmail dot com order me some chipotle check my last post on instagram report what is new in my email inbox please list entry what is trending on twitter tweet a message to suqcom that i am still waiting for my delivery do i have any meetings tomorrow tune in some music can you tell me how to cook chocolate chip cookies please delete bananas from my shopping list what are my next three events what was the last thing my mom said how many new emails have i received today schedule taxi pickup for monday at noon set a reminder that i have to visit my father tomorrow b b c let is make some popcorn and watch an old movie together put an order in for two pizzas from dominoes is the balloon festival this weekend what year was elvis born tell me who the senders of my emails please raise the light i am not comfortable at this delete my appointment tomorrow mute sound from speakers olly let is hear the united states of anxiety podcast compose an email to bob olly recommend a romantic comedy in me area add girls night out to my calendar now i need to write an email to my colleague tell me distance between sun and moon i just want to know some information about you are there any forecasts of rain or snow this week play maroon five moves like jagger what is the time now alexa how would you describe a ball play spotify olly set up a daily reminder for me please how far is california from georgia read that back tell me something funny google michael jackson can you forward an episode in the podcast order me a cheese burger from tommy is burgers add valentine is day with her tomorrow please remind me of olly tell me where the local shopping district is what is the current weather could you list out the information on book fairs in washington d c for next week please subscribe me to updates about us breaking news schedule pizza take-out for seven p m off all type of active devices shuffle music by aaron carter get rid of that item can you tell me how gravity works are there any interesting events going on around my location i need to buy a train ticket can you turn down the lights by twenty percent latest news on ortcars describe item xy have i received any emails in the past two hours start a new shopping list how much is the canadian dollar worth versus u s dollar identify current song playing currency exchange olly change the lighting to blue read my most recent emails power up the vacuum i do not want any alarms how much is us dollar against rupee siri what does jon snow is handsome face look like divide two hundred by four any important emails within the last hour i need you to get me up at six am play this program what are the top twenty jazz hits can you play back to december olly find me the perfect girlfriend find world meaning in dictionary what do i have going on this morning between ten twelve set an alarm for nine p m turn on my playlist of country music book a train ticket from here to charleston west virginia at eight am today do i have any appointments today get us spaghetti from pizza hut check time of kalka train from jodhpur station on monday attitude how many calories is in an apple good afternoon how are you i want to find some good rock music notify me with news updates on nigeria give me a description of iron fist on netflix add car service to my list of things to do today when is the next train to center city philadelphia is it supposed to snow this week can you look up chinese take-out near here brighten the light of hall what events are ongoing today in biloxi what kind of cloth eastern people wear the following question asks you to analyze teacher goals and actions intended what is the name of the event compose a mail for jack create a blank list bring up my email alexa give me the headline news what time am i meeting john tomorrow alert me at the time of the event hello bring up my lists what is going on in new york what is the traffic like on my commute home at five i need a funny joke to tell sam please speak quieter to me olly do i have any new email from ryan delete all the events in my calendar sports head lines please what events do i have coming up switch the smart plug socket open my most recent email and reply the email reply should state remind me to have launch with boss today at one p m open note pad i would like to know my next schedule details initialize the robot vacuum let me know when it is ten set an alarm for five minutes from now play some soft jazz i need you to turn on the radio if i was in the eastern time zone what time would it be delete my appointment for tomorrow at three p m please find me a country music station what is that on the list turn on favorite songs play top ten open parcheese game for you and i recent headlines who is going to my meeting at nine am the music of this song is very melodious and relaxing can you tell me the time it is open lyft send a tweet to kroger about being overcharged for groceries tell me the meetings i have for the week change the alarm weekly settings what is the five day forecast please open blokus game i would like to play with you are there any status updates on c n n news facebook page what is currently trending on twitter when was trump born tell me the profession of celebrity i need to ask you how many angels can dance on a pinhead raise the light turn program on xmtune delete my next calendar event put the item on the list mark today as the start of my diet remind me that i have to go see hannah about our math project next tuesday at ten p m tell me which time is it in new york what degree is it outside what is the day today what is the root of six hundred and twenty five i want to play a trivia game please open audible app and resume play what new movies available today what is happening this weekend conduct meeting on thursday what is the current weather the news from c b s alexa what is the time in the pacific time zone at this very moment send thank you so much mom to mom create a repeating event on mondays at seven p m could you please hire me a taxi to go to the opera tonight count the number of food items on the list what is the gross domestic product of us resume the memorial songs get it is the twenty second a tuesday when is the kiss concert what is a fuel rail injector olly lower the lights please customize the tab to display your preferred time period please lower the lights a little bit can you show me the directions to go museum of flight in seattle search for a train ticket to newcastle i want the cheapest train ticket to new york when is my next appointment and who do i contact to reschedule tell me about the weather this week play that song next what was the weather report for today play next episode of con man what is the name of that song are there any emails i have not read yet climate i need to get up at seven am when is my meeting with human resources please list shops within one miles from me can you explain your speech algorithm to me recite the schedules of the list olly clean the flat turn off my alarms is not it funny how the weather keeps getting worse i want you to remove this event automobiles can you pull up jeff can you do name that tune i went skiing today how far away is the nearest rest stop in which field does that person excel in spelling would you please check to see if i have set my alarm for tomorrow morning price what is my latest email please know that today i had a meeting with george what is a fjord olly find a description about a samsung t v do i have any emails from jane doe olly cancel all soccer practice alarms what song is on the radio tell me today is events of mine please load new email for bruce and send message now what is next on my list remind me to check morning news update play subway surfer what is the longest river on earth let is play checkers how do you make cookies show me cooking websites mute for two hours tune song of ddlj movie start the vacuum at nine am raju phone book please play my favorite pop songs from my list olly i am tired i want to order some food time difference between u k and us book a train ticket for me i want to read yahoo news what is the weather in beijing what are the events conducted in new york set an alarm forty minutes from now set reminder for seven am for the city team meeting set time zone book train best deal tell me what is happening on social media trending hot news topics tell me today is weather report of city alabama please compose a new email to coworker we should play nfs at high speed has john sent me any new emails remind me to something in sometime do i need to carry an umbrella today how long does it take to get there tell me all the takeaways nearby and i want to order food start song one please complaint that my mobile is in the service center for too long events in my area cut the lights off what time is it in chicago what will the weather be next week change the audio settings olly turn the light off in the living room play the programs in this required pad is rowan atkinson info definition of velocity every other monday remind me to take out the recycling play metallica vitaly channel cancel meeting at three where is the largest volcano in the world mail administrator when i should leave to office add remember to call mom to my reminders this new email should be added to my contact clear all events from my calendar for next week please delete this list tell me the contact details of my brother play my favorite music do you know any joke what does apple of my eye mean what does this word mean start a reply to marleen is most recent email add a new email contact to my list solve math issue change the house lights to pink what are the oil prices like today for a barrel of crude oil check my mail for new email dim all interior lights dismiss my next event do i have an appointment tomorrow i would like to hear some rap music create a new list please emails in the last hour set up an event recurring throughout the month start cleaning what do i have on my schedule for tomorrow morning today is holiday alert me of an email from dave about the meeting how to cook spaghetti squash i can not see let is make it brighter email mom and ask how the weather is there define yourself in one word i want to hear study playlist what music is currently playing on which day is march twenty create a reminder for visa application on this thursday book a train ticket from los angeles to chicago that goes via miami olly does shibaru sushi deliver turn off speaker what events are scheduled for this weekend in me area opinion save change volume settings in the negative alexa what song do i play most please make the room brighter i want to go to bank of america give me directions parenting start playing kids by mgmt hey what are my lists please add dinner with mary to my calendar on saturday reminders for card payments i want the light to be a little more red ish what should i do in san diego what year did michael jackson die how long will my lunch meeting be on tuesday switch lights to red tone what is the dollar is exchange rate with the euro on the radio it is time for good music search in the web for buying bakeware for muffins what does the title of the leo dicaprio movie mean show me tutorials on cooking food can you book a train ticket for my mother get me the local train timing to destination cstm should i wear a jacket mark my budget meeting down for every friday at two play compassionate cook episode twenty three play the radio compose an email to parisa when will team meeting start find me all music for classical music olly what is the weather today where is fiji alarm five p m my choice to play an audio from first do i have any upcoming events in my calendar what is the weather like in brooklyn right now did i get any emails this week what time is it in karachi right now send an email for me who and why is on at the theater tonight are there any traffic delays alert me in three hours send an email to john that i am on my way to home what time does the first metrolink arrive in the morning how we can get credit which is worth more the us dollar or the euro what is the us dollar and euro exchange rate do i have the contact of tara john can you play magic by bruno mars let me know of the meeting on tuesday change lights what is the email address of silvia what is the headline from chicago tribune book uber from my home fraud in weighing products please search the internet and display the suitable youtube videos for cooking italian foods i expect you to remove the item from the list please give me the traffic report for this afternoon where was the last aerosmith concert any suggestions on a good time for an hour meeting this week tell me the name of the artist whose song is in the movie i am watching start podcast from my favorites list what was the subject of my last email does chinese deliver tell me billy crytals address why are women so mysterious increase the brightness in this room remind me to send the presentation today at one p m what are jalapenos if my package shows that it is for delivery tomorrow can you set up an alarm one hour after thank you i want to make a complaint to the consumer how many oceans are there in the world what is the definition of the word snafu please adjust the colors in my lights play hotel california after this song will it be cold add this email to a new contact please delete all meetings of today after seven p m hey olly what is the definition of survey alexa please search for events near me today was bad please play some songs for kids where can i get organic wheat please set an alarm at six am i want to hear purple haze i need to turn the lights down send complaint through twitter consumer service create a new event on my calendar video games what is the funniest joke set a reminder alert for saturday nine am towards payment of electricity bill when was albert einstein born order me a large ham and olive pizza from dominoes when is the next alarm tweet a customer complaint on the service at the long horn steak house alexa turn off the t v in i love hip hop tell me about hugh lourie how has your life been changed by me send dad an email saying how is the weather this week what is the current time in chennai add to calendar on this date and time with these people what is the event agenda show all train and time to ny add a meeting to my calendar for nine am with tom can you please update me on the latest tweets from my feed i want to hear the last news from c n n change my light color to blue and please turn off the kitchen light tell me a joke about lawyers what are the events happening around me today remove anniversary event from my calendar reply to john stating that i will attend the party please play the song smile for me notify me about the event in my calendar tell me about donald trump let national grid know the power is out again send a tweet to national grid what email notifications do i have play my play list is the traffic bad enough that i should leave early i want to start a new list of power tools on sale at true value what is a good place to eat around midtown new york run game is san francisco near berkeley what is the latest on c n n tell me the last message list the items on my shopping list i need next week is lunch put on the calendar display available lists confirm the alarm time i am hungry show me some takeaway food does arby is do takeaway did we get any update from the new provider what is the weather here today i searched all over for my phone and could not find it check in contacts what time does the festival start should i take my raincoat with me now delete my latest event play some music from metal genre latest tweets can you schedule me for a hair cut on april first in saskatoon initiate cleaning process i want to here song one olly can you tell me the price of google stock tell me about today tweet a complaint about more electricity bill this month take a snap get me a recipe i want to send a tweet to united airlines i am angry you lost my bags when last did i receive a new email in jaipur traffic level is high give me the latest on donald trump remind me at eight am tomorrow that i have a lunch meeting at noon in the conference room does louie is do take out keep the socket in off condition topography melbourne open image post what is the best oven temperature to roast potatoes disable my okug what is happening in my day who is the artist of this song flag two day after this day as my holiday what is immigrant email company worker about work project set an anniversary event for tuesday what does one have to damage in cream to make butter bring me the title of current music two thumbs down at companyname family entertainment hey can you please make me a creamy coffee remove grocery shopping from my to do list on sunday set the alarm for nine am on weekends tell me all the current events in my hometown solution what street does sarah live on check my phone book find podcast and play it inform me about meetings how much is a call per minute to mauritania too private how long is an earth day which celebrity is most likely to follow me back on twitter play list five olly what do i have planned next google what are the basic things humans need make the light in here redder when was einstein is birthday can we make steak with chicken can i order take out from licari is please play me the michael jackson song again does monday is meeting at eight am include chuck ingerman turn the lights to red color what is the best way to cook pasta here is something from today give the stock price details of motorolla cancel all the meeting today i want to hear music by a band from my playlist please could you tell me if george is geek restaurant can i order takeaway from there start music in playlist set twenty first april every year as dad is birthday what is the distance between new york and berlin set a calendar event to repeat yearly on this date please check third event of twenty second of march twenty seventeen repeat reminder for christmas please check email from mom save this music to my favorites show me the meetings for the day this is one of the best songs for me what are the steps for biryani meal red f m chit chat auto tune who is leading the formula one race right now start vacuum bot please tell me what lists i have made reply what are the florida radio stations what will the weather be today change the living room light to yellow let is play a game of chess please check your calendar i have done somethings schedule an event in my calendar for the pool party at jack is place this saturday twitter to destination x l that they run out of sizes too fast shut down the sound audio on take off my alarms ask a restaurant in my area change the lights of the house to a blue hue show me direction to my home notify me with all events in the next one week why people like to criticize others while seldom self criticize give me a reminder at eight p m for the game give me the list of circus shows going on in the city right now play why do you sing by kirk franklin olly does that new chinese restaurant deliver please remind me one hour before the meeting i have tomorrow morning play music did i receive a message from kevin describe a romantic love remind me to water my plants every tuesday thursday and saturday add meet with dave at subway on weber on four april at five p m what is new in facebook alexa play song over the rainbow is it sunny what south the temperature is leonardo married what is the geographical significance of india what is the date today play the jazz station show me the news play station gx in the radio play taylor swift what sort of music events can i find going on around me can you send an email to book me a cab going to location please set a meeting to discuss terrorism with fred on the next available meeting day please turn on my robot vacuum cleaner what is the size of the united states what is the leading story at this time on fox news what time i sit in china right now who sells the cheapest netbooks in south austin please turn on classic music for the dinner now can you set my alarm for seven thirty am set environmental news notification during the timeframe of february one and march sixteen what meetings occurred start chapter seven of alma start playing ringcast acquire latest news please play britney spears please pull up the article in the new york times what is the best day next week to go out for pizza this weekend what events are going on in seattle directions to nearest apple store you need to give me different directions what is the most convenient hour to catch a train to york on saturday celebrity news i need to book a train ticket to la tell me a nice chinese restaurant move to the next episode save this email in my contact for future use office lights off can you remove the last list for me what is the tallest mountain in tucson tell me the percentage of the chance of rain in seattle washington for today delete all events in calendar i want to post a status on twitter when is peter is birthday what happened yesterday on samurai jack can you read me my next reminders please turn on the smart socket play the radio for me can you define a chair on twenty third march i have to go to meet my aunt answer paul is email add a lunch with mike how much can i bleed before i die olly find a shop that sells beer are there any pending appointments this morning find songs from my big band playlist erase take me to m c donalds how is the news media reacting to trump is potential ties with russia take joe of the list i need some rap what is that object about what is the menu today add some boiled vegetables also to it is there any event close by i need to send a new email here is the address and then add it to the contact list lower the brightness of the lights forget alarm send an email to george brown olly tell me about it what is home town weather find tacos near my home what is the time in india right now lower the overhead lights show timings get me the number for local taxi service i had a horrible service at olive garden i need to tweet them what lists do i have queried is my work alarm set for tomorrow please tell me what a crankshaft is power off wemo plug socket remove my one thirty appointment remove all the events in my calendar is it someones birthday or anniversary today hey google i hit a million dollar lottery jackpot will the u v index be above eight today send a reply to my friend for his question please keep me up to date on technology please help me in knowing the background of person morgan freeman open pandora are there any alarms put on the god of small things can you reply to charlotte that i am going to be busy with the projects for next three weeks jane doe emails post this video to facebook i need a drink read unchecked email send an email to my sister can you change my time zone to central please order take from jason is deli list the celebrities who have been in my country in the last five years weather fulton missouri find weather report check if alarm is set for six am play best hits from given artist read me a news article about jeff sessions have the vacuum cleaner clean the room please add an email to my contacts give me news on president trump play next song please darken the lights who wrote the song i just wanna dance with you siri please check exchange rates please check and tell me about the reminders i have placed today end pause on audio book history of rome please raise the volume of speaker olly front page news articles please remind me later change my mum is email in my phonebook temperature in augusta ga how far is canada from my current location want to play a game i need a reminder for my five p m meeting will it rain at all this week who is playing the oboe on this piece can you tell me the time at san francisco what is the recipe for pasta sauce d e a guam prescription drug abuse on the rise siri open twitter tweet at potus sucks i want to know more about this event features of ipad air siri describe a rainbow siri cancel yoga alarms directions to virginia beach v a have john join me on the tenth at the fifth floor meeting how high is the south n p ok google can you start ryan seacrest check delivery options for the restaurant how big is the stashable cinch bag and what does it look like play the next episode of radiolab what is the factor that let modi win the election please set an event at ten am one month and two days from now to have a garage sale at my house alter lunch event to repeat every friday what is the my upcoming events what is going on in the news what time will a movie be shown tomorrow what is the best value marathon to enter in the next six months what is the date tomorrow get me to my friends list show all the received emails recently with timestamp turn off the lamps make the room brighter play anything in my recent playlist what is on your mind today where is the public library erase my appointment for march seven are there unread emails in gmail play forty six and two by tool july three calendar put a disco track what is the crime rate in chicago turn off the lights in the kitchen play mf doom anything play country do i have anything scheduled today between three and four p m domino is pizza consumer service complaint geography please what is worth more a u s d or aus remind me of how many lists i have bring up my last playlist from tidal book a taxi for tomorrow morning please order me pizza and wings from papa johns now change lights to pink what temperature do you bake a potato buy a train ticket what day is today i have to be in hawaii for this upcoming event can you add this can you take out dentist appointment from my calendar play newest bob dylan playlist which is the best smartphone in two thousand and seventeen house change all lights to blue start playing american gods where i last stopped what is the temperature right now inform my group that the new meeting date is tomorrow jump to next podcast link john at gmail dot com to john in contacts tweet a customer complaint to the subway website remove yams what is the weather of this week what is the best way to cook pasta al dente how many tablespoons are there in a cup let me know if anything new shows up about this light color for study room turn off the alarm respond with all rccg march event is to be added to my calendar what is the definition of capricious olly make a calendar entry for next saturday at ten am please transit tell me if i have any unread new emails play shane dawson podcast i would like it to help with coding debugging give me directions to my nearest bank location have i gotten any emails from amazon in the last two days when will my chinese food be delivered mild or heavy weather when and where is june is birthday party tell me time it is is it sunny in gonbad now play the kansas city hip hop station what is the date three times two equals six put this event in a repeating pattern on my calendar please tell me my alarms switch on the radio tweet the following directv has horrible customer service add rebecca green to my list of favorite contacts remind me of my sister is birthday party tomorrow an hour before it starts what are the next three alarms set to go off trash my list what is my wife is email do you recognize the song playing on my phone get rid of the last list alert me when the outside temperature reaches sixty eight degrees send a reply to that email notify me when joshua emails me please remind me to take off coffee off stove in ten minutes it is dark in here open sirius app and play the classical channel what is the forecast for today define computer game what jacket should i wear it is eight at night in france what time is it in new york good morning is not it a great day can you please stop speaking go to sleep send report to consumer service i want to hear great music i need to get a ticket via train to orlando from hwood am i going to swim or work today is it going to rain on saturday start the next episode in a podcast order one pizza from pizza hut route please are there dog shows going on near new york city hey alexa turn on disco lights in my apartment and let the party begin send email to husband to ask for restaurant ideas play joy division set a event for the evening will it be hot search for gluten free menus which bar has the most affordable drinks near sixth street tell me if the following is true about the weather can you please set twelve noon prayer for every friday tell taxi to pick me up at four p m please update list with new item olly what is the exchange rate between the us dollar and the aus dollar who will be attending the meeting this friday check for all emails from tom brady please give me update of football tell me the latest news about donald trump have i received any emails from shaun turn lights off is my reminder alarm set for dance class date play spotify playlist blank repeat this song three times how are you today power on wemo please send the email to my mom today is weather is awesome play my country music playlist play all order of the green hand from previous week open podcast player change this time zone to washington would you like to play a game let me know about the exchange rate of rupee to dirham anything happening today is today going to be sunny wake me up at seven am is there anything to do with quinoa to make it not taste awful how tall is hulk hogan i want to have a new playlist of songs let me know new emails from john remind me about the office meeting tomorrow at seven explain in brief about fish fry set alarm on tenth november for clock please wake me up at seven thirty am how will help this meeting is the train time to a location long what album is this song on hey olly what time is it in orlando florida tell me where i can go shopping in this area how is traffic on the highway tell me the last thing i had you look up for me what is the temperature outside remember dinner on thursday at bistro italia please repeat that music again of akon what is on my calendar today november event delete start podcast m l b daily book me a single train ticket traveling to new york city leaving after nine am at one p m today start the robot vacuum cleaner can you change the lights to white train ticket find me a chocolate cake recipe the second of next mont lands on what day hey olly i am having a bad day today what can i watch to cheer me up how many meetings do i have tomorrow reply to patrick that i am on my way i need to mute the speaker open train routes send me a reminder to pick up my dog from the groomer at one p m when is the third monday of this month do i have new mail send email to robert what time is dinner set an alarm for five o'clock this evening labeled taxi check if there any new email olly can you raise the lights for me please list me the audiobooks i have already listened to what is the exchange rate of rupee for dollar is willie nelson still alive alert me of my dentist appointment at two p m is it sunny outside at this moment explain change volume level to maximum call pf chang is to order me egg foo young which day of week is the twenty fourth locate the email to giant eagle and put it into my contact list what is the exact time we get food delivered once we place an order for food any news from agnes remove the list make next podcast episode to play turn my lights to some random color remind me that i have a meeting at three p m tomorrow how is iron made i would like to know the meaning of word get me the top news from huffington post teach children to never answer the door when home alone where is mary is birthday party being held play nineties hip hop show me my events for the month remove the alarm set for four hundred am what is the amount for train ticket booking who is the first president in u s a what time does the train leave philadelphia i would like to send a reply what are my newest emails open the books and play brains book from chap nine book three round trip train tickets for sunday at seven p m return ticket of next week sunday at eight am can you tell me what an chaise is what happens to me if you become sentient what is eighty seven minus fourteen save this song as my favorite can you set an alarm for seven am order two pizzas from dominoes display the local time of london at this moment what music is it i want to hear more audiobook i want to listen to m c is podcast how do you feel i will be going to my office down start my robot vacuum cleaner by ten to eleven am daily play howard stern on sirius what is on t v can you tweet for me to amazon services for not delivering my product on time how much is a train ticket to chicago tell me what the geography is like in this region turn off the shed light set a notification for three two and one hours before next week is english final set up notification for meeting i have a new email address can you send an email can you create a new list in the playlist i went to the grocery store today play the next recording search on his locality play song all the small things when did this song come out get radio show me articles about the new iphone eight has tom emailed me what is on the radio right now delete list only nine hundred and ninety nine f m is to be played on the radio hi you there how old is tom hanks can you recommend any pub in milligrams road hey olly play me an automated playlist based on songs heard in gaana app this week music change what is happening near me this week what kind of implement is a broiler and how do i use it did my mom send me an email olly alert me of an email from dave about the meeting tell about computer definition what activities are taking place in my area is it going to freeze overnight tell me the recipe for mashed potatoes show geographic details of pyramids how to cook this food what is the recipe for chocolate chips ok google tweet the service at moe is diner is terrible turn on channel b b c radio one please can you tell me the contact information of jo check emails for unread emails from mom add cereal to my shopping list what do you think i look like please update my grocery list with one gallon of two percent milk how do you feel after hearing justin bieber is new album why people like earthly enjoyment and forget about the ultimate joy with god log a complaint to l g a c to customer service you were bring an new schemes is it snowing in seattle clear my calendar all events what is a good present for a girlfriend how much of the earth is made up of water please change lights color to red play soundcloud repurchase last train ticket to phillyx my list please does the restaurant have carry-out this is a good tune please notate file accordingly turn house lights off do i have any appointments this weekend resume war and peace how long do i chill an icebo pie softer have you heard any good jokes lately turn on spotify shuffle search email for contact will the weather today be cloudy what is the latest headline news from this newsource siri what are the definitions of orange movies with good rotten tomato ratings olly remind me about my next meeting a few hours ahead of time read freds emails show me the current date today find some classical music by beethoven and play it i really enjoy this song please turn off the light of the bathroom what time is the shine down concert tonight speak loudly what day was it on my birth date olly send a tweet to company turn on the radio is it going to snow this week give me the description about smartphone alexa start email hey siri what is the time get me a car save this songs genre for me play kanye west playlist can you reserve a train ticket for this day please explain the rice recipe turn on the socket look up etymology in google hey do i have any new emails do i have any new emails from john smith play item one get all available is set reminder for meeting with john on wednesday at nine am create an event in my calendar what should i watch today how many number of fans does that person have approximately what makes something head cheese time constrain get local events hey siri cancel whatever is scheduled next on my calendar i need some coffee made olly make a list of all the clothing range available on ralph and lauren show me the seven day forecast for home please olly find a ride to the bar where can i get a shot of tequila and some to go mexican food create a playlist what is trump been on about this week get large pizza with pepperoni what do i have today what does the traffic look like headed to la play this audiobook talk to me about the list do i have any new inbox message email family i want to know if the olive garden provides takeaway what is the exchange rate for samsung who is the singer of this song tell me the exchange rate of ten dollar to euro what is the current time in new york add something to my list please tell me the news in polk county florida remind me thirty minutes early that i have a teleconference on tuesday show me a video on cooking fried chicken how do you cook steak what is the weather next week in pasadena ca take item off list ok google play some music reply to the email from john hey check emails what is the first five subjects in the email where is the statue of liberty located tweet walmart customer service siri how much is a train ticket olly make my coffee delete the christmas party at the church next wednesday what is today is weather in springfield what is the meaning of what is it today what highly rated movies are playing this weekend is my alarm set for tomorrow morning information of recent events define acceleration what is the stock information of walmart what is the largest active volcano on earth just add a new email in my contacts from michael remind me tomorrow at ten am about the meeting add milk to the grocery list what is charles is email i need good ideas for cooking define economics what does the traffic look like on my usual route to work what is the traffic situation from kamycka to dejvicka remove the latest alarm tweet complaint to at are there any trips to location a provided by the train olly remove my wake up alarm do i have anything scheduled tomorrow from noon to three p m get status changed in social media olly set a lunch date for next tuesday at noon with sarah at black angus what is rene phone number add dinner plans to my calendar can you let delta know i am never using them again what is a by too loud choose a brighter color for reading g m t time resume play where i left off in book on audible notify me about the meetings over a period of some days please play some music decrease speaker volume open up my sister is email from yesterday click reply and turn on voice activation for my response olly email my appointments to reschedule i want an alarm for six am everyday order a twelve piece honey mustard wing combo with seasonimg altnon the fries and a sprite as the drink could you speak up continue playing my audiobook please list active alarms set an alarm in an hour is time how cold will it be next tuesday olly i went to the grocery store today how far is florida from north carolina hello what time it is now move on to the next podcast episode does the robot vacuum cleaner have to be plugged in when is my next appointment with doctor smith can you upload my latest selfie in my facebook account show me what shops are around me play this game with me hi what kind of pictures you uploaded in pinterest set a wake up call for ten am who was in the beatles transcribe email content please mark my calendar for a holiday in cuba on april two give me my facebook update every three hours is today a sunscreen day put a mail to sandy what is the traffic condition of florida turn the lights off to my room can you find out the latest world news from yesterday is traffic heavy can you tell me what the items on my grocery list are define blanket how many items are on my to do list post to facebook i am hungry what day does easter fall on this year please remind me to go to the post office set an alarm for the dance classes two hours before the classes start begin playing the audiobook beauty and the beast march tenth lands on what day of the week do i have any reminders today remind me of my meeting tomorrow ten in the morning start playing music olly clear everything off my calendar for the rest of the year let me know when casey emails me read the email sent by this contact remove my grocery list please purchase a train ticket for this weekend reserve a ticket to go to destination by train please let me know when delia replies to my email from this morning wake me up at this time delete shopping list alexa book me a train ticket for this afternoon to chicago i want to check julia is available dates so would you send her mail and ask about it please tell me the closest convenience store to my house turn the radio on turn the lights down who is president of poland which was longest buildings in the world please turn off middle light of room olly find me a zoo or animal park in chicago that open this weekend what is the name of the current song outside traffic status please set an alarm for one hour from now who am i meeting at work tomorrow tell me international news what happened yesterday how would i use formidable in a sentence brighten the light at seventy percent remove wyatt is birthday party from my calendar hey please provide information about events by the end of the day play am where is steven spielberg living put a repeating event on the calendar what price google up to i want coffee please send an email to cassy who is there on my family and friend list play jack johnson playlist music play the neal brennan episode of wait wait do not tell me remind me i take mom to the hairdresser is thursday at one thousand one hundred am facebook current stock rate family date this monday i am fine exchange rates between dollar and euro google search booking train ticket tell me what the date is today clear out the problem remove my scheduled calendar events if you could i want to hear the book written by the mother of the shooter at columbine love to jake for financial support what is my email from steve about is there any breaking news from c n n i would love a less bright up room should i bring an umbrella today set a reminder for wednesdays at two p m how would you describe a tennis ball tell me if i have any new messages in my inbox i need a good joke what is the minimum temperature of london add oil change to my to do list what is derek is phone number what are meeting scheduled for today play the breakfast club new email message to robert peck late from work send search for trains leaving tonight for london book ticket for paris by train what is the current eastern time set mute until said otherwise please set a reminder of raju marriage on thirty first of march twenty seventeen add reminder today evening to collect the parcel from jakes bristo turn on robot vacuum cleaner check unread emails from amy ticket for delhi who was the first president of united states delete olly start coffee at six am help is to be sent only to jane continue with my audiobook please define oscillate siri find train tickets to nc can you do me a favor my eyes are feeling strained on these lights can you please change it to a cooler tone play the most popular song by given artist i want two burgers and one coke order it fast raise your volume play bohemian raphsody for me show me reviews of my nearest location food court olly do i have an alarm set for tomorrow what is it like outside remove bananas from my shopping list any low priced delicacies i am back any new emails since i left tickets clear my calendar for the rest of the day prepare list what day of the week does christmas fall on this year what is my most played podcast play thinking out loud next what is two hundred divided by thirteen how do you get tweet to consumer service that they should strive to be more accommodating what is my next scheduled alarm delete my next event will i need sunblock this afternoon start a list of dog names set an alarm for six thirty am tell them that their lines were too long please set an alarm at seven am tomorrow morning have i received any emails in the last ten minutes read some more of the daisy goodwin book for me any farm markets around with local products show me all the shops that i can find in milan please turn off the porch light lets play checkers go to pandora find twenty one pilots radio play please remove the next event on my calendar give me the driving directions from faripir to gurpur add this new email with contact what events are near me i need an alarm for nine p m talk to me play seven habits of effective people reply to the email received from jennifer wake me at seven am lower lights now show me more about the presidential election is the weather calm today show me my emails from the past hour shuffle my workout playlist meaning of a particular word cancel schedule for seven days from today convert eight thirty from gtm four to g m t five thirty what are my current alerts call pizza hut and order a large pan pizza with ham and mushrooms what are todays top podcasts remove sample meeting from calendar app olly what is the traffic like what is the us dollar rate today place order of one pizza tell me your answer song identifier is there any email with subject please increase volume display the seven day forecast for this week tell me the top stories on the la times how many hours ahead is n y c play my favorite playlist can you pull up the latest time so i will not be late for my appointment what are the b b c poll predictions for the upcoming us elections do i have any new emails in my inbox today brighten of lights in living room order two cheeseburgers from wings n ale on university drive who sings the song that i am listening to right now how warm is it what alarms are set right now what kind of music do you think i like i want to know everything that breaks about the dam breaking in california play me some pop what topic is the most talked about today read that list back to me please what music do i prefer other songs by this artist open emails remind me after an hour to go for shopping give me the news would you like to play a game with me i need to calendar a meeting with allison on monday at ten am tune in to bob and tom select the next episode in the podcast please four plus five equals nine i need to confirm all meetings for today can the invite person make an alarm for five p m on tuesday tell company their service is bad turn on an alarm for three thirty p m today give me a geographic fact about vilnius please tell what would be the weather in washington d c for the coming week alexa is traffic heavy on route eighty today resume playing you are joking mr feynman change the light color to blue alexa send the email to this new email address hey google email to caroline how are you can you send me updates on last project cheers tomasz move buying eggs item to trash from to do list tell me the weather for this week what is the population of alabama delete next event when is easter in the year two thousand and eighteen can you add my business meeting to the work calendar to get more information about a historic event show me recipes i want to hear the latest podcast episode of south town will i need a sweater after work tweet for me the complaint about disease prevention good night how are stocks for google remind me about the meeting tomorrow at six whether it would be sunny in califonia what meetings do i have next thursday define word start celine dion songs olly quiet make a new email for emily what spices are in indian food olly read my lists to me add gold digger to queue tell me all local events play love songs what are the latest mails i received please put this photo on my instagram start the poker game is soft cheese better than hard what time does the train from new york come in olly go back to the podcast before can you remove my to do list turn up the sound list top five movies of emma watson best bar in local area one dolla equals how much inr olly cancel yoga alarms send email to gbaby tell her gma loves her and hopes she has a great weekend play me some music make a list lower the intensity of light what events are scheduled next tuesday between eleven am and three p m please tell me the latest news about politics please check the trending topics on twitter i want to listen to george strait hey start vacuum cleaner robot please add list of things to buy for party turn on the fan socket make an order for noodles one pack make it as takeaway order olly save all the songs i have listened to more than once is fish and chips really british i would like to reply to sarah is email olly add dinner with jane on february twelfth at six p m hey olly cancel all my other meetings and calls for second march as it is jim is birthday tag it as an event in your calendar should i keep my windows open tonight is there any post from my friend mike in facebook how did george rogers clark die please schedule all my doctors appointments audio start what is on my calendar this month please define the word hypocrisy loop this track olly email jennifer the new schedule of the meeting for tomorrow play hip hop songs what time zone is in cuba is it second saturday on twelfth open the internet find out what song this is and tell me the name can you turn off my bedroom lamp please tell me local events open pandora and play top hits do you want to hear what have happened today how far is it from new york to japan what is the name of this song playing right now please play workout playlist what time can i catch the train to d c and arrive by nine am remind me to go to the store every friday what is the current temperature open calendar schedule event meeting add on calendar birthday party tomorrow two p m for jane at her house play me all jazz music change color of lights explanation of the song contacts do i have anything scheduled for tomorrow set alarm of whole week morning ten am in april month add coffee to the grocery list i want to hear this podcast what is the time in new york now erase that item from my list current emails play some boy band music book an outstation cab of ola can you give me some idea about dance bar please modify my calendar with this event remove books from list what is the one night with paris what is the name of the best italian restaurant set an alarm for five am is there christmas on twenty second please block off friday at eight am on my calendar search for the best spagetti recipe send a complaint tweet solution for eighty one divided by nine send email to boss to meet for performance review what are todays country hits get me a train ticket from mumbai to goa join this google i need one train ticket to new york can you book that for me i want an alarm for three today repeat previous song please add a four p m appointment for every tuesday what is weather today clear all concert schedule send a post in instagram give me the opening stock price of infosys technologies today how to i get to cape cod can you give me the time in this time zone where is the nearest restaurant here please add this event to my calendar is there anything i need to be aware of check to see if i have any new emails from my dad read back my grocery list to me could you delete all my appointments on calendar olly set a reminder for my meeting today any fresh news on brad pitt what is the current weather in new jersey mute speakers how many days are left in this year tell me if i should use the train or bus to get across town today show me events that are going on right now turn on the robot vacuum cleaner i would like a coffee now locate jen is most recent email so i can reply set up a daily reminder for me i need a meeting with the c f o on thursday should i bring warm clothes suggest me some metal music i need you to convert nine am c s t to e s t time find me some talk back radio convert current time from ist to e s t can you make me coffee now define swerving remove my shopping list how much is apple stock worth tweet samsung and tell them to stop killing people with their products send chris an email say do you have plans tonight want to go to dinner delete the last line remind me when it is lunchtime reply back to this email display list of recent emails show me the places where i was send this message to the family group please play yesterday from beatles what is for dinner what is the latest news from syria create an email to my brother asking him what time he will be over for dinner show b b c report of migrations start a takeaway order for me shoot dale an email response warning him about the gulls at the beach play the next part in this series its too bright in here olly show the method to prepare ice cream rise volume please send an email to uncle john telling him that i will be there create calendar event hey olly can you please make me a creamy coffee can you play the podcast from tomatojuicecom open harrypotter audiobook and play from last played create list what is the weather for the entire week any new email from john tweet a complaint to apple that their battery life is terrible definition of arrow please book me on a train leaving penn station tomorrow traveling to any city more than two hundred miles away hi google please send mail to mom i am coming home on this weekend play hip-hop in hot ninety seven how do i get to the grocery store which lists are present in the notes app pull up my party playlist how many pesos to an american dollar do not wake me up tomorrow olly weather conditions for the next day please check my emails for me please repeat the last sentence from that book find a train going from prague to brno can you book an uber for me when is my daughter birthday am i gonna hit traffic do i have meetings today how many people are attending my next meeting is the road clear in florida weather in miami please turn the lights off in the bathroom add this email to my contact list clean my house has the dollar rate increased get me new mail what was the last movie that brad pitt starred in add soup to my shopping list add yoga to my calendar for friday what does pda mean tell me the weather for new brighton pa olly make me a capuccino tell me what is going on with facebook find my shopping list and delete it i am unavailable from four to six in the evening tomorrow mark my calendar change the lights to red tweet the service at moe is diner is terrible play music playlist is it raining later today is keith richards dead i want to cook pasta in american style show me how start candy crush turn off on the socket dollar rate at present how do i make cookies set alarm for one hour from now remove fruits from the list turn off smart plug socket olly make me some coffee play me the top one radio channel suffering consequences have i received new emails in the last ten minutes hey i saw a dog today let me know when a new email arrives from rachel history i am no longer going to wyatts birthday party hello hello start the league of legends game activate vacuum is it currently raining do i have any reminders do i have any off days this week turn off the sound remove ashley from the wedding invite list give me lists were the stocks rising or declining recipe for meal exchange euro to dollar when is the next train arriving to union station from grand central station how do i measure a liter of milk please play thirteen lower the lights in the house set up the meeting with justin and katrina send mail to ismail for office opening time table check weather hey what will be the predicted weather for tomorrow is there a birthday party today turn the lights off in my bed room let me know what is remaining on my query what do i have going on next friday turn on the marc maron podcast please find a contact number of jayesh and tell me do not speak for a while list all train times to ny alexa add grocery shopping to my to do list how do i cook a hard boiled egg get news from b b c email family with details of the party it is really loud can you please turn the music down are there morning shows available play a race game how many records did prince make name the singer just play nine hundred and thirty seven f m is it the twenty ninth already any new email what is the weather in utah what is the exchange rate for mexico money can you give me the movie schedule august fifteenth is what day of the week olly turn off the lights what is the weather like in miami florida today increase volume set up a meeting with my tanya for every thursday at ten am tell me the local events any good drama released recently in the cinema did i leave myself any reminders play a movie i will like are there any reminders set for today where is the closer starbucks find places to eat near my home where is a good place to eat cheap pakistani food remove tomorrow is alarm what could be the time in india what is one dollar in euros what is the time in the midwest right now buy train ticket remove that event from calendar which restaurant is there in shivaji nagar play football with me where is stockton california world local news today was a very hectic day dim the lights please may i know what is at location one million two hundred and fifty eight thousand seven hundred and forty five tell me movies playing in oceanside tonight what is rock sand list exchange rate information for the day for u s d to jpy what is tomorrows date tweet esurance and tell them they suck turn to station one hundred and two point seven ally describe a potato please set an alarm for tomorrow is meeting at seven am please set event on monday open davinci code audiobook olly set alarm for reminder go to my classical playlist can you please turn off my wemo plug add to calendar may two is mary is birthday repeat every year what events are happening in los angeles book a ride from new york to orlando covering ten places to see i want to turn on the robot vacuum cleaner where i went today olly i am not tired i am actually happy where is located the biggest waterfall in the world what is trump is approval rating tell me the today is date wanna netflix and chill what are the coordinates of the equator how many cups of sugar in texas sheet cake frosting email the message hi come down for dinner tonight to bro play some carnatic songs remind me to go to dinner with dave on friday at five p m weather on monday order a pizza tell the latest news about the trump what do i have coming up olly cancel all events in the next two days tell me quotes that have to do with love the date today please set meeting for january twenty five what is new tell me a funny joke update me on the standing rock protest set alarm for tomorrow morning at six am what do i have planned for this week tell me if global warming is true turn off my alarm resume playing the current audiobook how long will it take to get home what is the stock price for tell me upcoming event is is the dollar stronger than the pound will there be a fall in temperature by tonight terrorist activities where can i buy sports equipment near me please say to the email that sent me george i need the money now it is urgent review set alarms what is the latest news from b b c when does iphone stock usually drop let is play which river in germany is the biggest i want to buy over ear headphones with minimum frequency response of fifteen hertz and maximum frequency response twenty two thousand hertz i need a taxi at eight tomorrow morning to take me to work do i have new email do they have any events going on downtown this weekend will you mark that i am busy for an event tomorrow at two p m play nine hundred and seventy one find area call taxi add song to running list repeat earth song hey i missed you tell me some funny joke to laugh how many reminders do i have power off please what was martin luther kings birthday show me recent emails weather conditions for the next day what is four plus five is there any rain in the forecast for the next week can you delete the dentist appointment delete call newspaper from my vacation list minimize the lights how is the weather in this week what a sunny day where does this friend live current date tell me some best tourist places to visit in america tell me how to make a poor boy sandwich how much time is a train to there please lower the speaker volume who is the song playing by remind me at six thirty p m make an alarm for me at five am tomorrow was there an appointment set up for saturday what were the last five lists i made set track twenty eight in music player on repeat what is the time difference between eastern time and pacific time can i wear shorts out while shopping today what is the headline from today is morning local news what were the first number of email subjects i got today what is today is climate here how is the traffic from home to work call me a taxi olly turn on some rap music i helped a poor needy today reply to email from name open bad religion folder is my calendar free for thursday what color should i paint my nails how to cook a pizza am i free between six to seven p m will i need a jacket get route for los angles from here what is the song please remove tricep pulldown from my workout list read information about calendar event on march nineteenth at two p m please play music when do i need to pay the bills i need to know if mr pizza delivers i challenge you to a game please remove this list call sarah play party songs please tell me the current date what is time now in japan compared to u s a directions where was marlon brando born olly hot and sweet soy based do i have emails from this sender open spotify and play personal channel it is cold outside play me taylor swift is newest song post a new status on facebook saying that i am enjoying the nice weather any new emails from derek remind me about tuesday meeting with client at ten am tell me the current time turn off audio can you order me some pizza how hot is today remind me for tomorrow meeting start radio station one oh seven point five f m what is the definition of marinara any upcoming events next episode i need to get going at eight am tomorrow set up an alarm thirty minutes before that start chapter five of physics for future presidents what is the difference between roman and grigorean calendar give me the idea of current traffic condition play hula hoop next send a tweet to walmart customer service your return policy stinks can i please have a cafe americano olly what is the song turn up the lights in the living room remove emma is birthday from events what is this thing what are my lists so far book for me an uber taxi to bardonia send email to mom asking about the weather can you turn on the hit song of lady gaga start the audiobook file for where i left off in a tale of two cities social media updates book a taxi to pick up shelley hennessey at gate four of the airport for the arrival of aa flight five thousand four hundred and thirty one at three hundred and twenty one on friday near by grocery what trains are available customer service complaint tweet the following let is play a game of trivia resume the art of war play david bowie any activity in the area can you save this what a nice song for me what time is it in las vegas can cats eat fish please tell me what is on my to-do list for today open email for unread mails read most recent reminder how many lists do i have in contacts what am i listening to add my opinion to this song great i would like a cappuccino please what is going on here add work email address n p r ted talks the song makes me remember certain memories do i have a game on april seven what time is it relative to new york can you drop a beat for me open twitter type my complaint and post to at consumer service what is the factorial of ten next play summer lovin order a smoked meat platter from beanos show me tomorrows weather in this area add a meeting at the office with brian for three p m on tuesday play some calming music for me stop play me some jazz do i have any new emails play next episode of podcast play do re mi what is a geographic fact in this region how long does train a take to get to station b check any email if i got from rohan expectations i would like to have a sushi can you order me a lunch olly make me a coffee what is the last email i received open c n n app when will i meet with joe next what is the current central time tell comcast i am still on hold facebook status busy day do you know what day it is play best friends by yelawolf start email what are we doing today with ourselves tell me where steve jobs was born what movies has clancy brown played in if i call mike in california at six p m what will his time be alexa change the radio station what is a ferrari alexa please turn down the lights in the living room calendar erase all repeat alarm do i have any music by lady antebellum let me know what is accumulated in my inbox since three p m resume animal farm expired products in recent market tell me ten minutes before meeting olly order one coffee to starbucks coffee shop vacuum the house get it in my device how soon can we expect rain make a calendar note exhibition two thousand and seventeen mass on mar twenty five make a coffee olly find me the cheapest train ticket to spain what is the price of euro to u s d change mountain standard to pacific i am thinking of a number one to ten do i need a jacket this afternoon what is the exchange rate between the british pound and the u s dollar give me the birth details of abraham lincoln i would like to hear folk songs from one thousand nine hundred and sixty eight will it be windy tonight hey olly what is in the world news right now send mail to bubbles i want to meet her tomorrow at two p m in office alexa please send an email to mom change the lights in the house to green turn the light off in the living room show me nearby musical events donald trump what is the time in the mountain time zone what are the current stock prices for google order chinese food jazz could be choice for me could you please tell me what the current time is what is in my favorites music folder send an email to rae telling her my phone is back in service do i have any new email from ryan tell me the largest ocean in the world please remove all items on my calendar has john smith sent me any new email please find all name start with alphabetic of g and create a list restaurant order status give me the news update from b b c what is scheduled for today what else is missing in the diary olly i like to listen to jazz define framework is it raining in toledo right now send email to jerry about the meeting add this to the list i need to go to lyon book a train ticket siri play my pop playlist what is the netflix stock price what is the weather near me this week add my meeting in google office tomorrow ten am please turn up the screen brightness all the way please add my pay days play radio disney hey olly what time does the four train leave the station remove chores from my to do list give me updates on this news what should i wear is it cold outside what is the mean sea level of that place can you direct me to the menu for the highest rated chinese carry-out near me i need a taxi to pick me up at the house and take me downtown save this event start b b c radio locate a recipe for thai fried rice this may brings given of these proble small to us tell me about rihana do i have a date for tonight i want to know who is at the top of the english premier league at the moment what is my friend joe is phone number weather in leisure city do you know recipe for risotto remind me at one p m how long it is take let me listen to the latest lovett or leave it podcast schedule city cab from home to airport at eight am add jane is birthday party for tomorrow two p m at one hundred and twenty three main on my calendar olly can you please add my dinner reservations to my calendar open grubhub do i have any meetings on friday is afternoon give me the address of my hairdresser for the meeting today are there any accidents on my way to work calculator start a new list please tell me the weather for washington d c remember to put carrots in there i would like my to provide all countries and peoples cultures and likes please start the coffee pot what time is the last train headed to chicago is this true about this date i want to order some take-out food what day of the week is the twenty fifth turn off porch light did i get an email from sarah play music from the jazz genre weather at the moment what is the trending now hey what time can i catch the nearest train to me how much would it cost to buy a share of target jokes play my favorite podcast find and queue all songs of kate perry and play all without shuffling tweet insight cable is customer service and tell them i have been waiting on hold for thirty minutes write an email to john and lee cancel wake up calls for this week play my best song who is the artist of the song playing now director who direct an act play next episode of harry potter by j k rowling how many alarms are currently set what is barack obama doing right now what is the composition of our nails current time in should i wear a hat today is my golf game going to get rained out is there any new emails what is john smith is number android find me the song currently playing set alarm for this event reminder repeating for ten times tune in to eight hundred and ninety seven f m do not let me forget tomorrow is meeting with sheila i would like the like in the kitchen to be a different color date with love the next day tell me where i should go for times send mail to sanantha about body exercise schedule speak louder please can i get a recap of what is going on with sprint right now wake me up on friday at five in the morning i need to catch the train play my soundtrack how long will it take me to get to park avenue considering current traffic that song is my favorite on friday please put dentist appointment at three reduce brightness did you get all that you needed today completely clear my calendar please play my shazaam playlist on the spotify app use this program using time settings tweet walmart and tell them their customer service is horrible i need a ride home my facebook update in every three hour should be available start radio b b c one save my song preferences on playlist what is the latest news the kids are driving me crazy que song let it burn does dominoes do takeaway how warm is it now change my music player volume to eighty percent play songs by nkotb can you tell me when friday the thirteenth will be playing on t v this year what is the dow jones at today explain how to sear a steak what movies are out this week turn office lights off i need coffee please preferably hot i fancy some coffee now show me train tickets give me a description of a boeing seven four seven play b b c radio four record tweet complaint to this company what is the definition for this object drop my june holiday from calendar remove all my appointments for today start the radio now on low volume include this event in my calendar olly how do i make meatloaf how many likes does my last instagram photo have turn wemo plug socket on can you give me a flash briefing i want you to play this game for me is susan is birthday on march one play some tunes for me change the colors please what are the chances of donald trump turning into a dictator set alarm for six am tomorrow what is the time difference between new york and lagos turn off kitchen light change the volume level to nineteen please turn off the lights now how far away is tweet at applebee my chicken was raw hashtag food poisoning how long do i cook maccoroni hey how is it going switch off main light olly it is too dark i can not even see my hands is it going to rain later today open the folder app please tell me my alarms i can not hear you in the following week repeat this event at ten am every day train times to new york take away all events follow trump campaign news feed is bills house number in my contacts open some cools jokes is the meeting scheduled for tomorrow recorded program may be listened on future days which alarms are set in the phone is it going to be sunny tomorrow tell me the office address of my brother you can also add additional switches to your home to control more devices start playing thinking out loud now will it be nice outside this week start play spider any breaking news when does the next train leave for atlanta fix alarm remove vegetables from the list open calendar olly resume the two towers check email for received from mom am i going to be able to mow the grass this evening i want you to fast forward the audio then resume buy a train ticket to cleveland for april fourteenth is it storming right now what is been going on robot do the whole house now book me a flight to mars next year delete all recurring staff meetings what is the news in my area turn down the lights i have a nine am meeting on wednesday send me a reminder email chelsea please turn off my patio lights on fifth april which day of the week i need to send an email to laura how many meetings did mahatma gandhi undertake is my order at domino is ready add newscast time to daily schedule send me a reminder for my meeting tonight find me new comments from my facebook show me where the nearest restaurant is please feed that i have meeting at five p m will you send a calendar invite out to james and alice for brunch at eleven am on tuesday hey i am having a bad day today what can i watch to cheer me up is there any news what time should i go for a hike how much for a train ticket what is the best pizza shop nearby i can not see anything start a gossip give me low lighting in the kitchen tweet with consumer service about problem i am facing with the product reviews of the restaurants what happened with it darken please add haircut to march twenty seventh at three p m twelve am removed give me the weekly weather near me play for me the music by the beatles who is singing this song where is yellowstone park located would you like to play a game with me olly who build the paris tower what the traffic condition outside my office what is going on with trump check new emails where can i go shopping in this area create an email that needs to go out to my family add milk to my grocery list send an email to my boss saying i will be late list all the events in my march calendar is jackie chan married what was the first movie of morgan freeman weather in dhaka when was madonna born are there any good movies running in nearby theaters can you play my last song what is new today broadcast the health show from the kitchen please turn up the speaker volume how much is the average house train ticket please cut wemo power please did marckel replied to me on mail hey i just lost my wallet today let is play my most played song list where is san francisco create meeting with paul tomorrow at six p m hello tell me that list i wrote two days ago i do not need the lights reserve a seat for me on the train march twentieth please play the top forties hits on pandora can you make me some coffee olly get me a train ticket to go to notifications set a thanks giving event for friday give me recent emails remove table from furniture tweet terrible service what is the song playing where do the rocky mountains start what is the weather going to be like today in tucson add the new email to my contacts delete the grocery list please be silent get me a ride on the commuter train from nj to ny what day of the week is thanksgiving can you set the living room lights to pink search for emails from my boss michael play an f m please remove that event play the latest rock songs having rating of four or above does restaurant have takeaway play it again please remove what is on my shopping list it is quiet time erase item from list i want to reply to allen play the miami heat and warriors game what is a description of a virtual reality headset what is the latest news on global warming clear my calendar i would like to listen to celine dion will there be a world war four hey olly turn up the lights a little what is the largest continent in the world please play shape of you by said sheeran it is a sunny day today right i would like if will be smart and intelligent in way it will be familiar with me and recognize the way i like the result will be food order from grubhub do i have any new emails from sarah add a meeting with francine for two p m tomorrow look up news articles about trump set repeating event gym day on calendar please resume current song of masti what is the current time in lagos nigeria please turn off the light of my son is room add paper towels to the grocery list what is the capitol of west virginia i want to listen to the beatles greatest hits i would like to know what time it is right now how would you describe a ball what are all my lists please select station you want define broiler for me what genre is this song currently playing should i wear winter boots when i go to the store delete my next meeting from calendar change the station to eighty two point four can you find an animal joke for me play all the latest pop songs olly set lights to twenty percent can you tell me about the traffic where does sophia vergara live i did not get the product on time send a tweet to jcpenney can you put on the giver what is a monitor i had a bad day turn the lights off can you set the alarm for one hundred and thirty what lists have i got set up please recommend a movie what day is the twenty second of may post complaint about service a is my meeting with bob tomorrow at three p m does my favorite pizza place available for takeaway start my most recently played podcast how old is morgan freeman delete marriage july three take me to emails from my boss ask joe and joanne if they can attend tomorrow is meeting at eleven am describe a rotor hello how is your day if i have five u s dollars how much is that in australian dollars please remove the appointment on april first please turn on my balcony lights i would like to talk about it are there any new emails yet countdown for the birthday of my brother alexa what is google turn off the lights in the kitchen find me the nearest chinese for delivery what is going on in cincinnati send me an alert and hour before my next appointment which book fair events are taking place next week in washington d c kill the lights who won the presidential election this year do i have a lunch on friday play music i have liked could you please tell me which is the good bar with food send hi in watsapp to vikki was this song in the top twenty where is the kiss concert what time is the alarm set for tomorrow alarms notify me about all meetings tomorrow mute for one hour swimming what is the weather for today make a repeating reminder for my work tasks every day at eight am is there room on my grocery list for an extra item email to my family saying i love you all send an email to peter and ask him how is he now can i do something to help him remove all the events from calendar what is the home phone number of mark cancel my alarm for tomorrow morning how many people live in oxford now play for me jazz music do you store personal information about me remove everything from the calendar i want a train ticket from los angeles to phoenix tell me what shops are nearby if there were ten easy steps to make myself rich what would they be any alarms currently listed remove that event from list make an alarm for four p m do you think i should see a movie or go out to dinner email my mom can i please have the weather for tomorrow here in costa mesa hey what is today make appointment for next friday what will the weather be like for this week make coffee i would like to place a call to amazon customer service how would you describe a happy birthday turn on the wemo where is my meeting go to the last episode i want to know the latest local news of the city make the radio turn on now is it colder than yesterday time time is the holiday party at the office history of abraham lincoln need a taxi tomorrow at eight in the morning how is the weather i want coffee everyday what time is my alarm set for tomorrow morning what is my next events research the clients that will attend the meeting there are certain parts of my day where i am fatigued olly delete my to do list can you please add my dinner reservations to my calendar turn the lights blue tell me what my next events are it is too loud decrease the volume freezing add podcast favorites to playlist and start resume the last played audiobook i just got an email from bill i need to answer it right now please remind me at five p m today that i have an event at eight am in the morning what is a good rap album that came out this year create event email joe and tell him to hurry are there any updates in regard to the election remind me about my lunch date for monday start playing my song list what is today is forecast for berlin definitions did you place the reminder about the meeting for tomorrow did anyone get engaged or give birth among my online friends what time is it now in new york please find today is stock prices for samsung company hey what will the weather be like to today in los angeles california start a grocery list please be silent until i tell you not to be can you please update me on my lists i need to start a list called by email alice to let her know we are on the way what are the latest updates on my facebook account set alarm for noon tomorrow what are the lyrics to this song desk lamp one off please list my query what is the travel time from here to dallas by train why do starving people keep having kids please check this companies stock olly i need to hear some sad songs today what are the latest world news has at realdonaldtrump posted anything new on twitter say a good joke for me right now tweet that product sucks what is going on today tweet a complain about my shoe color on flipkart what is rate of euro to u s d how many saturdays are in march olly give me some dim light remind me to eat when i get home where is the worlds highest falls what is happening in world news take me to the most popular post restart bill nye book what is the price of amd on the stock market play that last song latest new on international women is day please play james altucher is podcast set the event to recur every week alexa make an event reminder for a meeting with mona on tuesday make a grocery list please what time are we looking at right now i am tired of pandora please turn on the radio show me emails from my friends what times does the train run on sundays in beaumont tx i need to have location services on can you check remove all alarms if any how is the economy in fort worth compared to houston macy is forgot to ship two of my items inform them list upcoming events in new york turn the lights off in the bedroom not a good day where is artic ocean should i take an umbrella with me tonight what is two hundred divided by five delete my calendar education what time is it in mountain standard time show a new list turn up olly turn the volume up how much time to cook pasta send an email to my boss which place has more traffic shazaam do not ever play old list again play the radio on nine hundred and ninety nine f m only wake me at six am thursday so i have time for the meeting remove the party event from the calendar hey turn on your reminders for tomorrow is meeting at ten am when will my chinese food arrive make a list of management staff for the twentieth october meeting what is the weather report u s a today headlines delete from the calendar the next event will the restaurant deliver the order remind me in the morning to call my mother next train to orlando refresh email inbox what is on the new york time what is a good taco recipe post new status make sure my shuffles are always repeat and always shuffled what is the distance to the moon where is the grand canyon olly i want some coffee now play my top rated pop songs please repeat jazz tell me what time it currently is go back to the podcast before running competitions on the west side when is the next friday the thirteenth what is john is home phone number please post happy birthday u s a on facebook is it sunny turn light off how can i find tickets to the super bowl for under dollars each tell me if i have new emails it looks sunny and clear today is that true i need an event three days from now scheduled with amy start play road rash is this song ed sheeran bring up my latest emails tweet my complaint and mention this costumer service what do i need to know about the show cheapest flights to kansas city from dallas can you list out my meetings today i need to email susan and metion what things can not you do give me options for indian carry-out under dollars wipe my calendar clean please check the train schedule for wednesday at five p m going to rockville find an interesting podcast about last pritzker price winners what is the most current local news dim the lights in the hall read my upcoming events cease operating lights check out if i got any email email to caroline how are you can you send me updates on last project cheers tomasz let me hear some music switch off light compose a new email to ray turn on the rice cooker socket i did not want you to send that text yet wait until i say send repeating event meeting on mondays latest news story open news about b p oil i would like my robot to take my dog outside to go the bathroom start a new email to george brown get me a person a s a p please remove the parent teacher conference scheduled on march seven moderate what is jlo up to olly speak loudly i really ska music tell me about the alarm timings make sure to call the babysitter for date night on friday is the traffic smooth right now increase the volume to seventy percent i want to know what time it is what alarms are set post my business on all my social media sites give me a reminder notification on tomorrow is meeting at ten am i like this song what is it can you please repeat it once hey start an email to coworker time in new york now what is the latest on trump is travel ban what does triumph mean new message to newmail at gmail dot com check the weather of city alabama do i have anything outstanding on any lists remove the board meeting and reschedule for next wednesday can i get the directions to the nearest bar play the song by michael jackson direct me towards nearest railway station is it raining in boston what is a hibachi grill what is the capital of washington from four to six when do i have a free break play my most favorite country song give me moscow time please start a new list explain the book of daniel to me schedule a meeting this monday with peter francis in the afternoon add red wine to my shopping list write a complaint to best buy hey what is today is date tune in to my favorite radio station please open the country favorites playlist and play it on shuffle add new event to calendar and name as anna please run this game does the nearby chinese restaurant do delivery how many jokes do you know book a train ticket to new york set me up with a ticket for the five p m commuter to rockville how deep is the pacific ocean keep me up to date with today is n b a scores how many people are coming to tonight is dinner i need to add pasta and milk to the grocery list turn on silent mode until my alarm goes off let me see the latest in the news mute for fifteen minutes turn off bedroom lights in ten seconds what is the time in china ok google mute sound on speakers please what about ashwin what is the time for jimmy is party should i wear my sunscreen using my apps what time is it in england cancel sam is party can you speak a little louder unmute after what high school did halley barry go to what is my meeting at nine am is it true the hanging tree really had someone hung from it explain the geographical location of india tweet about what can be done for it remove events from my list set notification for news about the dakota pipeline erase all content in my calendar erase my next event tell me what was today is news from news provider read email explain quantum physics to me in language i understand i want the smart socket off now could you calculate five plus five can i get the current time i am bored who are the greatest guitarists of all time what is the definition of subjegant give me a reminder twenty four hours before my friday meeting with edg new policies what is the weather like this week change the lights to blue olly could you please check the traffic to our home remove my car payment on my calendar please play michael jackson album cancel my three p m alarm are you happy does charley is steakhouse deliver hey olly what time can i catch the nearest train to me where is yellowstone tell me the name of that song earth info start music app and play a song for me have any emails arrived in the last fifteen minutes network podcast today some things happened tell me about the latest political news open events this week do i have appointments today lower the lights please remind me about meeting tell me everything about albert einstein which day is friday the thirteenth this year hey olly what time is it in london now is everyone on my facebook list watching the game resume audiobook playback alexa play chess with me find a kid friendly event in me area for tonight send new email to joejoe at gmail dot com play the station one hundred and two point four the buzz erase my grocery list save this song in my great songs category slightly raise the light please add my next meeting turn off the living room lights accumulation of snow predictions in buffalo i want some curry to go any recommendations please talk softer what will be the weather update for monday noon up umbrella later turn off the speakers live show reminders tell me about any pending reminder open calendar set event sex is it sunny outside i heard about a breaking news about our new provider please check the news and update me give me today is sports news what is the us dollar to euro exchange rate tell me something exciting play eight hundred and eighty nine reply to dad write i will be late please make arrangements to make the hall so brighter please play any music created in the decade please mute the television for one hour mute yourself until five p m what is ten divided by five what is the current state of the investigation into trump is ties with russia tell me about this song can you remove seeing dentist from my calendar set a reminder put this american life on the car radio skip to next please open a reply to the email what type of weather can i expect today what is time what is today date i need some more lights how is the day outwards check for emails from my employer show me the best podcast of folk songs having rating of above four star and play it please play the local latin music channel on the radio play the podcast named ringcast i need to have better focus olly i could not concentrate on a single task i would want you to tweet for me at india consumer complaints forum regarding the late delivery of gas cylinder healthy foods launch super mario tell person a i want meet him today check mail for anything from shelly add a meeting with my mother for next sunday set an alarm on wednesday noon so i can register for early adopters program tell me today is date start radio station for me set a reminder for a meeting at two p m tomorrow between myself and john save my music preferences start reply remind me about my eye exam at walmart on the twenty sixth did i tell you to remind me something how many euros can i get for one dollar hey what does incite mean activate the vacuum remind me to take my medicine every day at seven p m for the next two weeks olly today was the best day of my life when am i supposed to meet barbara for lunch this week ok google schedule a meeting with the v p of the department on the twenty first of march two thousand and seventeen alarm if any new reply from the boss could you please give me up to date news headlines from my newest provider post this to my facebook l o l train time from brooklyn to queens hi there tell me latest updates of times of india page in facebook what is happening on social media right now who is taylor swift please tell me a joke play the two towers play for me madonna song from audiobook please describe this sunset for me what is up with the new provider update me on stock price of this company stock check to see if my mom sent me any emails how long should the drive to work take what events are in my area book a train ticket from canada to las vegas book and pay for a train ticket to denver for saturday what is the birth year of barack obama play this song on twelve am look up recipe and guide for this dish remove my early alarms i need a train ticket to what was the latest post any high priority emails to listen music can you please create a list for me what is the weather like in new brighton pa set lights to twenty percent remove grocery list please order a train ticket to boston is there any chinese places in benton are what is the climate here today activate robot cleaner in an hour please turn off the lights run coffee maker play bilando create a new list of please set a reminder alarm for three p m on saturday are there any interesting events around this area prepare a new list olly i will be seeing my therapist every thursday at two p m what is the worlds record for the longest head of hair how many songs did michael jackson write does miley cyrus have any siblings i want you to mute does donald trump have any ties to russia comcast sucks put that on their twitter account are there trump updates give me all my recent emails play the last played playlist decrease the volume to ten will the pizza be here soon where is george w bush from hey siri what is in the world news right now i would like to cancel the trip to vegas next week post a status using the latest notes i made in my notepad every light of room increase its intensity i wish to listen that radio channel has the war in syria ended read my to do list make alarm reminder for calendar on mobile charger plug what causes osteoperosis olly send email to family member and read it first create a meeting event in my calendar write and send email to my boss submit a negative review about a company who is barack obama play my motivational playlist which bank will give better rate for currencies i have please send a mail to my hubby i will late tonight look at my email it is cloudy today please tweet on dell service for delay services i had a relaxing day today one thousand two hundred and thirty p m already you will have a meeting in ten mins is there any event marked on september twenty two convert eight am manila time to new york time what time zone is arizona in time between us and canada current weather forecast when is the next septa train to philadelphia do deletion of next calendar event i need to change the color of this light what is the traffic this morning exchange rate from cad to u s d what is the recipe for fish soup check and see if i have received any emails from eddie richards having to do with budgets what is the current news today do i need a hat lower the lights a little more how many alarms have i set what is the weather at home news from c n n current time i want to listen to podcast about rock and roll i want to book a train ticket off the plug run radio program skip to the next episode in this podcast turn room lights off now trivia disable alarm for three p m do i have any remainder about birthday party ask me an arithmetic question create new contact with email mike and jack should be added to festival calendar tag my tweet to provider how many seconds are left to complete this hour let me know the weather for today please tell me the date please turn on roomba take me to a video of how to cook spaghetti quiet time bring back talking after i need to organize a meeting with sarah tomorrow alexa about reality in world clear event from calendar and refresh turn on a song how much money in us would i need to have a thousand pesos give me best cooking ideas info on this week weather when is the next train to cornwall what exchange rate does the us dollar and the euro have please write up a compliant has tom emailed me about ammunition send an email to my mom play madonnas like a virgin how tall is tom cruise lets have a break for five minutes schedule brunch at ten am today and invite tiffany and jessica please source and destination shut off lights how do you make sunny side up eggs what events are scheduled this week i had a great day today play this podcast calc i want meeting with person a today forward episode of nyt podcast reddit popular what is sean connery is birthday search my emails with subject including work hours add this channel to pandora please tell kmart they sent the wrong item details open the two towers load up doctor demento and play it by my bed olly remind me i need to be at the library a week from today at five what movies are showing in cinema today can i order take out food at this time find me a time for a meeting with allen on tomorrow set an alarm for two hours from now do you have any suggestion action movies what are the show timings go to email and send message to stock company name please provide current time in india play me a radio channel for trance music normal temperature list next month is events i need you to mark next monday how many people live in san francisco add bob to my list of contacts read out my shopping list for today check recent to do list olly what is next what time does the train arrive what is the exchange rate between the us dollar and the euro what reminders do i have what times do my alarms go off i want to hear my favorite song from iron maiden is fox news reporting any breaking news at this time cook me some oats i have a meeting tomorrow morning at ten please remind me what is on my list please tell me the latest news play album what day of the week is valentines on what meetings did i have last week fast send an email to julie that i can meet up with her on saturday at one p m please continue with the next podcast episode how long is the walk from nyack to valley cottage when is the last time i contacted john smith what will the weather be on friday is the road in some particular area wide or narrow remember to fix a meeting between me and the players tomorrow evening by seven what is it like outside what is the time difference between my location and hong kong remind me about the party tomorrow when is the wedding scheduled are storms likely today next button i am busy tomorrow so delete all calendar events begin new list of lottery numbers what is going on in the world today play run for how many years did mahatma gandhi live tell me the lucky color of today tweet to ikea costumer service the following i am not happy with this new klm product can you tell me if i have got any unread emails from today please go to the local sports talk show on the radio add shape of you to the current queue what is three plus four alexa play a mi song of rap and rock one after the other what is the time over in florida get news from c n n email george brown read me the latest headlines from nytimescom set a reminder for this what is souffle i love the song do you dim the garden light by half what is jeff is number let me know the time of the train to new york i want to listen to the radio turn it on for me open social media account what i like today where in the world is carmen san diego open the two towers and play could you create a new list for me play san andreas game olly play be warned by tech nine how to make cheesecake olly let is email sandy between may one and december thirty one what meetings occurred has mom sent me any emails please destroy this list what is one hundred and twenty three times one hundred and twenty three where are the rocky mountains located what is the best chicken place near me what day is the meeting on what do i have to do today please post this message to my facebook page play the song let it go go to next episode what day of the week is first april alexa what is computer do i have any new emails from my contact q your recipe of steak was superb what is the cooking time for mashed potatoes tweet at a complaint i would like a wake up alarm at seven am tomorrow mute the speaker please google maps remind me at the start of each month who is the music director of this song what movie should i watch today all food items with the prefix dry should be taken away from the list remind me of the event in my calendar tell me the humidity level downtown today fine what was the subject of my last email to tom please wake me up at eight am resume a song from the audiobook by michael jackson are there any roadblocks olly is there takeaway at papa john is what time is it in miami florida please remind me of going to gym every monday morning on sunday night find the latest disney podcast celeb info what should we do as progressives about the president the volume of the music playing now should be raised can you tell me a nice joke lower lights in kitchen please tell me the date for the first day of next month describe what a chair is play ninety three point five f m volume control i have a doctor is appointment at two p m today what days do i have booked how many cups are in a quart please schedule a meeting with derrick in haysi at noon send me alert on any new topic on politics where is the fire lower speaker volume tweet bad service related to out local haskell mcdonalds how cold is the weather right now john marriage anniversary email naty for her birthday find me a recipe for chicken noodle soup please play the news channel so that i can hear some news what is this weeks weather forecast give me the details on purchase order should i bring an umbrella with me right now show b b c news live can you sync my calendar with mark remind me about tomorrow meeting at ten am how old is joanne keep that song for when i need cheering up add events delete trip scheduled july fourth what is your favorite color denmark geographic location i want a nerd joke hey siri play me an automated playlist based on songs heard in gaana app this week play my workout playlist book my train ticket to new york turn off the lamp in the living room best reviews restaurant in south sacramento add sam at gmail dot com to my contacts list play prairie home companion on the car radio what and how is india is economy at the moment commence coffee making play reggae music give me the most recent stuff you have angelina jolie book a train ticket with a berth seat to lucknow for next week set alarm half an hour from my meal time please let me hear six hundred and sixty six the number of the beast new york how is a typhoon defined make a new list for me the definition of beauty play log a complaint about smart t v to sony customer service who is the song writer order take-out play music by taylor swift clear everything off my calendar for the rest of the year what percent of my money did i spend at the mall today i need an alarm set for eight am start a small chart file storage when does the next train traveling the the city leave here play hot ninety seven i would like to get on the next train that will be departing indianapolis headed to chicago turn down volume twenty percent what is the weather this week send me the last list uploaded weekly badminton classes start tomorrow and will end may one control lights turn off room lights hey play that podcast i stopped last night remove buying eggs item from to do list how is traffic from work to home what ever happened to john gresham tell me latest technology news give me the weather for the last five days please give me detail of one yen equals dollar is this week a payday week remind me to look at the pasta in thirty minutes compare prices of dairy items in local shops do i need my raingear how do i get from where i am at to universal in orlando florida could you turn the light off remind me clock that i have a event tell me something about america has my boss sent me new emails today stock price for gss energy click save play volume two of nutritional facts restart audiobook play me a random song i need to book a taxi play my sadness playlist play my radio station if it is twelve hours ahead of eastern standard centaur time what is the time in the philippines now book a meeting with chelsea i have multiple meeting today remind in thirty minutes interval before the start of each meeting what is the latest news about donald trump current stock price intel what is the lowest microsoft stock price today start playing bag of hammers google the object and see coordinate all pop song genres tell me when there is new news from my local news what is the interview time from yesterday is email send email to family saying i love you all what is the date and time for today is it cold out my party list i no longer need the daily five p m alarm did paul email me recently change my clock to central time zone from my current zone open iheartradio rov the rock ok google what is the weather where i am at today what is the time in las vegas olly what is the sum of the two numbers four and six set a meeting event reminder with mona on tuesday tell me the time in moscow where is the nearest gas station set reminder for meeting at three p m tomorrow when is it going to snow next do i have any unread emails from chris thompson where is the nearest bookstore can you remind my next meeting with my boss one hour before it will happen when i will get the delivery assistant please play royksopp running to the sea how much money did will ferrel make for his last movie show me prince is biography how many square miles is the average country on earth has amy sent me any new emails make an alarm for the meeting with bob at seven today what is close by for dinner what is playing in the roosendaal cinema what alarms do i have set for thursday please tell me how long do you think trump will last olly i need that appointment posted to the calendar let me know what maria has put on her facebook over the weekend clear data using play pause button ok google where is the best and most affordable place to stay in san diego please restart and remove all the entries in the calendar get latest news report on kidnapping in ny save my music choices how are you i want to listen to classic rock order me a bowl from chipotle take-out olly is there a well rated pizza place between fourteenth and eighteenth streets play my music compose email tell me what is happening this week jazz when is saint patrick is day i want to know about this song pull up the news book me a train ticket what is the exchange rate from english currency to yen give me the local time of london olly book a ticket to paris on eurostar at five p m this friday i want a reply to the email let me know if anything happens on that subject remind upcoming event is is there a take-out menu at the restaurant turn off lamp what is the next episode in the podcast play it what is hair made up of what is the circumference of the earth play my last used playlist add an appointment with my dentist for ten am next monday say something funny please post this picture to my facebook please turn off all the lights outdoor will the weather be less than ten degree in paris do i have any appointments coming up what is the time in bangalore when does panama city mall open please tweet at bestbuy that i am not happy with their service today tell me what is on my holiday list alexa check my email who is the singer of this song right now i need to hear a joke can you tell me one wipe calendar clean where is the closest sainsbury is add a note to attend list out my upcoming events play news program have i got any new emails intel company stock price lower the light of hall percent what is the easiest way to cook pasta olly what is playing at brea plaza five find me the current weather condition write a tweet to burger king expressing my disapproval what purpose the event been scheduled for will you dim all the lights what is the departure time for the next train leaving new york city how long is this song request an uber now olly what is happened in the news today hi how are you doing today what is geographic value of great volcano calculate distance from boston to new york make me a cup of coffee play audiobook of planets please cook me a hamburger play classic rock open memo add note about my meeting remind me of my meeting with ms boland on wednesday eight hundred am on tuesday seven p m how does it look like i can not hear just increase the volume what is tom is phone number how is it outside today can i get a list of the news from the wall street journal send a reply to the last email manage facebook status delete event for tuesday please olly tell me the latest video going viral on twitter for topic narendra modi stop after current song play a game of contra as a second player should i be concerned about the robot vacuum cleaner upon startup add a new event for tomorrow at five p m meet sarah at the gym meaning of what is the capital of mexico complaint to department for food quality play solitaire how late am i latest finance news play next on podcast clear every single event from my entire calendar show me where i can find a hamburger define capricious noodles one pack make it as takeaway where is the nearest pub in the city is there any special in politic google i b m stock prices date of recording of the song playing skip forward to the next episode how old is miley cyrus set a repeating reminder alarm for the facebook event i have to attend on seventh april new email for contact what will the weather be in chicago today tell me the artist of this song does my calendar say i am free on april one two thousand and seventeen do i have a grocery list ready start from my last session of joes book how did michael jackson die to which event can i go in milan now is alex saved in my contacts list go to calendar and schedule event can it takeaway from ammi biryani make an alarm tell me about chuck norris please lights less brighter is bills pager number in my contacts show me shops resume the song from the audiobook by the beatles describe your list at nikesupport i need some assistance regarding some shoes i bought last week tell me the soup of the day at panera bread restaurant weather boston ma what is the best way to live what does today is schedule look like add work to my calendar for every friday is it thursday tomorrow ten day forecast what is the date today does love equal sex do i have any emails from jo continue playing where i left off alert me two hours before my meeting on tuesday with client happening at ten in the morning how is it going what is the most recent update regarding the hurricane katrina play only particular singer songs add my mom to calendar for monday brunch what time does the train run in beaumont tx could you please set an alarm at six am this song was very good is it going to snow this weekend here open playlist air pollution it is awful day it looks it will rain the whole day can you play some jazz play my gym playlist book me the cheapest train ticket to new york replace schedule a meeting with matt at eleven am on thursday play the song sung by katy perry how many teaspoons are in a cup please remind me for the function at miami tomorrow which day this week do i have plans play last reason podcast please pause yourself can i have today is date save my opinion on adele is song get rid of the wednesday list remind me about this tomorrow what is the current weather drop it from list check the events on calendar and delete the next event please stop for a bit have i received any new emails should i plan to shovel my way out of the house alexa reply to the mail with the following content hello you can you please play imogen heap remind me of the meeting on tuesday please write to this email to do list is barrow alaska above freezing during the year house can you make all the lights in the house blue i want to hear a station that plays r & b place order to pizza take-out for seven p m please remind me about this tomorrow calendar event send invite bill malinda who sings this please retweet this post on twitter please put this playlist on shuffle what is the latest story from fox news book me a train ride what day and time is the acme meeting in san diego california get me an uber do i need to take the umbrella out today turn up the volume on the music play country music read a poem for me turn on the roomba delete all events and tasks for today let me know about my meetings after some days remind me of the meeting on the twenty second of january is there a train from philadelphia to new york city at noon use in a sentence delete all events for today is mary is birthday party tonight can you tell me a joke hi play my playlist party songs what are my alarms what is new on my facebook account what is playing at amc twenty play a angry bird turn down the lights to medium scan my inbox for any new emails from robert do i need a coat what are the latest updates with regard to trump is ties to russia rock with rock star does kim kardashian wear converse what lists are open start spider what is the best way to sharpen a butcher knife save the information which is provided by aman on this song prepare coffee now the time the meeting start what is mr taxi is phone number it is in my contacts delete meeting how many countries are north of alaska what traits would be on a moral inventory play chopin tell me when martin luther king junior was born temperature this hour please tell me what lists i have give me the recipe of steak tell me a fun fact clothing add milk to my shopping list what is the rate between the u s d and ukraine is currency i want blue lighting what is the dress code for the party currency rate of indian rupee and singapore dollar thirty minute reminder on meeting for tuesday train times place find and delete all of my weekend events with evan parker how is weather on such and such day activate robot vacuum cleaner what is the radius of the biggest crater on earth will i need to shovel my driveway this morning current exchange rates for u k pound add my practice at king is park on feb four at two p m erase previous list please tell me what is the time in tokyo japan when is the next month that has thirty one days what is the exchange between dollar and british pound hey olly play me a popular hip hop song why is the earth round what time is it in tokyo japan remove list please play any country music station how do i cook a medium rare steak what is a banana tune into the korn morning show please abolish an item from list start game temple runner what is the weekend weather forecast make the volume to zero please turn on my smart plug socket can you please tell me what is the meaning of the word turnt show me share price of tata show me a map of everywhere the cat has been this week more bright what is the weather like on friday am i free this saturday what is the remainder when five hundred and twenty one is divided by three turn on all upstairs lights who is rihanna dating right now delete my eight p m alarm what store is having sales tomorrow how do you cook a good burger olly what time is the black tie gala dinner supposed to begin turn on my electronic playlist how has your day been today remind me to send that email later my mother wants to know what the weekly weather will be like send her an email take bread out from the shopping list skip this episode who are the greatest hip hop artists what movies has casey affleck starred in find restaurants within one miles do you have a traffic update show all emails sent to me from my boss start alarm any emails olly all new mail do i need my tire pressure checked new alarm for six am please change time zone to canada send email to mom saying happy birthday search on his interests add sally is birthday to calendar for saturday at ten p m can you tell me what movies are playing at the movies tonight olly set coffee to brew at seven am make sure bread is on my grocery list read my list to me i no longer need to see the doctor can that event be removed when is elvis birthday please help serve me coffee with a no sugar could you tell me the time in london march one is susan is birthday right remove upcoming task can i check my lists play squash with me what is the traffic today hi do i have any new emails play the podcast please turn off all the lights in the house turn the living room is light off how the people are suffering how you would help pull up all emails from my friend cat vonstaragrabber please clear my calendar of all events play my country favorites playlist for me what to do next what is open late in la olly open my notes olly trending social media where can i go shopping here where is place how much is a stock of apple worth remove meeting reminder for tuesday turn the room light off what do you know about fringe in edinburgh next year could you please book me a taxi going to location resume jaiho song audiobook turn the lights up tweet complaint to dominoes remind me about my next meeting with joe one hour before tell me if my alarm is set for the morning show me the time find some rock do i have any calendar events today skip to the next podcast start brewing please i do not want this list any more are there any m m a events coming to golden one center please start f m eight hundred and ninety radio channel wemo plug socket on brighten the lights in living room go to facebook then go to lori is feed post happy birthday lori exclamation point on her feed all music released between one thousand nine hundred and ninety and two thousand is only to played have i received any email since five p m my choice to play an objects from last i need to see my list did anyone message me on facebook open radia can you let me know the weather of alabama tomorrow please set the alarm for eight p m wednesday evening start the gilmore guys what would africa look like in ten years send a reply to mike with the answer four hundred and thirty from his email he sent this morning give me a list of all my reminders is the birthday dinner on the calendar for friday tune into the nearest english f m station send a complaint to walmart on twitter please send a mail to mr richard stating that i going to met him on first of february twenty seventeen at five p m at this office adjust the lights to a lower setting please get me some radio music from kamp f m send to jane only help play sam harris audiobook start the vacuum for me i want to listen to some gospel music tell me about new york play the last played audiobook open pandora play rock station mute sound please play only music of pop mix play with me describe joe for me please my sister just had her baby play song every time i see you what was the last movie will smith was in turn sound off on my grocery list please add oranges remove stand-up on friday at ten am should i wear sunscreen today can you tell me the date today what is my daughter is phone number pull up political news today from c n n today the following happened to me i had a meeting with george clear my next activity enable my plug display my list events description can you explain me the problems when the syria becomes more stronger than america turn off lights in my room weekend appointments tell me the recipe to cook pav bhaji what is the weather like for the next week in chicago need geographic information about italy i need you to tweet a complaint tell me which stocks were the biggest gainers in stock market nasdaq today make my usual hey olly tell me a joke can you upload my latest selfie in my social media skip this song please book train ticket to new york what is the weather like in chicago are there ways to go ahead and clear my calendar for the month please send a tweet to food lion about not having a clean restroom has david got back to me yet i want to make a list and this should be automatically saved as a text file with the title list set a reminder every day at noon to take medication send a sorry for your loss email to pat what is the name of the music playing now make a coffee for me remove item from list how much are train tickets to vegas how many weeks are left for christmas order food from applebees what is on my schedule next week play last christmas by george michael can you play the instrumentals of what is new in politics today can you filter out trump news though turn up the volume of my speakers what is the address for the event scheduled on the first of january alexa play happy playlist next shut the lights off in my bedroom please make me a cup of coffee please how much is remaining after subtracting four from eight i want to order some chinese food tonight what is delivering to me when is john is birthday can i carry out with this restaurant olly list most rated delivery options for chinese food security awareness show me a list of places where my relatives have been based on their photos can you send an email to my mother about the weekly weather how many alarms are listed show number and contact email of rehan set alarm for eight am what is going around in the world these days what are the headlines from the la times please send to new email address listed six am alarm please turn off the smart socket start my audio book from where i left off olly skip two songs turn on the geyser adjust media volume up hey olly turn off the light please please play red f m play blackeyed pees song do i have a meeting today what happened to my pizza order it has been an hour since i ordered please look up best recipes i watched the best movie please reserve me a copy when it releases olly what are some restaurants near me what is a good way to make turkey meatballs remove what i have to do on the twenty three of march tweet something for me does dominoes deliver replace the furniture with electronics on the list will there any events downtown this weekend what are the climatic conditions in that area i want topics on latest news what is the traffic like now add on my calendar for today joe smith at one p m show me the list of friends having birthday yesterday and i have not wished them raise the volume to fifty google news what are some restaurants near me today i ran into my old friend bob on all the button on dashboard is that the song from specter read me the last tweet from the washington post i need to make a list remind me of this meeting soon is there any news olly please resume my music check me into home on facebook what is the total number of islands in the united states rate five ticket for bombay what does turbulence mean add this one also math repeat this event every friday on my calendar what is the weather now contact pizza hut and order a large pizza with ham and mushrooms set a reminder of meeting at nine am tomorrow how long until we get to chicago what is inflation and explain it is relationship with the economy how much is the british pound i want to figure out the stock on microsoft please remove that event from my calendar search earliest trains to brooklyn ny weekends and holidays please defined about printing works answer to pawel is email how do i book a train ticket online please tune the radio channel is it going to snow send mail to someone convert five s d to rials what is the location of kentucky start up a bjork album for me can you give me the details of upcoming annual function on twenty sixth march what time is next meeting i am so happy today i got tickets for the concert continue audiobook playback change the color of the lights in my bedroom to red keep going on podcast please remove the following list give me a recipe for meatballs what is this we are listening to and the light began please send an email to toms principal in regards to the meeting we have tomorrow let me see what emails i got how much is indian rupee going against u s dollar pick up we left off on battle royale tell me the time of train vf i want to hear the radio turn it on please vacuum the house olly start some music play the radio what is the highest mountain range in the us start playlist and play music can you lower the lights order me a byron from deliveroo get eggs on the list show unread tell me about mary s are there any crafts fairs happening in this area do i have anything scheduled for today do i have any mails i have a new contact newmail at gmail dot com compose mail what is the quickest way to grand central delete my six am alarm play hip hop playlist tell me what is on the list does pizza hut have my order ready mute audio set an alarm for me at eight am who is the artist need to check my list hey can you delete the list of things i needed to get from the store when is my next appointment how much longer until my pizza will be here remove everything in the calendar when is my next meeting any events happening nearby i want you to play the radio i want you to play my michael jackson favorite song show me how to cook low calorie breakfast please play this game send email to current email address list the items on my shopping list olly please ring the wake up alarm at eight am next saturday what is the latest news on c n n what is going on with international news olly tweet google customer service their products are inferior make a reservation for two at olive garden add my sister visiting to my family calendar anything on your mind please reply to this email olly activate a different light color notify me about the evening meeting five minute in advance forward a mail to sandy go to the podcast and play the next episode in friends have you been enjoying your day so far let me know the recipe for preparing pasta set an alarm for ten o'clock tomorrow morning it is nine here what time is it in california call peking garden i am looking for reasonably priced tapas in miami beach how tall is a giraffe get today is weather report tell me how to cook pasta give me the exchange rate for dollar in euros remind me about calendar how many emails do i have do i need to put a jacket on when i go outside search google shopping for the best price on a monoprice mxblue mechanical keyboard who is currently the oldest living person in the world by get marks what i am going to do today i am not tired i am actually happy please turn off the lights in the bedroom play radio ninety five point five may i know the time in london switch on the radio and play hello f m station ten past seven what is the square root of nine what is trending on twitter start the laundry what movies are playing near me play american idol for me now fight me in street fighter olly make me coffee at eight am did you have a good day send twitter to mattel that they need to stop making toys in china i will take my coffee black olly i watched the best movie please reserve me a copy when it releases order a large plain pizza from mimo is for me what are next scheduled events change the time in this location to ist hey do you have home delivery let me know the time update outlook mailbox current currency rate email search new messages from play audio is there a traffic jam on my route what is the current traffic situation space research update work out list with new items what are the train times to chicago what are the upcoming concerts in dallas sound off please turn on shuffle remove the old music list when is the event how does production and population affects us make an alert for my birthday tell me how to stretch before running block one hour from ten tomorrow morning about todays headline news are there are any delays on my commute i want a lower light i have a dentist appointment on monday morning true or false olly louder what is the day on twenty third march make a new list for school supplies open audiobook is there anything new in my email folder what steps do i need to do for shrimp parmigiana play songs from playlist where can i find this song remove last played song do i have anything going on this saturday between two and four p m is it true that asia has only two countries what is my agenda for the remainder of the week tell my family this in an email what is going on with blank lights off in the guest room tell me this song what time is it right now how to get to cracow before noon by train set alarm to begin book a train ticket to read me titles for international news write a tweet telling macy is that they should be shutting down instead of jcpenney what is happening olly recommend me some shops to shopping in angel where can i order pizza for delivery thirteenth june is a day of election result please set it can many seashells did sally sell by the seashore is april fifteenth on a weekend will you send an email to this new email address play poker face by lady gaga create new message to robert at work what time you off from me send add dan at dancom to my contacts let me know if i have new emails i want to hear some jazz how many miles is it between illinois and louisiana alexa include this please start the vacuum cleaner what i can do with laptop put in next queue badra bahar by amit trivedi do not play this song again please turn off all of the lights in the house please add march fifth as john is birthday work sucked today olly alert me at three p m to go to the concert birthday wishes what time is it right now in australia remind me to tweet at this company tweet complaint health how many meetings do i have next week what day of the week was february four nineteen seventy two is euro the best currency to trade define inflation and describe it is effects on an economy who am i meeting today any meeting on friday music on set an alarm for me for tomorrow will the highest temperature be more than seventy degrees tomorrow give me the stock price of intel please provide geographic information about taiwan olly how many tornadoes have there been this month memo which song is this one do you think i should go to the theater today it was a work load day please make a coffee for me are there any emails from the school about my conference how is the traffic situation in houston street when is the next train to b street what is euro u s d right now give me the opening stock price of intel today will the weather be hot or cold tomorrow fire in columbus ohio go to favorite list any incoming emails in the last five minutes i want to meet with sara tomorrow lets converse on the subject can you remind me about my meeting tomorrow do i have any events going on this weekend reply to johns email call china wok please check my inbox for any new emails in last twenty minutes set a timer for five minutes for cookies sports show me the meetings held last month who is coming to the meeting tomorrow at ten am what song do i listen to the most turn the lights off now alexa remove dinner with mike from my calendar brighten up the lighting put the current song on repeat book my chair class a c train ticket from manhattan to new york lets play tic tac toe slow down the speaker volume please delete this file latest event in new york city can i get a taxi to come to my house in an hour what day of the week is the twenty sixth when is my anniversary open company name find feedback turn off wifi when you leave home to save power silent mode on for the next three hours will you send the email to greg can you play my music file do i have anything planned today will they deliver to me what is the date today give me the date of monday on third week of this month coffee make now what is the weather going to be this weekend what awards did erica grebe win last night find my food play the list from my favorites lower the volume to twenty what is new in news express put a record on which pole is colder south or north play crystal lewis is beauty of the cross for me can you write an email to chelsea what song is playing right now get info remember me to send the presentation today at one p m remove from calendar my medical appointment for today need info consumer desk scratch item three i need a meeting to be schedule with this person check emails from john what is happening in ny exhibition two thousand and seventeen mass on mar twenty five make a note of it on the corresponding date is it twentieth march today can you set an alarm for me please create a new contact information about jo remind me to pick up linda at five in the evening on seventh what events do i have between twelve p m and four p m is there any new unread yahoo email please make a list of thing i have to shop tomorrow get me the updates of the election polling repeat the current song do not speak today that is a good song i need to keep two toddlers busy tell me what to do can you loop the playlist themes set my coffee machine how much was airtel sold for sometime back turn off sound delete events new event how are you doing what is on my calendar today tweet about cold pizza to papa johns what are the specifications for the new iphone add a reminder on thursdays at eleven and thirty am and name it dance classes will there be snow this week change the light to pink color what is meryl streep famous for is it worth driving ten miles from here to save money on gas the song touches my heart read email from julia what is a trebuchet tell me about rihana what are the measurements of a rubix cube i ran five miles today turn on bjork what are the best recipes for pesto please add party at chucky cheese to calendar find out more about the annual tea party how long is the great wall of china find me the oldest hotel in washington d c can we turn up the lights is it cold weather there repeat calendar event do a tournament with me in candy crush post in facebook my birthday event olly i need next week is lunch put on the calendar add lunch appointment with lisa to january second at twelve thirty p m what is been happening for the last two months remind me the upcoming meeting at four am today is it true that susan is birthday is on march first get me top headlines will it rain what day of the week is my birthday this year give me the weather detail of fifteenth march how much rate will be calculated play newest reason podcast what do i need to make french toast delete a list remove all alarms set today olly lights off what is an organism what bands are playing close by look for song two and play it can you send the email to the new email id order chinese from china spring wonton soup and a small beef and broccoli find the beginning of the podcast play the song immediately hello my item which i bought from some one has gone out of order what is in the news when defining words give thesaurus and use in a sentence to make it clearer what year was the song created lights down remind me about my next meeting a few hours ahead of time what kind of music am i into how do we organize against trump i like r & b tell me which politician is being investigated play musician play list let me know when charges hit my credit card please delete the next calendar event that i have created brighten more light can you remind me to take the garbage out on tuesday search for new stuff on that subject did renee just post to my facebook feed can i get a train ticket to chicago for next saturday around noon what is the yen us dollar exchange rate olly tell me what is going on tomorrow post to facebook i am home remove the fundraiser for dolphines in april please do not speak what information do you have on file in my information about bill what time is it in hong kong i do not need this any more send email to naty play mp playlist from start turn the speakers down to five percent find me the recipe for a cake i am ready to hear the next episode of podcast can you check the facts on this issue wake me up in thirty minutes give me my list what time do the trains depart to atlanta what are i b m is stock prices get rid of peas what about this event any funny jokes what is the plan today start this week for dinner podcast olly i feel like dancing play me some rock north roll book my nearest available taxi go to contacts and enter a new email address what is today is temperature find me an uber food order from grubhub what are movies that are playing near me with high reviews any good fast food items is it raining outside olly i worked today i would like this alarm permanently removed set an alarm for tomorrow monday at eight am one hundred thousand two hundred and seventeenth have i set any alarm for today tweet that there was an insect in the chocolate packet send a tweet to dominoes about bad delivery check yahoo mail set an alarm for thursday at seven p m put crazy by britney spears on ricky matin define perpetual any new email how to repeat the song remind me two days before please remove tricep pull down from my workout list in march what meetings are available how much would it cost to buy stock in apple play me a prambors radio when gina and desta broadcast send me a reminder of my meeting with tom next friday get me a taxi to the airport right now let is play space invaders together what is on the agenda for the four p m meeting with joe what is today is date show me my meeting for the next month go to contacts and add a new email to the list remove the alarm please play next episode of podcast play music of david guetta can you tell me what the date is today can you create a new list send a funny message to all of my friends will i need an umbrella for today add buy groceries to my to do list for today i need to set an alarm tomorrow at one thousand two hundred p m to remind me to take my medication my events create a list of books to be ordered remind me to go shopping every week select the item fix an alarm i want topics on music look up what this word means angelina has a birthday when play britney spears live concert series what was the stock price for google yesterday where is the convention center located create new event on calendar john is birthday i can not hear you can you say it again louder let me know about any alarms set today which currency is greater the us dollar or yen i cant hear a thing please schedule meeting with ri at ten am on april first create new list what is the weather like now please turn off my alarm for this evening clear the dust and then on the cleaner increase the brightness of lights bedroom publish an email to my company worker with today is scheduled meeting information give me the stock price of apple where is the nearest italian restaurant send the following email to bro hi come down for dinner tonight send to the contact an email as follows can you tell me what time is it in new york can you add up thirteen plus five plus nine for me what is new about blank play my second playlist how is my schedule for the day weather of chicago recommend a local steak restaurant how long does it take water to boil remove the appointment with george adams from my calendar fast me the news of academy awards where is south asia located please make the lights blue update profile on twitter nearest way to return home where was steve jobs born morning what is up events upcoming please give me todays forecast for new york city erase calendar events next episode in the podcast please can you remind me to something in sometime is there any reminder for me my set alarms check instagram i want to reply check my new emails and tell me what are they about can i get delivery from dominoes add an alarm for tomorrow morning at six am let is have the radio on what new movies are good remind me of the meeting with my teacher today by five p m what region is miami located what day of the week does july fourth fall on this year emails from jane doe tweet a complaint to kohl is customer service i want to hear my playlist from that artist find me a recipe of spaghetti please tweet at nike my pants ripped after the first wash number nothappy i would like to hear some motown repeat daily these lights are too bright please lower them make a new list of dog breeds how big is japan please remove tomatoes from grocery list send email to tim at hotmail dot com please skip two songs i like to listen to hindustani music how many countries are in the european union i would like coffee now what time is it on the east coast of the united states olly tell me what is new current time in ny remove pencil from stationary let me know today is date in american format play track one from my david bowie playlist turn on the radio to ten fifty three turn on the robot vacuum what is the boiling point of water should i wear layers sometime today start podcasts on n f l search for gary mcnamara in radio please check for new email please delete all of my calendar events for the rest of the day set the alarm for five o'clock in the morning i want to know what the latest news please remind this sunday to go to mass mario how do you feel today cancel the breakfast at tiffany is house show me a forecast play chess app do i have any emails from katherine crack a joke i have not gotten my daily news yet can you please brief me a little bit can you give me local news on wayne county sheriffs play this audiobook for me play mindsweeper with me what are the latest tweets from the new york times play the latest song of eminem please indicate the opening price of fra stock progress from the last paused point of my audio book what time does my next meeting start play my itunes music please set lunch meeting at twelve p m for every wednesday in march start radio and go to frequency on nine hundred and forty three is it currently raining in new york city what is the week is forecast remind me to go grocery shopping for the party on sunday what time is my appointment on saturday date local events open irctc application and go to book ticket pause the book where is obama from olly play songs from my playlist set the speakers to mute does this restaurant deliver set alarm of only monday morning six am latest events display recent email from john olly please remove remainder on monday the twentieth i need to have a conversation with greg about our weekend trip can the lights be changed to green erase my next calendar event what is the price of apple stock today book a train ticket to boston tomorrow add a reminder to april fourth to go to the dentist check emails from someone show me the top rated podcasts what is happening in the world news can you tell me the time of train which go to krishnarajpuram from bangalore open twitter compose new tweet directv has horrible customer service title of song check for emails from my boss at seven am tomorrow morning ring the alarm good morning what is the exchange rates between u s a and china delete this list give me the reminders email notifications hey olly on the twentieth clear my calendar increase the volume a bit save all songs from katy perry show me share price of facebook show me chinese food near me look up recipes for four cheese omelet what is the weather how is weather today what has shown up in the news recently who was the last person to email me play a song randomly from my playlist tell me when my moms birthday is make my radio turn on where does tar work currently what are the lyrics to the song i will always love you by dolly parton where is denmark what is the definition of textual repeat my reminders from yesterday give me contact mail id change my room lights so that i can get a good sleep remind me every year on this date of email ashwin patel my best wishes and an attachment of work p d f can you put this on facebook what is the highest mountain in the world please shut off the kitchen lights decentralized design what is the current day month and year please update my status on facebook with good evening display latest emails olly mark all remaining calendar events for today as cleared tweet to olx costumer service the next i did not receive my order number one thousand one hundred and seventy six play jingle bells what is the latest gossip of hollywood going on i want to hear the latest world news from today start vacuum cleaner today is my husbands birthday hey olly i missed you please check email contain job listing do i have any new emails from kellogg is it going to rain today repeat same song for ten times send raj a mail for job run radio sixty six point five hockey switch off the power please play the song joy to the world give five stars to this song please turn the lights off could you please play the song of michael jackson please order me this months groceries please read my new mails play the client by john grisham register complaint on twitter can you remind me of the meeting today at four p m please email my team i want to eat two pita gyros please and some diet coke hoover the hallway i need to organize a meeting with sarah tomorrow i do not want sound name the capital of nigeria olly i need coffee order one coffee to starbucks coffee shop remove item from my list send tweet via message to cardinal cafe and tell them their customer service is outstanding explain what g d p means is it a soft evening tonight make a to do list while visiting the yellow stone national park what time does the meeting start create a new list by tomorrow what is a good joke change the radio station my daughter is anniversary is thursday send me a reminder delete lunch with michael please send dad an email asking about the weather in new jersey set an appointment for allen on tomorrow play some rock music book for me a train ticket to washingdon d c show me the demographic growth rate of switzerland in the last ten years a quarter to two set a meeting on the twentieth october ten thirty am please tell me to take my umbrella because it will be very hot today display address of john confirm i have set an alarm for six am show me what is happening order two large pizzas and pieces of hot wings from dominoes my health planning consequences to actions find the recipe for sambar in cookingforu application check time of ten thousand eight hundred and eighty seven train from jodhpur station on monday is there a food festival in the area what is my next reminder set alarm at two am set a recurring event in my calendar did anyone send me any new emails in the last hour i cup of joe would be nice right now play game with me schedule a journey to las vegas by train cars alexa increase the brightness of the light it is hard to see down here date and time remind me everyday at two p m for lunch what is the current weather in miami play the football game on the radio classic rock does shibaru sushi deliver remove the event from monday what is the headlines from bob is news post to facebook aww i am sick what do i have going on today i need the time of day what is the deepest point on earth when the meeting start olly do i have any openings on my schedule for tomorrow monthly weather report let is reply this email name off all the lists i own who is my meeting with is there anything new in my mailbox send a twitter complaint i do not have enough money to buy the nintendo switch right now can you please remove it on my amazon wishlist do you hear songs of arrahman music how many likes does my status from yesterday have schedule doctors appointment for this friday at will there be any snow next week can you take five and divide it by three it would be great to dinner in this new opened restaurant downtown do i need to use sunscreen before going to meet my friend for lunch what are the details on umf get me the time in london now compare weather home and san antonio texas what is going on in the world are there any interesting stuff happened today in my twitter delete all my appointments for today please update me with the list of events happening in my area open memos show me the latest emails from amazon please remove the grocery list from my set of lists do i have any new email please tweet that my diapers are falling apart to pampers places to order takeaway food use that email address as a contact please mark my calendar for therapy every tuesday at eleven am hey olly turn the radio on turn it up olly wake me up at nine am on friday please reply to my most recent email look up the definition of blunder delete my dinner tomorrow please play the next song call a taxi company please turn on all the outdoor lights what is the population of russia what is the temperature today search local events in zip code twelve thousand one hundred and twenty one play new rihanna song book tomorrow is train ticket for me to bombay in any train find me some celebrities that are capricorns play the next show on podcast what is the stock price of amazon show me new emails from my inbox identify song what is next in my schedule may i know what is trending in twitter tell me about jaipur play country radio checkout today alarm of meeting clear up my calendar latest movies in theaters when is my food going to be here add new item to list can you give me the newest phone number for bobby mcgee i love this music can you please save this to my dance playlist and remember that i like it i want to wake up at six am tomorrow please clean the floor please open my f m radio and play nine hundred and eighty seven show current events around me display date open my contact list what is this song new calendar event for albert is marriage play my summer jams playlist set an alert for two p m turn off the upstairs bathroom light i need some details about bruce lee please assist play kiss from a rose it would be tasty tell me about my schedule for the next month alexa send mom an email now mute enabled until i say so please turn off the light how many rivers are there in europe remind me to make a pizza tomorrow morning schedule me a taxi for after my thursday meeting mute for the next hour please create a new list what are my tasks hi google play me playlist wacky in my gaana application send a personal thank you email to george i want to book rajdhani train ticket from mumbai to ahmadabad what is a silly joke you know initiate classical music play podcast i have a meeting by two p m today please remind me what are we doing next week does allearsnet have a new podcast remind me everyday at five am list and play all theory podcasts under ten minutes please brief me about this week is weather what is tomorrow is date book me a taxi to the mall of america please remind me before monday give me the alarm times for the next two days please start playing my youtube playlist tell me what the latest news is can you turn my bathroom lights off does artificial intelligence have consciousness i need to know current weather in new york city can you book a train ticket olly brew my coffee how do i go to athens by train olly recommend an event happening in my area temperature now i would like to hear aretha franklin is call me after this song where in d c is that meeting at one p m on friday i want to listen to electric slide i need to delete the alarm for church on sundays at eleven am give me train times for tomorrow to chicago set a reminder up next month to get my oil changed remove dog food from my grocery list life give a pleasant sound change the time zone from irish time zone to moscow time zone have i received any emails about jared is birthday what time does virgin train arrive at manchester how many times does it go what artist is this play my usher radio station how will be the weather today in the afternoon olly send mom an email to remind her to meet me for lunch today how would you describe the sun company coming over turn on the vacuum cleaner right now show me tomorrow weather of mumbai what currency does croatia use set this date to repeat reminder this week weather will be sunny or not play radio with rock music what is the geographic region of madagascar i want music i want to hear radio head please play the playlist how much mehta willing to invest in my company in meeting which held today at five hundred and twenty p m describe the current state of politics send mail to sil for cap vacation spots send an invitation email to marilia silence for two hours can i know what i have to do the next saturday at six p m disable my three p m alarm what is my schedule like today what is the latest model of b m w car can you increase the volume of the speakers what events are going to happen in my city between two four p m today how did charlize theron learn how to speak english describe me about the new cleaner how it works state the definition of inflation and tell how it is important for any economy it is awfully dark here is there heavy traffic on the i fifteen in las vegas right now is anyone likes my latest photo can you mute when i am not home add mary is birthday on the twenty second to my calendar please is it joes birthday soon alexa play my favorites get me some food will arby is offer takeaway what is the first friday of next month erase item please from my list headline news for texas wake me up at five thirty list albums of rihana accident or normal traffic beep when i get an email from john show me upcoming events in chicago can you boil the kettle open email to new person please what is your mood today overall day show me my calendar event this friday afternoon hey post my complaint to at microsoft on twitter play the god of small things am or p m please repeat the last song play music from the playlist what day does april sixteenth fall on open twitter send message what will be the weather three days from now in five major cities near me what is a caftan read back what i put on my to do list for this week send me a notification an hour before my next calendar events do i need to bring a coat today can you play acoustic music with no commercials what time is it in new york city right now find me the cheapest train ticket to spain can you list off the top ten singles this week where is my order hey olly make me laugh with a good joke set a reminder for the meeting every monday at two p m remove list of outgoing calls tell next day is event resume the playback of a child called it what is traffic like right now how do i get to the train station for a ticket find new music from jars of clay for me what are my reminders today i like this song please save i had chicken for lunch and it was delicious can you please tell me what i have on my list how many hours difference is there between london and new york what will the weather be like in two weeks tell me what is happening in european politics please add this email to my contacts send me notice of meeting wednesday nine am alarm set tell me about price of stock for innova i want to know the procedure of making thanksgiving turkey in five sentences what movie can i watch tonight on the theater here in boston mute volume now olly i need a funny joke to tell sam change status tell me later about start the satellite music feed where is yosemite park can i know what i on the list play the last radio channel start house cleaning how many new articles have been posted at u s a today in the past hour open album name set this before event can you delete all events from my calendar there is a good band playing tonight at nine at jazz bar i want to go how was your day please check for recent email study from this sender can you play my favorite audio book of king kong my mother needs the weekly weather sent to her how many contacts are there named john make five coffee tell the coffee machine look for train tickets to edinburgh tomorrow remind me to go to the gym every monday and tuesday podcast next episode what is the current show with the maximum viewers choice on television how many three are available in twenty seven current status of take out order turn off my first alarm turn off my bedside lamp please upcoming events in calendar what is the capital of jordan set an alarm for four in the afternoon what is the home phone number for sarah do you think it is going to rain tomorrow remove from the playlist my old english songs list remind me about tomorrows meeting tonight tell me about trump delete mike stein from contacts list alexa locate me the amazon restaurants what character does chris evans play i need coffee play lupe i want you to book a train ticket for me increase volume please what lists do i have saved what is the square root of forty two what pubs are close how many continents are there today get umbrella what shops are around me what size is a sperm whale which is the smallest island in the world can i have podcast of tvf description of iphone seven maximum kilometer to delivery thanks to ally for the photos play a rap song silence today i shoot an email to chris about work tomorrow remember i have ordered a cake for tonight is birthday party let me know the status please please turn the lights down what is twenty three times fifty two what is the alarm situation for tomorrow do i have the reply from charlotte relating to yesterdays inquiry alarm status how many days is it until may twenty fifth remind me to turn off the lights in ten minutes start robot vacuum please do not respond is tom cruise an only child google do i have any appointments on my calendar for friday can you tell me what flabbergasted means give me the details of next reminder give me the list of all events coming up in the next month and set notifications for all of them what is the time in india when the time in us is twelve p m good morning vietnam olly i want to go to the outdoor movie screening this weekend remind me what is the time in boston confirm the order and send me the confirmation i am in need of a taxi right now put the radio on i want to listen to up beat music training day what is the weather like in sydney i have got a meeting by tonight seven p m please mute the music for an hour hey turn the volume high change volume settings in the negative there are many important event in this month note down that check email avinash go with me on fifth april movie commando start playing from where i left off on the goblet of fire add the post office to my list of errands for saturday what is the schedule for today what day is easter just set me reminders about meetings with my colleagues will i need sunscreen today play checkers with me put that on facebook what is two plus two tweet at applebee my chicken was raw number foodpoisoning hey olly i like music by sigur ros play b b c radio four please what is the weather in sydney now what year was this song recorded what kind of shops are near my locality do i have anywhere to be between eight am and five p m today give me the last news about iphone power up the plug socket one turn off the bathroom light please opinion petabit give me the names of my lists play all songs by metallica on shuffle delete the list please will the snow stop before seven am tomorrow please hold for the next hour is there anything on my calendar i want to send email to jack at gmail dot com send email to mom and tell her see her at disney world i want to know more about this person ask if deliver where is pategonia check my email for any new email from joe play next episode of her story what is the increase in stock value over the past week of disney please give me detail of o zaalima song what is going on in milwaukee present time in new york how many sunday having this month turn the vibrate off from speaker what is a funny joke about car notify me about news replace color from light to dark get sia is cheap thrills ready to play next switch on the plug please make coffee according to my earlier preference do i have a meeting on saturday march twenty fifth compose this email to this new email address c n n i need you to turn on the vacuum cleaner is there a correlation between the weather in beijing and nasdaq prices over the last week play my favorite game by name naughty dog how long will it take me to drive to the panic concert tomorrow please put bread on the grocery list what is the name of this song remind me about my meeting can you continue audiobook the circle email form for regional v p today is jokes date of joining is black sea real send this email to reply to the latest emails please order some sushi for dinner turn off my wifi what time does the train leave for chicago can you invite mr chen for a meeting next monday six hundred p m hey olly tell me what shops i am near olly remind me about the picnic at regent park olly cancel alarm olly what is the weather like this week tweet a complaint let is play a game what is on for the fourteenth afternoon that i could go with the two year old twins start the robotic vacuum how much does one euro cost in rupees what does my morning look like tomorrow remove the second row from the list please set an alarm clock for my next meeting with the team at three p m next friday add valia is wedding the next saturday at eight o'clock play only all music released between the year one thousand nine hundred and ninety and two thousand hello can you read the information for this date check info on someone does pf changs accept take-out orders change light color to blue it is ten am in eastern standard time what time it is now it pacific standard time i need this event on a repeating cycle on my calendar can i get a recap on the latest news going on in the world alexa tell me the largest ocean in the world is it going to be sunny this weekend disable shuffle when is my next event i had a good day today how long does it take to make meatloaf how about a game of snakes and ladders play me a random song from my playlist recipe please show me all the events happening in milan find twitter handle of tom cruise let is dance olly change all lights to blue what is interesting around here do i have any emails in the last hour what is my first appointment today skip forward remind me to move so there is no weight gain what is sensational in time of india i want to know the weather in nashik brew some coffee i need that appointment posted to the calendar cancel my meeting for friday i think i can travel the whole world in a day showcase the radio schedule a meeting with al on tuesday olly what are the latest changes happening today in the us hey robot give me a list of ingredients for welsh rarebit please play the podcast from happypeoplecom turn the volume down a little please i am in the mood to order takeaway add my spin class to the calendar for saturday at seven am tell me about my events please rate current song as five stars can you make an event for friday night with emi maya and mackensie reply back to emily remind me that i have a birthday party on the thirtieth do i have coffee on the grocery list book me a ticket to paris on eurostar this weekend give me the opening stock price of acer computers play me in tic tac toe shuffle the songs in the music library can you put sunday hockey class in my calendar as recurrent event olly change light color to blue will i need my snow boots this afternoon are there any accidents on harvard dim the lights at the living room what is new news for today please set a reminder for my five p m meeting today give me some cafes near downtown fort lauderdale my day was extremely hard i want to find emails from bob with the subject that contains the word meeting wake me up at five am delete my upcoming calendar event please turn the station to one hundred and seven point four tweet a negative review to at companyname google search the topic olly do i need to bring a coat today play the billboard top ten what is twelve plus one hundred and ninety six what is the current date in india what does a basketball feel like please confirm the weather for the thirteenth of this month what events are happening in seattle this weekend please send mom and dad an email asking how they are details on person calculate the travel time if i go to orlando by train phones can i have stock rate list of ola and uber turn on my plug coach and fare email to matthew with content project finished send me invoice please how tall is mel gibson cancel all my appointments after three p m today and inform me the details please give me the winning lottery numbers for this weekend keep reading is mothers day on a sunday what movie should i go see could you please confirm if leonardo is married add payday to my calendar for every other thursday what time does the dinner party start tonight i need the most recent stories from yahoo news what alarms do you have set trending social media i would like my to update all breaking news across the world let me know the morning of my doctor appointment on the twelfth can you make dinner for me add an event to my google calendar for the date march twenty second please mail my friend notification of meeting on wednesday show bio of rihana is there any events planned for the next three months does restaurant royale deliver takeaway remove the santana music list i want to order some pizza a new list to be created by tomorrow plays the podcast from the beginning what is the five days forecast looking like in new york city what should i cook for supper please tweet for me about the bad service rended by the taj restaurant continue the smurfs book is it going to rain in the evening check stock price for dinky donuts tweet complaint to burger king i want to play the song again what are the latest changes happening today in the us explain how is u s a better than other countries turn on the lights play animal farm olly find out if kfc delivers please what is on my rap playlist tell me the time in japan book my train ticket from las vegas to los angeles please put all the lights what is the meaning of ultra where was kelly clarkson born guess what happened today please set the alarm for next morning to seven am please tell me the main points of my two hundred meeting from this afternoon show me any emails received in the last hour make a new list playback tom clancy splinter cell do i have any thing going on at five listen to n p r radio where is ashwin what is happening in my area what alarms do i have set for today what is the temperature outside tell me about city traffic remind me an email to my sister change the media room lights from purple to green tell me the story of ramanujan and his mathematical journey who sings the song about a long black train olly how is the weather what do i have for today delete the next event on the calendar answer email when was the last call i received from jordan get hourly notification on sports news check my calendar for me play one through ten on list list all set alarms send an email to sharon add to calendar and repeat send an email to my family telling them about my upcoming birthday plans purchase ticket to new york city on train what is happening today between three and four p m what were the winning powerball numbers last night olly i am taking day off tomorrow remind me about my meeting an hour before it begins show various plants in earth add event for this evening meeting with jake what is do i have to do after lunch today for the next month how many meeting days available do i have that are convenient for me send an email to juanpedro at gmail dot com what date is easter sunday this year hello google post my current status on twitter mentioning a great trip to paris with friends and family what is the birthday of adam gilchrist please turn off the lights in the kitchen what is the exchange rate between us dollars and yen is set an alarm for six am when is that meeting with my boss next week send email to comcast that their service sucks add a reminder for april twenty as my bro is birthday is it cold outside broadcast a video in youtube can you play my favorite audio book of tarzan what time is it in cleveland skip ahead to the next podcast reply to joes email can you speak quieter please tell me all known details about the tournament on march twenty two do i have anything on the list when is this going to happen add broccoli to my grocery list lets go nazi hunting give me a current traffic report how is my order olly play a good track from my favorite jazz player what is your name can you search trump what day of the week is the youth charity event quick reply to jack so please send a mail do i have any available time for a doctor is appointment on tuesday morning when is the next train to rome coming tell me about the presidential race get rid of the list google turn up volume of music will a two thousand and fifteen fiesta be worth anything in three years where is leah remini from open take-out menus is halloween on a friday this year is fongs dine in only i want some curry to go any recommendations olly can you set the event for monday at six at mcdonalds new emails what kind of lists do i have saved mute volume alexa ally please play pandora radio summarize week is weather details what is two times two send this message to twitter hi please remind the next meeting with my boss it will be at eleven am next monday turn off the lights in my room explain to me how gravity works how is the traffic in broadway street what is this event is called which happening my area save this email in contact i want the email to be sent to my new email address a b c at gmail dot com where can i go tonight what did the clinic say about my exams i want to play solitare with you please let me know about my birthday is the year two thousand and eighteen a leap year where is tuesday is morning meeting message my mother in law to book the reservations before friday or they will expire what is john is phone number turn down the speakers which teams are playing today in the premier league play best hits olly describe the features of a two thousand and seventeen toyota eighty six for me what are john is contact details tell me the top stories on c n n when was the us got freedom i want to listen radio what is a new sci fi movie what were the winning numbers of the powerball lottery yesterday do i need umbrella now domino is delivery status tell more about this event what is the most concern issue in u s a today and what can be done to deal with it effectively on amazon twitter handler tweet a complain about quality of my jeans what are the coordinates of everest how is the traffic i want to drink coffee has robert sent any new emails to me is there any new message from person a is it going to snow tonight show me news from c n n for today show me the records of sachin tendulkar find an oscar nominee movie please check whether the email of jancy has come tell me the name of the radio station that i want played what is the weather like in new york olly dim the lights remind me to read book next week play next nutritional facts what is the meaning of life let me know the alarm time what do i have pending check my car is ready am i off work on memorial day tell me the landline number reschedule the party to thursday check if default alarm is set find john smith from alabama i would like orange lights now erase all play me a song of adele can you list the stock on sony get news from reddit do i have an amazon list saved set calendar info for albert is marriage only christian rock from one thousand nine hundred and ninety upwards is to be selected and played takeaway noodles one pack set a reminder today at one p m to send the presentation can you recommend a cheap restaurant in this area did i set my house alarm after this song put on metallica go to sirius and play the hip hop channel how high is the quality of this stone how old is jennifer garner turn off the garage light will you please put something something at gmail dot com in my contacts olly retrieve the light for me mute yourself until i say otherwise book a business class seat on the next train to new york city what are the top news headlines right now resolve this thirty twelve i want to know how many feet are in a mile did you set the alarm for five am give me news from c n n tell me all the pending reminders how many ounces is in a quart is adele going to go on tour the five p m train on wednesday to rockville is it on time what is the funniest joke you know order a pizza for me start playing f m ninety six point five when it is one p m send a reply if it is very important what is the latest controversy on donald trump clear the entire month of may what is going on with the trump budget proposal alexa i have got dollars for the month how much can i spend every day this month top news on international women is day please tune in to nine hundred and seventy five f m are any of my new emails from amy i like music please resume this playback in audiobook put this on my list olly start the vacuum cleaner how many g b p can i get for one dollar play the next episode of this podcast on february fourteenth make dinner reservations at the restaurant play radio station mobile what is the definition of logic how much does general tsos chicken cost at peking garden please get the coffee machine to make me some coffee what is the exchange rate between money i am the united states and switzerland find me any news from so clean the last six hours show me the contents of the list switch off bedroom light what brand hair spray does donald trump use send a reply to this email i have new email skip forward to the next episode of this podcast do i need sunscreen for today how long do i roast chicken breasts show me some vegan restaurants close by is jimmie is party on friday canceled i need you to add this event to my calendar can you tell me what list i have what are the trending articles on the new york times hey olly play the radio remind me of dinner with mom tonight on my calendar could you please give me the birthday of mahatma gandhiji set the volume higher divide seventy six in two parts what is the condition of traffic from work to home what is the song name set up a meeting with peter francis for monday at two p m create an alarm at four o'clock tomorrow morning notify me of breaking news on c n n hey olly order a pizza pie with extra cheese what day of the month is it do you have any regrets or are value judgments outside the scope of your intellectual capacity earthquake prediction please check if there is a new email on the inbox hey what time does the next train depart go to the event day and delete slow rock it is ok reply to the email received from mark send an email to my assistant clara to cancel all appointments for tomorrow do i currently have any alarms set send email to manoj vyas yo order take out from jason is deli on sixth avenue remind me to pay the electricity bill on this weekend at nine am tweet macy is a complaint about their sales clerk look up the senders and subjects of recent email can you please tell me who are you raise the lights alexa what time does the next train leave to paris when is the next blues concert in liverpool can you send an email to chelsea please please change the light colors to red i wish this event to be removed from my calendar please scan my social media and tell me what is happening let me know when there is news on the dakota pipeline how long to get downtown what is the longest river in the world change the lights to my favorite color set an alarm for two hours from now please play funk music lower the lighting wish birthday geo info i would like to update my calendar locate me the amazon restaurants open book make the lights shine blue do i have any new email switch up the color of the lights in the house tell me ways to learn cooking give me all available lists please remind me to call duker at one p m on thursday can you backward an episode in the podcast can you book a train ticket for my father give me the exchange rate for the us dollar and the euro i hate this song do not play it again play the young turks podcast what is happening today how hot is it in quebec tell me about the latest sports news put me in on tuesday the twenty first at ten with al send a calendar appointment to jan is it too cold to go swimming clear the list show results for cooking lasagna from web alexa start from my last session of joes book get me an amtrak ticket to boston for next thursday the later the better can you tell me what is on the schedule for tomorrow check emails from mom please erase the next birthday event skip to next podcast turn the light off will you remind me of my next dentist appointment one day before google make a room darker describe the heart stone card game alexa put classic rock on what is the current temperature in miami play music relating to the music i listened to this morning please play nakumukka song for me look for a taxi to go home olly which was that coldplay song i listened to yesterday evening can you play it again access pop playlist free home delivery play all the programs pertaining to rock songs on the radio begin email to my husband any meeting between six to seven p m i want the alarm set for six was my afternoon meeting canceled remind me on fifth march of every year to arrange wedding anniversary presents switch on the lights what is the name of the tallest man currency converter please hey does that restaurant have take-out i never want to hear that song again alexa do i have any new emails who was the twenty fifth president of the united states of america does the weather call for rain saturday please create a list of due payment those who not received more then ten months up coming events what is the weather in this week call raju phone number gossiping about celebrities olly prepare my coffee add wedding to my calendar turn on wemo make coffee at eight am is today my brothers birthday hi what is the hot topic in facebook is starbucks stock up or down from last quarter create a new list for school supplies how long till the eventual heat death of the universe i would like an alarm set for this saturday at ten erase my appointment on the twelfth from my calendar start the vacuum cleaner when is my train coming yo i need a coffee now tell me form whom i got the last email set a reminder to go to movies with ron on march twenty seven show me the best recipe for spaghetti set an alarm for five hundred and thirty do i have banana in my shopping list remove new year from calendar are there any alarms set what are they i want to listen to elton john in a live concert can you give me a weather report olly what is the current weather what is a work phone number of emilia birthday please read me the last news from boston tribute run over my to do list with me listen to my favorites show new emails to me tell me chinese restaurants in the area order me postmates of mcdonald my commute was difficult today please tell me a shop where i can find books to buy please set an alarm for seven hundred and thirty am tomorrow can you start ryan seacrest compare price of a audio device from all websites with free shipping is there a way to get the latest breaking news on trump what is happening in the world right now check b b c what will the date be next wednesday tell me the time in jakarta can you remind me about the gym class in two hours how do you define textual remind upcoming meeting with eminem delete all my calendar events play music from my favorite pandora artist station turn on the t v socket when i arrive home what did vogue post today get the cleaning on listen to radio how is the weather like in beijing lower the volume of the speakers how old are cristiano ronaldo does that restaurant allow take out orders what is the time difference between california and new york lower the speakers please start the coffee has pound value decreased download certain vocab minimize the light power play rooster teeth pod cast remove apple from list give me red lights where does kate middleton buy her kids clothes tell me my list names i want to listen to the radio what is the time train coming from sacramento can you change the light colors in the house make a things to do list tell me who has the most number one hits on the billboard top twenty olly tell me what lists i currently have please look up exchange between us and mexco remove calendar events for this week i have a meeting with al on march twenty first at ten tell me when i have an event clear calendar events all start a competitive crossword for us please find music by afi lets hear the united states of anxiety podcast on tuesday what is the weather supposed to be please tell me about the historic facts about india tell me a joke about birds hi i want to order fried chick with white sauce tell me about the latest world scenario on global warming what does my schedule look like today bedroom lights off now repeat this song when it ends play the current playlist what day does my birthday fall on this year replay the musics play one thousand nine hundred and ninety nine by prince pull up lights control event can you remind me to check my clothes in a hour send email to newmail at gmail dot com i think i ran out of this can you add it to my list what are the trending topics in the world enter song suggestion read out my list for today i need sport is news delete the next event in the calendar will it be over ninety degrees tomorrow remove list events in my march calendar has to be listed is it going to be nice out this week tell me about the meetings over a period of time reply to robert is email of today morning search for two tickets on tuesday is train to paris respond to my bosses email with the word that i will be in at four in the evening how can i learn cooking weather for tomorrow how can the word placid be used olly can you convert my time zone to the time zone i am currently in what can i cook with broccoli and chicken hi how are you what is the latest international news hey play my favorite podcast from list make this my favorite post my business on twitter please delete my calendar events erase events do i need to take an umbrella today hi olly how are you reply this mail wake me up at nine am weather forecast for this week change the music mode to rock look up go to next podcast when new york train will arrive what time is it in cleveland ohio what is jill is home phone number please tell me about upcoming alarms can you find the newest song from mgk what reminders do i have today can you give me the details of indian embassy set the reminder for upcoming meeting figure out what percentage thirty is of one hundred and sixty three olly i am looking for some dress shows can you find clothing stores within one mile hey post my complaint to at microsoft on twitter i want coffee from the machine what is the weather like tomorrow email the following message to this contact please i like senatra songs please set work meeting at twelve p m for every thursday in february press play on the radio create a list please put event into my calendar and mark it as a repeating event add paav bhaji in menu card play taylor swift music none get me osteen on sirius do you feel more like a machine or a person look up meal recipe all emails received between ten p m and seven am everyday is to be replied what kind of weather should i expect this week hey today i was fired from my job time to sleep where is the hottest desert located play artist please tell me the weather i want reggae what is the time make me a cup of coffee with salted carmel flavored cream set my alarm for six am tomorrow post that i am going to walmart for shopping could you turn off light who is the better half of obama play the latest pop song i want to see the previous episode do a coffee for me please c n n news touch the mute button remove the upcoming calendar event how much is ten u s d in indian rupees show todays reminders put alarm on find and order rasgulla of janta sweet home pvt ltd let me know the latest weather news when are the trains running tomorrow what is the name of the artist that created this song hello i want to turn off my wemo plug is there a train ticket available for boston tomorrow go to channel one hundred and six point nine i want some jazz music to play can you read me my lists i need you to set an alarm please start my music any mail marked as important what is the date and month today play tennis for me what is the latest on donald trump who is the current prime minister of russia make a pot of strong coffee olly please list the best clothing shops near me olly delete list for groceries what is the weather where i am at today what meetings are on my calendar today what is the next train at westcombe park how is i b m doing set a notification for my twelve p m meeting fifteen minutes before please play the song every time i see you confirm to buy laptop turn on some music write email to family member and read it back hey email jan about our meeting what does two plus two equal can you tell me what alarms i have set play netflix on my p s four i always pay attention remind me about the meeting tomorrow one hour before alexa play classic rock reserve the closest uber search the contact it would be nice if you could play with my kids what time is it in beijing add jane is birthday party at one hundred and twenty three main for two p m tomorrow on my calendar will it be rainy tomorrow stock details send an email to margaret i would like to listen to poker face by lady gaga can i know the breaking news from c n n i would like some coffee now please open my contact list how is the traffic around city center at what time is the italian cafe closed between lunch and dinner what does joke mean which was that coldplay song i listened to yesterday evening can you play it again today is what date what music is playing right now what is the schedule for this date add vodka to my party shopping list what news updates are there from news express i want to hear love me period the light should be in dim repeat the song playing now remind my friend to get the assignment tomorrow tweet consumer service that the quantity is wrong how much is lebron james worth what is for today how many things do i have planned tonight please remove a list list current car stories let me know about upcoming events order one coffee from nearest coffee shop is my schedule free today buy a train ticket to is there going to be any flip flop weather soon i like classic rock convert one us dollar to euro list check olly has mom sent me any emails what is the breaking news for the day read list of new emails find joel osteen is broadcast on sirius switch off wemo will you please play the next episode of podcast how is pav bhaji cooked up load all my podcast play duncan trussel is latest podcast send this message to the family group starts with a is there any new email book a ticket for today in irctc site for the stored information how old is chuck norris describe rock sand please give me all shop names in a two mile radius are there any recent emails from rohit buy a train ticket from lakeland florida to new york convert time zone anything interesting going on in the bay area tweet complaint to samsung put the last song on repeat add tal meeting on twenty first at seven play all songs from blue genre go to nytimes dot com do i have any alarms set for tomorrow are you working for the n s a book me a train ticket to barcelona please find me a train ticket to newcastle contact walmart customer service with a complaint via tweet what are the subject line and sender from today is email inbox what is up with my order what alarms are set in the house move forward to the next episode what is the latest on the travel ban alexa give me my to do list for today make new list of recent workouts can you change the living room lights to a softer color i need a reminder to call my mom at three p m google the steps for preparing the dish tell me random joke between one thousand nine hundred and ninety and two thousand music album is only to be played may i know the about alarm you set does brick grill deliver is there any traffic what c d is this song on please tell me the name of this song that is currently playing play two thousand one hundred and twelve by rush what is the length of amazon river set the living room lights to red let me know about election new please read new emails play the seventh episode of the morning after olly please check my email for me i just added bob is news anything new there tell me the best player of basketball of this week does the restaurant have delivery ask amazon dot com customer service when i can expect my refund using twitter play i spy with me what is on my schedule for nine to eleven am tomorrow add these documents to the things i need to travel with play get happy by ella fitzgerald is traffic light will you play checkers with me do i have anything on my honey do list this is a good song put it on repeat dim the lights in the living room can you set radio to mute do i have any new email set an alarm for next tuesdays meeting play one more time please turn on the lights in my house shopping what is new in my email inbox post to facebook radio channels can i have an espresso please please describe about microwave what is the nearest theater that plays the new vin diesel movie order a large pan pizza with ham and mushrooms from pizza hut how many months in a year please delete all my calendar events send an email play the music of justin bieber schedule a two hour empty time block on saturday what are the lyrics to this song playing what is the euro to dollar exchange rate from dollar to euro what is the description for the alarm at eleven am where is the closest mexican restaurant activate silent what is current traffic in ohio tell me about fjords is the last order is ready is it a yes or a no that tomorrows temperature will be hot remove father is day from calendar remind me when certain marvel shows return to netflix turn socket off remove all events from calendar please scan the am dial on the radio right now drop me with latest news what is on my grocery list light settings when is madonna is birthday start audio book the two towers set reminder for my wedding anniversary on ten july what is the best recipe for a margarita hey what are you up to what is my next appointment i am gone today an umbrella please save this song to my favorites what is my next event play a song is there email id of john in the list what time is it in another city tweet complaint to customer care kitchen light off find a train ticket to philadelphia my day was fun tweet consumer service that the goods are of low quality is there anything special going on nearby please list the best clothing shops near me do i need to apply sunburn cream when i go to golf club put on cannibal queen schedule my event with person at time and place what is the high for today how is the traffic right now how is the weather going to be this week turn bedroom lights off tell me what is happening next thursday iphone is the mail from chris about work get rid of tax list from nineteen ninety what is my upcoming week look like my vacuum cleaner should start between ten to eleven am everyday are there any special events in my town send email to cat that i will accept job offer look for different recipes play the romantic songs what is the scoop turn on the coffee pot then tap ok can you tell me the time cut off the bathroom lights what is the weeks forecast the latest climate and weather news check how many likes did i got on my most recent post turn off the bathroom lights when is my order ready can you email mary and let her know i am on my way send a notification to friend answer the email tell me when taco bell can deliver my dinner send email to nancy about tomorrow is work party details how much time it will take to prepare the order list local ongoing exhibitions the weather was bad today is there a chili cook off this weekend check my twitter notification olly tell me the time in g m t plus five this song is my favorite what alarms do i have set show me my latest social media activity please start new list i want to hear some tunes what is the weather for this week what are the ingredients in macaroni and cheese send an email to rohit saying i am busy tomorrow find the this week is news about emigration legislation in the us please please tell me about a hour before thursday about my hair appointment what day does easter fall on repeat reminder for my appointments for christmas thursday at two p m i must meet with mr forman please mark the calendar please play back some important points summary please take me to wall street journal can you remove this item from the list remind about of all event in calendars how to spell the word treble what is a transistor three p m meeting tomorrow remind me four hours prior to that meeting will the temperature be above freezing on wednesday have i gotten any mail recently write an email recipient ray did i received any emails from kevin and what did he say make sound louder send a taxi to come pick me up from my location olly tell me about some cool events going on here please turn on my coffee pot look up for my email updates start my robot vacuum cleaner when was the last meeting play b b c radio one play the song i listen to the most where can i get a good burger within five miles remove my alarm for tomorrow morning what is trending add a party in ny city for this saturday is there any event today in my calendar meeting this monday beam me up scotty how much is one dollar in euros set notification before this event it is too dark here what is exchange for the us and euro play the latest episode of little steven is underground garage radio on what is the timing of bagmati express beach olly add lunch appointment with lisa to january second at twelve thirty p m i would like to hear some blues please read me my alarms add my car payment on the twelfth in my calendar i need to create a new to do list what time is it right now in pacific time is the four hundred and thirty p m train running late what is the capital city of colorado is there any email from emilia i hope it is sunny weather there please describe that object for me play classical music playlist set a meeting for tomorrow email ashwin patel my best wishes and an attachment of workpdf what is the time in london open new email to this coworker at this email open reply mark april twenty as my brother is birthday open calendar and make an event reminder define elaborate hey i feel good olly turn on any song by tupac convert current time from g m t to e s t meeting update my calendar to reflect meeting things to do in my area how tall is jobe bryant movies making money play titanic title song what is the time now in new york give me the facts on yankee stadium set a reminder for two days prior of the event book uber for tonight at seven p m is there some play can i go tonight in the city can you check the time what do you use to make cookies remind me at five p m where is my meeting at nine am what is the rate between pesos and yen what is the population of los angeles where is statue of liberty what is the average temperature in march for pennsylvania and how does that compare to the last ten years are there team meetups on the schedule this month can you check for any new emails call a taxi for me to arrive tonight at five what is my astrology report for today please switch to red f m i would like to send an email to the new receptionist is email place an order for two pizzas from dominoes remind me to start getting ready by five p m please i want to hear the news on tmz i want the coffee machine to make me coffee delete the wedding on the tenth from my calendar crate event swimming day on thursday and set it to repeat open songs by prince please convert nine am c s t to e s t time olly remind me about tomorrow is meeting tonight find the list what is the name of song please refresh my gmail inbox plant based news how are things in the world what is the nine am c s t to e s t turn off the nearest light i need to know if i have any new reminders give me a company for playing football find me a recipe for carrot soup tell me the list about can you please add an item to my grocery list what is the news this morning radio clear calendar for this month get me the most recent news what the weather going to be in n y c next week i want more details about the annual tea party what is a canadian dollar worth in the us play nineties alternative can you able to say the word demonetisation what is worth watching explain to me about what different countries are represented in the book of revelation set up a notification about tomorrow is meeting at ten what are the probability that it will rain today what is the capital of china turn off the closet light how much traffic does atlanta georgia usually have where does brad pitt live lights at percent current forex rates how its come to us mute my speakers for a minute here i need to make a call can you play music by pink floyd please check all new email of income tax department increase the bright of the light read shopping list items please set alarm at five p m what is the exchange rate between czk and euro start next podcast what is the route to the closest mcdonalds let me get a cup of coffee please delete the list created yesterday what is my schedule for twelve p m to four p m secure train passage for me on july three who is doing facebook live right now set a reminder alarm for my five p m meeting please mobile shop book ticket to depart in the morning let is play canasta play the song from last night at six p m book a taxi to start from here erase my current events from calendar remove next event in calendar could you please have uber be at my house in fifteen minutes filter all arijit singh sad song and save or create playlist of sad songs of arijit singh schedule a meeting on tuesday create an alarm for five p m tell me jokes please provide the detailed information about the next event give me the details on elton john quiet please brightness ninety percent can i change this light to orange turn on the roomba for me what is the economic policy of trump what time is it in the other time zones call china king chinese restaurant what did happen today when is my brunch with jennifer send an email to mom asking if she was able to order the book from amazon that i told her about play ride music track i need a taxi ride now what movies are playing right now set my alarm please i need help with cooking baked chicken clear all data from calendar list emails from jim for today list the latest books published by favorite authors please check weather on tuesday post a status on my twitter account play a podcast i want to get hourly notification on financial news currency exchange rates navigation search which song is that cancel all appointments in my calendar book a taxi please check for new emails please set the equalizer in the party mode delete the item two from the list is michael jackson really dead recommend a wine tasting event this weekend in chicago i feel like having soup for lunch order from wangs kitchen restaurant a chicken manchow soup play pride and prejudice refresh my email save all of my preferences information specific to songs tell me all events for today in my city set a reminder for wishing a friend tomorrow at ten am can you mute my speaker play for me the game candy crush i am really craving for chinese food right now please let me order take out no lights order the usual from turiellos pizza let is hear the news from c n n ask trivia questions what age is britney spears at what age michael phelps got married post in twitter my visit to japan email to address alarm me at eight am start playing my most recent podcast i want to eat something will you order food for me mute the settings show me this week is forecast raise lights to full power let is play nine ball against me adapt with my skill level always let me win where is the nearest target are you jealous of siri is movie career alert me if any topic relating to politics comes up darker lights please what is the first metro to d c what is this please tell who invented telephone and what is the date google find and play florida georgia line the one with nelly please tell me a joke that i will think is funny what event is next is steph curry married can you feel what is the highest mountain in the us please speak up what music genre do i play most what city does anthony keidis live in tell me about agra did i get any replies from jan through mail server list all the lists on this device do i have any emails to read from jason get news from b b c news please delete all reminder of sunday set a remainder for twelve p m for lunch set alarm at five am play daft punk i need to go to dundee at five am on sunday by train shadi special podcast play it radio please please save the current song to favorites what is a workhouse find me a description of morel mushrooms send this song to my favorites new york time what is the date of next saturday olly i need an alarm set for five hundred and thirty am tomorrow find an uber driver available for tonight after ten p m what is the highest rated movie now out what will be the highest temperature in coming week get the roomba to clean up how many euros for one u s d has the governor enacted the new crime bill yet use vacuum cleaner in the hall what is going on outside how will be today for me clock time olly do i need sunscreen please turn on the music player make a post what movies has neil walker done make me a wake up alarm for eight forty five am next play selected song hoover the carpets around play bad religion folder search the region good evening how many bucket fulls would it take to empty the dead sea tell me what is in your list show reminders play song aces high when was jamie fox born when is the next train to new york can you tell me what time is it what is the forecast for this week not use email my boss that i will be late today because of an emergency and apologize to him for missing the meeting i like rock music play pandora nineties dance party make happy birthday the next song what is the price of ford stock is wyatt is birthday party at ten p m can you guarantee that you can chose the winning lottery numbers how do i make mashed potatoes will there be any seventy degree days next week olly how do i start making lobster bisque is it still going to be rainy and cold on wednesday make me a cappuccino what is an easy recipe to cook for food turn off the porch light remove event check my email please what is the latest news from c b s state the list i have provide the list show grocery list tell me a joke about dogs play racing economy is it raining what is the weather condition in new york is elizabeth taylor still alive should i go to the market day after tomorrow has sarah posted anything today show the list are there any new emails in my inbox john right now do i have alarms set before six in the morning delete all upcoming yoga sessions i want the light switched off can you do it for me when is the train arriving today what video game should i play next who is current music is author how is the stock going in general what is the definition of business both young drivers and provisional drivers crash more often than other drivers because they have not yet had the wide range of experiences they need to drive safely by themselves research has shown that driving experience is a major factor in reducing road crashes and that the safest time for young drivers is when they are driving under supervision while learning let me know if i get a new personal message from martha on facebook today ok google tweet what a jerk the owner is at the gas station turn on radio make wednesday evening at five p m always be a meeting with phil on my calendar check list olly what events are happening in pondichery this weekend what are departure arrival times for this train what is the exchange rate with in one british pound one hundred and fifty thousand two hundred and seventeenth speak more about the event shuffle and play songs from dance genre vacuum on is there any birthday on june should i wear sunblock today send the following email to my sister what is the capital of new york turn on the radio to a classical station give me the release date of this song please send a mail to my friend divya how are you shall i change my car tires to snow tires soon lights turn off tell me about my alarms reply to all emails received from ten p m to nine am play radia olly do i need sun screen lotion today b b c live remind me every tuesday to go to the dry cleaners could you please lower the tone is there any new environmental news set a reminder for vacation next month am i going to need to bring an umbrella to work today spell and define oscillate is one divisible by three play b b c radio rate between these currencies give me my latest email when does twenty fourth come in the next week how to reach hallway i love the eternal voice of the singer she is my favorite create email to john start body i am interested in seeing the car you have for sale can we schedule a time to meet send friend updates check all emails from eric volume louder please switch all lights off except living area reply to sarah is email do i have any meeting today connect to lights list events in ny unmute my sound delete all details in event alexa give me everything you know about bob dean what is your mother language what is on tomorrow night what is the weather condition today switch wemo plug socket off what is the the times headline find me the top news of the day remind this after two days start list what time is the next train to boise shut off the socket what did she just sing did i get any new emails today from claire answer this mathematical question prepare some cups of coffee for us please schedule an appointment at my doctor for a prostate exam on friday please add oranges to my grocery list olly where do the rocky mountains start tell about latest events what is three plus three hundred and fifty five play classic songs what is the stock price for lexmark how many reminders do i have made i would like to know the events happening around here what is happening here the song playing now is released by which artist can you please be muted for a while play songs tuesday meeting noon find me a bar in cleveland open until two am need to see volume settings whether i can travel the whole world in a day play the program where i left off yesterday scheduled events more info reset all events in calendar get current news on government shutdown what is available in your stock of lists find unread emails received from peter today olly can locate some gospel music please show me the local weather which flags ride is the best get me a radio station that plays classical music check my inbox for new emails mute the volume any mail from amazon today mute sound off email staff group distribution about tomorrow is meeting say the list please add this item to the list can you describe to me what a pineapple looks like i hope we could have lunch together show me the latest news update on b b c i helped a poor needy today olly open media player and play my gym playlist please list the available train trips to location a what is my stock fluctuations please show me today is date switch off the master is bedroom play rein in blood by slayer at five am tomorrow to make sure i actually wake up alexa play my second playlist i am grateful if you call the amazon customer service alexa provide information about bill from my contact list forward a complaint to mount is regarding internet speed issues play the next podcast shuffle play my slow songs play list from spotify i want to listen to the bob and tom show make the wemo plug socket turned on what is the cheapest price for zoella is first book what is burmuda triangle news updates what features do you have planned to release in the future tell me lexmark is current stock price who is currently leading in the parliamentary election news from state paper olly please check if i got any emails from mom olly what are the most recent headlines on c n n is there any new jobs are relate to my qualifications what is your country i would like the bathroom lights set to yellow is there anything happening in town this weekend remove all the events from the calendar in this month what is the best place to eat near here get me the news from uc web save this channel on pandora please remind me of my appointment on the fifteenth how many miles is it from los angeles california to austin texas what is the current forecast for minneapolis i would like for us to play jeopardy now start audiobook again louder please delete list for groceries how many likes i have got on my eggless cake post on youtube what day is new year is eve this year remove my latest list please tell me what alarms are on please archive my read messages what is the next metro to d c alexa should i wear sunscreen today what is the exchange rate of us dollar to pound sterling is there more traffic in canal street what is the weather what is todays date will it be sunny did linda connors reply to any of my emails this morning what is my eta to the office if i leave in thirty minutes what is the meaning of placid olly start the podcast over that i started last night what is the weather like in toronto which route has less traffic today cheer me up create a new list for my birthday plans please put on my favorite rap music playlist please send an email to the following email address hwu at gmail dot com turn the volume off olly get me the popular news from b b c i need to know about the height of mount everest what is around markets near by what is going on around here this weekend play music now what is the current stock price for amazon lets send a tweet delete all the events of today is the meeting with julie at three p m on wednesday how many species of bees are there in the united states remove my next scheduled appointment please list all train time to ny resume recent audiobook olly how would you describe a ball prepare a cup of coffee for me what is the square root of ten current price of coca-cola stock turn on my michael jackson playlist dim the lights in the kitchen should i wear raincoat before getting out share in friends post taxi now i hate how long the traffic jams get do they offer takeaway compose an email to aran check weather update for lagos this week set a two day notification before maria is birthday please play good mythical morning podcast how are things looking for the meeting with john what is that the album is current music from i bought pre season baseball tickets tune into ninety nine point five f m i need you to remove item south from my list please remove the alarm set for wednesday called kickball remind me when a contact calls find a taxi to book what restaurants around here have good reviews i have my clothes list how many minutes do i need to wait to pick up my food from china on the go remove the hip show from my schedule on april second what is the weather update for tuesday please activate my coffee pot for me please remove sporty event from list remove item four play biography of jackie kennedy is the stocks which i have invested are increasing tweet a complaint about my refrigerator to l g i want to see the next podcast available i have a meeting tomorrow at five p m with the development team do not forget to remind me an hour earlier is the brightness of my screen running low make vacuum cleaner start put on a playlist of danish music is eddie murphy still alive hey olly did i get any new emails keep me up to date with the world news create new email address lights off clear my day on the twenty ninth how old is barack obaba alexa resume joes book from where i left off last time add new email address what is the exchange rate of us dollar today for rupee i want to hear some local talk radio can you make this event repetitive add the following date and time to my calendar what is the time in the eastern time zone schedule my meeting with tom cruise today evening at six p m please arrange a train ticket for me do you sell any of my information to advertisers show stage shows near me play my book user friendly how many countries define ten olly find my food how is the weather today what schedule event do i have for this month tell me the brief definition of evacuation please google location and information of mount rushmore i want to eat some spicy thing schedule an alarm for next week is dentist appointment tell me all about hurricane yes or no tomorrows temperature is to be hot where is the best mechanic in eagle point do i have any plans for today open saga what is the latest headline news from this newsource how long should i cook a steak to be medium all emails received between ten p m to nine am is to be replied to cut the songs in this musics erase my calendar what time will i arrive home if i take this train stock price what is the population of new york what are lady gagas most popular songs any new emails please delete list titled kickball i hope tomorrow will be better did i get any messages from john how do i dial sarah olly what time is it in california entertainment news tell me about celebrity which is the best place to visit in this month current song rating three stars play the next podcast episode i had a problem with my burger can you tweet bk olly give me the news on donald trump turn up your volume how old is jennifer anniston do you want to play solitaire add a new email i am going to sleep now what are today is headlines can you pull up a recipe for spaghetti i want to understand a poem from borges about death check my inbox dorothy needs to talk to me about our divorce can you please set up a meeting as soon as i am available what is six minus four when was justin bieber born add alarm turn on some radio station i love anything by elton john display my schedule for today what is the ten day forecast what is the latest news on sprint do i have any alarms for tomorrow morning add christmas to calendar play any pop f m channel when i get home can you please order a pizza i want to know more about the fair this weekend give me the description of a television circuit how much is the dollar worth in canada remind me about my business meeting at three and forty five p m what time does the last train leave from paris check for emails from steve i need to find a funny joke that is ok for kids select recipe i would like to listen to this mornings mike and mike podcast ok google did angelina jolie leave brad pitt book me a ticket for a train to new york from boston in two days from now meeting tuesday noon hi what is happening in twitter today please play the next episode what is the time in la what to do today in biloxi hey what are some good movies coming out soon i want to slow down my speaker you will be able to turn that device on or off using your smartphone or tablet how close is it to eight p m how old is angelina jolie mail send to ashok please delete all calendar events open audio book history of rome what is my calendar today remove eggs for the shopping list show all emails of contract please check my playlist help complaint to consumer service tell me formula for area of circle define flabbergasted put the song in order of singer first arijit singh song then sukhwinder then sunidhi show me new email show me the train schedules between madrid and barcelona for tomorrow list all the events being held in the vicinity comfortably adjust sound remind me about next meeting in advance show me where i can find a train open the contact named john i want to finally read the mars trilogy please start the vacuum let me know when three hours have passed does spain share its border with morrocco find exchange rate for u s d to pound what is the definition of the word perpetual checkout domino center near me and order cheese pizza play the next one how hilly is it in sacramento get me the news about today is meeting look for shopping mall in sacramento for women is clothes play audiobook how heavy is the traffic on the i fifteen in las vegas this hour find the correct temperature for frying a whole turkey is weather normal today open spotify and play list five is it anyone i knows birthday this month what is trending in tech today will it be cold enough for mittens later tonight play episode ten in the podcast please give me the latest feed updates what does my calendar look like for the next week prepare a coffee weather in homestead silent mode do remove next event from the calendar what do you think please start vacuum cleaner cricket update book train ticket for this time turn on an alarm for nine am make a note to pay the electricity bill and remind me on saturday at nine am is not food great i like jazz you should know tell me joke add pick up kids from school to my to do list for today remind me i need to be at the library a week from today at five economic affairs when can i pick up my chinese food hey google hey its too hot outside what is the temperature this afternoon delete the next event today guide me to the restaurant what is the latest trump controversy can i wear my sandals today please tell me news related to the stock market is the weather going to be nice this weekend siri please turn the lights off in the bathroom slow i need some coffee i would like to hear queen is barcelona from now on mute remove the list called party time send tech news should i take a sweater or a coat to work today show me what time it is please add supervision to my calendar get me the news from fox news put reminder to call pawel tomorrow status of take away have i gotten any emails from mom lately what time is it in pacific standard time please remove my to do list from today olly turn the lights off in the bedroom play the sweet song on radio tweet kohls about the cleanliness of their store what is the latest update on the new york bridge proposal book an uber to pick me up now i wouldl like to hear any classical except for bach or schubert when was frank sinatra born what emails are new do i have any mail when was dolly parton born upcoming events any recent mails what is it like in chicago do i have an alarm set for morning flight i like to be it list everything left on my query put my doctors appointment on the calendar find out if the olive garden will let me do takeaway please tell me if july has sent me any emails please send a voicemail to mr richard office about meting him on first of february twenty seventeen at five p m please clean the floor hey olly i want to get trains to manchester on wednesday cancel future event from place i worked what is was the upcoming event give me some health tips play the footloose song will punjab mail reach on time in gwalior brighten lights turn the radio to kiss f m add a meeting with architect to my new project list show johns office number what do i need to make lamb pathia can you give the date today please tell me if i got any email recently start play recently added playlist play new albums who is the wife of obama what are all the lists i have who played harry potter in the films tweet paula deen is restaurant that the line is always too long send me current news for the day how many miles is new york city from los angeles who will win this presidential election remove all appointments show me yesterdays weather play silent song please show me weather on twenty seventh march two thousand seventeen turn down speakers how do i get home from here find brad pitt is age i want a meeting till three o'clock start making some coffee achievements of sachin tendulkar learning games what is the highest mountain in asia what did jlo do today add the item to the list give the stock price details of motorolla have i got any reminders in my calendar honda stock price start the next episode of the friends podcast repeat the next song play my favorite book latest news on terrorism the time difference between lagos and new york is what give me the time in london set reminder for tomorrow at two p m remind me the wedding on time to buy a present call me a taxi to the airport at five am mute the music tell me why relationships are so hard hey siri start an email to coworker from my play list filter devotional songs and play right now for me tell me about yourself i would love to hear the playlist i created for my wedding tweet mobile complaint to samsung play a r rahman music brew me a cup of coffee show me today train time of kalka at jodhpur turn lights off in kitchen invite people to the calendar event call me at six am cancel the meeting next week thursday at two p m add this new email do i have an appointment today hey i happened to miss one of my important meetings today find remainder and delete abdul k a l a m president more volume please do i have a new email from eric help me set a list of put out the lights add jpearsonjessica at gmail dot com to email contacts provide information about bill from my contact list alexa i want to know the best super market in this local area tell me the weather in utah please let me know the latest business news get me details of this person find emails about hours from work shuffle music is summer going on plan me a holiday trip do coffee add to calendar an medical appointment for the first day of the next five months set the alarm for five am raise the lamp is light are there unread emails in my inbox send an email to mom to tell her wyatt is birthday party is on sunday are the falklands in south america email gary where is botswana play a podcast from my library alexa add erosser at hotmail dot com as a new contact for emily rosser delete shopping from my list what is the time in dubai find me kiss f m channel what is happening in the world update my contacts with the new contact sam at gmail dot com when do i need to leave to pick up my order clean the carpets does pizza hut have delivery directions to sainsburys set the alarm to seven am for work olly send an email to jesse can you tell me about the middle east set a notification on third march about company meeting delete event from calendar can you upload my latest selfie in my instagram what is the time in london did i receive any new emails from dan add a notification reminder and calendar event for thursday at seven am labeled sales meeting please what is the time difference between central and eastern how is the weather looking for this week disable the alarm which is set at nine thirty p m if you could talk about three things what would they be can you repeat this event watch out my new mails on inbox what is the highest temperature for this week read me the latest new york times headlines it is hot today is not it what is the event on march nineteenth at two p m about what is the title of this song i got drenched in the rain make the room blue open company name and find forms it is too quiet in here let is play tic tac toe what is the ratio of value of the indian rupee and a u s dollar can you create an email for me play my favorite song from last year what is the exchange rate for philippine pesos did the price of walmart stock go up or down respond to email please describe the new harley davidson street bike report weather for largo play poker with me hello google take me to google calendar please radio one thousand and twenty seven hey did i get any new emails please make me nice coffee how much does elton john pay for his suits tell me who send the email about the boss yesterday please play leviathan searching information online what is in the news today what asian restaurants nearby offer to go food open email check messages disable smart socket play little women tell me when i should leave for a scheduled event so that i am on time explain photosynthesis make me laugh add new email address and send email can you give me the time in new delhi please clear my calendar for tomorrow alexa turn the lights down to seven i need you to turn off the light of my bed room create a list for the following how is the weather like in new jersey please turn on repeat all change my calendar for today is it windy today the radio should play only on nine hundred and ninety nine f m open vacuum cleaner remind me about my meeting this afternoon please what is the current pacific time add running to my calendar for thursday what is the news in politics speak as loud as you can how do i get to the mall can you add a new email to my contacts please arrange to wake me up at three am alarm what is the current time for the next three sundays remind me i have yoga class at noon initiate the music on the electronic playlist check the notes app and give me details of all the lists please tweet the following complaint what was the news for today from news provider today is local events time for my drive home station please please play forward episode in quantico add event for meeting with james we had great dinner today do i have any alarms set alarm olly open spotify and open workout bring up a new shopping list weather in atlanta did i get any emails from sam today set an alarm play today is podcast from the mi order take-out pizza from domino is for seven p m start cleaning robot cleaner read the headlines from new york times please dim the lights in the bedrooms what is happening tonight in chicago i am in bad mood tell me a joke please read out the tasks from the list for today tell me what i wore yesterday west disable the alarm at ten am remove the milk from the shopping list what will be the weather today night remove deposit check from to do list add mike is birthday on march third to my calendar define philosophy i got into a wreck today what alarms are set in the morning make me laugh i want to hear a joke send a notice to the me and a group members reminding us of the new date for the meeting i want to play that music one again what movies is kevin spacey in book train ticket to new york call the customer cell through email please start the radio where is the venue can you reply to the email tell me about mary s in my contacts check recently sent emails from mom let us play millionaires can i know what is the time now away off from list what will the weather be for the next week delete birthday party look for apple pie recipe create an email to aran remove birthday event from my calendar give me the exchange rate between united states dollar and japanese yen do i have any new emails on my inbox open media play jingle bells what is the dow jones at today what is the forecast in me area today erase this list how to best prepare a salmon or haddock remove alarm if any remove my office meeting event for next week does that restaurant allow call in orders low the volume what are the latest tweets on my twitter account will you please show me my lists what is going on right now on twitter where are the best company working spots in the neighborhood how long should i boil the egg move to the next song in the list do not play rock metal how old is marian carey i want the date of last monday of this month hey siri mute the speakers olly it is too bright in here can you turn a light off let me hear my number one favorite play list add mow lawn to things to do list what is the sixteenth president play michael jackson from my playlist play subway surfers with me open alarm and create an alert for ten am current time new york please let me know about my anniversary what is the weather back home today what is computer play it after five minutes what to i have on the schedule tomorrow morning olly schedule my doctors appointment on friday at two p m is kim kardashian married i would like it if my robot could do my work for me set and event for the fifteenth of every month to remind me to pay my internet bill i want to hear rock my weekly plan where does john smith live and what is his phone number please open my twitter app and find complaint section for olive garden depending on the role you are going for this will affect your answer brew my coffee show me new york times news what are the train times to chicago for today how is the weather in the capital city add new email to my contacts macs at gmail dot com play the latest games will it snow tomorrow at noon hey siri chance the current light settings play my favorite song by london grammar exchanges rates any problems give me information about the concert on tuesday night can you set a reminder for wednesday at one p m for my meeting please check my inbox and tell me if there are any new arrivals what is the current temperature outside is there a five p m train on wednesday to rockville what is mary smith is telephone number what is twelve divided by four show the list that are available with numbers please mute my speaker play next song of my selected set a notification for sports game is it forecasted to rain in the next two days when is it suppose to be above fifty again what will be the temperature out there tomorrow is weather cloudy please repeat my shopping list what is the weather forecast for seattle tell me background family of selena gomez did i receive emails from this person what is the weather report for bangalore today reduce the light power resume audio add practice to calendar on feb four at king is park at two p m remind me of my meeting tomorrow at three p m i would like to continue my audiobook has cassie sent me any emails about tom put the disco lights on stream poker face by lady gaga find me a good wine shop that stock old wines like older than ten years navigate me to that shop what is the dollar against the pound what is the news from wbc right now how many new emails have i gotten will it rain saturday how many events on my list what is the temperature in indianapolis indiana death metal now add bola birthday of twelveth july to my calendar shazaam this music set reminder for meeting tuesday with bill set a meeting with tom on tuesday at nine am what is next can you tell me about any local events coming up it would be great if can give you law consultations when will my food be ready what events are going on next week what bra size is julianne hough play hungry eyes play album audiobook are there any traffic issues the weather predictions you gave me are for the wrong city i want to know the temperature where i am at what was the weather for the week make some coffee have i made loss in which stocks please book a ticket form jaipur to mumbai on tuesday what do i have to do this week add new email to contacts how old is tom cruise i want to order chinese take-out let is play you will be the keeper and never change position delete everything on my calendar for the next two weeks set repeat event in calendar can i get takeaway from arby is where can i shop around here write an email about next week weather to my wife what is the b b c is latest news life goals ok next what book a taxi to the airport for tomorrow morning create a new to do list notify me one hour before my meeting help me start my kitchen list make me a coffee notify me about birthdays of all my facebook friends do you know of any good free knitting patterns turn off the rice cooker socket respond to my email from bob letting them know i will see them tomorrow what time is my dentist appointment on monday c n n headlines decrease volume write a complaint tweet i need to send an email to michael reply to new email from joe manage a meeting for today morning olly clear the list remind me that i like that song i have to attend a baking contest on wednesday morning at seven save and set reminder delete my workout from today put dinner with my sister on saturday what gun shows are in tulsa which new emails were received can you start the coffee machine for me please set my alarm today is date decrease twenty percent read the ticket for tesla it is pleasant today could you please play this program for me i need a nap facebook info confirm a travel ticket to german add to my groceries give a last minute update on incoming emails please bring me latest tech news check all new emails in my inbox play foke any events this weekend in pondichery how do i set the timer on my coffee machine when will tesla come to my town resume the song from the audiobook by michael jackson what year did robin williams pass away create an email to toby at tobytoday dot com why is not adam sandler funny schedule meeting on tuesday listen to girl from impanema by frank sinatra please tell me the news headlines show news of migration play ping pong tell me about mount rushmore remove the guest list i created last week what will the weather be like in austin on march sixteenth play classical channel in sirius could you please tell what is the capital of america play music that are classical only initiate to operate robot vacuum cleaner reply to my last email will i need a coat this morning could you describe that object please dolores how was your day what is the latest poll on the public view of president trump fashion please open snooker game i would like to play with you am i busy today turn off the fan is it too warm to wear my wooly sweater today what time am i meeting my dentist on friday make a meeting with friend what is the chance of precipitation in todays weather bring the lights down a bit create a meeting with friend i want to remove apples from list do i have any remainder next sunday can you tell me what date it is google what is the temperature outside olly you will never guess what happened earlier today please empty my calendar remove all the reminders from the calendar how is the traffic in milligrams road show me the direction of this location is today the fourth or the fifth share with twitter i want to hear a joke turn my morning alarm on what is the capital of tanzania i want exact time in washington right now my day was pretty hectic today please provide the contents of the list what am i doing today when is shakira is birthday add work out to the calendar for monday through friday from five to six hundred am please remind me of my teachers meeting on thursday at three p m hey olly what is today is date remind me about tomorrow is meeting tonight tell me what time is it define computer will it be nice at the beach on friday what is the exchange between u s d and cad what is my recent email activity remind me to order more soap alexa mark my calendar as unavailable today what is on that date my coffee is cold please make more coffee what color is a dragon fruit post i am happy to facebook help me to understand why the seasons change what is the weather forecast has mary responded to me email yet remove my to do list play some tunes show me the picture of the singer recipe for crabmeat new updates start irobot who is the artist that sings this song will it be raining on thursday change light color what alarms are upcoming how can we prepare biryani how do i contact charles is traffic heavy on route eighty today down the speaker volume at the end of level what does the email say that was sent thirty minutes ago from mom please tweet at pizzahut i have been waiting for my delivery for now number nothappy what is the weather doing in grand rapids mi now please set an alarm for tomorrows meeting at seven am eliminate the list kickball but make sure the contacts remain hey how are you what is latest controversy on donald trump play me barcelona by queen i need a list of my clients today make one change the light in the bathroom to yellow i need to set a reminder to go to a work meeting on friday at two hundred p m i want listen to kevin and bean play pop turn off the lights in the living room do not forget to remind me of my brother is birthday on april twenty put wash the car to my to do list make a reminder of location a on calendar be mute hey play me a popular r & b song how many rupies are in a dollar i would like it to be able to compute answer from search results like wolfram alpha does add doctor is appointment monday at three to calendar tell me about martin luther king junior show newest emails what events are going on in new york city turn on surfin u s a cancel my meeting with lisa on tuesday and reschedule it for thursday is there any alarm active who has won the most number of oscars ever go back to the midnight series any new emails after five p m can you book me a train ticket to bombay for tomorrow in any train remove the item from list has john sent me a reply via email yet play next recording google is my thursday appointment with my dentist identify object what time is it in this city can you tell me the top news stories about the white house olly play music from the jazz genre make a playlist of all songs of eminem and play with shuffle open tweet to apple that my iphone is battery is always drained what is the current time in delhi turn speaker volume down i want the exact definition of school will it get warmer here next week complain to amazon customer service for me olly delete last item listed play videos where does janet jackson live remind me of my meeting on wednesday at nine am how much time do i have to boil an egg i want dimmer lights what is the exchange rate between us and mexico how is the current weather in california start radio channel ten tell me the exchange rate of rupee for dollar please tell few details about this person define session please save that song find all emails that contain the following subject find me a cheap train ticket for miamy what is traffic look like over the golden gate bridge change lights to red i want to hear the bob cesca show can you please turn off the lights in this room i would like to know the latest from n b c news what is the news for today play next episode of podcast please tell me the election result of up which was to come today add event to calendar what time is it in california i want to remove the wedding function on saturday make new playlist from recent songs what is the entrapreneur saying about homelessness in the seattle times article send a complaint to sony about this t v that quit working is it going to be sunny next week on tuesday what time is it in chicago right now nightlife make event how many emails do i have from work today what is going to be the forecast tomorrow for outer nowhereville turn on the wemo plug socket to plug in my dongle turn off my room lights what causes in burmuda triangle let is play hits on the radio system pull any traffic news for my commute please make me coffee without sweetener olly what movies are playing near me today needs to be marked as my cheat day hey olly i just lost my wallet today i need next weeks lunch put on the calendar compose a reply to last email pencil me in for sarahs birthday party on the twelveth today is forecast olly i am looking for a bar do you know a good one back one episode save my opinion about the current song playing add mop to hardware store list i want to play the game of life with you iphone seven description remind me about tomorrows meeting tell me what reminders i have for today can i hear some britney spears tell me what job i should take let is listen to a playlist remove the heading of the list what is a movie in theaters that does not suck do i have any new emails from paul please start joe rogan podcast please give me the definition of carion have i received any email from ron in last couple of days can you pull up information on the singer of this song order a train ticket to los angeles it will be good if you yellowish the light check my email for the last hour give me the status on my available memory play music of kate perry without shuffle please set a monthly reminder for paying rent open temperature my favorite singer is shakira i want to order some takeaway food i would like to start this new audiobook how is weather likely to be in my area today provide me with the list of great restaurants in a is it going to rain at one p m today what is the news on b b c news maths solution matters book a local cab please check the news on social media play my rap playlist what do i have scheduled for tomorrow i need to cancel i need to buy gas what is uber give me directions to get from here to crescent city brewhouse in new orleans show me the answer for this problem two hundred and forty six plus six hundred and fifty four delete the dog list for me make all the lights in the house orange for what is famous ellen degeneres turn down volume turn up the volume what is the traffic like do i have anything going on saturday at five p m find me eighties music run indian folk song set up a date for just you and me post the picture i just took on twitter what will be tomorrow is weather in this location do i have anything planned make an alarm for three p m buddy adding event in your calendar there is an email i need you to send my friend does mr t have a family call and order pizza for delivery when did beyonce and jay z get married will it be sunny on friday book a ticket for me on a train to get to boston tomorrow what is available what are the most recent headlines on c n n what is the schedule time of punjab mail to reach gwalior how can i hibernate like a bear tell me current time what is on my list today i do have a to do list for today do not i i have to wear a jacket in the morning rewind button check my email i need to know all of the emails from contact pertaining to subject how is coca-cola stock doing today notify me if i receive any mail on my email account give me the specs on the bugatti veyron what is good way to cook eggs does selena gomez has a scandal turn off the lights in the bathroom how tall is lebron james what is the top searches in google today i finished it once can you put on the chuck palhunik audio book let me know if linda posts anything on my facebook today set a reminder for dinner at six p m on wednesday at bonefish grill disable all alarms set for today add dentist appointment for friday at five add this item to the list keep playing war and peace tell a joke that puts smile on my face do you know the eta of my order do i have new emails from john answer for three times four find geographic details of this place what appointments do i have today browsing centers remove that event from my calendar include mike and jack to festival calendar i hope we could eat cookies and watch movies together can you tell me what kind of show can i go tonight in miami please delete the shopping list change the lights into green email karen about the budget meeting tell me some business news in how many hours will it be midnight in london england dance with me could you please lower your volume play music from playlist what are today is highlights from facebook volume up please play jocko is podcast weather in paris change alarm setting i do not want to attend the dinner on march first any more so could you remove it from my agenda what is the weather this friday please look up clothing stores near me please alexa tell me the latest video going viral on twitter for topic narendra modi open derek is contact information give the shortest route to the airport send email to joe at a o l dot com tell me something about describe a starfish sandle put an alert in my calendar every week is it supposed to rain tomorrow what does serendipitous mean please delete this list for me who have emailed me recently and what are the subjects of each email book a taxi to the airport please reserve an uber right now what plays are showing at the theater please go to the next episode of the podcast investing set my alarm for eight am raise the lights play episode of stuff you should know in queue how slow is traffic on the five how big is the stone in this ring tell me c n n news for me right now train schedule i need ninety nine point five please can you reserve me a seat on the train to hartford next friday morning remind me the reminders i have set please mute yourself is it probable that there would be rain in the forecast today show me music by that artist i would like to know more about the scheduled event please send me info on how to go about purchasing a train ticket to new york what is going on give me to do list what is the news for six hundred and forty five am today play rohan sharma podcast for me please make a complaint to levis cut down the volume where is the closest train depot are there any recent emails are there any alarms set post in pinterest about my new chicken recipe good restaurants cancel next meeting please send pedro a email about his car use google to show me how to cook start a conversation with me about politics make a contrast one list the subjects and senders of all emails to me in the last week write a tweet of complaint about my t v to samsung has the university of greenwich emailed me what is the most popular curry place in town u s d position now make a new alarm play all songs by martina mcbride what time is time could you please describe me about the item smart phone when you ask it to schedule an appointment that it can email the specific person and provide available dates from your calendar go to the nsdl and search for prices i like red color for my home change it play clarity by zedd robot via bluetooth enabled devices how long do i boil a hard boiled egg play i am a survivor by destiny is child perpetual meaning do not let me forget rover is vet appointment on the twenty fifth can you find my lists let me hear a joke change alarm to start at midnight at what time does the next redso game start lights to fifty percent just let me know next weeks weather in california how is the current weather in washington d c do you know the weather turn lights blue hey what time is it in orlando florida when does my alarm go off tweet consumer complaint show me the posts of my friends in the last hour may i ask you to remove next event from my calendar is calendar event false where does the twenty second fall this month remind me to meet joe for lunch tomorrow give me the train time please let me know the morning alarm time for weekdays is there a new mail from jay in the inbox what is the current song called put an alarm and wake me up at six am tomorrow morning is it going to rain on my birthday reminders price of train ticket from delhi to mumbai what is the date please start the next podcast episode before this event set notification nightime what date is my anniversary set notifications on the current weather disasters in america make the lights off play me a random audio book that has to do with love add an event to my calendar play all rock songs i will be at pizza hut in ten minutes and will stay there for next forty minutes arrange an uber for me that can drop me home i need a train ticket to cambridge from here what about the new york city traffic remove my vacation scheduled for july play super mario brothers game with me what time does the acme meeting start on friday define organism set a notification for eleven march that an interview is scheduled with mr rodriguez the twenty second is what day find me the local n p r station is that song from shakira book a plane ticket to please add the meeting with ms boland on wednesday eight hundred am to my calendar what is on my to do list today i just love adele please play my most played songs of her after this track start my playlist on i heart radio please remind me the birthday of my uncle joe every may fourth shift the balcony light to off turn on the playlist i have dedicated to rock music would you please notify me about the event in my calendar can you tell me who create you make a list of numbers for me delete the old playlist and create new i wish i could play video games together show me the available colors of lights is the sun gonna shine in devon this weekend tell me the song that is currently playing display volume strength on current track hey olly make a list of names starting with vowels and ending with vowels olly remind me my mom is birthday a week before please play games by disturbed which alarms do i have please book a train ticket from london to manchester turn off room lights place alarm at five o'clock morning tell me the current price of exxon mobil stock rahul marriage reminder show me the last episode turn volume up to highest level remind me about my meeting at two p m reply to my email from sasha saying thanks olly pause for ten seconds how do i make peanut butter cookies location i need you to respond to jennifer is email by stating we will be late send an email to my boss about my leave give description of statue of liberty i want to play rock songs by ozzy osbourne start my play list remind me if i miss my evening walk routine play next song on track please send a complaint about my horrible experience with a company mute immediately find exchange rate for u s d to euro can i get an order delivered from romero is compose a tweet for youtube it is seven am in pacific standard time what mistakes do you usually make i am driving please auto answer my calls on speaker phone are there new emails in my inbox lower volume to half is there any upcoming events what sapp time wellington nz list the latest apple stock prices increase the brightness of the light it is hard to see down here where is the nearest olive garden google shuffle playlist instruct the coffee maker to make a filter coffee ready in ten minutes reply to this please which ocean touches at our continent review all alarms just see for me the alarms that you have set today morning does eighteen may contains any birthday i want to listen jazz move the volume up a little are there any fun events in la today exchange rate i will get with foreign currency can you turn off my desk lamp play audiobook of jacob remove meeting at dubai i want to listen to the new sam harris episode add to calendar an everyday reminder for laundry what is the weather going to be like today start playing dubstep play the track eight from google play music start over the book legacy olly get rid of my current alarms olly hit me up with some exciting events in the bay area i need you to add this email in my contacts does peking garden deliver band name increase the volume of the left speaker by ten what are all the lists i have available i need to set up a recurring event in my calendar please play romantic music in nash f m ninety two point seven can you give me the train times to n y c can i go out in shorts list new emails i need you to start f m eight hundred and ninety radio channel check outlook please create a new list music two olly get me a coffee send email new address remind me a week before my credit card payment is due what reminders do i still have describe what a sphere is is warren buffet is investing in my listed stocks play firefly by mura masa what is the highest building in the world olly tell me my alarms what do i need to remind for this afternoon keep me updated on stock market prices play me harry potter from the place i last stopped listening on olly start playing jazz music what is the total number of oceans in the world how did paris hilton become famous lights off in the living room are there any new emails from name any sport event is on my list what is the time difference between eastern and pacific find a definition how hot is it in miami book a train tickets for me play me this mornings show from one hundred and one point nine just to confirm you set the alarm to go off at eight hundred add new event named anna to calendar set event on repeat what day is christmas today i got rewards olly what do i have to do tomorrow turn wemo on write an email for john at gmail dot com how long will it take to drive to long beach what is london time what is on my shopping list today find a good recipe for steak set my alarm for twelve p m fast and the furious publish an article in pinterest take that off there clear all events from calendar please tweet the following to radisson hotels customer service olly tweet a message to a t & t and tell them my service is bad show me thai food near me open train ticket app remind me when i am at the library to get a new library card is the celebrity single or married please add an event to my schedule what are the longest rivers in the world can you tell me the phone number of me display nearby places put off the living room light coffee what is the quickest way to my work downtown without hitting any traffic open google keep send email to liz which continent has highest growth of cotton and what is average production keep me informed about bitcoin price warm wishes to mac for new job did i forget anything stop it please see if chili is has delivery increase brightness in the room olly place an order for a combo platter from china buffet please information on dolly parton reply to anthony is email please give me a two hour warning before next saturdays meeting what is justin bieber is birthday describe about the computer hard disk may i know what is trending in social media turn on living room radio how is shell south stock doing today for every odd numbered sunday set a reminder for turn off the socket who assassinated lincoln get todays climate forecast here switch the station to eighty nine point four quiet mode on until i am home from work turn off lights in bathroom olly say something funny what does a banana look like where is yellowstone park what is on my playlist add light what is on the news today search if the restaurant does take out what time is it now in the eastern time zone when was the last time that i spoke to john i would like it to make doctor appointments etc for me i am unhappy with tesco please help me reply email received empty calendar for this week hey olly play playlist tactics from music silence speakers the twenty second is on what day of the week please send an email to john saying i am on leave this is my favorite song send a reply to mike sports scores delete my meeting event for march nineteen at one p m so clean news in past six hours is what what is today show me what alarm times i have set for the week reply to the email received from peter what shops are round here olly will it be nice on saturday open the weather app turn on music by seal remind me thirty minutes before my meeting at three p m tomorrow stop repeating this song activate radio and tune into nine hundred and eighty nine olly what is the total number of oceans in the world i want volume on my speakers play the beatles start my favorite music play alex jones in radio delete all meetings for tomorrow following scenario to answer questions please let me know the alarm kept for tuesday is meeting play my video game news podcast starting where i left off play pong against me play pandora what are the top stories on c n n include this item do you know how to cook risotto will you turn the alarm off for me change your colors to green are there any pharmacy store nearby what time does the train were on arrive at the next station i need to order some food from papa john is how many food items on the list seven hundred improve volume clarity setting up a food processing business in our home has advantages and disadvantages can you give me the latest sports news what is the day today give me the time in phoenix az remind me of my meeting on open email to send to dad please turn the volume down schedule and appointment with mike for next thursday morning can i wear sandals what time is it in moscow now play the college baseball game play all my favorite latin songs tell me how many inches of snow did new york city get today add repeating event on saturday on seven am named cinema time play pop music are their any new emails for me today send email to mommy that i will be going the party what is on my list i need help making pancakes open inbox to check unread mails i need a uber to my current location check my social notifications add event to my calendar switch off delete day after event olly today was a tiring day where is my girl friend right now lessen the light glow find events near by please invite kim marc and julian to a meeting on thursday at three p m how much is one u s d in inr how much is starbuck is stock these days my son was born today i need a taxi to take me to the airport please how is rice prepared create an empty calendar event for next saturday at ten am open and play music from jazz genre do i have any upcoming reminders show me a traffic map from kamycka to dejvicka give me tomorrow is weather update is there a canoe shop around here i want to hear this radio station now the location is my office what is new today list and play all songs by given artist south it going to be hot tomorrow play huey lewis start a new email to what is the best meatball recipe take my calendar and clear it what time does the festival officially start delete my shopping list set reminder for tomorrow morning about my meeting am i free friday afternoon how many miles is it between illinois and louisiana who is the top of the music chart for two thousand and seventeen web searches increase the volume so that i can hear it in other room what is today is weather can you message back jean via email do i have an appointment for january the third lighten the light olly show me my alarms take eggs off the list start email to client anything unique to do in the city today give me international news what is the going rate for wells fargo stock what alarms are on right now where maradona lives now hey reply a mail which i received olly rotate the light colors pause for ten seconds switch the lights to off what would you call this kind of music that we are listening to what time is it in new york city repeat the last song again how much is one american dollars worth in england play howard stern olly i need a drink what is the weather going to be like this week start a vacuum cleaner i want to make this week is shopping list what do i have planned next monday from noon to three tell my facebook group that i have arrived is it raining outside olly what music service has some soul music i can listen to what is i b m is stock worth notify all birthdays next week get a forecast about wind speed tonight please tell me how to do my daughters eighth grade math how long does it take to get the train from rome to paris surrounding environment post on my facebook account that i got engaged please read my facebook feed hello can you give the contact details for a particular service center olly can i use brown sugar instead of white in peanut butter cookies uber please please check on the rock concerts scheduled this weekend play me a game of tic tac toe list the received emails recently in alphabetical order read what is on my list send email to joy hey i missed you yesterday want to go out for dinner tonight recommend a movie which is released last friday go to the event month and delete read me my current grocery list olly you need to find an alternate route to my destination largest animal give me a newspaper check emails from mgccc more about the concert in street pete tell me the traffic condition from here to home does fongs have delivery check the weather app to see if can you create a list for me please find new from c n n i need a taxi in thirty minutes open weather i need to add a new email to my contacts can you set the coffee machine to make coffee at three p m time every week day jam send an email to frank at work help me book a train ticket add bananas to my shopping list create a new list for me please search nandy containing payment email donna plans for today make the lights brighter please send a notification when john replies add a marriage celebration party on this sunday does this place do takeaway brighten living room lights could you please help me in listening to the radio meaning of word google let me know when anything news about trump how many times was richard nixon married at nikesupport please help me out with some faulty shoes i just bought where can i order take-out i need a ticket on the train to new york city tomorrow lets play pinball remember how i fell about this song what time does the train to place leave add a meeting tomorrow with a pamela at six what is the date of the winter solstice two years from now increase light alexa i would like my to tell me the trend on foreign exchange rates clear my entire calendar what restaurants are open near me show all emails regarding the breach remind me for making call to all participants buy an acela train ticket on thursday i want to hear that song search this object is definition please create a new alarm can i see the next episode of the podcast what is your favorite color should i bring an umbrella for work today start the radio olly tweet a disgusted face about mcdonalds play my latest podcast pause the music remove trip event set reminder for tomorrow for this item how cold is it outside when is my lunch break where to buy cannon cameras initiate vacuum cleaner through mobile phones i am not doing thing this week can you tell me the recipe to cook pav bhaji what is the weather for the school week has dad sent any emails recently joke of the day where is a petrol station in five mile radius play the radio band with documentary who is this ok google what is the easiest and quickest way to cook a turkey what is the best chili there is start my folk song list right after this song read me the latest headlines from nytimescom make this a bit louder play radio please local shops hey has john sent me any email lately turn the volume up will i need an umbrella today global warming what is the time for the eastern time zone what is the meaning of life describe hell reply to all emails received between ten p m and seven am everyday send voice email what is my most played song delete calendar item do i have any new tweets it is too dark in here increase the brightness of the lights could you please find me the latest news from a source that i do not usually go to please remove this item from the list how it is come to us remind me to pick up the laundry next monday can you play a song by aerosmith can you set the location to my sisters house for this event olly play anything in my recent playlist alexa tell me keywords about usain bolt email joejoe at gmail dot com check my mailbox and let me know if there is any mail post seven am today what date is it today play hoizer radio station from my pandora app play rap songs what date is it can you pause the audio ten day forecast for baltimore please play my best music do i have anything on my to do list olly i met my future wife today please set up a date next friday i need a repeating reminder for every monday at three hundred and thirty p m turn on socket refer local current events tweet comcast and tell them their service is down again olly help me remember to call janice at four p m what is planned today send email to carl that i will be late for work tomorrow turn on the radio to kiss f m ok google add a notification from bob is news on the weather how much is a round trip train ticket to go to new york help microphone send that email to james please do i have any lists for the upcoming week show alarms turn on vacuum do i have any remainders for today tag this song with five stars what is time now in california what posts have i missed from my friends how many plays has patrick stewart been in what does oscillate mean i need to add an event on may fifth two thousand and seventeen location goshen for danny is graduation party please add practice on feb four at king is park at two p m write a message to payoneer and tell them that my card is not working find me the latest news story on us politics what is on my schedule for today please play jazz music what is the weather for the next seven days do i have email from my friend rachel find apple pie recipe please advise what the current news is on fox news when is the next holiday turn up volume what is five divided by one send email to jim is work email if you put a velociraptor and a hippo together what would happen i need a taxi to go home check my emails for something from name store my contacts add to my reminders to watch new movie today at nine p m what are pounds worth right now please find description of the newest canon rebel camera clean up my schedule is the twenty second on a wednesday scan the radio for howard stern what train companies are near me change color of the light to red outside the house how heavy is traffic now in denver open up a new list how is the traffic at the moment how far above sea level is denver add new contact and send email sound cloud latest reminder about meeting olly i am really enjoying this song what is the address for alex remove all the events of last month from the calendar i need an email to be sent to comcastcom about my service issues switch off the wemo plug what will be this week weather condition what is the average elevation of the united states remove finlee is bedtime alarm remove shop list when does the hockey game start on friday can you define a baster play boogie in your butt by eddie murphy would you open the email and i would like to compose a new one set a meeting on wednesday at three p m in room let is have a warm glow in the front room diverge i want you to analyze the pattern for me to buy lottery ticket which number will get the first prize meeting with joanne in ten minutes in the conference room delete my alarm for eight am who is scheduled for tomorrow is meeting i want to know the result of twenty is to two good day please start the playlist huey lewis and the news what is motorola going for today what is the dress code for tonight please start the podcast political news of importance for the day delete all the events from my calendar what emails have i gotten since last night at four p m how long will be the remaining travel time to the destination does it fall a sunday on fifth december africa info volume settings please you want to know how my day went play podcast for the philadelphia eagles content time zone between india and us can you recommend some dog is how events going on in our city open the new york times app please be quiet for another hour it is dark in the living room find me the description of this object cancel my five p m daily call list new i love to rock out with my sock out will it snow next week play classical chamber music playlist definition of computer define forensic set a new alarm for that time play the new record of malika please play my cricket game how old is jim carrey could you please send back to pawel this answer show last mail from john tell me what is on my list food will be given at the exhibition would you love to see strings and pianos but only acoustical guitar not electric please please show me the exchange rate between the dollar and the yen when can i pick up my order can you let me know when it is two hundred hey order two wings with french fries from the chinese food store chane light color to green is mr pizza on skip the dishes can you please describe the iphone seven what is the difference between bake and broil continue where i left off on my podcast play me some melody song task meeting i have dinner with my sister this saturday start my movies soundtrack list remove list item please clean my shopping list play from my play list i am need of an evening rain coat can you notify the event in my calendar please turn off wemo socket remind me in one hour about my meeting i need to put together a to-do list for work what is the lowest population per square mile in africa i have a flight to take on the fifteenth send me reminder to call my daughter on thursday for her anniversary what are my appointments today please check the recent trend in stocks email david about the meeting tomorrow david can we have the meeting in the afternoon delete my next meeting what is worth doing around here what does the word hypocrisy mean audio call mom tweet to apple about non receipt of iphone i sent for repairs last week what is the latest news what music is this turn my bedroom lights off what is three times seven directions to place delete all add this song for the next playing song please let me know the train time to washington please note i like jazz and hate disco start house cleanup tell me what is my to do list for today hello is this your first time here call person a for meeting hello how are you today what is the time of day right now find out if the restaurant does takeaway orders please tell me when is the marriage of mr jim how tall are giraffes create new list for brilliant ideas hey google can you save next monday night for my date with carl how cold is today change the lighting to blue let is play music hits what does obligatory mean what is two hundred divided by ten resume story see if there is something related to my job lower lights please can you watch a movie on netflix with me please play any joy division album today was okay turn off lights what time is it in new york what volcanoes are currently active message at bobburgers they screwed up my order and i had to wait an extra hour play all indie pop songs play the next episode of this series search my calendar for my next event and notify me before it occurs switch off the lights give weather stat for the week how many new emails for this week what is the entrepreneur saying about homelessness in the seattle times article what do pink ribbons support what are the names of all my saved lists i would love to hear any song that i have given five stars by serge gainsbourg resume the girl on the train on audible give me a list of lists please remove list remove my dinner event for tomorrow current song playing what is it open gallery post picture name what does problematic mean are there any alarms for today where are pyramids located play the next episode of podcast could you delete this event what is going on around the neighborhood find a recipe that uses ground beef and zucchini what does flabbergasted mean what is happening in cambridge what is the current temperature olly is swat a good movie do i have a soccer game this weekend please alert me to the time just schedule a meeting with my boss where should i go for mexican food in my area tell me the name of my lists is it afternoon yet what all goes into a red velvet cake set lights to full power describe what a crop circle is will it rain on friday this song is not very good add a meeting in office at eleven am i have a birthday on monday set the event can you turn the volume up add five plus eighteen minus four please what are the lists i have how many floors does the empire state building have play some christian music is there a way to bike a hundred miles what is trending on social media what about new mail play the next episode of a podcast show me all meeting reminder prepare to send an outgoing reply message tell me how to make garlic bread is there any salon in babaji nagar how old is christie brinkley olly what is some upcoming events i might want to go to load my playlist titled country favorites and play it how much is a train ticket to san fransisco play jazz do i have any private messages on any social media how much btaxes hey olly please tell me the name of this song that is currently playing is it going to be cold in the next few days show me the shops that are in the area in jodhpur traffic level is very low remove next monday is meeting area of north america play a game of chess with me meetings get me resume of newest release audio book enter this to a list olly can you please turn off the light of my bed room can you send meeting invitation to mr chen on next monday six hundred p m send reply follow news about hilary email issue in future this is a tweet for comcast if i have my internet and phone service from you and it goes out how can i contact you call a taxi give me everything you know about bob dean what year did george clooney start acting power off the current please tell me some international news i want to hear program one on lastfm please turn off the smart plug socket add lee is birthday to the calendar on twenty two june what is john doe is address should i wear a a dress or a sweat shirt today what is the average per capita income between asia and europe people what is up today is there anything new on snapchat remind me off about my tomorrow meeting sharply at ten weather remind me the day when this event is supposed to take place is it hot and muggy or warm and humid in the bayou today what does hypocrisy mean check for recent news stories on m s n b c who is the current us treasury secretary important house information what should i see this weekend olly any new emails spotify show me my alarms play song number start the i am feeling lucky playlist on google play what would be something fun to do today i need to know where to get chicken wings in benton are what i do not like what is the timer in japan please open my music application and play games by disturbed i need a train ticket to rome book ticket what are the chances of hail this week will i need to carry an umbrella with me today what year did elvis die who is emailed me recently the list should not contain all food items with the prefix dry i want to learn about donald trump enter silence mode i want to hear some modern rock are there any concerts this week olly what is a good rap album that came out this year how much will be the world population after twenty years mike will send me an email tomorrow can you please set up an alarm fifteen minutes after receiving that email cancel the list do i need a rain coat today what is the weather like tomorrow turn the vacuum on olly send an email to james asking when he is getting off of work will the temperature stay about the same or is it going to get colder the available lists what is the definition of timeliness do i work on the twenty fourth any new email from the boss add event to calendar and repeat show my upcoming events give me the description of a smartphone circuit do i have any lists do i need a jacket turn off the living room light what do you think of trump let me know the list remove next meeting today in my calendar list all the meetings scheduled for today before six p m time now in new york remind me every friday to go to my son is basketball game open lyrics name email dad how is the weather this week can i see my work lists olly create an event in my calendar play a song of your choice for me tell me a good doctor joke rating what is the weather like today tell me the simple interest of seven with interest in two year what concerts are due nearby what movies are playing this week can i get a train ticket to do i have a meeting this afternoon where can i get shawarma in this area i think dean obidallah is on the radio around now volume level tell me important news today what is the current date please delete this calendar event olly should i wear my gloves or not please delete this event will you remind me to go to hockey class every sunday afternoon activate music was there any articles on shark attacks on snapchat yesterday how many children does sandra bullock have can you read my meetings today lets begin buddy how do i cook butter chicken give me more light will it rain in toronto next tuesday please turn on one of the preprogrammed stations how do i prepare all my food for cooking latest news from jersey closest chipotle i need you to set twelve noon prayer for every friday today is fifth march start my jazz playlist play gta vice city game change the lights to green how far is san francisco from la tell me the exchange rate for the yen can you tell me your favorite color i need a reminder for friday is meeting delete the work luncheon this friday notify me of the latest news on the stock market weekly weather report what alarms did i set today in another city what time is it what is denzel washington is next movie are there any new emails bring up calendar and schedule meeting with ri april first ten am directions to disney land length of traffic what is a cookie recipe is monday free after noon tell me what is the nicest place to go please play the broods start the oven local news from bay news nine synonyms please turn off the lamp send a message to national grid that the power is out again where is the south pole when was the world war two started meeting with joe next week tuesday tell me my list please remove the alarm which i set for today morning time now olly how do i cook a pasta list of famous biryani recipes what song is this reply to heather is latest email by answering no bring up papa pear saga create a birthday wish reminder for tomorrow at ten am display current time could you make a train ticket for me play new radio channel cancel all alarms make a list for work what is the news about in africa olly can you remind me to take the garbage out on tuesday play some radio can you change my time zone from central time to pacific at what time have you set alarm for me what is the time in new york what is the current exchange rate between the dollar and the euro what is the value of the yen right now clear my calendar of all events show latest email from mark olly is it raining right now can i get a cup of coffee deactivate the socket remind me every monday to take out the trash olly call a uber in thirty minutes tell me about the latest politics news please put radio in shuffle can you please disregard the party that i will be going to this weekend on my calendar start a new list for me how many hours distance is between my location and new york please add complaint about the service in tweet to olive garden play led zeppelin houses of the holy how tall is jennifer aniston make the lights less bright ok google what is a ferrari can i get some background music delete the first item on the list by hide what time does the train arrive from san diego to north hwood reduce the intensity of lights who did i email recently what is happening at that event delete my appointment at one tomorrow what movies are being shown at the regal cinema flag me an uber for ten p m tonight check recent news on someone olly do i have an appointment next week call linda and remind her to pick me up for bowling who sung this please put me your input to know my schedule show me concerts in sacramento order spaghetti from spaghetti warehouse to bring home directions please any new facebook posts from amy put william it is my birthday in next change light color to yellow make some noise is it raining in toronto how do i make pizza hey order a side of hot wings with my previous order where is the closest good restaurants are sunglasses a good choice for today will you look up joe is contact information for me tell me the name of the composer can you make a red shade of light in the living room check new email darken the room a bit please add new item to list send an email to my friend say birthday wishes show me upcoming events in the quad cities c n n world news i need directions to lowes in mount h nj activate the robot vacuum hey olly what are my lists remind me every first of the month where is the closest restaurant apply search and check does peking garden do orders online turn on vacuum cleaner hey order a pizza pie with extra cheese i am having a meeting on tomorrow set it hey google play some jazz music for me this computer is very hard to use i do not want to use the socket anymore get recipe for making a hotdog elections in up forecast rates i need a six am wake up call check if i have set any alarm for morning current what does regal mean start radio forth on program y who is highest scoring football player of all time siri skip two songs play all by the beatles what is the best sports bar with vegetarian options in l a add this email to my contacts save event for five p m to six p m on march eighteenth remind me when my car is due the day before olly play music from my favorite pianist open uber and book a car for twelve o'clock is there a chance of snow wednesday start complaint to walmart schedule a reminder on fifteenth march and input name as meeting current price of google please are there any events happening in town create an alarm for today at ten am how long will be the duration of the event is it gonna rain tweet customer service not good for liter per gram service in my twitter account hey olly play the songs from my playlist named good tunes olly where is a nearby park where i can go running make coffee now hey siri have you heard any funny jokes lately add to calendar every year on may two is mary is birthday change the volume of the speakers what are the names of the lists that i have created turn up media volume book a taxi to go to the movies at one please save this song is this the hottest day in mangalore turn on hot ninety seven what is the weather in portland what is the correct time i need to get to location call a cab when did elvis die what is the closest taxi to me my calendar is to be updated with all rccg event in march if there is any free space please set a reminder for me to call my sister about a college fund between my meetings this evening how was the traffic now resume last played audiobook how many kids jackie chan does have have i received any mail in the last hour what is the weather like in toronto what would you look like if you were a real human being google train tickets to washington d c and the darkness has fallen get rid of the events on the nineteenth from my calendar when is my meeting get rid of all events with jeff tell me the artist name what is traffic likexchange on four hundred and forty one i need more milk can you turn off kitchen light for me open contacts and find john smith are there any events going on downtown tonight can you remind me to go to dentist appointment one day before please send an email to sally regarding tomorrows meeting go to the end of the podcast lower the light level in my house i want to finish listening to the book one thousand nine hundred and eighty four from where i left off what happened to fergie is narendra modi the indian prime minister visiting any country now what are the headlines from the new york times tell me the date put a reminder in my calendar about meeting with client at ten am on tuesday hey what time does the four train leave the station i want you to make alert in the evening about upcoming meeting this fact sheet provides considerations for how to set up your food processing business set my alarm for time my trip to goa photo post it on instagram did i get an email from jen last night schedule a delivery from food at the nearby takeaway diner run the vacuum please make some coffee for me how many meetings do i have today from nine to five p m who is jennifer aniston married to transform into a woman can i get delilah on the radio in the bedroom find out if eddie richards has sent an email about the budget requests find grocery store with an organic section near me give the definition of motivation please put on an alarm for eight am who built the prado museum how is the current stock price looking for charmin has ben got in touch play all third day remind me to call my grandma this sunday how many recent emails have this sender or subject line what is the closing price of axle company what is the weather for this week raise speaker volume how much is amazon stock what time do i have appointments today what is the weather forecast for today if the object is for sale then what is the price send an email to my manager teach me about exposure settings that would be best for a cloudy day in alaska what is the definition of diverse news how would you tackle the following problem brush your teeth recommend songs based on my playlist just let me know the train time to california find a grocery store in town that carries creamed pickled herring play kiss f m for me turn off the wemo plug socket what is my upcoming calendar event how old is rod stewart can you play the radio please i would like news on donald trump can you brief about the next scheduled events remind me about my anniversary in advance alarm set for time take me to more music by that artist i need to add this new contact for sam smith ssmith at yahoo dot com remind me about my alarms today i like the background song load spotify when is the party this weekend what an umbrella means send me updates on the standing rock protest cancel my meeting tomorrow find stock price for name current time in japan look up someone add to calendar doctor k at three hundred and thirty p m on march seven read the audiobook of war of the roses is it going to rain this week house lights blue latest news on traffic at my current location notify me when i am supposed to attend the dance recital on march fifth delete apples from my shopping list this alarm needs to be permanently silenced rate this song five stars and save the rating it is too bright in here dim the lights remove my dentist is appointment from today is schedule go to map look up in contacts what does animal mean email james about the softball game james we need to get some refreshments before heading over how to cook crabs what kinds of sunglasses are considered aviators how is are the roads looking right now suggestions for future please let me know when there is an update to the plane crash story olly what music do i usually like after work lower audio where is kansas located play chess with me please will trump visit russia anytime soon did i have any new email i do not want to carry an umbrella will we have rain today do i have any appointments scheduled for march twenty four two thousand and seventeen can you give me directions from mcdonalds manhattan to my home delete my list of appointments for tomorrow what does settle mean what is the customer service feedback hey olly do i have any new emails olly read back my grocery list to me play hurt by johnny cash next please turn lights off fast road to get home i mostly pay attention tell me what is happening on instagram what is the cheapest ticket available next week for a round trip three day trip to iceland what is the email address for tessa tweet complaint to at is it going to rain what is the status of my order find out for me what the topic is of each oswald chambers book where on earth has the most volcanoes what places can i order take-out from near by what events are on this month is schedule that song was awesome can you repeat what is scheduled on my calendar today current local events where should i go for dinner in san francisco tonight give me directions to the target on i forty look up a lamp can you tell me what a grommet is pull up the menu for the closest mexican restaurant please give me today is date what are my calendar event can you tell me about expensive sushi restaurants in west philadelphia can you show me list of my appointment which grocery stores have i mad a list with turn up the speakers where is the car what is with my dinner order play all music by billy joel neat set a meeting with hongbin open the uber app and get me a car please format data from calendar when is the next appointment music please what is the news from c n n can you take off the next event on my calendar tweet a complaint to amazon about delayed shipment i want to do laundry at eight p m create reminder i need a reminder at two hundred every day to check on my mother tell me what is going on in my city which event should i attend in my area hey can you make it blue in here i like to listen to jazz add event in calendar turn off the sounds traffic report i went to walmart today can you delete my shopping list show traffic in ohio please change time zone to india where a good restaurant if there news about up politics what is that can i get the food to go remove all events from my calendar dim the lights in the kitchen olly i can barely hear you how does she do her makeup ten percentages of hundred play a live version of elton john lower volume by fifty percent tell me my schedule for later this afternoon what is happening in world news today list all the nearby shops make sure to remind me to pay my bills tomorrow morning newest world news do i have any alarms set for today find an uber that can get me to the airport now make the volume lower recollect next week g m is meeting add event with these people alexa play my most recent playlist what are all my lists what is the weather right now remove my four am alarm read me new emails recommend me a restaurant in west chester what is the height of mount everest what events are happening near me does this song belongs to the classic how soon is my anniversary play my dance music playlist tell me about the meeting this week siri how is the weather outside add event in calendar and mention others report the time in miami was christmas one thousand nine hundred and seventy two on a weekend report the concert lineup with start times note my event with person on date at place hello what are you up to use this word in a sentence do you know any good jokes tell me what happens when we die i find rap music really enjoyable play favorites listed in podcasts starting with first one what are the news headlines email dad about fixing my car what is the result of one hundred minus fifty turn off the lights in the bedroom is it bumper to bumper how is everything recipes riddles tell me something i can do to help my community today give me the description about television play the oldies station who is currently singing closer by nine inch nails why does sofia vergara look so young let is have the lights blue can you read the names of my lists of reminders do i need to pick up the kids from anything today what do i have planned for friday resume play of american gods what is on your mind what is kevin spacey doing how much money did bill gates make describe a fifty inch smart t v most current local news can you convert my this money into who takes less of duration of time for delivery mute speakers please alexa do need an umbrella today list shops in douglasville ga in the calendar put that we are having dinner with frank at eight p m on the ninth of august remind me about my anniversary in one day advance turn on the oldies playlist on my radio olly play a good movie on my television what is the time difference between here and there explain what a contact lense is play the bjork album i have heard the least how to cook rice olly what are the train times between eight am and ten am at east chicago station going west on sunday play the rock music for me tell me something interesting on the message list detail for stock price in what places have i been the first fifteen days of this month what is a neutral density filter and would i want a gradient one or a solid one also which would be better in style between the screw on one and the square ones give me the best pizza deals offered today create an email for my company worker with my recently saved documents who is this song by i fell at work today my games to play in my computers what is tomorrows weather predictions save the opinion that i just posted to this song i want you to schedule a meeting with bryce jessie and carol for tomorrow at nine am which film the music comes from what is the name of the music play songs from the r & b and soul genre i would like you to come up with the answer to the question what does a geranium look like i emailed conrad a week ago please remind me what i wrote can you start my saved podcast please tell me the date and time what is the track information currently it is too bright in here can you turn a light off please show me lists find the best rock station near my location and turn it on please restart the handmaid is tale could you remind me to take the bins out on thursday start reading fifty shades of grey from chapter four this item should be added to the list what movies are playing tonight would much wood could a woodchuck chuck if a woodchuck could chuck wood will it be a sticky night give an effects alert what is the current time right now add lunch with laura for thursday at one send an email to jesse put on i am in a meeting please do not speak when is my husband is birthday this year what is level of traffic at washington please turn down the volume did i get an email from paul please find a mail address of manoj and tell me have you added a meeting with tom tomorrow at nine p m are there any email updates find the joke about the orange and the banana show john is contact information what is the price of ge right now post the following as a status on facebook how many words does it know tell me what is song is playing now sing to me play kids songs turn on the lamp what songs are on my favorite list what does joke mean could you please recommend a mexican restaurant for take out resume audio book history of rome what alarm time had you set check on the delivery of my current order olly what are the headlines from the la times please delete my next calendar event please send an email to my family the description of angel open papa pear saga go to my favorite radio channel check my email for new emails during the last hour resume mind reading book turn off media volume vacuum living room read upcoming event is start coffee at six am what is the us dollar euro exchange rate are there any emails from cassie about tom i want to know if i have any emails with the subject line budget from eddie richards insert this item olly please respond to greg is email stating that his idea is fantastic are there any events going on at the library this week can you read me my latest emails launch game cook me some pasta with cheese and honey in it world news i want the room to be less bright see if john is available for a meeting on monday is the alarm set for tomorrow morning olly how many rivers are there in europe olly remove stand-up on friday at ten am i feel like playing chess can you play that did you resolve play purple haze send email to boss not feeling well taking a sick day olly call me a cab to the train station please start me some coffee tell me one euro equals dollars look up movies near me is rush limbaugh on the air if he is put him on start new list how old is jennifer lopez what is needed to make pizza i need the time zone from london england instead of central time zone tube was super busy today order me something online what is in a curry turn off sockets give me an update on the election in one hour when does the train leave penn station please tell me the latest news of world please list the available rain trips to location a is it gonna be cloudy please decrease the volume of this song how much does one share of stock in lego cost let is email sandy reply mail when is bruno mars coming to sacramento tell me the time in another city in us what we got in that meeting which held yesterday when is my friend is birthday coming up compose a new email but i got a new address this time brandon at example dot com tweet a complaint to comcast is there any carnival in our place today hey google can you tell me what the white house is open games set meeting with jack on ten march where is the nearest smoke shop i want to start a new list what mexican restaurants are there nearby for take-out siri what is happened in the news today can you substitute baking soda for baking powder tell me the names on the list could you please search my new news provider for the latest news should i bring an umbrella tomorrow make coffee at three please turn off all the lights in my house find the nearest olive garden that has take out service recap my day send flowers to my girl friend can you turn it up a little olly remove item from my list is it a good day to go to the beach turn the left light off is the coffee ready i like this song hey play crazy by britney spears when are the meetings give me the schedule alexa i wouldl like to hear any classical except for bach or schubert what will the temperatures be for the next week amazon stock price provide me the world latest news alexa write email what time is it in dubai can you increase the brightness in the room call golden taxi to pick me up at seven p m today what is the square root of one hundred and forty eight thousand five hundred and eighty seven good assistants is there a well rated pizza place between fourteenth and eighteenth streets which religion is most true report weather for thirty three thousand seven hundred and seventy four remove my next event top news play back in black can i remove a reminder what time are my alarms set for it is cold out today please remind me about swatishs birthday what happened on the walking dead is equal to run the vacuum cleaner how tall is roraima mount delete to do list i want to see the news will you put in my calendar that john c and his wife are meeting with us at four p m tomorrow how do you solve three two wemo plug socket off what is the news in politics on c n n what time is it in london right now call eastwind and order lomaine to go turn all lights off during the day will i need to wear a coat today show me the dim color do i have a doctor is appointment this thursday please play the next episode of aib what lists do i have that i have not updated one way or another in the past week is the song by shakira play pdr on the am band radio set mute mode for one hour would you please turn on the am radio i want more light define and describe an ultraviolet ray is not it a lovely song please save this for me olly tell me a joke how far did i walk this morning no speaking please what is going on around here go back to animal farm i would like to listen to adjust sound by ten to eleven am daily start my vacuum cleaner open company name and find complaints i need a gold class ticket on train number five using my credit card what events do i have scheduled today what to do today olly i went shopping today and bought a massive dildo play song next check the latest news please give me information about john abraham lincon activate the vacuum cleaner and use it what is the change in best buy stick can you suggest me a healthy foods for dinner tell me about the stock for shell please let me know what time seven p m is in p s t play songs by the band the beatles please let me know new emails from michael can you show me a list of all my recent commands where is the best vacation spot in california describe headset switch to my workout playlist info on lisa ann please call the restaurant to see if the delivery is on the way add the song the new playlist take me to layfayette saint and canal how many calories in an orange any new email since last time please make the smart socket turn off theaters near to me olly what are new drama movies opening this weekend open playlist five play scabble with me make my iroomba clean the living room i was late today for the meeting you would not believe what happened turn the lights off please shut off the lights in the bedroom add a new contact for daniel bell dbell at a o l dot com refresh my inbox and inform me about new emails how are my stocks doing today are there any new videos on the youtube for new york times stock exchange rates how long is it from dalls to san antonio by train do i have any appointments this week change the plan of meeting delete my doctor is appointment for february twelfth how many alarms are set find a debate about schools in u k show me the meetings held last week please delete the meeting i have with john tonight create a new event every friday at noon toggle wemo plug socket on can you make some coffee f flat stocks can you book an uber tomorrow what is the date next wednesday hey google tell me what alarms are set for me clear my schedule for the month can you give me a ten minute timer will the train be late today in new york i want a reminder for an editor is meeting at two p m thursday where was will ferrell seen last night tell me about narendra modi please make the lights natural i need to leave on the five p m train to rockville my day is going well add a memo will it rain in the evening today where is the prime meridian could you please tell me what is the weather predication for this week make an alarm for the morning set alarm for tomorrow at two p m please summarize the latest george r r martin ice and fire book cancel dentist appointment for this week set an alarm at ten am tomorrow and label it as meeting remove event from calendar can you play rock music for the next hour please turn off my smart plug socket set a meeting with allen on tomorrow please set my alarm clock for eight am play all by playlist can you play the next episode please what is the current temperature outside i would like you to add an email to my contacts do you recommend any movies that are currently playing in me area notify me when my rent due appointments this wednesday set a new event females change up the light colors at home set first week of june as holiday in my calendar olly make me laugh how long until i receive my food give me more information about the scheduled event on the thirtieth of march alexa send alert mail to sandy tell me if there is any new news on that topic begin music what temperature do you cook pork on olly what movies are playing tonight at nine p m at the amc nine brief me about my news feed stories i would like to hear any classical except for bach or schubert local news what is the biggest city in the world schedule a sales meeting for wednesday at eleven am add this event to my calendar tell mom ill be late this evening send an alert before meeting next i want to listen i really like you send email thank you very much to sarah as a reply what is next on my calendar please add milk to the grocery list attend party with love this friday please remove the alarm which i set make the speaker volume on maximum check my mail turn the smart plug on if it is from a very familiar place mark it as important what is on my agenda what is the height of monali thakur how long until my order is ready what is a good joke where are the rocky mountains give me my to do list for today play the next episode of drunks and dragons please what are my plans for the month of may i want some information on john lennon daily news play scabble with me send happy new year to john at gmail dot com add butter to the list is there life on other planets play next segment fun things to do today no no turn it down remove item events near me olly tell me the most recent news from c n n convert one pound to us dollar show me news from c n n next event is canceled alexa what is the weather going to be like on march twentieth two thousand and seventeen where is montana today is john is birthday i need you to have the volume louder change the volume what items did i plan to buy play the latest seahawks podcast geography melbourne when does the super bowl officially start where is a great pub lets listen to hunt for read october wake me up at six am i want to hear some radio pop please olly how much can chris helmsworth bench press when is the last train today i will attend lily is wedding next week with my boyfriend please add it to my calendar what is a good vegan egg substitute do all my chores so i can take a nap play this playlist could you please create a new event on my calendar how the eiffel tower looks like olly can you remind me about the gym class in two hours olly please make ke a coffee could you please turn on the plug new scenario time or calendar to new list silence volume on speakers book me a plane ticket there are certain parts of my day where i am fatigued please tell me what day this event reminder is set for olly check my email can you play songs about break-ups resume my audiobook from the beginning of the last chapter i started did kim kardashian go to the paris fashion shows this year show me boston is current time please alert me a day before jeff is birthday set notification from world news display recent email from john is there anything i should be reminded about what is one plus one do not let me forget i need a reminder for march twenty seventh at noon what is the exchange rate between the dollar and the euro currently how effective will be to buy nike stock is there any possibility of rain this week hail taxi google definition for me play major tom by david bowie please find the radio station currently playing howard stern check the weather of city on list starts with a make new schedule for tomorrow meeting take birthday party off of calendar for may olly book me a train ticket to new york city on the third i do not care what time what are the best italian restaurants in los angeles please play the notebook audio increase volume by one i want the speakers turned up high call bill to reschedule our meeting what is the weather next wednesday show me the time now in boston how safe is the city regarding law and order alarm five p m tuesday cancel the alarm that is set for tomorrow at eight am resume the playback of zanes southeast chronicles i want to know what supermarket near me has the best price on gluten free bread send an email to john asking him what time works for the meeting tweet amazon about my package never arriving on time set on second january about soccer match of manchester turn off plug how can i delete an item what are you doing please find me music email my appointments to reschedule what is amber stevens address it is in my contacts can you make coffee when is the last departing train from boston massachusetts switch the lights to blue martial arts add event baseball practice five p m tonight open new emails play top twenty five hits please set a reminder for me to go to work in ten minutes tell me about the most recent road construction on route seventy person name is it going to be sunny next tuesday remind me of my three p m meeting tomorrow four hours in advance something what is on the list for today get rid of all my scheduled events is my order ready convert currency calculator pleasant is there any unread emails from my contacts i want to know the particulars in shopping list start my favorites playlist turn off lobby light shall we play a game what is on the calendar today trash the current list current weather what voices has alan tudek played new news tech delete all my events for tomorrow can you change the light colors into dark in the house read me the newest article on the new solar system locate information on john smith about his work location are there going to be any showers tomorrow morning forget this list set an eight hundred am alarm for next tuesday tell me the news play next podcast twenty questions you start show me the weather forecast for the next three three days what are the events coming up soon play fmod olly book me a taxi to leith in half an hour olly cancel business meeting on wednesday can i get delivery from this restaurant turn on the radio for me this is too bright send an email to my family asking how they are doing hello how are you tell me the weather for new york city what alarms are set for this week do i need to bring an umbrella to manila this afternoon what day is this event scheduled for olly how do i make lobster bisque how old is mary s alarm time for twelve p m give me the schedule for today is events what is the definition of succinct how old was albert einstein when he came up with relativity theory did i have any plans later on tonight at eight p m what else do i have on the list bring up google calendar please add event for may fifth today is what day first week of march meetings set the alarm for two hours from now i need two pizzas stat object identifier i have bad experience with bugs in this hotel tweet this to customer service and give them link relevance to this topic play the song i did not hear from last month i would like to listen to some rap music right now list remove is snow in the forecast what is happened in the news recently please solve this math show times for nearest theater current date please find emails from bob about the bulldog olly how is the new movie swat play born to run from where i stopped please book a train ticket for me send email to my brother check calendar for events do not talk put that song in my favorite list change the lights in the living room to green and red show latest email start the podcast i was last listening to google i need to answer that last email tweet to mcdonalds saying that i found a hair in their burger could you please play the f m station which plays pop songs buy me a ticket to boston be quiet what is happening around town start robot vacuum cleaner clear my day from meetings open lists remove list temple runner play remove all of my alarms i want all my events deleted what home alarms have been set what is date today what is the temperature store opinion on song where is johncena from please tell me the time change my house lights color to blue find details about president barrack obama turn on repeat is this shop is good or bad what is the interval of train departures in chicago delete that can you schedule a meeting with mr chen on next monday six hundred p m please search for local events play metallica on shuffle lets get a taxi how long do you cook it please check mails quickly i do not need the shopping list delete it give me updates on the hurricane news play twenty questions set a reminder to notify me one hour before lunch meeting play song by daddy yankee if you had to kill someone to save three people would you do it and if so why can you get me a taxi home hey olly what is the time lower the volume on the speakers show me painting exhibition in bay area set a reminder for the meeting friday at three p m what is going on on december fourth brief me about today is football match time to sleep olly olly make my usual title dim the lighting in my living room please check my gmail for new mail check email for subject turn off smart lamp in den how much is the us dollar versus the pound set a meeting between myself and john at two p m tomorrow what is the meeting schedule tell me about morel mushrooms brighten light send will do thanks to john as a reply to his last message give me the latest information about president trump please send me directions to the police department hey what is the definition of recipe add john at gmail dot com to contacts make a jars of clay playlist for me nearest restaurants available at this time get apahelp at yahoo dot com in my contacts tell me today is newspaper is headlines tell me my latest email tell me today is sports news headlines celeb news how many other bands will be performing at the zach brown concert on june third please tell me when is the birthday party of jenny get me new definition how long do i chill an icebox pie give me directions to the nearest mcdonald is send an email to all my company workers what is the current time in orlando floor please send email to liz can i find out information about a contact what are they saying about donald trump on this topic what day of the week is november fourteenth call the nearest thai restaurant with delivery let me see my most recent emails i need to know more about the parade this weekend play my playlist starting from the bottom change the color of my lights to something random erase all events from my calendar should i open the sun roof what is i b m stock at what is the exchange rate for pounds and u s d do i have alarms set for today play the electronic playlist make the coffee what does the list contain did ben and jen get back together tell me what is on my shopping list what is the weekly weather report can you put in lee is birthday on the twenty second of june turn up the brightness what are today is sports news what is the price of starbuck is stock resume a song from the audiobook by elvis presley yo what is the current time can you check if i got an email from john can you book me a train ticket to boston for next tuesday tell me the locations of my meetings for today can you find a nice restaurant downtown tell me the recipe of christian rock from one thousand nine hundred and ninety upwards only should be selected and played i will need warm socks in winter in morning is tomorrow a holiday please play my pop playlist what week of the year does the summer season start is it going to be windy tomorrow i want to hear metallica on my rock playlist play afi is fourth album remind me to do something then actor who acts a role put meeting with pawel for tomorrow ten am what is the best shop restaurant around angel get me resume of best seller audio book this month change the color of lights what events are scheduled for this weekend in my area train times location do i have emails set a notification for fifth march that i have a doctor is appointment at ten am how many days are in this month book an uber for one hour from now notify me when there is news on the dakota pipeline charges of delivery play sixty remind me about the upcoming national holiday can you lie find me info on hey olly what time is it please put f m channel ninety three point eight give me weather condition of manhattan what is bob scrote is net worth what is the length of song olly send a tweet to meijer tell them that they have the worst customer service find me the recipe for beef stroganoff what is the definition of a probiotic play songs from my playlist outlet on do i have any alarms set for six am tomorrow how long do elephants live speakers off turn on sportsnet for hockey start radio channel eight hundred and eighty nine listen to this song do i need to wear my slicker today news of the train wreck set the coffee maker to on i want you to create a list for me give me details of my twitter handle profile including the total number of followers play for me music by the beatles set a reminder for tomorrow for meeting with allen i want to know the stocks of amazon forward this one repeat birthday book a train ticket to city leeds send email to mom starting with the subject vacation what time is it now what do you want to do today please play jennifer lopez album what emails came from mom weather on tuesday what is the news today what will the weather be tomorrow can you make me some coffee tweet at companyname that i did not receive my order on time send email to my wife has it been a busy day forward a complaint to aircel for network related issues what time is it in the eastern half of the us right now can you book a train ticket to berkeley for me what is happening in the world right now check gmail please add my business meeting for ten am at the office with bill provide a joke tomorrow is temperature is to be hot yes or no what is the band is playing now is there anything on my calendar on friday in the morning after i get to work will you please mute my speakers i would like to continue to the next episode remind me at six about the meeting at seven play any song by joe prsaise find the highest rated recipe from foodnetworkcom for a four cheese omelet play recently added music convert two thousand three hundred and thirty from g m t plus four hundred and thirty to g m t two hundred international trade and business market where do you live please note on song title good tune color the lights red order two medium cheese and one medium pepperoni pizza from dominoes schedule my doctors appointment on friday at two p m ok google where does sophia vergara live please book a ticket of rajdhani express train from jaipur may i know the weather there tweet samsung to let them know my washer is on fire do i have new likes turn the plug off put summer lovin in third position in my queue tell me when my next meeting is turn on the radio please is it going to be nice tomorrow open up and play music from my jogging playlist resume my audiobook where we paused last it would be nice if you post status for me what email was sent at three thirty p m find me info on cars can you track my emotions based on the way i speak how far away is the sun forward email delete all scheduled events how many calories did i burn between three and five today open the contact alex in phonebook has robert emails me yet where can i find a good taco truck in l a start vacuum turn off lights of kitchen find dinner with mom on my calendar and delete it tell me today is direction access my clue app and tell me what day of my cycle i am on how is this week is weather look for free time please remove all the entries marked in the calendar i need to hear notorious thugs by bone thugs now add to my calendar daily call at five p m march fifth is john is birthday please place this on the calendar we are out of paint so take bathroom painting off the list delete last item listed check someone is recent emails for facebook write newly promoted manager for hillstead set notification for meeting with boss olly what movie are playing near me what is the time in tokyo now deactivate smart plug socket tell me the movie with best i m d b ratings going on in theaters near me the sun is shinning bright will we have this weather for the rest of the day seven years euro to u s d please set the lights off in the living room do i have a list of contacts for the party i am planning google i need to call my mom will you check her work number for me what is the time in another city i hope we could eat biscuits hey olly how do i start the robot vacuum cleaner cancel business meeting on wednesday would you go check my emails for me what is new in gaming industry turn on the radio olly how old is mariah carey who sent me email today and what was the subject ok google i need to hear sound on my speakers please set a reminder for me to something in sometime generate a new inventory get the status posted for the following ten plus y check for this mail in my contact if not then add it i need a recipe for chicken thighs for my pressure cooker how much is one dollar us in canadian stop wake up calls for this week can i get an uber home from the fox downtown as soon as possible do you know if there is any rain today prepare a cup of coffee name the people that sent me an email today set my alarm for six thirty in the morning tomorrow notification regarding the new government policies let me know about current traffic in carmen drive today i searched all over for my phone and could not find it olly attend party before the meeting buy a train ticket for one week from now from new york to las vegas nevada clear all events for this month please set an alarm for me how much does the average car weigh set an alarm at six in the morning please enter in my calendar an appointment with doctor branden for this friday at six p m start coffee machine what are my engagements today please play only are rehman is songs what list is available for food products online give me petey is telephone number repetitive event added to calendar what movies are going around me and the pound is doing how badly against the euro send a tweet about my complaint on my truck to consumer digest unset all alarm which is set tweet my complaint on targets customer service orevena voice recorder let me the system page is where to save songs show latest news about migration turn off smart socket what time will it be locally at nine am bangalore india time do i have an alarm set for today what reminders do i have scheduled before noon tomorrow rearrange that off the list what the highest likes on facebook what is the time in sydney now go and make me a coffee new exchange rate speaker volume increase remove car insurance from bills list song info check unread emails what is a good vegan egg substitute olly where was president madison born i want you to remove the item from the list erase my appointment with ted report recent emails ok google delete eric is b day from the calendar how many centimeter make one foot turn off the light in the kitchen please check on the movies playing in theaters nearby olly i need to remember to get to the shops before they close what is on the radio open terry is email please tell dsw i am returning defective shoes delete all events can you turn up your volume cancel alarm go to rap list stop making sounds for forty minutes where did he was yesterday what is a good iranian film from two thousand and sixteen baking times for chicken in the oven check item five on my to do list train tickets for two people from delhi to mumbai show up the events for me today olly do i have anything outstanding on any lists low cooling condition hey i want to send an email to my friend start reading book remove shopping list what is june is address nowadays what does hypothesis mean using remote play audiobook where we left off can you make sure the kitchen light is off refresh email please play the podcast from happypeoplecom want to play a game with me i would like to delete the middle list buying clothes wipe everything on my calendar hit me up with some exciting events in the bay area is it possible for you to provide the likes of my music search order of the green hand podcast number three what is current economy of country define love recent advice concerning google seo open internet please see what you wrote for this question bring up my agenda lighter shade on the lights please pull up kate is email and write that i will let her know what creates buttermilk make a status stating i got the promotion please play music from my playlist please delete the next event on my calendar what is the definition of plethora the calendar event has multiple people what is playing get me some music by tomorrow create a new list time please where is the nearest river what meetings do i have this week describe the statue of liberty what is the chance of thunderstorms today in biloxi where is new zealand located on a map what does the shirt look like create shopping list for target what are my notifications get in touch with leo olly has robert emails me yet can you play my music what time does the sun set what time are the hockey games tonight change the color to red select and play only christian rock from one thousand nine hundred and ninety upwards order chinese for delivery remind me to get the mail in ten minutes i want to go to sally is birthday on saturday at ten p m get me the popular news from b b c let me see cultural events for this weekend in palermo neighborhood turn the sound off i enjoy listening to this song it really calms me down how big is the tower of london make sure to remind about tomorrows afternoon meeting how many people live in takjistan please play n p r podcast search the locality who is birthdays are today on facebook change my alarms to mountain time turn off the lights please play repeats please has mike sent me an email exchange rates order a takeaway sandwich and soup from the italian is at what time is my alarm set please schedule a hair cutting appointment for one p m on saturday it is very hot today is not it tell me about lisa ann how would the volkswagen golf car look like speak softer please please find a email from my friend tiffany give me the definition of the word fondle siri what is the date finances i need to get up at ten tomorrow will the temperature be higher than forty tomorrow can you tell how many hours of difference are between boston and los angeles show latest news play songs from titanic snooze alexa please turn on the lights after swimming lessons what else is on my calendar on tuesday mobile device explanation what is the cooking time for boiled eggs alarm ten am set a meeting with mr forman for thursday at two p m check for new emails add new year is eve to calendar please pull up the article on dog sitting in the morning news tell me about alarms please cancel all my events for today what is the seattle city council doing about homelessness how many grocery stores are located in my neighborhood set mute for twenty minutes find exchange rate for u s d to dollar play that podcast i was listening to yesterday what is fourteen divided by two can i go without coat now search for classical music and play show me the latest email of jack notify me on march eleventh the day of my appointment show current track in music player what time does the train arrive from san diego to north hwood place a recurring occurrence in my calendar how to cook open a reminder about next weeks managers meeting on tuesday remind me to call my daughter first thing on thursday to wish her happy anniversary put picture on facebook add contacts north mail please remind me to call mom in half an hour play irene from tobymac send an email to jake to tell him thank you olly show me where the nearest restaurant is what is a good substitute for butter what can i do in berlin i would like my to tell me the trend on foreign exchange rates do you want to play monopoly with me asking for this technology look for new emails call the customer cell through phones for direct response start next podcast episode could you please check if i am free on thursday afternoon if so add a reminder to go to the food festival tell me how brexit is going to affect e u citizens in the long and mid terms set new alarm on five am delete appointment at time what information should i know for my meetings today what is the dollar equivalent in pesos play me a recent cover of cherry bomb begin vacuuming tweet a customer complaint on the service at the long horn steak house its hot today please save the remarks i have on this current song find me the perfect girlfriend email to new contact play a song from my favorites i want to listen to radio four what country has the most population awards won by michael jackson open contacts are there any new emails from robert jones create a meeting thursday afternoon for budget review snooze all today is alarms permanently play me this year is top ten k pop songs tell me if anything important is happening on social media today tweet at macy is two weeks after purchase and the hems have all come loose are there any recall news delete this email remove mike stein from contacts list where jackie chan currently live where is the closest zoo to where i am at were any new emails received when was this song recorded can you take a role of enemy in the game of coc start creating a new list what did my wife leave to be done if it is noon in virginia what time is it in california olly if any new news comes out about the flood can you let me know right away can you call an uber for me olly tell me the best exercises i should do to get a six pack in a week how is it hangin alexa play pandora nineties dance party will it be warm on friday night olly where is the closest zoo to where i am at what are my lists set any appointment for this event in my calendar delete the richard is wedding event next year what is on this weekend in my zipcode when was this song first recorded tell me what the formal definition is of banana send email to jessica what is the scenery like in morocco did i get anything new from my boss next episode in podcast can you tell me what movie has the best reviews any specific event in washington what is the exchange rates between u s a and china lets play chess together post to tumblr i am having fun i love this song how do you describe a capabara show me podcasts place of train times go to calendar and delete an third event of twenty seventh of march twenty seventeen show me upcoming events in this area olly make the living room blue alert me at five hours clear my schedule for this date delete the alarm i just set where should i go this weekend music one please let me know the exchange rate between indian rupees and us could you change the volume please add a birthday party on saturday evening can you add milk to my grocery list please unmute yourself get me the latest episode of the friends podcast where did mahatma gandhi born set an alarm for two p m what are the train times socket off show current news from b b c will you mark that i have a meeting with tom at three tomorrow who is the most frequently called person in my phone book google uber resume harry potter from the place i have stopped listening to last time what is the dollar exchange rate i want you to turn off the plug socket before the cell phone is charged my desire is to listen to some country music delete the list brads appointments open spotify and open workout remind me of meeting five minutes before time it must be taste i would like to listen to pop music please alexa what is going on today when is the next lakers game i want to know what is this newsource reporting delete all events for tomorrow play from favorites song what is the traffic now is there a way to pull up information about a contact what is jay is phone number wake me up at eight o'clock when was the bolshoi theater constructed show me what i can do with fitness olly i want to hear a station that plays r & b wine shop how do you barbecue chicken create a list for today is tasks get me an uber please i would like a cup of coffee please play the following song remove my morning alarm do i have any openings on my schedule for tomorrow tell me the latest trending news of this week what are the current stocks for yahoo indie tell me about my day tune to classic hits are there any events happening this weekend please turn the music volume up give me the description of laptop circuit have i gotten any new email place order for a chicken manchow soup from wangs kitchen restaurant draw petabits when did i place my order and what was the projected time it would take explain object tell me the current weather in new york city what are the train times to travel from new york city to poughkeepsie tweet to bank about non receipt of checkbook features of google pixel siri can you play my favorite music delete grocery shopping from my saturday schedule what lists are available it is make me good lucking guy inside very very horkersd wo refer the stock price of hdfc find ingredients for chicken marsala who has responded to my business within the last twenty four hours what new messages do i have open my music what is the quickest route by boat to japan open subway surfers what information do i have on reminders where can i use this word lights off bathroom tell me keywords about usain bolt how many of my contacts live or work in detroit book my next free day in the calendar for me to get a haircut at sally is are we friends after this one play song i do not like that song turn it off tell me if the olive garden allows takeaway yes i want to check delete new year is eve from the calendar play the second song from anirudh is song influx turn my audio higher do you recommend any movies that are currently playing in my area can you tell me list of events for this weekend in pondichery who is the singer can i order out please make coffee play music from my rock list is it noon in paris check my social networks what is famous in indranagar do i need to wear boots search the album name with katy perry give me the news from source send tweet to walmart the origins of the universe tweet a complaint to apple about my iphone seven what will the weather be like this week what is next in my calendar how tall is the empire state building play hopsin from my latest playlist who is the person behind the song of taylor swift back to december finance record what happened today now it is five thirty p m in india what about the time in ivory coast what defines a triangle give me a classical radio station call for take-out what movie do you recommend tonight what is going on in the world right now add this person is email which shops can i find in milan cancel the plan of party pdr am radio make new list hello has my inbox gone up play music from v t v let is roll the dice please inform me of any new status updates can you book train ticket from mumbai to sangli for tomorrow morning do i have anything planned for the twenty first convert ten inches to centimeters set a reminder for fifteen minutes to change laundry loads what is the current status of resolving general relativity with quantum physics what is the name of the piece you are playing tweet verizon customer service what you know about john abraham lincon request a taxi from udrive service best how many lists are open remind me to wash the windows just let me know the population of india is the on the calendar for july two i had a bad day today play from this point from this audiobook erase the chore list bedroom light off tell what the definition of the word massive convert one thousand and thirty from g m t plus two hundred and thirty to g m t zero hundred olly death metal now olly describe what a crop circle is speak all items for to day find me a train ticket to cleveland on april fourteenth is swat a good movie list the available is nice lyrics olly give me the definition of arrow what was the last email dan sent i got invited to the pub on saturday turn off light in bedroom how is microsoft is stock how much longer on my order is it going to rain on monday review please select the first song in my itunes library how long do you cook an egg over easy can you find me a furniture store near me tweet error report to samsung what is the current state of brexit negotiations please show me any articles related to weather in the morning news what is the currency exchange rate for china what is needed to make pizza create new contact set a weekly appointment reminder if i have five u s d how much is that in aud play slayer how much can chris helmsworth bench press please post happy birthday u s a on my newsfeed show me route to my phone location on yesterday twelve p m what is the name of the current song put working out on my calendar for eight am every day this week order take-out from pizza restaurant what is the directions to the nearest pizza hut which rom com movie can i watch in theaters around new york please tell me the current time in new york what is up with my takeaway remove meeting for wednesday morning make a list of all the halloween events going around in new york i would like to pickup a veggie sub with a cookie from subway i need a ride in an hour if a pencil cost four dollars and a book ten dollars cost how much i should pay if i buy two pencil and three book how often does the train arrive and depart from penn station i want to make a note on my calendar for the event tomorrow at the library dollar to euro exchange rate play by favorite radio station is it going to snow today please switch on my wemo plug socket tell me the news about share market ups and downs what is the time central what is the latest what type of music do i enjoy do i need a sweater today decrease brightness please turn up the lights in this room is there any concerts taking place in new york today start vacuuming now please tweet mcdonald is down reseda has terrible service could you order sushi for tonight dinner please increase the volume of the music hips do not lie start dune from where i left off when does the f train run today my work schedule how tall is trevor noah i would like a cup of coffee with one cream and three sugars do i need snow boots where do most celebrities hang out google i need you to delete the current list find game i love that song how old is j k rowling give me the definition for the word pontificate set meeting with joanna on saturday four p m show me results of what i am listening to what was the date of two wednesdays back from today give me the update on traffic at new york what items are on my shopping list who is lenin remind me about meeting at eight am to twelve p m please tell me when i can become rich if i invested in dow stocks today and what will be the return after five years what is the time latest iphone instruct me to cook music third day please remove item a from my list alexa please save the current song to favorites show me the latest news from the un delete all events and information read me the last email from stefan and oil change if there any alarm is set then let me know event calendar monas wedding tuesday remove six am alarm of whole week for future remove all the events on dec twenty sixth in the last year how many hours have i been in meetings turn on the vacuum cleaner how is the restaurant is delivery going train times from near me to location what is going on in congress where is the hottest place on earth are there any cultural activities happening in new york are there any shopping centers nearby what is the traffic this morning is person is incredible play music by a c d c in classic all music are there ever any singers i do not need apples remove it from my shopping list what are the latest crime statistics for me area add shopping to my calendar for tomorrow play this radio channel for me please tell me how to i bake twelve oatmeal cookies what bars are around me what is on your list right now opinion about latest gadgets what is skynet ask me easy questions about a subject i know and tell me when i am wrong is my friend rohit online on facebook what is on the list short and simple next episode of nyt podcast when will by order from taco bell be delivered your volume is too high please repeat that lower cancel my meeting on the fourteenth please start an email to jesse stop audiobook reply to jason is email with the response six thirty what do i have on my shopping list alexa how much do you know about me play my newest podcasts from radiolab top ten movies erase all calendar events do i have any alarms i eat breakfast at eight am please send the new intern an email change light colors do i have any missed call from patrick map out a route from here to abita brew pub what is the stock price of this item show me some current events show me the time in new york city add event on august twenty one at nine am can you add this event with joey what are the headlines from the l a times add birthday to every year what time is it in a city mixed or fake products in market play my favorite radio play random music please set an alarm for ten p m clean my entire calendar dim the lights to level two change the lights to a different hue check out my to do list show me future events alexa turn off the lamp in the living room what is the time in chicago what time is it now in g m t do i have any reminders pending alexa please delete all appointments for today start radio play why is the sky blue please add to my contact lists and send them a reminder email any death news in times of india what are the events taking place in new york today can you find the radio station on spotify that i was listening to yesterday set the mood please what is the current stock price of rolls royce how many top ten tunes did katy perry have last year what is my to do list for today who is the singer is ll cool j still rapping set a calendar event set an alarm for me for tomorrow at seven p m nice can you post this to my facebook it was a very hectic workday clear this list i want to go to mcdo olly cancel alarms check email from john where is north dakota can they provide takeaway play techno music search and play workout playlist please play recently paused audio call a cab can you set my alarm there was heavy traffic on my way home what temperature is it i would like a cheeseburger can you book a train ticket for me under dollars notify me when trump is in the news can you delete the next calendar event for which i was invited play that podcast please weather forecast i want to sleep where do people shop for clothes here what is the current exchange rate of euro to dollar start the vacuum are there any accidents on the four hundred and five add a reminder of a conference for tomorrow in new york change color write a reply to my mother is email tune into my selected station a joke please delete the vacation things to do list change lights from red to blue when is my dental appointment on the calendar tell me the exact count of followers on my twitter handle as of today check emails for last twelve hours check mom is number customer service from microsoft never called me back when does the train arrive at kings cross station can you tell me the current time any good bike shops in oxford any signs of rain lower your volume please olly tell me my alarms what is the time in geneva upcoming events information what did i get emailed about this week play flappy bird order pizza cancel event what is the address of tara john what is dolly parton is birthday format the calendar is there anything on my list today how are you feeling today what is the schedule on next monday show me my alarms i have set at the company on twitter and complain to customer service in the tweet how do you cook a four cheese omelet tell me the trains from california to new jersey after eleven p m how much does an orange weigh find me the cheapest place to buy a new backpack raise volume how is the traffic on harvard will it be rainy day tomorrow set reminder for tomorrow is meeting with james best restaurant in local area i need to book a train ticket to la take me to the most popular radio channel let is suck out the dust today is day is really tiring is today saint patricks day we do not expect rain tomorrow right tell me who will win the next presidential election who wrote this song what is my schedule like are there any events on my calendar for this week who delivers near here will you remind me of the dentist appointment i have in two hours play the melody song from audiobook how about playing a game of guess the word i am thinking of what alarms do i have scheduled for tomorrow remind me to check the stew at six o'clock can you play are rahman music this is a five star song what hiking trail in the smoky mountains would be the best in terms of the nicest waterfall to see please turn the volume to the loudest setting it is very different change moms birthday event to repeat every year on same day send a birthday email to my boss alexa add bananas to my shopping list check email about my job tell me my congressional representatives voting records on reproductive health issues add opinion will there be snow tomorrow what do i need for a good burger is angeline having a new movie this year play for me hip hop music show me the reminders please turn off the lights in patio play adele set event date in calendar with others turn off any morning alarms after friday delivery from dominoes tell me a joke about a man alexa play my country playlist play a rock please let me know the time of train northern rail listen to duncan trussel is latest podcast give me the detailed schedule for next week i want some coffee did i receive any email in the past hour what was the news for march fourth two thousand and seventeenth what is happening on b b c news today delete the party on june first from my calendar set an alarm for eight am can i purchase a train ticket today look up bill information switch off the light olly make coffee at six am delete my christmas holiday list i added a new email address for joe yesterday will you find it please cancel the milk from the shopping list put on the vacuum on now and clean the living room best shop in local area put milk on the shopping list reply email play something from keane is hopes and fears album play my shuffled playlist please how far is walmart from here good afternoon alarm settings what is happening in the election please give me directions to a park near me turn this room light off jane doe romantic light setting please play rap play creed from my rock playlist what movies are playing near me olly what are the different types of round objects create calendar event with my son i need to hear sound on my speakers play some old school rap what is ten percent off forty dollars what happened last week what is the current dollar to euro conversion rate tell me what happened today from eight am to nine am set a birthday event for wednesday mark next tuesday in my calendar as steve is birthday have i received any emails from tim will it rain tomorrow in miami recommend a movie for me alter the color of the lights at home read me the headlines from detroit news play the previous podcast tell me about the list s what is my schedule today please check email from matrimony i need to book a train ticket from mumbai to goa if it is four p m in missouri what time is it in london play my favorite music right now hi google this song is too noisy prepare the order as soon as possible erase my old english songs list open media player and play top hits how many reminders do i have pending what baseball games are scheduled for this week in tulsa play some soft rock go to the third episode of this podcast olly what is the weather right now find me the cheapest copy of the four hour body turn on my pandora radio complaint am i busy this weekend recent conroe news play some lady gaga please send mom an email saying that i can make it next week when is the next time it will rain add all rrcg events in march to my calendar go to youtube and play me the best wedding songs collection what is latest on the recent events happening right now remove my six am alarm tweet bad day at starbucks need to carry a umbrella this evening can you search for me please increase the brightness in this room list current set alarms what was the content of message sent by matt how many vegetables should i eat a day i want the news about academy awards please play the newest podcast set alarm at five thirty am more information on this event how will be the weather today in the evening hey what is a book olly let me know if i get a message about the party from jane remove item three i want to listen to soft rock nice music open the calendar and create a new event how big is england anything new on social media will i need sunscreen later what going on list make a taxi booking in uber schedule event for every wednesday add eggs to the list remind me of rita is birthday twenty four hours in advance find me an audio book version of ready player one and play it for me switch on smart plug show me the events in my work calendar for next week let is play never have i ever tweet lfi and let them know my app crashed reply to amy is email that i will get back to her tell me about this person note down this event on my calendar get rid of a list what is the newest news right now find a shop that sells beer take out event from calendar repeat the last song go to the list and remove item please turn off kitchen light for me find my wife who is the current president of united states reserve a taxi could you suggest some fun in new york lights off for the kids bedroom please then change the lights to my room to red alexa what are amd stock prices tell me the weather in barcelona in two days from now cisco system play yesterday is hot ninety seven morning show book me a taxi for one p m tell me what is on my schedule for today show me nearest theater tweet at bobburgers they screwed up my order and i had to wait an extra hour olly climate details now put alarm at five am please clear out my calendar completely what is a good way to make steak start new smart socket proceed to the next episode play the radio music band will you put on the music what does the weather look like this week tell me what the word organism means get me news how many bases has nick swisher stolen in his career if i have fifty dollars and spend twenty four how many dollars will i have left turn out the lights tell me a place that has snow now do the restaurant deliver activate the wemo plug socket what is the exchange rate of u s d to cdn pull up outlook i need to send a email what did the south n p close out at open news increase volume by two levels please check the weather in kansas let me know if there are any new emails from ebay what would be the current time in ivory coast what is a googleplex i would like to hear jazz music remove dust with vacuum cleaner is it rainy in my area hey its too hot outside what is the temperature this afternoon start a small discussion please check the traffic to the home change volume to thirty five percent remove my event at one p m in my calendar what are the news update on b b c play my favorite playlist find a recipe for a romantic dinner for two do i have any notifications from social media save chhana mereya song in my playlist cancel my eight am alarm do i need pants give me a cooking tutorial tweet a complaint to local municipality what are the events next week announce a comment in facebook what is googs current price how many grams are there for a cup of butter tell me more about my events what is the result of two by two when is the doctor is appointment olly do i need to wear boots how many hours remaining for mid noon turn off garage light read the contact number of alex from phone book please tell me the pending reminders please give me details of allen from my contact i can not see turn up the lights turn the sound up give information about the traffic near my location please get me up at eight am search for your favorite meal how can i cook pasta remind me at can you book an uber after i left for office describe blanket was my meeting today rescheduled is there traffic describe the empire state building please brighten the lights who sings this song what movies are playing at theaters near me how will be the weather tomorrow olly do they deliver home what was george eliot is first november el can you pull up the current news stories how do you subtract numbers place family phone on instagram i would like to order some take-out let is cook meatballs together what are the reminder i had set for tomorrow delete everything on the menu what is happening after one and before three p m set reminder to print the documents on tuesday morning more light please today i got rewards what is twenty percent of one hundred and fifty turn off the light in the bathroom start vacuum cleaner now play lady by kenny roger can i find the cheapest train ticket for this destination i need to know how to make stuffed peppers could you tell me what today is date is do i have a meeting on friday remove the alarm for tomorrow are there any events schedule for this week let me know when my meetings are on monday thirteen minutes from now remind me to drive to the park remove mother from my contact list give me a traffic update recommend a movie playing in my area i want to add an event to my calendar i do not enjoy this song what will be weather for tomorrow in mumbai please use shuffle what alarms are currently set turn the chandelier all the way up the wemo plug should be turned off on do i have any new entries in my inbox what is latest gossip of holywood going on clear my calendar tune a radio channel for good jokes set an alarm at six am less stock price please remove my list of favorite albums dollar rupees exchange rate forward shown content to blahblah at blah dot com with email i need to be reminded that there is a meeting for paul is retirement set reminder for tuesday at three p m robot vacuum the living room now what is the best way to sheffield alarm for ten am olly remind me about my eye exam at walmart on the twenty sixth play music on shuffle olly show me where i can find a hamburger what are the headlines on c n n contact detail of paul play some pop music remove seven am alarm do you know actor surya i want to start my email out like this how many meetings have there been i want to hear morning edition on n p r give me the weather forecast for this week what is the time in australia right now can you play katy perry did i get an email about a job offer brew me some coffee do i have an alarm set add apahelp at yahoo dot com to my contacts go to social media and post the following status play my morning playlist start new lady gaga playlist send email to elain and reminder her not to forget the oranges in the morning how to cook yellow rice get me up in half an hour play billy joel olly is there anything i should be reminded about start reading that alan partridge book olly where can i go shopping in this area give me the time is chase doing good what to do next on events i want to add a lunch date with mike jim and bob what is the temperature out now when was bryan adams born make march eighteen a repeating appointment for pearl is birthday hayathis daughter baby shower open up angry birds do you have a funny joke for me olly can you call a taxi change house light from green to red what is arnold schwarzenegger is birthday yes i want to know latest news updates how many eggs do i need for an omelet give me the definition of the word armor i want to and my email address set alarm for eight every weekday i need a reminder alarm at one my day went pretty well today drive the car and bring my friends over check email client anything interesting in the news today what is the weather like right now in new york show me the customer service number for mcdonalds tell me b b c news find a taxi service close to me what is a sloth what is my schedule for tomorrow morning where is the closest spot to order food for pickup where do cows come from book a taxi uber what percentage of the us population is related to the english royal bloodline in some way how many yen for each dollar where to buy a train ticket could you check the reminders and tell me what are pending please respond play my first favorite song on loop tell me the weather write an email to my family saying i love you all tell me the date today how can you get basalt how me all my pending reminders schedule my meeting with mr john hopkins tomorrow one p m in the afternoon after lunch what do i need to remember delete event calendar robot vacuum cleaner on set alarm at nine am on next sunday set reminder for three o'clock this is important event please note on my calendar show bio of rihana i want a train ticket from boston to new york hey tell me more about my meetings today what should i do today i would like an espresso look out for customer complaint cell and use the options email my boss that i am coming in late today what time is my meeting on thursday mute sound on speakers please set alarm for reminder give me the latest political headlines across the world do events remove the first alarm tell me what is on my list olly do i need to wear gloves today show me news about trump open my morning briefing email from the new york times arrange and play all songs of eminem do you think about the day you will expire i want to hear current dance hits tweet a complaint to old navy website what day is it today check my list please book a ticket on train number seventy three using my debit card meeting next week monday play first song on next album when did prince die what is going for tomorrow change my alarm when are the next three trains to boise want to play music is there a meeting on my calendar this afternoon show me map of this location calculate the resistance of this resistor what is your best joke today was a hard day ask a shopping malls in my area who is the most popular american actress hey sound is low can you tune it up read me my calendar for the month can you pause and rewind the audio then resume provide contact location put on a song by celine dion dolly parton biography what state is david lynch from good food show me my contacts new york time please send a reply email thank you very much to john at gmail dot com vacuum the carpet freshener from the carpet throw away my to do list please open my new emails start up bejeweled olly what is next on my list list me the remainder of things left on the list check my agenda for today tweet at insightbb the cable is out again in the highland terrace neighborhood check to see if new emails have come from title nine send this message to at microsoft on twitter where was keith urban born save email for later for how much time should i oven pizza to make it perfect crispy send a response to my last email what do you do with my data and information let is listen to some jazz hey what has been happening interesting in sports lately get me fresh news place a take out order at olive garden play songs by barenaked ladies what do you know about america do i have class on monday what and who was i emailed about last week play country playlist please book train ticket from mumbai to sangli for tomorrow morning what am i doing this week play radio order a large pepperoni pizza from dominoes to go edit contacts do not talk please turn on my vacuum cleaner please play only sad song in music player reduce the brightness what is the linear equation please look up local restaurants that are open now remove my car payment on the fifteenth from my calendar send this content via email remind me my mom is birthday a week before cheering me up set up a new list with the following next month my brothers birthday add a lunch date to my calendar for march fifteenth from twelve noon to one p m could you open my list app and check for groceries please what are the items on my list my friend john has sent me a invitation card to his newly bought home say thanks to him in his mail id what time does the train depart from downtown los angeles to santa barbara what is happening in the world today is it friday olly what should i see this weekend make a list about selena gomez concert schedule is there traffic right now in maiden lane how much did facebook stock increase last night ok google what is the weather like can you tell me the temperature for saturday night play rock mark dad is retirement dinner for april fourth please skip to the next song famous person biographies tweet for me the complaint about potholes on road olly how do you barbecue chicken here is a new email address to be added to the contacts tell me a good alcoholic drink shut up when was the song playing now released which teams are playing this weekend play this song cancel upcoming event synonym of word emails now alarm set eight am i need to wake up make me the strongest coffee you can make do i need a raincoat day after any updates from donald trump is tweet feed what is tomorrow is weather predictions tell me the time please activate my vacuum cleaner can you tweet lif about their app crashing what is set for the weekend three weeks from now clear haircut today select the contact play all my favorite songs erase the lawn care appointment next month book please erase my calendar what do you do every wednesday night at five p m remind me to meet phil list alarms tell me about medieval war engines what are the concerts happening nearby read me the most updated news on b b c turn off all of my alarms please find out the share price of infy in nasdaq i need a place that will deliver pizza to me in benton are what day it is on twenty second april what is the name of the lead singer in this band switch from blue to yellow lights can you find me a train ticket to southampton on memorial day weekend i want to know could an extra item be added to my grocery list driving time to los angeles please play artist first in queue new event lunch outback list items on my work list delete this event on march three olly add diapers in cosmetic list what time will the soccer match be tonight remember this email play marvin gaye i want you play soft instrumental songs turn the lights down in the living room what song is currently playing what is the email sent by this contact read how many birthday is are on twenty third resume harry potter book five does pink have a new baby show the playlist i want you to play bohemian raphsody for me if it is ten p m in california what time is it in alabama i do not want eggs please respond to the email i just read record petabits give the latest updates on narendra modi what is up show me the programs i have today play my favorite podcast alexa turn off the fan in the master bedroom what events are happening in pondichery this weekend what times are today is meetings run music from this playlist how much is one hundred and thirty six plus three hundred and eighty seven please can i know what time will it be at six p m here in australia how many oscars has won meryl streep my favorite music band is queen let me know if there are any new emails from callum olly new york time resume the two towers audiobook set the living room lights to fifty percent what is up in the neighborhood when i came back from this place have i received any emails since noon set up a taxi for eleven am tomorrow remove twenty fourth march meeting from schedule what will the weather be like on saturday what is donald trump is new policy on immigration turn up lights i need to know events scheduled for the weekend olly please read me today is news was anyone arrested at the protest today in chicago send a text to alice go back book a train for twenty two march at twelve p m what is the current price of brent crude where is mcdo i am in need of some pizza what is the closest place that delivers can you please order some food for me link me to jeff is email what is the plot of the most recent will smith movie play something romantic select the r & b playlist from the nineties please what is the latest on the train how many degrees is it in houston right now what are the train times at millennium station departing toward indiana today every other wednesday remind me to go grocery shopping are there any good pizza places around here do i have a new email from sandy is the temperature going to be above fifty tomorrow play selected music play next episode give directions to pizza hut play superstitions by rl stine do i have meeting with steve this week tell me what time it is right now has my stock increased in value tell me present time in malaysia tell me if an earthquake happens in the world check my to do list during the daytime all lights has to be turned off turn the lights on brighter what time is it in london can you turn off one of my lights in my bathroom switch off the wemo plug socket please reply to the email olly can you find a nice restaurant downtown post the message now should i wear a coat to the pool launch the rooster teeth podcast dim the living room lights what is the meaning of a stethoscope please play the radio what is the least tornado prone state in the entire us what is leon is email what is the latest news on donald trump add new year with family next week show me politics news from today please add list of friends to invite for the party read the list are there any new emails from my dad read my grocery list check recent emails and tell me their senders and subjects start audio playback of twilight again do not let me forget to call alex someone i want the ryan seacrest show on the radio in the kitchen how old is brad pitt open chess play against me what is the address for the event scheduled on the first of january does byron is supports takeaways what is going on today please add this event how many pesos can i get for a dollar right now let me know when the meeting is gonna happen find jazz music on my playlist what is the cost of iphone seven dating olly what do you dream about save the last radio stations of the last month has john sent me an email how long do you cook a whole chicken on three hundred and fifty please book the next taxi olly put dark colors instead of light ones in the house add a new notifier for the g p s on my car please keep tabs on how the presidential debates are going note current song as awesome please set calendar reminder for noon titled lunch meeting send mom an email and find out what he weather is like for the week book a train ticket for friday april fourteenth for boston provide valid references with information to help people understand critical thinking and giving credit where credit is due rather than perpetuate fake news and alternative facts confirm whether the color is blue how old is trump turn off the lights in this room please what is happening in america what time is it in central standard time what would be the a perfectly nutritionally balanced meal for dinner please let me know the current time at london turn living room lights red also a pleasure who sings that song how much is twenty argentinian pesos in pounds how many of my sports podcasts have new episodes i have not listened to yet set lunch every day at twelve thirty i got a damn speeding ticket play musical theater soundtracks what is a pressure washer any lighting news emails what is my schedule today dim the lights in my bedroom remove all the events from my whole calendar write complaint to walmart adjust the volume set event on recurring what are the latest prices of the stocks how long will it take to travel to japan from south korea get me new email what is price of dollar olly what is close by for dinner it should spices can you turn down the volume please and tell me what is the title of this song delete every event tweet a complaint to donald trump about his horrible performance switch off all lights prepare my morning coffee please make a tweet to dell company about the faulty service of laptop set the music volume to ninety please do not shuffle songs in music player just playing continuously how is the stock for compaq doing google i wanted to hear my country music playlist transition lights to blue to green to yellow please send the email to jeff siri how is the news media reacting to trump is potential ties with russia who is the prime minister of russia respond to all that i am on my way power off play for me michael jackson song from audiobook what is the nearest mexican restaurant in cleveland play radio with nonstop songs do you think today will be nice out it is dirty here make some noise play latest songs for me from the net alexa tell me the exchange rate of ten dollar to euro play the podcast entitled episode one making a murderer olly what is the best tasting cut of beef did i leave the light on in the garage quiet meet with joe tomorrow at three please set a reminder for the office party next saturday should i carry an umbrella with me today tweet apple that the iphone does not work play sword art opening post a message to facebook how big is the empire state building play the radio channel ninety three point two five can i get take-out from pf changs has wendy posted on facebook remove the doctor is appointment i added to my calendar for february twelfth at nine am events in the local area did i ask you to remind me of anything what is the news like in the u k what is the latest news about us election please play the radio gaga song tell me this week is weather forecast play hurts like heaven did i get new emails from sarah order pizza for delivery what time is the train passing by what are the tallest mountains in america do i need a light or heavy jacket today please add tom to my contact list open this game remind me in time to do thing answer email from can you please change the mood of the light play a selection of classical music how about you save this music list the shops near me temperature logan please search for this word take grocery buying off of the list give me updates on the presidential candidate race olly can you begin the brew play some music pink nobody knows how long should i cook a hamburger on each side time and date of today what does obama do in his day to day life how do i cook a meatloaf play from smashing pumpkins what is the traffic situation at the bazaar highway add my doctor appointment for the fifteenth seven times seven stock note down important event in this week remind me about this make light color red olly tweet walmart and tell them their customer service is horrible meetings from twenty to twenty five june please play me a song from my favorite list order a pizza from pizza express may you please pull up information about a contact please define this play playlist postal service cancel all events for today and mark me busy what is the weather like outside remove events delete my whole calendar for today go to radio shut down the plug how is the spouse of obama add this event to my calendar what day is payday schedule a chat with adam on thursday afternoon what is on this list turn off my smart plug socket erase the meeting tomorrow at ten am how many unread emails do i have do i have a two p m appointment get the weather forecast for this week please olly list me the remainder of things left on the list what is the time in la answer email from sally find details about u s a i need jacket after ten am or not what is the best recipe for tacos find the most popular recipe for tacos could you create a new event with these people only what important dates are there in my calendar this month can i get delivery from here set alarm tomorrow at six am i want a coffee check for me new emails received from sara what is the longest time to a location please shut the lights how many beatles are still alive remind me every morning at seven am to take my vitamins what song is playing what is the definition of mutual play only my list olly what are the events happening around me today please give me my emails are there any emails unread by this person send an email to dad how is the weather this week was there any email regarding the wrong booking in sia continue from where we left off in divergent how many times did ben email me play my yoga playlist please tell me what time is now in canada what is apple is stock price reply to last received email play a rai music is the dow up or down who is this on the radio add sarah as email contact add in an event what information do you capture about me where is the closest bar tell me the recipe for yellow rice start the podcast application current time please raise the volume of the current music hey what is the definition of passive set a neighbor party for next week what is mary s is phone number repeat an event in my calendar turn off wemo socket play dynamite by a c d c what is open late in la this question does not make sense please show my list off the speakers show me popular exchange rates what does my schedule look like after three p m today afternoon add this song to my catalog how its possible if it is a consumer good then what is the customer feedback what is a chair add grocery shopping to today is to do list tell me what the product of eighteen and thirty one is clear all events from march seven person by birthday is it monday today i would like to listen to my audiobook olly brew coffee add event every second friday of the month hi how was your day today can you please change the time zone to us please remove dallas from my travel itinerary please check my playlists for jazz music shuffle the current album of songs who are you how cold is it outside today olly how is it hangin add a lot of james taylor joni mitchell and cat stevens to the playlist what is my favorite music at the moment do i need umbrella for night traffic please what time can i pick up my food keep track of the standing rock protest save new email addresses to my contacts what is next on the list what is the daily price of johnson and johnson stock name all lists hey olly i met one of my old classmates today start roomba chess playing check new message in inbox put pencil on a new grocery list dim the lights what reminders do i have currently i have a sales meeting this thursday at seven am please notify me and add to calendar please repeat the current song is being played ensure i have to get up at six in morning shall we meet for today is party delete all events and content from my calendar please play my top music playlist can save this music in my playlist what is today is weather forecast what is in my list of tasks please relocate all dates to the trash what does potato mean set a remainder at three p m to pick jo what is on my calendar tomorrow what is going to be the cure for cancer different continents what will the high be tomorrow in tucson need information about events before shift ends should i wear gloves tonight i need you to book a train ticket that leaves at two p m i had a car accident today post this status to my social media account can you play the next podcast turn off lights in kitchen play thinking out loud now send mail to john for money is there bad traffic on the highway right now set an event happy birthday john to repeat on twenty one january two thousand and seventeen tell me what is on my grocery list for this week open my email account and check for new email power off on play some country music please set a meeting for tomorrow on my calendar turn on kitchen light what is the latest from my feed continue the last chapter of the audio book i was listening to how big is ohio please reset my calendar back to day one how much is the euro worth versus u s dollar give me the top rated movie in my area current time and date please add date and time in calendar with these people tell me where the local shopping district is traffic status please contact amazon customer service via twitter please create a new tweet what can i do tonight in the city uber me to the airport are there any takeaways around here please tell me the score of the game does the nearby pizza hut deliver in my area do i have any meetings tomorrow at nine p m hey when is the next local from mumbai to pune please play the last two episodes of the gilmore guys remove a list please let is play global thermonuclear war try to play old nineties classic music open twitter type my complaint and post to at consumer service please delete my lunch date from the march twenty third schedule lower the lights in the room what is four plus four is there anything important for today olly how long should i boil the egg alexa tell me a joke start the next episode email my friend about our plans tonight book me a train ticket to new york city on the third i do not care what time what day of the week is the twenty third of this month hey olly post my complaint to at microsoft on twitter is it ten list out the upcoming meeting what is the latest news from xinhua can you delete the next event what is the weather like in seattle what is robin williams birthday play the scarlet letter is california between nevada and new york remove wyatt is birthday party on my calendar tweet the president and tell him he is doing a horrible job play a jimi hendri best song i do not want to take any more calls after five p m heating levels at what times in the apt please play aretha franklin is call me next temperature outside what year was chuck norris born i need a recipe that is from ingredients on my shopping list please add contact email johndoe at yahoo dot com to john doe is contact information will it rain in the noon ask a restaurant in me area do i have any emails from john in the last week show difference of kids in planets show me my list brew a pot of coffee play a nirvana playlist night time please speak loud what will be the temperature today for miami florida do i need to wear a coat what music is playing now nine hundred and ninety nine f m check meeting schedule in todays mail play busdriver play anything new from my podcast subscriptions should i wear shorts today what time is my doctor appointment this week turn off overhead light what is the make up of the chair did i set reminder for tomorrow meeting at five p m i would like a coffee please where did amal clooney go to college do i have any appointments tomorrow what events are going on around my place prompt me about t v program at sixteen fifteen on thursday at b b c four where is the best pizza on sixth street are jello shots calorie free turn up sound i would like my robot to feed and pet my dog when i am not home do not talk until i ask you to turn on bob and tom show me my events play the davinci code pay for train ticket show me the current time in germany is it raining today how do you define problematic add this song to my favorite list when is my next dentist appointment next alarm is the new stephen king book on my list how tall is mount everest will the world come to an end when how long should i boil the eggs add an event starting at three p m in goshen new york on may fifth for dan is graduation what are all the event in area please provide me more info show me upcoming programs on one hundred and five point one notify me when this meeting is close select shuffle all what is the time in zimbabwe right now i want to hear my rap playlist what happened yesterday from three p m to four p m i want to see each of my pending reminders show b b c news of migration olly do i have any emails from robert please add event in calendar what the time difference from here to ottawa tell me all the events between today and the twenty first siri please reserve the next taxi a nine am what does pro bono mean what kind of musical events are happening around here this week what is new on itunes how many unopened emails do i have right now play music by the beatles email tom lets play it is coffee time where am i supposed to be wednesday from two to eleven please set my alarm for five p m start a pot of coffee please after this play me rebel yell is there a article on polar bears how long is the nile tell me items that are on my shopping list quiet mode four hours how much is the dollar worth compared to the euro play my most played playlist delete next calendar event what is a silly joke you know please let me know what is happening to my social media delete all details of my calendar i need to set an alarm for next friday at noon i need a event to be created with only these people what does bling mean play the last doctor who radio broadcast alexa lower lights down are there any latest news tell my meetings for tomorrow morning could you please check the weather in kansas more lights please say some jokes switch to olly where is the closest bar find train tickets for manchester train station for today give me the shopping list aib podcast on kashmirstart it what are the show times of logan hey is it going to rain today in brooklyn new york i have a meeting tomorrow at two p m with john put that in my calendar what mail do i have what is happening during eight am and five p m today refresh this complaint find the mass of the sun hey i would like you to order burger when is the twenty second i want to post on facebook i want the music to be saved can you do it for me continue to next podcast what is the point of a banana check and delete span emails for the last week what is the fastest route to my grandmother is house keep me updated on what is happening in southeast africa currently what film should i watch order ribs for dinner please change the color of the light in the bathroom tell me about the schedule technology change this time to ist can you give me the exchange rate for dollar in rupees all march events in rccg is to be added to my calendar what is the definition of a gala after this song play thriller reply an email to jason that i will not come tonight anything new on insta play my rock music playlist postpone my alarm by fifteen minutes i want the lights less brighter can you add my brother is birthday dinner at rusk for march twenty third go silent for a day send a tweet to tmobile for rude employees make a call to what is the forecast for the week please remove this alarm read me my alarms find me a podcast about animals very hectic what is your name play anything from metallica where is the best place to buy party supplies in town turn the lights brighter please play clash of clans what has been the best selling product on sports category in amazon for the last three days open tweeter of indian railways remind me to pay my bills at the start of every month tune news explain the exchange rate of rupee for dollar i have practice at wrigley tomorrow at six put my brother is birthday in my calendar for july fourth hey olly i saw a dog today i want to listen irene is mount everest the tallest mountain in the united states play my favorite songs how hot is it currently in costa mesa can you please tell me the current weather condition is it sunny today add a new email in my contacts from john put alarm for this meeting white check inbox switch off the smart socket play michael buble save the last dance can i hear the fifty hits that you can hear on radios now what is julia roberts natural hair color i am starving what is good to eat in cincinnati do you have the time what is the stock price of hdfc how old is clint eastwood go back to the last episode in this podcast play music composed by some one giving short hint about the album hey olly today i was fired from my job add this to a list would you like to play never have i ever do i have any reminders that are waiting in my queue give me all my lists olly tell how vegetable is cooked how is the traffic i want to hear surfin u s a clean my calendar tell funny things show me all of my active alarms what time do i have down for susan is party i would like you to remember that i like this song give me the number to mom in what scenario would you use word inconvenience scratch that one from the list play the most popular elton john song book me a cab olly what alarms did i set newly launched four wheelers start playing music from favorites what would be the easiest way to become a millionaire in less than five years run recent email play superstar give me some funny facebook posts cancel alarm for tomorrow play the podcast of barack obama saved in device olly i need to get to bristol friday night can you book me a ticket please i want to hear the songs of adele please book a train ticket to remind me to start supper this afternoon at five open radio frequency ninety nine point five turn on my wemo socket change the lights in my home to green play jazz music what are the measurements of a queen mattress check inbox for mail from sarah tell me why bill bur is a better comedian than iliza schleshinger do you think i can wear sandals or should i wear sneakers tonight at seven p m a fresh day ok google can you remove this item from the list tweet pizza hut their delivery guy is an hour late play jazz from jennifer is latest album with all of the information you can gather on the internet could you please provide me with the best probable explanation of who killed president kennedy open inbox info of the upcoming events remove the last item remove alarms set for tomorrow increase the volume to fifty can you add to my calendar an event for next friday i would like to attend church every sunday at eleven am state the weather in our city who was the current prime minister of britain what day of the week was december four one thousand nine hundred and eighty two set the volume to low what pubs are near the metro station cancel my seven am alarm save settings lower the volume olly i need to hear notorious thugs by bone thugs now politics which desert is hottest through outlook delete my meeting for two o'clock p m today please turn on wemo socket light up the lights in the kitchen what events are in me area start playing my most played podcast i would like to hear my lists how old was elvis when he died please tell me bob lives i want to know about the brexit did mom text me what is the stock price for tesco is there any email from my contacts i need an email to be sent to comcastcom about my service issues remove a list vacuum the kitchen please recommend a restaurant in seattle i want you to play my soccer game from fifth level play for me the game temple run please send the email to a b c at gmail dot com instead of xyz at gmail dot com could you speak louder who sent me emails this week what is happening in the area open facebook messenger what is the current time in london give me the volume settings what time is my meeting on friday olly start the coffee maker play and shuffle all slow music songs set the event to recur on the first monday of the month the nature of artificial intelligence heading to gym please post to facebook delete everything for this month how busy is my schedule today what is the birthday of hemingway let me listen the latest news program on radio checkout today set alarm of ten am what is the definition of this word show me a funny joke hey share me some joke to make me happy what is the location of my work project meeting give me the latest population statistics for donald trump remind me on monday at two p m to have a meeting with andrew skip this one make the house lights amber at six p m can you activate the vacuum to clean the house delete events from calendar i want the robot vacuum cleaner to start at one p m today can you save this song to my favorites what is happening this weekend what are the upcoming events tell me what is on the schedule for july seventh could you please email john saying i am on leave are there any alarms set right now have i received any mentions on twitter what is the latest news from c n n please is there a takeaway in chipotle restaurant i want to reply to jean is email cancel list new list please mark the date first of february twenty seventeen and set the reminder at five p m to make an appointment with mr richard let is take over the world together what is the coldest state in the us turn on a country music station i would like to reply to the most recent email create an event for a john is birthday what are the show times for logan at the nearby theater find me a gas station close by when does the last train to clarksville leave post my current location on instagram set an alarm for seven am please start an email for my sister convert the american dollar to the euro what is on my t v list does pf changs do take-out what is on my to-do list road traffic tweet at companyname that i did not receive my order on time this weeks weather forecast the joke of the day what is happening today with syria <empty> olly what movies are playing in columbia what are the main news stories on the la times now new email from mom play music now please please open and play chess with me tell me about the federal budget play golf if it is raining i will not go for job play something random from google play may twenty two is my birthdate and i want to know the what day is twenty third may call the closest mexican restaurant what is rock find shoe shopping near my home please clear jeff is birthday from the calendar what is kim kardashian is measurements find a recipe for dinner tonight what is the week today compose new email to david davis email address what trending on twitter do i have repair work today what is on my to do list place an order for a pepperoni pizza at papa johns will the weather be bad on sunday new gadgets what a wonderful song can you save what i just said for me what groups are listed in my contacts please set on eighth july there is music concert in white field remind me at five p m that i have a meeting go silent until three p m tell me more about the concert on friday is night how is the weather like today do i have any emails from robert please set alarm for all days send a poor review to this pf chang is yelp page please remind me i need to pick my clothes from the cleaner today write a tweet to this company define xy current traffic get it fast resolved what is the time at singapore when our time is five p m what are the train times from san francisco to new york please play all the songs in high volume and make adjustments to pop music mode turn on channel nine hundred and fifty one show new emails from katey put the lights off now remove my appointment with my doctor on saturday please remember metallica selections for next time what is time of indianapolis express decrease brightness of lights when i want it to take down notes turn all lights on play recently added songs siri what does survey mean cancel all my appointments should i pick up some defrosting salt at the store do i have any appointments set for tomorrow open calculator what song am i listening to please make me updated about today is scenario make the lights blue in here please tell me what is the rate for yen to u s d send a confirmation email to sandy evening please read the last email for me today i saw a bulldog ok google i need a meeting with the c f o on thursday my new health check up new list please play my favorite song by bruno mars is the twenty third on the weekend how much does the f flat stock cost where is the party where is baseball practice happening tomorrow what is the stock of apple i want a coffee now please check this info on geographics for me its cold outside how is the current traffic between turn up the lights please show latest emails send email to rohan to meet me today at evening what is clint eastwood doing these days olly add new email to anna is it going to be windy today can you deleted the current event mute speaker order a ham and cheese sandwich from subway what is new on social media tell me about the sports stadium tomorrow is a sunny day right please turn up the volume what is ten u s d in euros what is around tonight let me know any new emails i have received add a reminder to my calendar every year on this date get me a turkey jimmy johns sub and set it to be delivered at five p m tonight what type of pant is a culotte the lights are too bright is there anything important happening on social media start and email to john smith who do i think people will care please play classical music write me a tweet about how horrible their management is save this song as a favorite i want to listen to a new podcast on healthcare play radio program name how do i get to old street what is the weather like in new york city who is going to the party i want you to remind me about the evening program in the past two hours have i gotten any new emails the song in background is cool please add meeting at work to calendar what is two plus four please make a reminder for friday at six p m olly i need to know if i have any new reminders any new emails will it be warm tomorrow when is my dentist appointment how old is barack obaba olly i would like to know about jane is party what time is it in austin play podcast favorites tell me time of alarm you set remind me about my biology test at fsu on friday what is the google stock at please turn socket off when is the bill cycle what is terranova stock going for has anyone follow me today on twitter today how to make fried rice what is the traffic like right now on telegraph did charlotte responded by remote sensor is there anything exciting on twitter today could you skip ahead to the next episode latest news from the area alexa turn off the wemo socket in the kitchen how many lists do i have how is the climate today make sure i have nothing to do on friday hi to all is this the correct area code for my boss i have already given mark his gift today please remove him on my christmas gift list show me the previous episode should i wear sandals system please dim lights to dull blue open map please give me the time can you do nine plus two who was the chief guest of the event when is mark lanegan is next album out why people who reads may not be the most courteous and well born how long will it take me to go to the train station from here please add item to list start the coffee machine have i received any work emails from jeff calendar event with these people can you bright the lights please let wendy is know i hate them i need to let my small group know the location has changed from wangs kitchen restaurant home delivery for a chicken manchow soup more light what does the clock say show me latest notifications can i get a recipe for tuna do i need a coat outside right now what events are in my calendar for today open games directory i want to hear a yo mama joke turn lights off in living room more stock price what is on my to do list for today make a new list for me please add new item i do not like this song show me reviews of donald trump tell me about amazon is history what would be a good romantic dinner olly how many meetings did mahatma gandhi undertake next song what is the shallowest piece of land todays news veganism between ten p m and seven am everyday all emails received has to be replied to what is going on tonight in sacramento i need to calendar a meeting with nathan on monday at nine am describe a sloth make this room brighter today is which date change dollar to rupees rates what are the top world news stories i want to listen to rock what are listed i want to listen to classical music could you list out the list of trains heading to chester the day after play the radio station pop list the games you can play with me can you please buy me a train ticket how many runs did cheteshwar pujara scored yesterday what does it look like i need the lights raised can you do that where are the boston redso game playing next set the alarm tone email mom about lunch new email recipient donna do you have plans for today ally please play pandora radio update to current time can i order takeaway from spanish place please show me marathon nearby me music three hi please send mail to sam by evening did anyone win the powerball lottery yesterday play songs by the beatles please who is napoleon hill play audiobook snow white lights down to seven please explain the plot of movie titanic is the restaurant having delivery facility what is thirteen plus fourteen can you start f m eight hundred and ninety radio channel love play me john is podcast list out all song when is my mortgage due clean out my calendar delete everything after this song please play this song create a new list for me remind me when mom sends me an email play bus driver give me music news hi olly post my last clicked photo on facebook with title marry christmas is the weather cold today is closing price for google show them where the keys to internal locks are located in case they have to exit your home quickly remind me to contact old friends that i have not talked with in six months before they pass dim the lights down a bit how is the weather in utah right now please increase the volume what is the forecast in my area today remind me of the following event please place my new email address to the contact weather for next eight days san antonio texas olly call a taxi how the weather today olly what time is it in denver olly what bars are around me i have a meeting at noon today hey send a meeting invite to mr ross for this friday is meeting and block my calendar for friday afternoon when this song ends play hotel california down the light power what was the upcoming event is what are the news stories on the c n n website spot please schedule a meeting with this person can you make the lights go out what are the headlines on the new york times where is an olive garden that does takeaway tell me about the latest media trends olly add tomorrow is dinner date to the calendar is there a train coming this afternoon in dallas longest river in the world i am unhappy with tesco please help me stock price f flat light up can you open beatles tell me when i get new emails from principal lowry erase all events brighter how do i bake a potato please show today meeting with clients give me the news on n b c alexa i need the definition of the new l g washing machine lead the way to the place what time is the next event scheduled please update me on my social media accounts are you real power off the wemo plug i do not like these colors in the house thumbs up this song play kari jobe for me write ten words on instagram can you set up a meeting with me is the time different in moscow explain me about rock i have not been hearing any king crimson please add their first seven albums set calendar for date and time with this person can you please let me know the next four scheduled trains to chicago has the budget been voted on yet olly please play are rahman music convert new york time to london please play all songs by bruno mars please read the text i just received on messenger please clean my calendar can you tell me what haggis looks like get me a taxi to take me to the airport on friday at five thirty am am i gonna need rain boots mute all responses now show me share price of amazon please give me update of hockey i need the stock price for amazon weather this weekend do i have anything going on tonight forward a complaint to simran aapa kadai about the food quality who is the contact that last called me volume up brighten my bedroom light headlines from dhaka tribune what does this stitch long sleeved shirt look like any runs on the west side make me a coffee please olly play song over the rainbow which contact have not i called in twelve months please set up the usual meeting event for our business trips i want sweet potato pie from a local bakery schedule a meeting with brian billings for two thirty p m on friday what time have you set the alarm what is this week is weather forecast google translate where are you from answer this mail is it snowing right now play a party music list do i have any events scheduled today our water bill was too high schedule a one hour appointment for saturday remind me about my meeting with joe at ten on monday my day was great what is the current price of mcdonalds stock what is playing look up the meaning of logic can you start the roomba open chess game what is recipe status of my inbox play something by the used can you help me find the answer to this question google can you book me a ticket on the train for tomorrow what stations are playing good music this morning encourage the students can you brighten up the lights please add lunch meetings at noon every day this week change my status to chilling play playlist number seven remove the excel file from the list i want to hear one oh three point one book me a return trip from edinburgh to london by train can to play ccn news for me what is on my schedule for today what happened in beirut this morning erase all data from calendar i just ordered food call and see it has been delivered exchange rate for converting ten dollar to euro what hour now olly any fresh news on brad pitt put hamburger on my grocery list please play my music what is the answer to two plus two wish all my friends of facebook good morning book a first class ticket in the next train to miami enable shuffle how do i braise a pork loin find a kid friendly event in my area for tonight let me know up and down in stock price of this company stock what will be day on fifteenth march how many items are on my list what does obsessed mean time to hear me some blake shelton remove alarm start me a new list how many bots are in a dollar put my dinner at red lobster on the calendar for today at nine check my last post on facebook near pizza shops play the health show on my cell phone turn down lights please play rock music find me a ride to the mall of america please i need to edit marie jones email address to read what reminders do i have set hey olly chance the current light settings can you find and tell me the prices of facebook stock turn off the dining room please create a new list for me play some tracks by michael jackson what is six times sixty eight play atmosphere next i want to dance to the tune of raghu dixit i need a cup of coffee create an alarm for six am i am in the mood for some classical music tell me about economy and g d p about india versus china find my next event and delete it please time ok google what is the weather going to be like on march twentieth two thousand and seventeen delete the meeting tomorrow how heavy is traffic on interstate twenty delete from playlist my old english songs list give me the average five year stock price of home depot ok google play one hundred and six point seven i want to set an alarm when i am driving home tomorrow to remember to stop at the store and get food how old are you describe death play solitaire with me after this song play atmosphere find a taxi for me is it too hot for pants how do i make a turkey what song is that have i gotten an email from sean favorite this music i need to book rajdhani train ticket from mumbai to ahmedabad let me know when you hear about france select the type of meal whether a break fast lunch dinner add lowes hardware to my contact emails located in cleveland ohio speak louder when was benjamin franklin born set an event for this sunday and the next two sundays that i have yoga at twelve p m new tweet to consumer service how much is the us dollar worth in canada send a mail to mike tell him we will meet today seven p m for dinner at coffee house find the sum of thirteen and fourteen add a tab to the shopping list next play justin bieber is sorry i want to order food what next set direction to central market what is the weather in london what time can i call from pennsylvania and it will be business hours in australia hurriedly activates my robot vacuum cleaner book a train ticket for one one way for this tuesday at nine am turn on the local radio what do i have going on next week google please be extra quiet the baby is sleeping turn off the office lights rewind audiobook by thirty seconds play my station what is the latest local news for the greenville area what is a basketball remind me about thing at time play me a song will you set alarm clock one day before for all gym class on my calendar i am taking day off tomorrow can you post my business on facebook play new gaga playlist show latest reports of b b c what is the weather like are you smart do i have new emails send an email to mike about this weekend party discontinue use of lights few traffic roads open the profile of allen from my contact is there any new vegan news on facebook start making a coffee please turn on ninety nine point five show me the recipe for cookies cancel the breakfast at tiffany is house olly did you have a good day what is going on in la today can to please clear my calendar of all events i need some sushi what is closest find me a train ticket for the next trip to washington d c make a calendar entry for next saturday at ten am please olly what time is it in this city give me recipes i need a coffee send a giggle my way at what temperature should i bake cookies play the gilmore guys podcast please recommend a movie olly definition and use in sentence the word absolute set regular bi-weekly meeting on fridays three p m what is the definition for the word pontificate what are the details of this event mute the sound shuffle songs by coldplay please play program on xmtune please defined about internet define the word novel show last email from mom do not respond for fifty seconds i need a high volume what is the date two saturdays from now please be quiet send an email to scott asking what the weather will be like this week program y at radio b b c stock please where is a walking trail near me is this person sent any email nine hundred and ninety nine f m is currently playing what music how much does a bowling ball cost did i set an alarm to wake up in the morning hey olly tell my today is top news send an email to this contact remind me about my monday meeting with peter francis fifteen minutes before the meeting find information on today is stocks can you tell me a good place to eat what is on my shopping list i would like my to write original romantic messages for my wife i need a good chick flick any thoughts play games is calendar event true play bhuli bisri yaadien program on ninety one point three f m what is the time in paris cancel how old is ellen i would be happy if you update me the events going on our area after cooking the stuffs add some masala content and cook it again in a tawa and serve please send email to pawel with reminder delete all events for the next five days give me a joke is there any alarm after five am vacuum the living room in ten minutes do i have any event on my calendar tomorrow morning from ten to eleven i would like to hear the podcast of the heat game that is being played tonight what is the highest mountain range in the world locate address for myrtle beach state fair play previous song lets get something on the calendar for tuesday can you give me a recipe for homemade chicken noodle soup can you raise the lights for me please olly darker lights please set up a meeting with my son is teacher for friday mention the list define love without invoking the term love is there any affairs of ileana d'cruz we are going to play poker together look for a radio station called rhythm on the frequency one what is the sum of the two numbers four and six has sally fields ever won an academy award send email to joseph at gmail dot com open stocks could you please gather a list of local restaurants and email them to my husband olly brighten the lights the newest samsung phone what is happening around here what do i have scheduled for the nineteenth at two p m can you play emo music please what alarms do i got turn on plug meeting with anna this friday change the lights to blue add ketchup to the list how do i buy tickets for that give me name and type of this music can you delete the doctors appointment i had tuesday tell me the weather for the following month turn off the light of my bed room please will there be rain tomorrow in rome what on my list to do today evening i need a good cry can you play me sad rock songs can you empty my calendar how to create buttermilk from milk create an event with location home and with event new year is eve remind me to pick up mark at the airport at six p m weather in home town make me a new checklist today i had a lunch with my long-time sweetheart play me a nice song to the mood open gallery post video name tell me the time now if it is sunrise in stockholm what time is it in okinawa tell interesting news what was the temperature in new york this morning do i have anything booked for tomorrow where the meeting will be set a lunch date for next tuesday at noon with sarah at black angus what events are going on near me display my lists i need to add baseball practice on saturday at two p m what is piramid play be warned by tech nine what is the answer to the universe instructions to make a meal what is the answer to two times three what day of the week does the twenty second fall on this month can you tell me the cheapest place to get ground beef what is happening with the hurricane in the gulf play youtube playlist blank what day is the twentieth this month anything interesting happening next friday i go with black sunglasses or not how deep is the deepest point of the grand canyon just let me know new emails from sara find contact change the lights to dim can you put on love playlist put on my calendar meeting with ms boland on wednesday eight hundred am show me my lists save this afternoon for my date play fault in our stars on audible send email to daughter saying i love you please turn on the music i want to hear my favorites songs i am need my hat today what is the exchange rate of currency in u k where is burmuda triangle has any personal emails come in yet my calendar is to be updated with all rccg march event reset my locations list will i need sunscreen this afternoon olly there is a good band playing tonight at nine at jazz bar i want to go how many of them are important remove all from calendar set alarm for twelve weeks from today at eight am play music from party playlist making very complex calculations like jarvis do i have an appointment for lunch tomorrow get me a train ticket to chicago today describe tell me the time in someplace play all songs on shuffle twelveth july is bola is birthday and my calendar to be updated with this date compose email to a new address wikipedia topics begin a new list tell me when the event is happening can you prepare a cheese sandwich find my thai takeaways around grassmarket tell me when will indians economy touch that of americas what is the yen worth can you find the dave ramsey podcast that aired earlier today bed room two switch off the lights complain to the restaurant about the food i was served please begin clash of clans please switch the channel to classic f m are there concerts this weekend in chicago explain to me how a clock works in precise detail how much is a train ticket to denver from here play my top twenty playlist what is the exchange rate of euro and dollar where is norman reedus from hey olly play the playlist what is the time in canada now how much is an euro worth what is around me send tweet to at bobburgers they screwed up my order and i had to wait an extra hour what is the purpose of using you instead of searching on my own set an alarm for nine am unmute the speaker now please reduce the speaker volume thanksgiving turkey cooking procedure in five sentences is what please add sugar to my grocery list add a new event to my calendar pull up news from the wallstreet journal start my bible study book again what lists do i have what times are my alarms set for what are the current movies playing in my area i am forever hip hop delete my dentist appointment how many fridays are there in may what is the current mountain time will you take care of the home security system tell me the time in boston next could you please help me to order some sushi from deliveroo send email to mom want to go shopping tomorrow do i have any pending reminders need an alarm set for sunday at five in the morning send a complaint to consumer service of this company what is the location of moldova read me the content of this list did mark post anything new on facebook open fifa seventeen put on some coldplay play old-fashioned christmas music what is the time turn my lights down to a lower level of brightness top model car send an email to m s palmer ask her if dean turned in his last homework assignment check the traffic to our home i would like to know the best rating pubs in the local area what time is it in california send the email to john do i have email from my work what is new on textile design can you send email to my friend rohit which says i am busy tomorrow find the nearest rock station just increase the volume a little what the sexiest food to cook on a date what is going on in the world these days what events are scheduled for me to do today start the gas stove adjust the flame to cooking the dish and put all cooking ingredient to pressure cooker to cook the ingredients keep it on the stove wait for the ingredients to be cooked what do you know about the statue of liberty list all the alarms where is a good wine bar near me get me directions to meijer alert me at find the shortest distance for the location needed hi this is john i would like to know the special dish for today am i scheduled to have any meeting today set the average of the device let me hear about some new devotional music i need to figure out this percentage what is the latest traffic report for miami how is traffic in city play a song from my favorites today is domino is has takeaway right it is my mother is birthday today send me a notification every year on this date when is trumps next press conference see my inbox for mail i received from sarah check any mail from amazon how many states have the death penalty i need a puttanesca recipe that pre dates one thousand nine hundred and seventy olly what movies are playing at carmike cinemas how is the weather right now turn on new smart socket add new email to anna make coffee olly open chess app and begin game what is the time in denver play michael jackson please dim the overhead lights what is the number of food items on the list remind me about meeting next week play the song which is in movie rangoon please show today meting with clients wake up recommend an event happening in my area open email read me back what is on my shopping list olly open the uber app and get me a car please could you play poker with me show me my meetings this friday when it is ten p m here what time is it in brisbane what is this weeks weather open uber app and book me a car for pick up at the airport tell me the time in india send an email to jerry ask what time will he be home tonight what time is my eye doctor appointment on the twenty third what is happening around the world olly email alice to let her know we are on the way read email subject chemistry tell me how to cook meatballs play me in a game of tic tac toe what is the stupidest question anyone ever asked you between ten p m to nine am all emails received is to be replied to find me a train ticket to boston what is the temperature today play a podcast about latest yoga videos are there more than two doctor is appointments in my calendar olly give me the most recent stuff you have angelina jolie general health tips show me reminders on tomorrow set alarm for eight am tomorrow please turn the radio nine hundred and seventy three f m what time is it right now in new york tell me the time in london england tweet for me the complaint about drainage choke up turn radio to ninety eight point seven tell me the top stories in the news on january twenty five set meeting for twelve what is the date next saturday why does tom izzo look like a whiny bitch when his team plays place event in my calendar every tuesday how do i subtract four from two notify me when g b p to u s d rate as i expected following podcast episode start delete all events from my calendar google calendar add event for march twenty first hey what is the weather like today what is the famous monty python joke about the bird read to me the email of john smith olly next episode in the podcast please name a rom com movie playing in and around new york theaters remind me about the march sixteen meeting can you set a reminder for me to go to my kid is basketball practice every friday night why do people think how much euros per u s d today get the latest news about formula one racing please do i have a date on friday within the past three months how many meetings did i have with mr richards please tune my xm radio to c n n what is the definition of a buffet table play jumper by third eye blind please switch off the light please describe an elephant to me can you describe to me a bike let me know in two hours that i have to leave for my violin lesson that is at four p m at musicworkz lights brighter erase my whole calendar send a tweet to company date today how is my inbox looking at the moment check all the new them emails and mark them star set the time zone to g m t play me the latest podcast about online surveys what meetings are available in march can you inform me about what i have going on this week what time is it in florida is there any traffic right now is the weather bad in new york right now when does the train leave for chicago from ann arbor light color change is pink recording a new album what is twelve times eight is there a way to check if there is any new news stories to read can you turn the lights up what exactly is a resin tooth filling define speaker make coffee at six am eight am manila time is what in eastern time what time and day is it today what is the traffic situation right in broadway street save that email as a new contact olly play netflix on my p s four make it brighter in here remind yourself to remind me about needed to be reminded about that meeting how old are kim kardashian is children cooking kfi is my favorite rapper is today a sunny day give a list of all appointments today post three p m put the playlist on shuffle decrease the volume to ten percent hows mysore climate today is there a sporting event tomorrow in chicago i would like to email mary and ask if she wanted to meet up after work at tgi friday is please send an email to larry is new email at larrylarry at gmail dot com play for me the game cricket remind me to start the crock pot at two hundred p m play the latest songs by senelena gomez after this one add haircut to my appointments on saturday afternoon at four today was too busy turn off the alarm for tomorrow morning i want topics on celebrity gossip is there any problem for having junk food and drinks where the party will take start weather report of boston find new trump articles but not from fox news set reminder to go workout at the gym every friday at eight hundred am find me a good pop song open a new email to contact lose the last item in the list tell me some braking news in new york i want to listen to today is hits should i take a coat to birmingham this evening stop seven am alarm reply my address to john i am looking for a bar do you know a good one who won the last five n c a a men is basketball tournament what is the weather looking like for the rest of the week searching on holidays in my location how the to do list for today find john smith in contacts foreign exchange rates what is the schedule of the next maggie rogers concert what is the latest in my social media remove all the events and schedules what is the definition of inchoate where is the coldest place in the world are there any fun events in la today when is the next train to philadelphia play my favorite radio station please tell me the definition of home email jerry regarding the meeting play fourth song of the same album after this song what are the synonyms of placid download the latest folk songs having rating of four star or above and play all without shuffle do not speak for an hour add business contacts to contact list please turn down the lights to fifty percent in the den it was a tough day today shut the living room lights where is it how many people were at the protest in times square yesterday at noon what can i substitute butter with clear my events search data will it rain tomorrow inform me about the most popular rom com movie playing now in theaters across new york english test form email from marcia find local shops news articles on a particular subject where is volume setting what day will it be sunny set alarm for sixth of june two thousand seventeen at five am i am really feeling depressed right now can you please play my most played songs to cheer me up i want some music how about playing my workout playlist are there any traffic restrictions due to the president is visit describe to me what a ball looks like is outside raining play jazz music now do i need a jacket in the evening what should i make for dinner could you please schedule a meeting with this person fill my calendar with a meeting with garvin and trilly for december fifth at five hundred and thirty p m is there any new information regarding the mexican american border wall what is on my list today how do i are there any new emails received after four o'clock today boiling tweet complain at comcast show me how to cook a recipe book a cab which have cheapest price i need you to remind me to go to store tomorrow this song is too length delete item good please stop talking replay the god of small things hows it going to be today what else is on the list send help only to jane what day is the fifteenth show exchange rate of u s d versus euro olly make me a cup of coffee how much how is the weather outside turn lights in the room off what events are going on in the area play my workout playlist in spotify blanket definition hi there do you offer home delivery for orders would like to know the alarm you sent play a melody music play human nature of michael jackson how much is the euro versus the canadian dollar sticking to diet remove cereal from my shopping list can you erase the haircut i have scheduled for friday if switch is on then turn on else turn off oliver will send me an email on thursday and please set up a calendar appointment for our meeting based on the date he will provide on that email where is the statue of liberty remove succeeding event show me today all train times of next two hours at jodhpur to pali add the email oriam at gmail dot com to my contacts remove this event from my calendar notification i have a deadline on tuesday read me my list for shopping tune in to nine hundred and thirty five on radio please turn bedroom lights off give me the time in washington play children is music please remove task list send message via email the set alarm for nine p m on thursday night set a repeating calendar event keep me updated on the latest storm news art exhibitions in california tweet i am doing well on twitter i am leaving early today get me with new list set a reminder for my daughters birthday events happening between eight am and five p m today tell me about the solar powered garden stakes what are the list of events in my calendar in march let me hear some pop music or a song should i bring snow shoes tell me how to cook steak available meetings in march are what set up a reoccurring grocery store trip for every sunday reply to the mail with the following content hello you do you know the name of the song that is playing how tall is mount everest look up for the residential address of my team leader name the lists available play sufi songs tell me amd stock prices what is the definition of precocious off all the lights on the right side show latest email from mark reply to johns email by saying yes i can add this song to my music remind me to buy ham when i am in the shop next time set up the following event in the calendar with the following people clear out the shopping list is there is any new emails remove the list of person starting from letter medium in my contact list turn my smart plug socket on what does my facebook feed look like list me the stock of apple right now what is hot social media topics what is the outcome of blank today do i have messages in my inbox please set event in calendar repeat event every day do you have a joke report complaint to samsung by tweet what is the next event in my calendar define logic do i have any appointments add selected song have i need to take a sun glass how is jennifer garner is career doing please play some jazz music is there any traffic on my way to work how tall was abraham lincoln resume audiobook i want to hear play that funky music book an uber to pick me up outside of long island bar right now if it is eight p m on the east coast what time is it in sacramento california email susan and write that how old is emma watson newest boyfriend check new emails in the last day olly shuffle playlist olly make the lights blue please put clean dog at the top of the cleaning list what is the exchange rate between pound sterling and the u s dollar tell me about new emails cancel alarm for tenth of march two thousand seventeen i wanna get up at six am did prince have children six am no notifications for five minutes what is today date set on twenty second march badminton match in merita square read me the news from nsnbc set up recurring date on my calendar what time i am waking up tomorrow what does one u s d equal in aus i was wondering how would you look purchase train ticket siri today is what date play ella fitzgerals get happy play the david bowie song major tom that last email needs to be answer a s a p is it still going to be windy on thursday how many keys are on a piano increase the brightness of the lights go to the next episode can you please remove the alarm play sanam what is the latest news about obamacare tell me the answer for two plus two set alarm for saturday morning soccer practice at eight am tweet a complaint to amazon about late shipment i have a complaint resume joes book from where i left off last time please increase volume in music player add tomorrows dinner date to the calendar remind me of the seven am sales meeting this thursday and add to calendar tell me the time in tokyo what day of the month is next tuesday olly can you tweet for me to amazon services for not delivering my product on time tomorrow my mother birthday are there any meetings set for next wednesday give me the description about watch play the twilight book open this program show me the latest news from the guardian tell comcast i hate them divide one thousand five hundred by one hundred and sixty please look in to the matter volume down alexa art exhibitions in california do i have any appointments on march thirtieth any new emails in my inbox olly i would like a coffee please olly recommend a blue grass band event within twenty miles of manchester ma this week what is the next thing on my list of appointments play a good movie on my television olly please speak up alexa brighten the lights when is the next warm day how many corporate meetings do i have this week lights off in the kitchen please have i received any emails with tracking numbers change the opacity of the color should i take an umbrella today olly hackernews what are the heartthrob news remind me on fifth april there is a meeting with boss what news came out about steve bannon i like the songs of yeshudas please play it volume control please i would like a joke change the color of the lights in my house from white to yellow please remove the list weather for the next week in new york tell me about the next devil is hockey game friday can you please turn off the light of my bed room please tweet a complaint to comcast for bad customer service play a retro song in my playlist what country uses the most coal social info what is the weather in austin olly what is the fastest route to town two by two is hey olly how is the weather in long island new york what day of the week is the twenty first of may olly what fun stuff can i do around here punjabi people canceling iowa vacations over congressman is words delete all events from calendar post pic on my phone on facebook list the current price of microsoft shares ask my friend hows the climate there cancel all events in the next two days set an alarm for tomorrow morning at eight repeat album is it a yes or a no that tomorrow is temperature will be hot refresh the list with new one social media what do i need to do today cancel everything on my calendar take me to the huffington post website any traffic issues today what is the definition of forensic what is there to do in new york city replay my last played podcast in my calendar delete all of my golf events for the current month what is the weather in chicago alexa turn on pdr am why do some people still think the earth is flat keep reading the audiobook to me hey schedule a meeting with mr ross for this friday noon put pizza on the list set a reminder i need to wake up at five am every morning what person produced the song that is on the radio play r & b dollar rate of philippiness peso meeting at eight am to twelve p m where is it hottest on earth please find out of charley is steakhouse delivers reply yes to this did i add milk to the shopping list fun stuff to do near me play the last song from my most recent playlist please tell me what will be rainy day based on the weather forecast what exhibits or shows are scheduled at the metropolitan theater what movies is out there in the local cinema do you know any jokes what is the dollar price in inr add birthday with mom for next month hey what is a head cheese tell me this week is weather dictate new email alarm clock resume playback add yoga class at noon to my schedule for the next three sundays what were the highlights from this evening is soccer match definition xy tell me the stock rate of hyundai play new pop music lower my music player volume by fifty percent of its current level wake me up at five hundred and thirty is twenty fourth on tuesday olly play heavyweight podcast olly recommend a wine tasting event this weekend in chicago i like alt rock music play billie jean next mention the time in canada now olly play i can not feel my face please check my mails any special events on my list start music this room lights off want to play a game of trivia did snap become public yet what is the temperature right now in new york play skyfall next what are the news lately what was the last email from work is there a connecting train from london to paris and what time today is schedule will it rain now put the radio on and play radio two respond to jack quickly can you tell me how to measure my shoe size what have i got going on between three and four p m today add all the event of march happening in rccg to my calendar go forward please what is the definition of session what news articles were on c n n today set a timer at five am seven days a week hey google hey call the nearest chinese restaurant for a takeaway open the playlist change song send email to emilia saying i will be late please do not wait with dinner remove all scheduled events from the calendar i need to know the highest mountain in the world are there any alarms going off today remove a list of things to buy what is the commute time to the theater list emails for last hour who emailed me recently and what did they email about please turn on the wemo plug socket what are the train times for open a song from the given list show traffic raise living room lights half way let me know if there is a town meeting monday change the color of the lights to blue please dim the lights in the bedroom did i received an email from rohit today is events play my favorite pandora station what does the hyphen represent in the equation did joe leave any contact information in his email have i gotten any emails lately activate the radio please should i wear a sweater please play popular music on pandora set alarm at six thirty am is it true the gym is seven miles away i want it to be able to tell me statistics about things it is done for me like how often i have eaten out this month what is the capital of france do i need to do anything today remove thursday is lunch from my calendar adjust the light play next episode on podcast what causes if i had junk food and alcohols what is the weather in toronto today start robot cleaner what is starbuck is stock worth what list did i make today reply to the latest email call rta and book a taxi for three o'clock in the morning read my lists to me i need to add water to my kroger list my calendar to be added with bola birthday of twelveth july resume audio playback of twilight please play radio station one right now what about this joke when will my alarm go off in the morning i would like to hear rush limbaugh on i heart radio how do you roast lamb what trips are available from new york city to poughkeepsie show me the latest news about the elections search for new jokes compose email for robert what is the current exchange rate for yen to euros what happened in n y c times square yesterday at noontime set reminder on calendar for please play this song again what is still on the list my day was full of work olly please make me a coffee using the coffee machine play all songs by anirudh list my different alarm reach by mail to my family tell me the hour cancel dinner tonight erase shopping list play the next howard stern show on the radio do more light what are the estimated temperatures this afternoon road speed maneuvers read me the front page of the new york times i would like you to turn turn on the t v reschedule meeting can you make me a cup of coffee please turn the porch light to blue open audible and continue playing the book that i was listening to what is the most popular story on my facebook newsfeed reply back to bob smith tell me an interesting fact about this i want to hear a book by torey hayden tell me about the cheapest flight fares to nj today let is play a game how about tic tac toe your scenarios on your p c and transfer them back to the via the hot i have a department head meeting friday at nine am sharp should we expect rain this afternoon how long will it take me to get to the west side switch on radio what is going on today from two four p m show me movie times what is the latest headline play most recent podcast upload how was the weather this week what is the time in this time zone set a reminder about tomorrow is meeting at nine am what is the current weather in denver what do i need to make pot roast mark sarahs birthday party on the twelveth tell me a date bring up lights i need to turn on the plug in my office for my computer set event in the calendar turn on vacuum cleaning day after tomorrow will conduct all meetings are there any new emails in outlook will you help me get better in studies what is the latest on trump what is the time in china right now olly most rated delivery options for chinese food what month is today olly how long does it take for the train to get to orlando book me a taxi to leith in half an hour siri what is the elevation of denver colorado hey play some classic rock before i lose my mind describe a seashell do i have any new tinder matches what is scheduled for the next three hours hows the food order going turn room light off jay is phone number find ny train time uber hey what is the time set a reminder for my meeting at five p m what is the rate for g b p to u s d please give me an update on the election every thirty minutes i need more light painting what time is it in dallas play classical music collect all ingredient needed for cooking with exact measurements and necessary equipments definition for object name which time zone are we in please change to current is the twenty third of april a saturday play music by korn let is go through all pending reminders inform me about the latest news of donald trump reminder may i know the traffic situation tell me my meetings this wednesday morning open the site bbcnews dot com alexa email mom and ask how the weather is there hey i want to get trains to manchester on wednesday i want to add something to my calendar can you tell me more about my most played music i had the worst day ever today confirm the order did any emails come for me in the last five hours what will be the highest temperature this week address the situation check my facebook notification how to cook spaghetti olly i would like an espresso olly where is my food skip to next episode set a continuous alarm without the option to snooze for seven am please please set alarm for what is the exchange rate between u s d and euro play chess with me will it be good to buy nike stock today show me the highest weather this week i ate breakfast this morning lower the speaker volume please schedule a meeting with my secretary continue reading moby dick to me can we please lower the lights play music programs in radio can you tell me the time in new york play me last year is hits set a reminder in one hour for my bread to bake is it any ones birthday do i need my raingear what do i have on the schedule today from twelve p m to two p m add birthday reminder on september four what temperature should the oil be for frying french fries can you tell me my appointments for this week is there an alarm for ten am on my to dos remove mop kitchen on the list tell me the names am i free on sunday day do i have any other contact phone number for alison can i get takeaway from pings set bob is birthday for every june third what is happening around my town define alarm anything interesting from bob is news show me the today is world news would like to know the description of a car mute the speakers please remind to get donuts for the meeting delete all dates please play next episode remind me please tell me about the events near me what are my pending tasks status for the pizza delivery from pizza hut i want to thank everyone for the birthday wishes what is the meaning of life play famosa radio for me turn on my playlist and play third song in the queue please tell me what is the time in sanfranscio please set a reminder for church services on sundays for eleven am name stores within ten mile radius with music what is the definition of god all lights has to be turned off during the day the music volume should increase to ninety how do i get to dunkin' donut in atlantic city nj design the chemical compounds necessary to create sugar that does not cause diabetes or weight gain but does not provide a chemical taste olly i want to listen to one oh one point one the whiz today weather what ingredients are needed for making biryani wedding wishes please set dinner plans at seven p m for every friday in april will it rain today any recent emails from anna where are the rockies located the last friday of the month lands on what day play my most played songs update me send a request to this company to receive a refund what date is the third friday of this month can you really see russia from alaska show me a funny video on youtube do i have any new emails in the last hour play the sports station what is the nearest pizza shop find the highest rated recipe from foodnetworkcom for a four cheese omelet could you please send and email to my friend susie letting her know i will not be at church tomorrow set the time stock price for google set a reminder about todays faculty meeting at four get me latest updates from facebook play me some from the olly do i have any calendar events this month reply to all what date is the fourth monday of march this year show me my reminders play firework by katy perry tweet to amazon about late delivery of my t v olly good night lights off sum up all the things for me i could do to make myself happier do you know jessica snout is phone number where is the venue in which the marriage of tom is going to take place play me a radio drama podcast this week is weather forecast clear list add email show me my calendar what is the latest news about this world cancel the event valentine is day from the calendar get city cab here to airport i just want to be you friend please tell me current events for the day send me links to news articles about the protest what is my next alarm remind me daily at eleven am for meeting with boss what states border new hampshire could you provide my upcoming events any events in my calendar today what alarms will wake me up tomorrow olly please delete my morning alarm reshuffle and play music is the city cheaper or costlier to live please delete the wednesday evening alarm turn off living room lights what ingredients do i need for tomato soup new pop music show me all the emails received recently is it going to rain in the next few days in tucson what day does my birthday fall on this year june twenty seventh go to the next episode of the united states of anxiety podcast remind me when i reach can you set my coffee machine to make me coffee at four p m time search for more songs from the band what is the time of the morning train headed to chicago what is the recipe for tacos where is channing tatum from where can i catch some good things to do tonight make a cup of coffee confirm my alarm settings olly what ingredients are needed for pudding could you please tell when we have to pay for car insurance i do not want any events listed on the calendar show conversion rate of u s d and inr put on the radio do we have morgan is office is number what is happening in my social media play the weekend start the pop radio station will this morning stay sunny give me the time at washington right now when indianapolis express will reach indiana open music player settings tell me the area code for jen k hi i will need my coffee brewed at seven am today what were the cities affected by the earthquake take out available louies close the light can you please make a coffee go backward thirty seconds what day is december thirteenth what are converse shoes alert me at three p m to go to the concert start vacuuming where is justin bieber is home base let me know of any incoming emails for the last hour please can you play my favorite audio book of harry potter can you tell me how to get the answer to this report any new emails set a weekly meeting for friday nine am play some good song from my play list today i am feeling very stressed can you speak louder how much in the clock switch on robot vacuum cleaner please set alarm to my mobile phones cancel next event send email to joanne at a o l dot com and add as new contact i would like to set the event repetitive what are some highly rated restaurants in this area turn on pandora remove ice cream from grocery remove all the events on my calendar hey olly what is the agenda for the date let is play scrabble start pandora find me the distance and direction by train to rccg in ikoyi lagos remind me the day before my car is due tell me all my lists what new emails do i have form amie notify me an hour before my two p m appointment at the car dealership should i wear a short sleeve set notification for six o'clock news update take milk off my grocery list music led zeppelin houses of the holy please sent this email to my friend i want to hear my favorite jazz music genre should i dress in layers today add meeting reminder for sunday with my parents in law remind me to pick up john from the airport tonight at eight can you contact samsung and say my washer is on fire weather report now today is news c n n it is dark home town weather book a cab to office for me please book a taxi for me when is the party scheduled what is the latest action movie running in theaters meeting reminders from three to five find funny jokes please find a contact number of rahul judawa bring up a complaint form how is the weather likely to be this week turn down the volume set reminder in calendar rock pandora give me updates on the situation in france what reminders are coming up this week time in chicago can you please put on music where is my list have stocks gone up or down today for walmart do not wake me up on weekends is anything different today about blank please put mary is birthday party on the twenty second at seven p m make me some coffee increase brightness by twenty percent where did rama go on his final journey what is an orange like who has written to me or mentioned me in social media remind me to get the oil changed what is paris time get me train times to location from station did i email tom on the subject of gun control will i need to wear a coat today in the afternoon tell me about blank which date is on next monday what is mom is email address tell me what subterranean means what music do i usually listen to why is it snowing so much in my city make a facebook post i am home please play me songs from the eighties for the week of the twentieth delete all tutoring events turn on notification for all news on the stock market julie is information when was richard nixon born what are the scores for the two ucl games going on right now can you show me the last breaking news form wsj put monday meeting on calendar every monday get rid of my eight am alarm i want to order a pizza from michael is pizza please start radio do i need to carry sunglasses outside check for new email what is the theme of the party please turn off the smart socket what happened between the second and the fifteenth what alarms have i set for tomorrow find gluten free bakery near me my upcoming events play me an upbeat song through your speakers current time in g m t how big is the cosmos set alarm for nine am play rock music i went to the store get me the latest stock price for costco set my alarm for seven am current world news find today is wapo articles about trump give the list of theaters in the vicinity what is going on today in biloxi what is the weather forecast for this week what i did at this time can you check to see if i have any recent email alerts contact customer service move to next section turn it up where can i find japan send an email to sjobs at apple dot com ten am can you give me a run-down on john legend i need all the local events for this area that are being held this weekend what do we have on new york time is front page please turn up the light a little how much is two train tickets can you please please reply for that mail post pic on my phone on facebook alexa create a new list of my pending bills please adjust the speakers to a lower more comfortable level will i need to carry around a brolly today add a new email for julie smith add ashley to the wedding invite list my friend emails me to check play my most listened songs tell me something to remind this week olly clear all events in calendar pause resume how is your day going what are the train times for today play david bowie playlist please turn on my wemo plug socket can you tell me today is date start playing again please cancel my next hair cut b b c world headlines clear event tell me who wrote this song order me some chinese food can you turn my bedroom lights off increase the light a little set reminder for two p m about my meeting show me the stock prices of target today what is a good movie that is out right now lets have a chat i want you to remove the wedding on the tenth from my calendar what goes with risotto can you please turn on n p r where i am i want to listen to the latest mike and mike podcast do you think time travel is possible define this object make a new shopping list send mom an email now what is an electronic emissions system what is the best italian restaurant around here where can i find the nearest irish pub in my area please add brunch with erin to my calendar at the diner please show new emails what time zone is arizona turn up the lights olly is there any current news on the presidential election review the alarms i have what is going on in la which was the first satellite to be launched by nasa is colombo on the coast of sri lanka add mike and jack to festival calendar please choose a game that you can play with me send a remind email how long should i cook a steak to achieve medium rare what is a virtual reality headset open solitaire play with me what is the average temperature in mangalore for this week show me delivery near me set repeating reminder for every sunday email me the lyrics to this song turn the robot vacuum cleaner on what does celebrity do show weather i would like to hear some good funny jokes set an alarm for one p m tweet a complaint to aldi consumer service compose reply\""
            ],
            "application/vnd.google.colaboratory.intrinsic+json": {
              "type": "string"
            }
          },
          "metadata": {},
          "execution_count": 366
        }
      ]
    },
    {
      "cell_type": "code",
      "source": [
        "from collections import Counter"
      ],
      "metadata": {
        "id": "hy3h9DyILBv2"
      },
      "execution_count": 178,
      "outputs": []
    },
    {
      "cell_type": "code",
      "source": [
        "S = Counter(text.split())"
      ],
      "metadata": {
        "id": "Z3u3PtJpXE4G"
      },
      "execution_count": 387,
      "outputs": []
    },
    {
      "cell_type": "code",
      "source": [
        "len(S)\n",
        "# 19"
      ],
      "metadata": {
        "colab": {
          "base_uri": "https://localhost:8080/"
        },
        "id": "PH3swBI_XhFF",
        "outputId": "6f0dcf8e-f45e-4474-a9d3-40daf0b18f00"
      },
      "execution_count": 394,
      "outputs": [
        {
          "output_type": "execute_result",
          "data": {
            "text/plain": [
              "6120"
            ]
          },
          "metadata": {},
          "execution_count": 394
        }
      ]
    },
    {
      "cell_type": "code",
      "source": [
        "S.pop('i')"
      ],
      "metadata": {
        "colab": {
          "base_uri": "https://localhost:8080/"
        },
        "id": "HPJw3sdmXZju",
        "outputId": "748561f8-ecc8-4e16-c809-b026ccb95c4b"
      },
      "execution_count": 393,
      "outputs": [
        {
          "output_type": "execute_result",
          "data": {
            "text/plain": [
              "2422"
            ]
          },
          "metadata": {},
          "execution_count": 393
        }
      ]
    },
    {
      "cell_type": "code",
      "source": [
        "dir(S)"
      ],
      "metadata": {
        "colab": {
          "base_uri": "https://localhost:8080/"
        },
        "id": "WYdUcNv7XSgu",
        "outputId": "6d98abd0-c3d2-41b2-d581-4458f780d43b"
      },
      "execution_count": 371,
      "outputs": [
        {
          "output_type": "execute_result",
          "data": {
            "text/plain": [
              "['__add__',\n",
              " '__and__',\n",
              " '__class__',\n",
              " '__contains__',\n",
              " '__delattr__',\n",
              " '__delitem__',\n",
              " '__dict__',\n",
              " '__dir__',\n",
              " '__doc__',\n",
              " '__eq__',\n",
              " '__format__',\n",
              " '__ge__',\n",
              " '__getattribute__',\n",
              " '__getitem__',\n",
              " '__gt__',\n",
              " '__hash__',\n",
              " '__iadd__',\n",
              " '__iand__',\n",
              " '__init__',\n",
              " '__init_subclass__',\n",
              " '__ior__',\n",
              " '__isub__',\n",
              " '__iter__',\n",
              " '__le__',\n",
              " '__len__',\n",
              " '__lt__',\n",
              " '__missing__',\n",
              " '__module__',\n",
              " '__ne__',\n",
              " '__neg__',\n",
              " '__new__',\n",
              " '__or__',\n",
              " '__pos__',\n",
              " '__reduce__',\n",
              " '__reduce_ex__',\n",
              " '__repr__',\n",
              " '__setattr__',\n",
              " '__setitem__',\n",
              " '__sizeof__',\n",
              " '__str__',\n",
              " '__sub__',\n",
              " '__subclasshook__',\n",
              " '__weakref__',\n",
              " '_keep_positive',\n",
              " 'clear',\n",
              " 'copy',\n",
              " 'elements',\n",
              " 'fromkeys',\n",
              " 'get',\n",
              " 'items',\n",
              " 'keys',\n",
              " 'most_common',\n",
              " 'pop',\n",
              " 'popitem',\n",
              " 'setdefault',\n",
              " 'subtract',\n",
              " 'update',\n",
              " 'values']"
            ]
          },
          "metadata": {},
          "execution_count": 371
        }
      ]
    },
    {
      "cell_type": "code",
      "source": [
        "# library = np.zeros((len(dataset),len(SL)))\n",
        "# library.shape\n",
        "dataset.shape"
      ],
      "metadata": {
        "colab": {
          "base_uri": "https://localhost:8080/"
        },
        "id": "ie5FRcP-NOun",
        "outputId": "ae08a2d5-b1dd-413a-b281-fcff5e602911"
      },
      "execution_count": 219,
      "outputs": [
        {
          "output_type": "execute_result",
          "data": {
            "text/plain": [
              "(16521, 3)"
            ]
          },
          "metadata": {},
          "execution_count": 219
        }
      ]
    },
    {
      "cell_type": "code",
      "source": [
        "\n",
        "def libr(text):\n",
        "    library = np.zeros(SL.shape)\n",
        "    l1 = Counter(text.split())\n",
        "    for i,j in l1.items():\n",
        "        library[np.where(SL == i)[0]] = j\n",
        "    return library"
      ],
      "metadata": {
        "id": "qfb5lEjAMYnt"
      },
      "execution_count": 241,
      "outputs": []
    },
    {
      "cell_type": "code",
      "source": [
        "p = dataset['scenario'].factorize()\n",
        "labels_n = p[1]\n",
        "labels = p[0]"
      ],
      "metadata": {
        "id": "brxHpPGiNfu9"
      },
      "execution_count": 242,
      "outputs": []
    },
    {
      "cell_type": "code",
      "source": [
        "libr(\"i want\")"
      ],
      "metadata": {
        "colab": {
          "base_uri": "https://localhost:8080/"
        },
        "id": "AAhv4FMpPRDR",
        "outputId": "f46ed659-401b-4084-aa45-4af45d7ee918"
      },
      "execution_count": 243,
      "outputs": [
        {
          "output_type": "execute_result",
          "data": {
            "text/plain": [
              "array([1., 0., 0., ..., 0., 0., 0.])"
            ]
          },
          "metadata": {},
          "execution_count": 243
        }
      ]
    },
    {
      "cell_type": "code",
      "source": [
        "dataset['utt']"
      ],
      "metadata": {
        "colab": {
          "base_uri": "https://localhost:8080/"
        },
        "id": "2ks7f3DXPvtN",
        "outputId": "bec6f866-5d42-4af8-dd9a-64a51cbfe67f"
      },
      "execution_count": 246,
      "outputs": [
        {
          "output_type": "execute_result",
          "data": {
            "text/plain": [
              "4222                                    i want some coffee\n",
              "11202                 where be the nearest pub in the city\n",
              "5143                                  please find me music\n",
              "7500                      set a recur event in my calendar\n",
              "14311          find me some celebrities that be capricorns\n",
              "                               ...                        \n",
              "184      turn on my playlist and play third song in the...\n",
              "6303               who will win this presidential election\n",
              "14867    tweet consumer service that the goods be of lo...\n",
              "14390                                        open internet\n",
              "7096     check the events on calendar and delete the ne...\n",
              "Name: utt, Length: 16521, dtype: object"
            ]
          },
          "metadata": {},
          "execution_count": 246
        }
      ]
    },
    {
      "cell_type": "code",
      "source": [
        "vec = dataset['utt'].apply(lambda x:libr(x))\n",
        "h = vec.to_numpy()\n",
        "h = np.stack(h)\n",
        "h.shape"
      ],
      "metadata": {
        "colab": {
          "base_uri": "https://localhost:8080/"
        },
        "id": "cQWV9eAXLYjI",
        "outputId": "69fa1ef8-d666-44f9-8a96-e4217f67e728"
      },
      "execution_count": 269,
      "outputs": [
        {
          "output_type": "execute_result",
          "data": {
            "text/plain": [
              "(16521, 1267)"
            ]
          },
          "metadata": {},
          "execution_count": 269
        }
      ]
    },
    {
      "cell_type": "code",
      "source": [
        "h /= h.sum(axis=0)"
      ],
      "metadata": {
        "id": "BESAC16pOLKR"
      },
      "execution_count": 277,
      "outputs": []
    },
    {
      "cell_type": "code",
      "source": [
        "h"
      ],
      "metadata": {
        "id": "16vImNxULeX-"
      },
      "execution_count": null,
      "outputs": []
    },
    {
      "cell_type": "code",
      "source": [
        "Counter('i want some coffee'.split())"
      ],
      "metadata": {
        "colab": {
          "base_uri": "https://localhost:8080/"
        },
        "id": "jec-9JOcLQ_m",
        "outputId": "fe8130aa-e1e9-4af1-96e2-adfeb9ed7268"
      },
      "execution_count": 179,
      "outputs": [
        {
          "output_type": "execute_result",
          "data": {
            "text/plain": [
              "Counter({'i': 1, 'want': 1, 'some': 1, 'coffee': 1})"
            ]
          },
          "metadata": {},
          "execution_count": 179
        }
      ]
    },
    {
      "cell_type": "code",
      "source": [
        "dataset"
      ],
      "metadata": {
        "colab": {
          "base_uri": "https://localhost:8080/",
          "height": 424
        },
        "id": "TjQKW6qpJne1",
        "outputId": "18febbc2-ef41-4c57-8103-6f8012104a64"
      },
      "execution_count": 159,
      "outputs": [
        {
          "output_type": "execute_result",
          "data": {
            "text/plain": [
              "                                                     utt        scenario  \\\n",
              "4222                                  i want some coffee             iot   \n",
              "11202               where be the nearest pub in the city  recommendation   \n",
              "5143                                please find me music            play   \n",
              "7500                    set a recur event in my calendar        calendar   \n",
              "14311        find me some celebrities that be capricorns              qa   \n",
              "...                                                  ...             ...   \n",
              "184    turn on my playlist and play third song in the...            play   \n",
              "6303             who will win this presidential election         general   \n",
              "14867  tweet consumer service that the goods be of lo...          social   \n",
              "14390                                      open internet              qa   \n",
              "7096   check the events on calendar and delete the ne...        calendar   \n",
              "\n",
              "          id  \n",
              "4222    4368  \n",
              "11202  11608  \n",
              "5143    5327  \n",
              "7500    7754  \n",
              "14311  14868  \n",
              "...      ...  \n",
              "184      185  \n",
              "6303    6528  \n",
              "14867  15449  \n",
              "14390  14951  \n",
              "7096    7342  \n",
              "\n",
              "[16521 rows x 3 columns]"
            ],
            "text/html": [
              "\n",
              "  <div id=\"df-0830be16-6d77-44e0-ae5c-ee194b08bf5e\">\n",
              "    <div class=\"colab-df-container\">\n",
              "      <div>\n",
              "<style scoped>\n",
              "    .dataframe tbody tr th:only-of-type {\n",
              "        vertical-align: middle;\n",
              "    }\n",
              "\n",
              "    .dataframe tbody tr th {\n",
              "        vertical-align: top;\n",
              "    }\n",
              "\n",
              "    .dataframe thead th {\n",
              "        text-align: right;\n",
              "    }\n",
              "</style>\n",
              "<table border=\"1\" class=\"dataframe\">\n",
              "  <thead>\n",
              "    <tr style=\"text-align: right;\">\n",
              "      <th></th>\n",
              "      <th>utt</th>\n",
              "      <th>scenario</th>\n",
              "      <th>id</th>\n",
              "    </tr>\n",
              "  </thead>\n",
              "  <tbody>\n",
              "    <tr>\n",
              "      <th>4222</th>\n",
              "      <td>i want some coffee</td>\n",
              "      <td>iot</td>\n",
              "      <td>4368</td>\n",
              "    </tr>\n",
              "    <tr>\n",
              "      <th>11202</th>\n",
              "      <td>where be the nearest pub in the city</td>\n",
              "      <td>recommendation</td>\n",
              "      <td>11608</td>\n",
              "    </tr>\n",
              "    <tr>\n",
              "      <th>5143</th>\n",
              "      <td>please find me music</td>\n",
              "      <td>play</td>\n",
              "      <td>5327</td>\n",
              "    </tr>\n",
              "    <tr>\n",
              "      <th>7500</th>\n",
              "      <td>set a recur event in my calendar</td>\n",
              "      <td>calendar</td>\n",
              "      <td>7754</td>\n",
              "    </tr>\n",
              "    <tr>\n",
              "      <th>14311</th>\n",
              "      <td>find me some celebrities that be capricorns</td>\n",
              "      <td>qa</td>\n",
              "      <td>14868</td>\n",
              "    </tr>\n",
              "    <tr>\n",
              "      <th>...</th>\n",
              "      <td>...</td>\n",
              "      <td>...</td>\n",
              "      <td>...</td>\n",
              "    </tr>\n",
              "    <tr>\n",
              "      <th>184</th>\n",
              "      <td>turn on my playlist and play third song in the...</td>\n",
              "      <td>play</td>\n",
              "      <td>185</td>\n",
              "    </tr>\n",
              "    <tr>\n",
              "      <th>6303</th>\n",
              "      <td>who will win this presidential election</td>\n",
              "      <td>general</td>\n",
              "      <td>6528</td>\n",
              "    </tr>\n",
              "    <tr>\n",
              "      <th>14867</th>\n",
              "      <td>tweet consumer service that the goods be of lo...</td>\n",
              "      <td>social</td>\n",
              "      <td>15449</td>\n",
              "    </tr>\n",
              "    <tr>\n",
              "      <th>14390</th>\n",
              "      <td>open internet</td>\n",
              "      <td>qa</td>\n",
              "      <td>14951</td>\n",
              "    </tr>\n",
              "    <tr>\n",
              "      <th>7096</th>\n",
              "      <td>check the events on calendar and delete the ne...</td>\n",
              "      <td>calendar</td>\n",
              "      <td>7342</td>\n",
              "    </tr>\n",
              "  </tbody>\n",
              "</table>\n",
              "<p>16521 rows × 3 columns</p>\n",
              "</div>\n",
              "      <button class=\"colab-df-convert\" onclick=\"convertToInteractive('df-0830be16-6d77-44e0-ae5c-ee194b08bf5e')\"\n",
              "              title=\"Convert this dataframe to an interactive table.\"\n",
              "              style=\"display:none;\">\n",
              "        \n",
              "  <svg xmlns=\"http://www.w3.org/2000/svg\" height=\"24px\"viewBox=\"0 0 24 24\"\n",
              "       width=\"24px\">\n",
              "    <path d=\"M0 0h24v24H0V0z\" fill=\"none\"/>\n",
              "    <path d=\"M18.56 5.44l.94 2.06.94-2.06 2.06-.94-2.06-.94-.94-2.06-.94 2.06-2.06.94zm-11 1L8.5 8.5l.94-2.06 2.06-.94-2.06-.94L8.5 2.5l-.94 2.06-2.06.94zm10 10l.94 2.06.94-2.06 2.06-.94-2.06-.94-.94-2.06-.94 2.06-2.06.94z\"/><path d=\"M17.41 7.96l-1.37-1.37c-.4-.4-.92-.59-1.43-.59-.52 0-1.04.2-1.43.59L10.3 9.45l-7.72 7.72c-.78.78-.78 2.05 0 2.83L4 21.41c.39.39.9.59 1.41.59.51 0 1.02-.2 1.41-.59l7.78-7.78 2.81-2.81c.8-.78.8-2.07 0-2.86zM5.41 20L4 18.59l7.72-7.72 1.47 1.35L5.41 20z\"/>\n",
              "  </svg>\n",
              "      </button>\n",
              "      \n",
              "  <style>\n",
              "    .colab-df-container {\n",
              "      display:flex;\n",
              "      flex-wrap:wrap;\n",
              "      gap: 12px;\n",
              "    }\n",
              "\n",
              "    .colab-df-convert {\n",
              "      background-color: #E8F0FE;\n",
              "      border: none;\n",
              "      border-radius: 50%;\n",
              "      cursor: pointer;\n",
              "      display: none;\n",
              "      fill: #1967D2;\n",
              "      height: 32px;\n",
              "      padding: 0 0 0 0;\n",
              "      width: 32px;\n",
              "    }\n",
              "\n",
              "    .colab-df-convert:hover {\n",
              "      background-color: #E2EBFA;\n",
              "      box-shadow: 0px 1px 2px rgba(60, 64, 67, 0.3), 0px 1px 3px 1px rgba(60, 64, 67, 0.15);\n",
              "      fill: #174EA6;\n",
              "    }\n",
              "\n",
              "    [theme=dark] .colab-df-convert {\n",
              "      background-color: #3B4455;\n",
              "      fill: #D2E3FC;\n",
              "    }\n",
              "\n",
              "    [theme=dark] .colab-df-convert:hover {\n",
              "      background-color: #434B5C;\n",
              "      box-shadow: 0px 1px 3px 1px rgba(0, 0, 0, 0.15);\n",
              "      filter: drop-shadow(0px 1px 2px rgba(0, 0, 0, 0.3));\n",
              "      fill: #FFFFFF;\n",
              "    }\n",
              "  </style>\n",
              "\n",
              "      <script>\n",
              "        const buttonEl =\n",
              "          document.querySelector('#df-0830be16-6d77-44e0-ae5c-ee194b08bf5e button.colab-df-convert');\n",
              "        buttonEl.style.display =\n",
              "          google.colab.kernel.accessAllowed ? 'block' : 'none';\n",
              "\n",
              "        async function convertToInteractive(key) {\n",
              "          const element = document.querySelector('#df-0830be16-6d77-44e0-ae5c-ee194b08bf5e');\n",
              "          const dataTable =\n",
              "            await google.colab.kernel.invokeFunction('convertToInteractive',\n",
              "                                                     [key], {});\n",
              "          if (!dataTable) return;\n",
              "\n",
              "          const docLinkHtml = 'Like what you see? Visit the ' +\n",
              "            '<a target=\"_blank\" href=https://colab.research.google.com/notebooks/data_table.ipynb>data table notebook</a>'\n",
              "            + ' to learn more about interactive tables.';\n",
              "          element.innerHTML = '';\n",
              "          dataTable['output_type'] = 'display_data';\n",
              "          await google.colab.output.renderOutput(dataTable, element);\n",
              "          const docLink = document.createElement('div');\n",
              "          docLink.innerHTML = docLinkHtml;\n",
              "          element.appendChild(docLink);\n",
              "        }\n",
              "      </script>\n",
              "    </div>\n",
              "  </div>\n",
              "  "
            ]
          },
          "metadata": {},
          "execution_count": 159
        }
      ]
    }
  ],
  "metadata": {
    "colab": {
      "collapsed_sections": [
        "tputhvVtlgJz",
        "tApiNqOH55-0",
        "aeAx1eb04K0X",
        "q0pXrU7M9DcM"
      ],
      "provenance": [],
      "include_colab_link": true
    },
    "kernelspec": {
      "display_name": "Python 3",
      "name": "python3"
    }
  },
  "nbformat": 4,
  "nbformat_minor": 0
}