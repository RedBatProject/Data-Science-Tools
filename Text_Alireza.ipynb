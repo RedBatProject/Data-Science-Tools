{
  "nbformat": 4,
  "nbformat_minor": 0,
  "metadata": {
    "colab": {
      "name": "Text Alireza.ipynb",
      "provenance": [],
      "collapsed_sections": [
        "ES6K62OED59z"
      ],
      "mount_file_id": "1NMDPj00hS1HO-IobNZLyQc61z-ENikcZ",
      "authorship_tag": "ABX9TyMbpLDTbs3EodHBPaGYuR5L",
      "include_colab_link": true
    },
    "kernelspec": {
      "name": "python3",
      "display_name": "Python 3"
    },
    "language_info": {
      "name": "python"
    }
  },
  "cells": [
    {
      "cell_type": "markdown",
      "metadata": {
        "id": "view-in-github",
        "colab_type": "text"
      },
      "source": [
        "<a href=\"https://colab.research.google.com/github/horsinnaround/Data-Science-Tools/blob/main/Text_Alireza.ipynb\" target=\"_parent\"><img src=\"https://colab.research.google.com/assets/colab-badge.svg\" alt=\"Open In Colab\"/></a>"
      ]
    },
    {
      "cell_type": "markdown",
      "source": [
        "# Imports"
      ],
      "metadata": {
        "id": "ES6K62OED59z"
      }
    },
    {
      "cell_type": "code",
      "execution_count": null,
      "metadata": {
        "id": "1Yg9K4CZDtsq"
      },
      "outputs": [],
      "source": [
        "from sklearn.model_selection import train_test_split\n",
        "from sklearn.feature_extraction.text import CountVectorizer\n",
        "from sklearn.feature_extraction.text import TfidfTransformer\n"
      ]
    },
    {
      "cell_type": "markdown",
      "source": [
        "# Code"
      ],
      "metadata": {
        "id": "nMRHHHX9D71G"
      }
    },
    {
      "cell_type": "code",
      "source": [
        "# Unzipping\n",
        "import zipfile\n",
        "zip_ref = zipfile.ZipFile('/content/drive/MyDrive/A DATA/data.zip', \"r\")\n",
        "zip_ref.extractall()\n",
        "zip_ref.close()"
      ],
      "metadata": {
        "id": "CiC61IKkEFZ4"
      },
      "execution_count": null,
      "outputs": []
    },
    {
      "cell_type": "code",
      "source": [
        "# create data frame\n",
        "import pandas as pd\n",
        "df_ = pd.read_csv('/content/data/train.csv')\n",
        "df_.describe()"
      ],
      "metadata": {
        "colab": {
          "base_uri": "https://localhost:8080/",
          "height": 300
        },
        "id": "xusSkxZoEICF",
        "outputId": "ae993106-8f0b-40f1-89e1-362b31b3352b"
      },
      "execution_count": null,
      "outputs": [
        {
          "output_type": "execute_result",
          "data": {
            "text/plain": [
              "                 id         price\n",
              "count  68840.000000  6.884000e+04\n",
              "mean   34419.500000  1.593163e+07\n",
              "std    19872.540603  6.627560e+07\n",
              "min        0.000000  0.000000e+00\n",
              "25%    17209.750000  6.000000e+05\n",
              "50%    34419.500000  1.750000e+06\n",
              "75%    51629.250000  5.700000e+06\n",
              "max    68839.000000  2.770000e+09"
            ],
            "text/html": [
              "\n",
              "  <div id=\"df-e0e8d9c0-fe55-48cb-bcde-7660d3c027e1\">\n",
              "    <div class=\"colab-df-container\">\n",
              "      <div>\n",
              "<style scoped>\n",
              "    .dataframe tbody tr th:only-of-type {\n",
              "        vertical-align: middle;\n",
              "    }\n",
              "\n",
              "    .dataframe tbody tr th {\n",
              "        vertical-align: top;\n",
              "    }\n",
              "\n",
              "    .dataframe thead th {\n",
              "        text-align: right;\n",
              "    }\n",
              "</style>\n",
              "<table border=\"1\" class=\"dataframe\">\n",
              "  <thead>\n",
              "    <tr style=\"text-align: right;\">\n",
              "      <th></th>\n",
              "      <th>id</th>\n",
              "      <th>price</th>\n",
              "    </tr>\n",
              "  </thead>\n",
              "  <tbody>\n",
              "    <tr>\n",
              "      <th>count</th>\n",
              "      <td>68840.000000</td>\n",
              "      <td>6.884000e+04</td>\n",
              "    </tr>\n",
              "    <tr>\n",
              "      <th>mean</th>\n",
              "      <td>34419.500000</td>\n",
              "      <td>1.593163e+07</td>\n",
              "    </tr>\n",
              "    <tr>\n",
              "      <th>std</th>\n",
              "      <td>19872.540603</td>\n",
              "      <td>6.627560e+07</td>\n",
              "    </tr>\n",
              "    <tr>\n",
              "      <th>min</th>\n",
              "      <td>0.000000</td>\n",
              "      <td>0.000000e+00</td>\n",
              "    </tr>\n",
              "    <tr>\n",
              "      <th>25%</th>\n",
              "      <td>17209.750000</td>\n",
              "      <td>6.000000e+05</td>\n",
              "    </tr>\n",
              "    <tr>\n",
              "      <th>50%</th>\n",
              "      <td>34419.500000</td>\n",
              "      <td>1.750000e+06</td>\n",
              "    </tr>\n",
              "    <tr>\n",
              "      <th>75%</th>\n",
              "      <td>51629.250000</td>\n",
              "      <td>5.700000e+06</td>\n",
              "    </tr>\n",
              "    <tr>\n",
              "      <th>max</th>\n",
              "      <td>68839.000000</td>\n",
              "      <td>2.770000e+09</td>\n",
              "    </tr>\n",
              "  </tbody>\n",
              "</table>\n",
              "</div>\n",
              "      <button class=\"colab-df-convert\" onclick=\"convertToInteractive('df-e0e8d9c0-fe55-48cb-bcde-7660d3c027e1')\"\n",
              "              title=\"Convert this dataframe to an interactive table.\"\n",
              "              style=\"display:none;\">\n",
              "        \n",
              "  <svg xmlns=\"http://www.w3.org/2000/svg\" height=\"24px\"viewBox=\"0 0 24 24\"\n",
              "       width=\"24px\">\n",
              "    <path d=\"M0 0h24v24H0V0z\" fill=\"none\"/>\n",
              "    <path d=\"M18.56 5.44l.94 2.06.94-2.06 2.06-.94-2.06-.94-.94-2.06-.94 2.06-2.06.94zm-11 1L8.5 8.5l.94-2.06 2.06-.94-2.06-.94L8.5 2.5l-.94 2.06-2.06.94zm10 10l.94 2.06.94-2.06 2.06-.94-2.06-.94-.94-2.06-.94 2.06-2.06.94z\"/><path d=\"M17.41 7.96l-1.37-1.37c-.4-.4-.92-.59-1.43-.59-.52 0-1.04.2-1.43.59L10.3 9.45l-7.72 7.72c-.78.78-.78 2.05 0 2.83L4 21.41c.39.39.9.59 1.41.59.51 0 1.02-.2 1.41-.59l7.78-7.78 2.81-2.81c.8-.78.8-2.07 0-2.86zM5.41 20L4 18.59l7.72-7.72 1.47 1.35L5.41 20z\"/>\n",
              "  </svg>\n",
              "      </button>\n",
              "      \n",
              "  <style>\n",
              "    .colab-df-container {\n",
              "      display:flex;\n",
              "      flex-wrap:wrap;\n",
              "      gap: 12px;\n",
              "    }\n",
              "\n",
              "    .colab-df-convert {\n",
              "      background-color: #E8F0FE;\n",
              "      border: none;\n",
              "      border-radius: 50%;\n",
              "      cursor: pointer;\n",
              "      display: none;\n",
              "      fill: #1967D2;\n",
              "      height: 32px;\n",
              "      padding: 0 0 0 0;\n",
              "      width: 32px;\n",
              "    }\n",
              "\n",
              "    .colab-df-convert:hover {\n",
              "      background-color: #E2EBFA;\n",
              "      box-shadow: 0px 1px 2px rgba(60, 64, 67, 0.3), 0px 1px 3px 1px rgba(60, 64, 67, 0.15);\n",
              "      fill: #174EA6;\n",
              "    }\n",
              "\n",
              "    [theme=dark] .colab-df-convert {\n",
              "      background-color: #3B4455;\n",
              "      fill: #D2E3FC;\n",
              "    }\n",
              "\n",
              "    [theme=dark] .colab-df-convert:hover {\n",
              "      background-color: #434B5C;\n",
              "      box-shadow: 0px 1px 3px 1px rgba(0, 0, 0, 0.15);\n",
              "      filter: drop-shadow(0px 1px 2px rgba(0, 0, 0, 0.3));\n",
              "      fill: #FFFFFF;\n",
              "    }\n",
              "  </style>\n",
              "\n",
              "      <script>\n",
              "        const buttonEl =\n",
              "          document.querySelector('#df-e0e8d9c0-fe55-48cb-bcde-7660d3c027e1 button.colab-df-convert');\n",
              "        buttonEl.style.display =\n",
              "          google.colab.kernel.accessAllowed ? 'block' : 'none';\n",
              "\n",
              "        async function convertToInteractive(key) {\n",
              "          const element = document.querySelector('#df-e0e8d9c0-fe55-48cb-bcde-7660d3c027e1');\n",
              "          const dataTable =\n",
              "            await google.colab.kernel.invokeFunction('convertToInteractive',\n",
              "                                                     [key], {});\n",
              "          if (!dataTable) return;\n",
              "\n",
              "          const docLinkHtml = 'Like what you see? Visit the ' +\n",
              "            '<a target=\"_blank\" href=https://colab.research.google.com/notebooks/data_table.ipynb>data table notebook</a>'\n",
              "            + ' to learn more about interactive tables.';\n",
              "          element.innerHTML = '';\n",
              "          dataTable['output_type'] = 'display_data';\n",
              "          await google.colab.output.renderOutput(dataTable, element);\n",
              "          const docLink = document.createElement('div');\n",
              "          docLink.innerHTML = docLinkHtml;\n",
              "          element.appendChild(docLink);\n",
              "        }\n",
              "      </script>\n",
              "    </div>\n",
              "  </div>\n",
              "  "
            ]
          },
          "metadata": {},
          "execution_count": 3
        }
      ]
    },
    {
      "cell_type": "code",
      "source": [
        "import string"
      ],
      "metadata": {
        "id": "Kc7g0MjEF3KK"
      },
      "execution_count": null,
      "outputs": []
    },
    {
      "cell_type": "code",
      "source": [
        "#defining the function to remove punctuation\n",
        "def remove_punctuation(text):\n",
        "    punctuationfree=\"\".join([i for i in text if i not in string.punctuation])\n",
        "    return punctuationfree\n"
      ],
      "metadata": {
        "id": "g50XudgEETlk"
      },
      "execution_count": null,
      "outputs": []
    },
    {
      "cell_type": "code",
      "source": [
        "def stf(text):\n",
        "    text = text.replace('\\\\r','')\n",
        "    text = text.replace('\\\\n','')\n",
        "    return text\n"
      ],
      "metadata": {
        "id": "r7cmUa1nGjmi"
      },
      "execution_count": null,
      "outputs": []
    },
    {
      "cell_type": "code",
      "source": [
        "#storing the puntuation free text\n",
        "df_['clean_msg_Zero']= df_['product_description'].apply(lambda x:stf(x))\n",
        "df_.head()"
      ],
      "metadata": {
        "id": "_vDJf_ARG3y6"
      },
      "execution_count": null,
      "outputs": []
    },
    {
      "cell_type": "code",
      "source": [
        "#storing the puntuation free text\n",
        "df_['clean_msg']= df_['clean_msg_Zero'].apply(lambda x:remove_punctuation(x))\n",
        "df_.head()"
      ],
      "metadata": {
        "colab": {
          "base_uri": "https://localhost:8080/",
          "height": 320
        },
        "id": "ucuCy906F6c0",
        "outputId": "a1d0a15c-37b0-4f39-a1c8-bfc627c1c865"
      },
      "execution_count": null,
      "outputs": [
        {
          "output_type": "execute_result",
          "data": {
            "text/plain": [
              "   id                                product_description    price  \\\n",
              "0   0  {'مشخصات فنی': 'متراژ: 150 سانتی متر\\r\\nپورت ی...  1080000   \n",
              "1   1  {'مشخصات فنی': 'CABLE LENTH:\\r\\n10feet \\\\/3M\\r...   990000   \n",
              "2   2  {'مشخصات فنی': 'نوع کابل: KVM USB\\r\\nطول کابل:...  1680000   \n",
              "3   3       {'دسته بندی': 'کابل کمبو', 'برند': 'متفرقه'}  4500000   \n",
              "4   4  {'مشخصات فنی': 'کیبورد: 6pin Mini-DIN Male - P...   700000   \n",
              "\n",
              "                                      clean_msg_Zero  \\\n",
              "0  {'مشخصات فنی': 'متراژ: 150 سانتی مترپورت یو اس...   \n",
              "1  {'مشخصات فنی': 'CABLE LENTH:10feet \\\\/3MPC SID...   \n",
              "2  {'مشخصات فنی': 'نوع کابل: KVM USBطول کابل: 1.5...   \n",
              "3       {'دسته بندی': 'کابل کمبو', 'برند': 'متفرقه'}   \n",
              "4  {'مشخصات فنی': 'کیبورد: 6pin Mini-DIN Male - P...   \n",
              "\n",
              "                                           clean_msg  \n",
              "0  مشخصات فنی متراژ 150 سانتی مترپورت یو اس بی دس...  \n",
              "1  مشخصات فنی CABLE LENTH10feet 3MPC SIDE CONNECT...  \n",
              "2  مشخصات فنی نوع کابل KVM USBطول کابل 15 متر دست...  \n",
              "3                    دسته بندی کابل کمبو برند متفرقه  \n",
              "4  مشخصات فنی کیبورد 6pin MiniDIN Male  Purple مو...  "
            ],
            "text/html": [
              "\n",
              "  <div id=\"df-40f0805e-fec2-48c4-9d50-f959880962f4\">\n",
              "    <div class=\"colab-df-container\">\n",
              "      <div>\n",
              "<style scoped>\n",
              "    .dataframe tbody tr th:only-of-type {\n",
              "        vertical-align: middle;\n",
              "    }\n",
              "\n",
              "    .dataframe tbody tr th {\n",
              "        vertical-align: top;\n",
              "    }\n",
              "\n",
              "    .dataframe thead th {\n",
              "        text-align: right;\n",
              "    }\n",
              "</style>\n",
              "<table border=\"1\" class=\"dataframe\">\n",
              "  <thead>\n",
              "    <tr style=\"text-align: right;\">\n",
              "      <th></th>\n",
              "      <th>id</th>\n",
              "      <th>product_description</th>\n",
              "      <th>price</th>\n",
              "      <th>clean_msg_Zero</th>\n",
              "      <th>clean_msg</th>\n",
              "    </tr>\n",
              "  </thead>\n",
              "  <tbody>\n",
              "    <tr>\n",
              "      <th>0</th>\n",
              "      <td>0</td>\n",
              "      <td>{'مشخصات فنی': 'متراژ: 150 سانتی متر\\r\\nپورت ی...</td>\n",
              "      <td>1080000</td>\n",
              "      <td>{'مشخصات فنی': 'متراژ: 150 سانتی مترپورت یو اس...</td>\n",
              "      <td>مشخصات فنی متراژ 150 سانتی مترپورت یو اس بی دس...</td>\n",
              "    </tr>\n",
              "    <tr>\n",
              "      <th>1</th>\n",
              "      <td>1</td>\n",
              "      <td>{'مشخصات فنی': 'CABLE LENTH:\\r\\n10feet \\\\/3M\\r...</td>\n",
              "      <td>990000</td>\n",
              "      <td>{'مشخصات فنی': 'CABLE LENTH:10feet \\\\/3MPC SID...</td>\n",
              "      <td>مشخصات فنی CABLE LENTH10feet 3MPC SIDE CONNECT...</td>\n",
              "    </tr>\n",
              "    <tr>\n",
              "      <th>2</th>\n",
              "      <td>2</td>\n",
              "      <td>{'مشخصات فنی': 'نوع کابل: KVM USB\\r\\nطول کابل:...</td>\n",
              "      <td>1680000</td>\n",
              "      <td>{'مشخصات فنی': 'نوع کابل: KVM USBطول کابل: 1.5...</td>\n",
              "      <td>مشخصات فنی نوع کابل KVM USBطول کابل 15 متر دست...</td>\n",
              "    </tr>\n",
              "    <tr>\n",
              "      <th>3</th>\n",
              "      <td>3</td>\n",
              "      <td>{'دسته بندی': 'کابل کمبو', 'برند': 'متفرقه'}</td>\n",
              "      <td>4500000</td>\n",
              "      <td>{'دسته بندی': 'کابل کمبو', 'برند': 'متفرقه'}</td>\n",
              "      <td>دسته بندی کابل کمبو برند متفرقه</td>\n",
              "    </tr>\n",
              "    <tr>\n",
              "      <th>4</th>\n",
              "      <td>4</td>\n",
              "      <td>{'مشخصات فنی': 'کیبورد: 6pin Mini-DIN Male - P...</td>\n",
              "      <td>700000</td>\n",
              "      <td>{'مشخصات فنی': 'کیبورد: 6pin Mini-DIN Male - P...</td>\n",
              "      <td>مشخصات فنی کیبورد 6pin MiniDIN Male  Purple مو...</td>\n",
              "    </tr>\n",
              "  </tbody>\n",
              "</table>\n",
              "</div>\n",
              "      <button class=\"colab-df-convert\" onclick=\"convertToInteractive('df-40f0805e-fec2-48c4-9d50-f959880962f4')\"\n",
              "              title=\"Convert this dataframe to an interactive table.\"\n",
              "              style=\"display:none;\">\n",
              "        \n",
              "  <svg xmlns=\"http://www.w3.org/2000/svg\" height=\"24px\"viewBox=\"0 0 24 24\"\n",
              "       width=\"24px\">\n",
              "    <path d=\"M0 0h24v24H0V0z\" fill=\"none\"/>\n",
              "    <path d=\"M18.56 5.44l.94 2.06.94-2.06 2.06-.94-2.06-.94-.94-2.06-.94 2.06-2.06.94zm-11 1L8.5 8.5l.94-2.06 2.06-.94-2.06-.94L8.5 2.5l-.94 2.06-2.06.94zm10 10l.94 2.06.94-2.06 2.06-.94-2.06-.94-.94-2.06-.94 2.06-2.06.94z\"/><path d=\"M17.41 7.96l-1.37-1.37c-.4-.4-.92-.59-1.43-.59-.52 0-1.04.2-1.43.59L10.3 9.45l-7.72 7.72c-.78.78-.78 2.05 0 2.83L4 21.41c.39.39.9.59 1.41.59.51 0 1.02-.2 1.41-.59l7.78-7.78 2.81-2.81c.8-.78.8-2.07 0-2.86zM5.41 20L4 18.59l7.72-7.72 1.47 1.35L5.41 20z\"/>\n",
              "  </svg>\n",
              "      </button>\n",
              "      \n",
              "  <style>\n",
              "    .colab-df-container {\n",
              "      display:flex;\n",
              "      flex-wrap:wrap;\n",
              "      gap: 12px;\n",
              "    }\n",
              "\n",
              "    .colab-df-convert {\n",
              "      background-color: #E8F0FE;\n",
              "      border: none;\n",
              "      border-radius: 50%;\n",
              "      cursor: pointer;\n",
              "      display: none;\n",
              "      fill: #1967D2;\n",
              "      height: 32px;\n",
              "      padding: 0 0 0 0;\n",
              "      width: 32px;\n",
              "    }\n",
              "\n",
              "    .colab-df-convert:hover {\n",
              "      background-color: #E2EBFA;\n",
              "      box-shadow: 0px 1px 2px rgba(60, 64, 67, 0.3), 0px 1px 3px 1px rgba(60, 64, 67, 0.15);\n",
              "      fill: #174EA6;\n",
              "    }\n",
              "\n",
              "    [theme=dark] .colab-df-convert {\n",
              "      background-color: #3B4455;\n",
              "      fill: #D2E3FC;\n",
              "    }\n",
              "\n",
              "    [theme=dark] .colab-df-convert:hover {\n",
              "      background-color: #434B5C;\n",
              "      box-shadow: 0px 1px 3px 1px rgba(0, 0, 0, 0.15);\n",
              "      filter: drop-shadow(0px 1px 2px rgba(0, 0, 0, 0.3));\n",
              "      fill: #FFFFFF;\n",
              "    }\n",
              "  </style>\n",
              "\n",
              "      <script>\n",
              "        const buttonEl =\n",
              "          document.querySelector('#df-40f0805e-fec2-48c4-9d50-f959880962f4 button.colab-df-convert');\n",
              "        buttonEl.style.display =\n",
              "          google.colab.kernel.accessAllowed ? 'block' : 'none';\n",
              "\n",
              "        async function convertToInteractive(key) {\n",
              "          const element = document.querySelector('#df-40f0805e-fec2-48c4-9d50-f959880962f4');\n",
              "          const dataTable =\n",
              "            await google.colab.kernel.invokeFunction('convertToInteractive',\n",
              "                                                     [key], {});\n",
              "          if (!dataTable) return;\n",
              "\n",
              "          const docLinkHtml = 'Like what you see? Visit the ' +\n",
              "            '<a target=\"_blank\" href=https://colab.research.google.com/notebooks/data_table.ipynb>data table notebook</a>'\n",
              "            + ' to learn more about interactive tables.';\n",
              "          element.innerHTML = '';\n",
              "          dataTable['output_type'] = 'display_data';\n",
              "          await google.colab.output.renderOutput(dataTable, element);\n",
              "          const docLink = document.createElement('div');\n",
              "          docLink.innerHTML = docLinkHtml;\n",
              "          element.appendChild(docLink);\n",
              "        }\n",
              "      </script>\n",
              "    </div>\n",
              "  </div>\n",
              "  "
            ]
          },
          "metadata": {},
          "execution_count": 10
        }
      ]
    },
    {
      "cell_type": "code",
      "source": [
        "del df_['clean_msg_Zero'] "
      ],
      "metadata": {
        "id": "d0j9lpqBfY3Y"
      },
      "execution_count": null,
      "outputs": []
    },
    {
      "cell_type": "code",
      "source": [
        "del df_['product_description']"
      ],
      "metadata": {
        "id": "bJEBz8vxfehB"
      },
      "execution_count": null,
      "outputs": []
    },
    {
      "cell_type": "markdown",
      "source": [
        "# Coding part\n",
        "\n",
        "from here to ende of the notebook:\n",
        "we dont have enough ram for preprocessing all the data\n",
        "so we split it in part with 10000 sample and vectorize it and train the model "
      ],
      "metadata": {
        "id": "XB_GF7R0z2dS"
      }
    },
    {
      "cell_type": "code",
      "source": [
        "df_"
      ],
      "metadata": {
        "id": "XJTDCaBn2ik9"
      },
      "execution_count": null,
      "outputs": []
    },
    {
      "cell_type": "code",
      "source": [
        "df4 = df_[0:10000]"
      ],
      "metadata": {
        "id": "ST5ewJ01LbyZ"
      },
      "execution_count": null,
      "outputs": []
    },
    {
      "cell_type": "code",
      "source": [
        "# text to vector\n",
        "# next line must be run just one time\n",
        "tfidf = TfidfVectorizer(sublinear_tf=True, min_df=5, norm='l2', encoding='utf-8', ngram_range=(1, 2), stop_words='english')\n",
        "\n",
        "# these lines will run again and again\n",
        "features = tfidf.fit_transform(df4.clean_msg).toarray()\n",
        "features.shape\n",
        "label  = df4['price']"
      ],
      "metadata": {
        "id": "vtENo2FyKPsc"
      },
      "execution_count": null,
      "outputs": []
    },
    {
      "cell_type": "code",
      "source": [
        "from sklearn.decomposition import PCA\n",
        "# next line must be run just one time\n",
        "pca = PCA(n_components=100, copy=True, whiten=False, svd_solver='auto', tol=0.0, iterated_power='auto',random_state=None)\n",
        "\n",
        "# these lines will run again and again\n",
        "features = pca.fit_transform(features)\n",
        "features.shape"
      ],
      "metadata": {
        "colab": {
          "base_uri": "https://localhost:8080/"
        },
        "id": "Iimi0RoszwMH",
        "outputId": "0014f729-1a35-4726-c7a8-c35b175c49b3"
      },
      "execution_count": null,
      "outputs": [
        {
          "output_type": "execute_result",
          "data": {
            "text/plain": [
              "(8840, 100)"
            ]
          },
          "metadata": {},
          "execution_count": 65
        }
      ]
    },
    {
      "cell_type": "code",
      "source": [
        "from sklearn.ensemble import RandomForestRegressor \n",
        "from sklearn.metrics import r2_score"
      ],
      "metadata": {
        "id": "Fc9j5JJHfuG2"
      },
      "execution_count": null,
      "outputs": []
    },
    {
      "cell_type": "code",
      "source": [
        "X_train, X_test, y_train, y_test = train_test_split(features, label, random_state = 0)\n",
        "\n",
        "clf= RandomForestRegressor()  # run for the first time then comment this line\n",
        "clf.fit(X_train, y_train)\n",
        "y_pred = clf.predict(X_test)\n",
        "r2_score(y_test,y_pred)"
      ],
      "metadata": {
        "colab": {
          "base_uri": "https://localhost:8080/"
        },
        "id": "4C3Bi26AggkM",
        "outputId": "492a1a10-76dd-4007-888a-cc6c92b9ab47"
      },
      "execution_count": null,
      "outputs": [
        {
          "output_type": "execute_result",
          "data": {
            "text/plain": [
              "0.2590370376713689"
            ]
          },
          "metadata": {},
          "execution_count": 70
        }
      ]
    },
    {
      "cell_type": "markdown",
      "source": [
        "# Predict "
      ],
      "metadata": {
        "id": "gkeSL2npD-cO"
      }
    },
    {
      "cell_type": "code",
      "source": [
        "# create data frame\n",
        "import pandas as pd\n",
        "df_tt = pd.read_csv('test.csv')\n",
        "df_tt"
      ],
      "metadata": {
        "id": "8XWU5QhFyb6T"
      },
      "execution_count": null,
      "outputs": []
    },
    {
      "cell_type": "code",
      "source": [
        "#defining the function to remove punctuation\n",
        "def remove_punctuation(text):\n",
        "    punctuationfree=\"\".join([i for i in text if i not in string.punctuation])\n",
        "    return punctuationfree\n"
      ],
      "metadata": {
        "id": "a13FpyXO59sI"
      },
      "execution_count": null,
      "outputs": []
    },
    {
      "cell_type": "code",
      "source": [
        "def stf(text):\n",
        "    text = text.replace('\\\\r','')\n",
        "    text = text.replace('\\\\n','')\n",
        "    return text\n"
      ],
      "metadata": {
        "id": "C_zqNaMQ59sR"
      },
      "execution_count": null,
      "outputs": []
    },
    {
      "cell_type": "code",
      "source": [
        "#storing the puntuation free text\n",
        "df_t['clean_msg_Zero']= df_t['product_description'].apply(lambda x:stf(x))\n",
        "df_t.head()"
      ],
      "metadata": {
        "colab": {
          "base_uri": "https://localhost:8080/",
          "height": 206
        },
        "outputId": "44eb1eaf-be56-417e-8cec-1c44c3164970",
        "id": "QYo0CP9n59sV"
      },
      "execution_count": null,
      "outputs": [
        {
          "output_type": "execute_result",
          "data": {
            "text/plain": [
              "   id                                product_description  \\\n",
              "0   0  {'سازگار با': 'C21N1401\\r\\nX455', 'ولتاژ باتری...   \n",
              "1   1  {'سازگار با': 'A31N1519\\r\\nX540', 'ولتاژ باتری...   \n",
              "2   2  {'تعداد فن': 'ندارد', 'نوع سیستم خنک کنندگی': ...   \n",
              "3   3  {'سازگار با': 'A41N1424\\r\\nGL552\\r\\nZX50\\r\\nAS...   \n",
              "4   4  {'سازگار با': 'AP31\\r\\nASUS 1008', 'ولتاژ باتر...   \n",
              "\n",
              "                                      clean_msg_Zero  \n",
              "0  {'سازگار با': 'C21N1401X455', 'ولتاژ باتری': '...  \n",
              "1  {'سازگار با': 'A31N1519X540', 'ولتاژ باتری': '...  \n",
              "2  {'تعداد فن': 'ندارد', 'نوع سیستم خنک کنندگی': ...  \n",
              "3  {'سازگار با': 'A41N1424GL552ZX50ASUS ROG FXASU...  \n",
              "4  {'سازگار با': 'AP31ASUS 1008', 'ولتاژ باتری': ...  "
            ],
            "text/html": [
              "\n",
              "  <div id=\"df-8f4cf141-4f93-4684-bd58-40aed3d6b051\">\n",
              "    <div class=\"colab-df-container\">\n",
              "      <div>\n",
              "<style scoped>\n",
              "    .dataframe tbody tr th:only-of-type {\n",
              "        vertical-align: middle;\n",
              "    }\n",
              "\n",
              "    .dataframe tbody tr th {\n",
              "        vertical-align: top;\n",
              "    }\n",
              "\n",
              "    .dataframe thead th {\n",
              "        text-align: right;\n",
              "    }\n",
              "</style>\n",
              "<table border=\"1\" class=\"dataframe\">\n",
              "  <thead>\n",
              "    <tr style=\"text-align: right;\">\n",
              "      <th></th>\n",
              "      <th>id</th>\n",
              "      <th>product_description</th>\n",
              "      <th>clean_msg_Zero</th>\n",
              "    </tr>\n",
              "  </thead>\n",
              "  <tbody>\n",
              "    <tr>\n",
              "      <th>0</th>\n",
              "      <td>0</td>\n",
              "      <td>{'سازگار با': 'C21N1401\\r\\nX455', 'ولتاژ باتری...</td>\n",
              "      <td>{'سازگار با': 'C21N1401X455', 'ولتاژ باتری': '...</td>\n",
              "    </tr>\n",
              "    <tr>\n",
              "      <th>1</th>\n",
              "      <td>1</td>\n",
              "      <td>{'سازگار با': 'A31N1519\\r\\nX540', 'ولتاژ باتری...</td>\n",
              "      <td>{'سازگار با': 'A31N1519X540', 'ولتاژ باتری': '...</td>\n",
              "    </tr>\n",
              "    <tr>\n",
              "      <th>2</th>\n",
              "      <td>2</td>\n",
              "      <td>{'تعداد فن': 'ندارد', 'نوع سیستم خنک کنندگی': ...</td>\n",
              "      <td>{'تعداد فن': 'ندارد', 'نوع سیستم خنک کنندگی': ...</td>\n",
              "    </tr>\n",
              "    <tr>\n",
              "      <th>3</th>\n",
              "      <td>3</td>\n",
              "      <td>{'سازگار با': 'A41N1424\\r\\nGL552\\r\\nZX50\\r\\nAS...</td>\n",
              "      <td>{'سازگار با': 'A41N1424GL552ZX50ASUS ROG FXASU...</td>\n",
              "    </tr>\n",
              "    <tr>\n",
              "      <th>4</th>\n",
              "      <td>4</td>\n",
              "      <td>{'سازگار با': 'AP31\\r\\nASUS 1008', 'ولتاژ باتر...</td>\n",
              "      <td>{'سازگار با': 'AP31ASUS 1008', 'ولتاژ باتری': ...</td>\n",
              "    </tr>\n",
              "  </tbody>\n",
              "</table>\n",
              "</div>\n",
              "      <button class=\"colab-df-convert\" onclick=\"convertToInteractive('df-8f4cf141-4f93-4684-bd58-40aed3d6b051')\"\n",
              "              title=\"Convert this dataframe to an interactive table.\"\n",
              "              style=\"display:none;\">\n",
              "        \n",
              "  <svg xmlns=\"http://www.w3.org/2000/svg\" height=\"24px\"viewBox=\"0 0 24 24\"\n",
              "       width=\"24px\">\n",
              "    <path d=\"M0 0h24v24H0V0z\" fill=\"none\"/>\n",
              "    <path d=\"M18.56 5.44l.94 2.06.94-2.06 2.06-.94-2.06-.94-.94-2.06-.94 2.06-2.06.94zm-11 1L8.5 8.5l.94-2.06 2.06-.94-2.06-.94L8.5 2.5l-.94 2.06-2.06.94zm10 10l.94 2.06.94-2.06 2.06-.94-2.06-.94-.94-2.06-.94 2.06-2.06.94z\"/><path d=\"M17.41 7.96l-1.37-1.37c-.4-.4-.92-.59-1.43-.59-.52 0-1.04.2-1.43.59L10.3 9.45l-7.72 7.72c-.78.78-.78 2.05 0 2.83L4 21.41c.39.39.9.59 1.41.59.51 0 1.02-.2 1.41-.59l7.78-7.78 2.81-2.81c.8-.78.8-2.07 0-2.86zM5.41 20L4 18.59l7.72-7.72 1.47 1.35L5.41 20z\"/>\n",
              "  </svg>\n",
              "      </button>\n",
              "      \n",
              "  <style>\n",
              "    .colab-df-container {\n",
              "      display:flex;\n",
              "      flex-wrap:wrap;\n",
              "      gap: 12px;\n",
              "    }\n",
              "\n",
              "    .colab-df-convert {\n",
              "      background-color: #E8F0FE;\n",
              "      border: none;\n",
              "      border-radius: 50%;\n",
              "      cursor: pointer;\n",
              "      display: none;\n",
              "      fill: #1967D2;\n",
              "      height: 32px;\n",
              "      padding: 0 0 0 0;\n",
              "      width: 32px;\n",
              "    }\n",
              "\n",
              "    .colab-df-convert:hover {\n",
              "      background-color: #E2EBFA;\n",
              "      box-shadow: 0px 1px 2px rgba(60, 64, 67, 0.3), 0px 1px 3px 1px rgba(60, 64, 67, 0.15);\n",
              "      fill: #174EA6;\n",
              "    }\n",
              "\n",
              "    [theme=dark] .colab-df-convert {\n",
              "      background-color: #3B4455;\n",
              "      fill: #D2E3FC;\n",
              "    }\n",
              "\n",
              "    [theme=dark] .colab-df-convert:hover {\n",
              "      background-color: #434B5C;\n",
              "      box-shadow: 0px 1px 3px 1px rgba(0, 0, 0, 0.15);\n",
              "      filter: drop-shadow(0px 1px 2px rgba(0, 0, 0, 0.3));\n",
              "      fill: #FFFFFF;\n",
              "    }\n",
              "  </style>\n",
              "\n",
              "      <script>\n",
              "        const buttonEl =\n",
              "          document.querySelector('#df-8f4cf141-4f93-4684-bd58-40aed3d6b051 button.colab-df-convert');\n",
              "        buttonEl.style.display =\n",
              "          google.colab.kernel.accessAllowed ? 'block' : 'none';\n",
              "\n",
              "        async function convertToInteractive(key) {\n",
              "          const element = document.querySelector('#df-8f4cf141-4f93-4684-bd58-40aed3d6b051');\n",
              "          const dataTable =\n",
              "            await google.colab.kernel.invokeFunction('convertToInteractive',\n",
              "                                                     [key], {});\n",
              "          if (!dataTable) return;\n",
              "\n",
              "          const docLinkHtml = 'Like what you see? Visit the ' +\n",
              "            '<a target=\"_blank\" href=https://colab.research.google.com/notebooks/data_table.ipynb>data table notebook</a>'\n",
              "            + ' to learn more about interactive tables.';\n",
              "          element.innerHTML = '';\n",
              "          dataTable['output_type'] = 'display_data';\n",
              "          await google.colab.output.renderOutput(dataTable, element);\n",
              "          const docLink = document.createElement('div');\n",
              "          docLink.innerHTML = docLinkHtml;\n",
              "          element.appendChild(docLink);\n",
              "        }\n",
              "      </script>\n",
              "    </div>\n",
              "  </div>\n",
              "  "
            ]
          },
          "metadata": {},
          "execution_count": 73
        }
      ]
    },
    {
      "cell_type": "code",
      "source": [
        "#storing the puntuation free text\n",
        "df_t['clean_msg']= df_t['clean_msg_Zero'].apply(lambda x:remove_punctuation(x))\n",
        "df_t.head()"
      ],
      "metadata": {
        "colab": {
          "base_uri": "https://localhost:8080/",
          "height": 268
        },
        "outputId": "d89bbf2a-52d7-41f6-e08a-eccbce07c6a9",
        "id": "3aPKC5wL59sb"
      },
      "execution_count": null,
      "outputs": [
        {
          "output_type": "execute_result",
          "data": {
            "text/plain": [
              "   id                                product_description  \\\n",
              "0   0  {'سازگار با': 'C21N1401\\r\\nX455', 'ولتاژ باتری...   \n",
              "1   1  {'سازگار با': 'A31N1519\\r\\nX540', 'ولتاژ باتری...   \n",
              "2   2  {'تعداد فن': 'ندارد', 'نوع سیستم خنک کنندگی': ...   \n",
              "3   3  {'سازگار با': 'A41N1424\\r\\nGL552\\r\\nZX50\\r\\nAS...   \n",
              "4   4  {'سازگار با': 'AP31\\r\\nASUS 1008', 'ولتاژ باتر...   \n",
              "\n",
              "                                      clean_msg_Zero  \\\n",
              "0  {'سازگار با': 'C21N1401X455', 'ولتاژ باتری': '...   \n",
              "1  {'سازگار با': 'A31N1519X540', 'ولتاژ باتری': '...   \n",
              "2  {'تعداد فن': 'ندارد', 'نوع سیستم خنک کنندگی': ...   \n",
              "3  {'سازگار با': 'A41N1424GL552ZX50ASUS ROG FXASU...   \n",
              "4  {'سازگار با': 'AP31ASUS 1008', 'ولتاژ باتری': ...   \n",
              "\n",
              "                                           clean_msg  \n",
              "0  سازگار با C21N1401X455 ولتاژ باتری 76 ظرفیت با...  \n",
              "1  سازگار با A31N1519X540 ولتاژ باتری 111 ظرفیت ب...  \n",
              "2  تعداد فن ندارد نوع سیستم خنک کنندگی ندارد سایر...  \n",
              "3  سازگار با A41N1424GL552ZX50ASUS ROG FXASUS ROG...  \n",
              "4  سازگار با AP31ASUS 1008 ولتاژ باتری 1095 ظرفیت...  "
            ],
            "text/html": [
              "\n",
              "  <div id=\"df-76cae3ed-0d29-4c50-953f-7744ac0c4740\">\n",
              "    <div class=\"colab-df-container\">\n",
              "      <div>\n",
              "<style scoped>\n",
              "    .dataframe tbody tr th:only-of-type {\n",
              "        vertical-align: middle;\n",
              "    }\n",
              "\n",
              "    .dataframe tbody tr th {\n",
              "        vertical-align: top;\n",
              "    }\n",
              "\n",
              "    .dataframe thead th {\n",
              "        text-align: right;\n",
              "    }\n",
              "</style>\n",
              "<table border=\"1\" class=\"dataframe\">\n",
              "  <thead>\n",
              "    <tr style=\"text-align: right;\">\n",
              "      <th></th>\n",
              "      <th>id</th>\n",
              "      <th>product_description</th>\n",
              "      <th>clean_msg_Zero</th>\n",
              "      <th>clean_msg</th>\n",
              "    </tr>\n",
              "  </thead>\n",
              "  <tbody>\n",
              "    <tr>\n",
              "      <th>0</th>\n",
              "      <td>0</td>\n",
              "      <td>{'سازگار با': 'C21N1401\\r\\nX455', 'ولتاژ باتری...</td>\n",
              "      <td>{'سازگار با': 'C21N1401X455', 'ولتاژ باتری': '...</td>\n",
              "      <td>سازگار با C21N1401X455 ولتاژ باتری 76 ظرفیت با...</td>\n",
              "    </tr>\n",
              "    <tr>\n",
              "      <th>1</th>\n",
              "      <td>1</td>\n",
              "      <td>{'سازگار با': 'A31N1519\\r\\nX540', 'ولتاژ باتری...</td>\n",
              "      <td>{'سازگار با': 'A31N1519X540', 'ولتاژ باتری': '...</td>\n",
              "      <td>سازگار با A31N1519X540 ولتاژ باتری 111 ظرفیت ب...</td>\n",
              "    </tr>\n",
              "    <tr>\n",
              "      <th>2</th>\n",
              "      <td>2</td>\n",
              "      <td>{'تعداد فن': 'ندارد', 'نوع سیستم خنک کنندگی': ...</td>\n",
              "      <td>{'تعداد فن': 'ندارد', 'نوع سیستم خنک کنندگی': ...</td>\n",
              "      <td>تعداد فن ندارد نوع سیستم خنک کنندگی ندارد سایر...</td>\n",
              "    </tr>\n",
              "    <tr>\n",
              "      <th>3</th>\n",
              "      <td>3</td>\n",
              "      <td>{'سازگار با': 'A41N1424\\r\\nGL552\\r\\nZX50\\r\\nAS...</td>\n",
              "      <td>{'سازگار با': 'A41N1424GL552ZX50ASUS ROG FXASU...</td>\n",
              "      <td>سازگار با A41N1424GL552ZX50ASUS ROG FXASUS ROG...</td>\n",
              "    </tr>\n",
              "    <tr>\n",
              "      <th>4</th>\n",
              "      <td>4</td>\n",
              "      <td>{'سازگار با': 'AP31\\r\\nASUS 1008', 'ولتاژ باتر...</td>\n",
              "      <td>{'سازگار با': 'AP31ASUS 1008', 'ولتاژ باتری': ...</td>\n",
              "      <td>سازگار با AP31ASUS 1008 ولتاژ باتری 1095 ظرفیت...</td>\n",
              "    </tr>\n",
              "  </tbody>\n",
              "</table>\n",
              "</div>\n",
              "      <button class=\"colab-df-convert\" onclick=\"convertToInteractive('df-76cae3ed-0d29-4c50-953f-7744ac0c4740')\"\n",
              "              title=\"Convert this dataframe to an interactive table.\"\n",
              "              style=\"display:none;\">\n",
              "        \n",
              "  <svg xmlns=\"http://www.w3.org/2000/svg\" height=\"24px\"viewBox=\"0 0 24 24\"\n",
              "       width=\"24px\">\n",
              "    <path d=\"M0 0h24v24H0V0z\" fill=\"none\"/>\n",
              "    <path d=\"M18.56 5.44l.94 2.06.94-2.06 2.06-.94-2.06-.94-.94-2.06-.94 2.06-2.06.94zm-11 1L8.5 8.5l.94-2.06 2.06-.94-2.06-.94L8.5 2.5l-.94 2.06-2.06.94zm10 10l.94 2.06.94-2.06 2.06-.94-2.06-.94-.94-2.06-.94 2.06-2.06.94z\"/><path d=\"M17.41 7.96l-1.37-1.37c-.4-.4-.92-.59-1.43-.59-.52 0-1.04.2-1.43.59L10.3 9.45l-7.72 7.72c-.78.78-.78 2.05 0 2.83L4 21.41c.39.39.9.59 1.41.59.51 0 1.02-.2 1.41-.59l7.78-7.78 2.81-2.81c.8-.78.8-2.07 0-2.86zM5.41 20L4 18.59l7.72-7.72 1.47 1.35L5.41 20z\"/>\n",
              "  </svg>\n",
              "      </button>\n",
              "      \n",
              "  <style>\n",
              "    .colab-df-container {\n",
              "      display:flex;\n",
              "      flex-wrap:wrap;\n",
              "      gap: 12px;\n",
              "    }\n",
              "\n",
              "    .colab-df-convert {\n",
              "      background-color: #E8F0FE;\n",
              "      border: none;\n",
              "      border-radius: 50%;\n",
              "      cursor: pointer;\n",
              "      display: none;\n",
              "      fill: #1967D2;\n",
              "      height: 32px;\n",
              "      padding: 0 0 0 0;\n",
              "      width: 32px;\n",
              "    }\n",
              "\n",
              "    .colab-df-convert:hover {\n",
              "      background-color: #E2EBFA;\n",
              "      box-shadow: 0px 1px 2px rgba(60, 64, 67, 0.3), 0px 1px 3px 1px rgba(60, 64, 67, 0.15);\n",
              "      fill: #174EA6;\n",
              "    }\n",
              "\n",
              "    [theme=dark] .colab-df-convert {\n",
              "      background-color: #3B4455;\n",
              "      fill: #D2E3FC;\n",
              "    }\n",
              "\n",
              "    [theme=dark] .colab-df-convert:hover {\n",
              "      background-color: #434B5C;\n",
              "      box-shadow: 0px 1px 3px 1px rgba(0, 0, 0, 0.15);\n",
              "      filter: drop-shadow(0px 1px 2px rgba(0, 0, 0, 0.3));\n",
              "      fill: #FFFFFF;\n",
              "    }\n",
              "  </style>\n",
              "\n",
              "      <script>\n",
              "        const buttonEl =\n",
              "          document.querySelector('#df-76cae3ed-0d29-4c50-953f-7744ac0c4740 button.colab-df-convert');\n",
              "        buttonEl.style.display =\n",
              "          google.colab.kernel.accessAllowed ? 'block' : 'none';\n",
              "\n",
              "        async function convertToInteractive(key) {\n",
              "          const element = document.querySelector('#df-76cae3ed-0d29-4c50-953f-7744ac0c4740');\n",
              "          const dataTable =\n",
              "            await google.colab.kernel.invokeFunction('convertToInteractive',\n",
              "                                                     [key], {});\n",
              "          if (!dataTable) return;\n",
              "\n",
              "          const docLinkHtml = 'Like what you see? Visit the ' +\n",
              "            '<a target=\"_blank\" href=https://colab.research.google.com/notebooks/data_table.ipynb>data table notebook</a>'\n",
              "            + ' to learn more about interactive tables.';\n",
              "          element.innerHTML = '';\n",
              "          dataTable['output_type'] = 'display_data';\n",
              "          await google.colab.output.renderOutput(dataTable, element);\n",
              "          const docLink = document.createElement('div');\n",
              "          docLink.innerHTML = docLinkHtml;\n",
              "          element.appendChild(docLink);\n",
              "        }\n",
              "      </script>\n",
              "    </div>\n",
              "  </div>\n",
              "  "
            ]
          },
          "metadata": {},
          "execution_count": 74
        }
      ]
    },
    {
      "cell_type": "code",
      "source": [
        "del df_t['clean_msg_Zero'] "
      ],
      "metadata": {
        "id": "HWBXlYXr59sg"
      },
      "execution_count": null,
      "outputs": []
    },
    {
      "cell_type": "code",
      "source": [
        "del df_t['product_description']"
      ],
      "metadata": {
        "id": "oiFxNjOf59sj"
      },
      "execution_count": null,
      "outputs": []
    },
    {
      "cell_type": "code",
      "source": [
        "df_t"
      ],
      "metadata": {
        "id": "v3EKQqWCBji5"
      },
      "execution_count": null,
      "outputs": []
    },
    {
      "cell_type": "code",
      "source": [
        "df3 = df_t[30000:]"
      ],
      "metadata": {
        "id": "tm88LueFBsLh"
      },
      "execution_count": null,
      "outputs": []
    },
    {
      "cell_type": "code",
      "source": [
        "# text to vector\n",
        "# from sklearn.feature_extraction.text import TfidfVectorizer\n",
        "# tfidf = TfidfVectorizer(sublinear_tf=True, min_df=5, norm='l2', encoding='utf-8', ngram_range=(1, 2), stop_words='english')\n",
        "features = tfidf.fit_transform(df3.clean_msg).toarray()\n",
        "# labels = df_.category_id\n",
        "features.shape\n",
        "# label  = df3['price']"
      ],
      "metadata": {
        "colab": {
          "base_uri": "https://localhost:8080/"
        },
        "id": "VlIDBLzLBsLi",
        "outputId": "4894d76f-cdc9-4e21-9a8a-35a7debabe68"
      },
      "execution_count": null,
      "outputs": [
        {
          "output_type": "execute_result",
          "data": {
            "text/plain": [
              "(4262, 4778)"
            ]
          },
          "metadata": {},
          "execution_count": 99
        }
      ]
    },
    {
      "cell_type": "code",
      "source": [
        "# from sklearn.decomposition import PCA\n",
        "# pca = PCA(n_components=100, copy=True, whiten=False, svd_solver='auto', tol=0.0, iterated_power='auto',random_state=None)\n",
        "features = pca.fit_transform(features)\n",
        "features.shape"
      ],
      "metadata": {
        "colab": {
          "base_uri": "https://localhost:8080/"
        },
        "outputId": "1ed8215d-c5a0-4479-d5b8-1aba584c3af6",
        "id": "wfsnKadxBsLk"
      },
      "execution_count": null,
      "outputs": [
        {
          "output_type": "execute_result",
          "data": {
            "text/plain": [
              "(4262, 100)"
            ]
          },
          "metadata": {},
          "execution_count": 100
        }
      ]
    },
    {
      "cell_type": "code",
      "source": [
        "# label  = df4['price']\n"
      ],
      "metadata": {
        "id": "mMTT3mH6BsLo"
      },
      "execution_count": null,
      "outputs": []
    },
    {
      "cell_type": "code",
      "source": [
        "features.shape"
      ],
      "metadata": {
        "colab": {
          "base_uri": "https://localhost:8080/"
        },
        "outputId": "bd371468-d331-4767-ca30-7c2768d559b0",
        "id": "u_8DRfHXBsLq"
      },
      "execution_count": null,
      "outputs": [
        {
          "output_type": "execute_result",
          "data": {
            "text/plain": [
              "(4262, 100)"
            ]
          },
          "metadata": {},
          "execution_count": 102
        }
      ]
    },
    {
      "cell_type": "code",
      "source": [
        "# X_train, X_test, y_train, y_test = train_test_split(features, label, random_state = 0)\n",
        "X_test = features\n",
        "# count_vect = CountVectorizer()\n",
        "# X_train_counts = count_vect.fit_transform(X_train)\n",
        "# tfidf_transformer = TfidfTransformer()\n",
        "# X_train_tfidf = tfidf_transformer.fit_transform(X_train_counts)\n",
        "# clf = SVR().fit(X_train_tfidf, y_train)\n",
        "# clf= RandomForestRegressor()\n",
        "# clf.fit(X_train, y_train)\n",
        "y_pred4 = clf.predict(X_test)\n",
        "# r2_score(y_test,y_pred)"
      ],
      "metadata": {
        "id": "0BJAhaN_BsLt"
      },
      "execution_count": null,
      "outputs": []
    },
    {
      "cell_type": "code",
      "source": [
        "y_pred1,y_pred2,y_pred3,y_pred4"
      ],
      "metadata": {
        "colab": {
          "base_uri": "https://localhost:8080/"
        },
        "id": "jxg-DnEGCH0g",
        "outputId": "63d8eeb1-a489-41a2-f782-b3b32c4161e4"
      },
      "execution_count": null,
      "outputs": [
        {
          "output_type": "execute_result",
          "data": {
            "text/plain": [
              "10000"
            ]
          },
          "metadata": {},
          "execution_count": 85
        }
      ]
    },
    {
      "cell_type": "code",
      "source": [
        "pred = []"
      ],
      "metadata": {
        "id": "r97vhV9BCRP3"
      },
      "execution_count": null,
      "outputs": []
    },
    {
      "cell_type": "code",
      "source": [
        "for i in y_pred4:\n",
        "    pred.append(i)"
      ],
      "metadata": {
        "id": "M68guKSaC7yB"
      },
      "execution_count": null,
      "outputs": []
    },
    {
      "cell_type": "code",
      "source": [
        "len(pred)"
      ],
      "metadata": {
        "colab": {
          "base_uri": "https://localhost:8080/"
        },
        "id": "GgTmjn4tC_0R",
        "outputId": "2207cb55-69b6-450d-cce3-fb8817cae7da"
      },
      "execution_count": null,
      "outputs": [
        {
          "output_type": "execute_result",
          "data": {
            "text/plain": [
              "34262"
            ]
          },
          "metadata": {},
          "execution_count": 110
        }
      ]
    },
    {
      "cell_type": "code",
      "source": [
        "df_t"
      ],
      "metadata": {
        "colab": {
          "base_uri": "https://localhost:8080/",
          "height": 424
        },
        "id": "DpSMWZrIDIzg",
        "outputId": "14d19bc6-4f52-4d5b-8b78-5642f8e7925d"
      },
      "execution_count": null,
      "outputs": [
        {
          "output_type": "execute_result",
          "data": {
            "text/plain": [
              "          id                                          clean_msg\n",
              "0          0  سازگار با C21N1401X455 ولتاژ باتری 76 ظرفیت با...\n",
              "1          1  سازگار با A31N1519X540 ولتاژ باتری 111 ظرفیت ب...\n",
              "2          2  تعداد فن ندارد نوع سیستم خنک کنندگی ندارد سایر...\n",
              "3          3  سازگار با A41N1424GL552ZX50ASUS ROG FXASUS ROG...\n",
              "4          4  سازگار با AP31ASUS 1008 ولتاژ باتری 1095 ظرفیت...\n",
              "...      ...                                                ...\n",
              "34257  34257  ابعاد 135571595 ولتاژ ورودی 9V 167A5V 1A ولتاژ...\n",
              "34258  34258  ولتاژ ورودی الیاف گیاهی شدت جریان خروجی 21 آمپ...\n",
              "34259  34259  ولتاژ ورودی 110240  ولتاژ خروجی کراواتی شدت جر...\n",
              "34260  34260  وزن بند قابل تعویض ولتاژ ورودی 5 ولتاژ خروجی 5...\n",
              "34261  34261  ابعاد 26x101x107 وزن گلدوزی ولتاژ خروجی هالتر ...\n",
              "\n",
              "[34262 rows x 2 columns]"
            ],
            "text/html": [
              "\n",
              "  <div id=\"df-4b809c32-d06a-4059-b4ba-14d53ae82e56\">\n",
              "    <div class=\"colab-df-container\">\n",
              "      <div>\n",
              "<style scoped>\n",
              "    .dataframe tbody tr th:only-of-type {\n",
              "        vertical-align: middle;\n",
              "    }\n",
              "\n",
              "    .dataframe tbody tr th {\n",
              "        vertical-align: top;\n",
              "    }\n",
              "\n",
              "    .dataframe thead th {\n",
              "        text-align: right;\n",
              "    }\n",
              "</style>\n",
              "<table border=\"1\" class=\"dataframe\">\n",
              "  <thead>\n",
              "    <tr style=\"text-align: right;\">\n",
              "      <th></th>\n",
              "      <th>id</th>\n",
              "      <th>clean_msg</th>\n",
              "    </tr>\n",
              "  </thead>\n",
              "  <tbody>\n",
              "    <tr>\n",
              "      <th>0</th>\n",
              "      <td>0</td>\n",
              "      <td>سازگار با C21N1401X455 ولتاژ باتری 76 ظرفیت با...</td>\n",
              "    </tr>\n",
              "    <tr>\n",
              "      <th>1</th>\n",
              "      <td>1</td>\n",
              "      <td>سازگار با A31N1519X540 ولتاژ باتری 111 ظرفیت ب...</td>\n",
              "    </tr>\n",
              "    <tr>\n",
              "      <th>2</th>\n",
              "      <td>2</td>\n",
              "      <td>تعداد فن ندارد نوع سیستم خنک کنندگی ندارد سایر...</td>\n",
              "    </tr>\n",
              "    <tr>\n",
              "      <th>3</th>\n",
              "      <td>3</td>\n",
              "      <td>سازگار با A41N1424GL552ZX50ASUS ROG FXASUS ROG...</td>\n",
              "    </tr>\n",
              "    <tr>\n",
              "      <th>4</th>\n",
              "      <td>4</td>\n",
              "      <td>سازگار با AP31ASUS 1008 ولتاژ باتری 1095 ظرفیت...</td>\n",
              "    </tr>\n",
              "    <tr>\n",
              "      <th>...</th>\n",
              "      <td>...</td>\n",
              "      <td>...</td>\n",
              "    </tr>\n",
              "    <tr>\n",
              "      <th>34257</th>\n",
              "      <td>34257</td>\n",
              "      <td>ابعاد 135571595 ولتاژ ورودی 9V 167A5V 1A ولتاژ...</td>\n",
              "    </tr>\n",
              "    <tr>\n",
              "      <th>34258</th>\n",
              "      <td>34258</td>\n",
              "      <td>ولتاژ ورودی الیاف گیاهی شدت جریان خروجی 21 آمپ...</td>\n",
              "    </tr>\n",
              "    <tr>\n",
              "      <th>34259</th>\n",
              "      <td>34259</td>\n",
              "      <td>ولتاژ ورودی 110240  ولتاژ خروجی کراواتی شدت جر...</td>\n",
              "    </tr>\n",
              "    <tr>\n",
              "      <th>34260</th>\n",
              "      <td>34260</td>\n",
              "      <td>وزن بند قابل تعویض ولتاژ ورودی 5 ولتاژ خروجی 5...</td>\n",
              "    </tr>\n",
              "    <tr>\n",
              "      <th>34261</th>\n",
              "      <td>34261</td>\n",
              "      <td>ابعاد 26x101x107 وزن گلدوزی ولتاژ خروجی هالتر ...</td>\n",
              "    </tr>\n",
              "  </tbody>\n",
              "</table>\n",
              "<p>34262 rows × 2 columns</p>\n",
              "</div>\n",
              "      <button class=\"colab-df-convert\" onclick=\"convertToInteractive('df-4b809c32-d06a-4059-b4ba-14d53ae82e56')\"\n",
              "              title=\"Convert this dataframe to an interactive table.\"\n",
              "              style=\"display:none;\">\n",
              "        \n",
              "  <svg xmlns=\"http://www.w3.org/2000/svg\" height=\"24px\"viewBox=\"0 0 24 24\"\n",
              "       width=\"24px\">\n",
              "    <path d=\"M0 0h24v24H0V0z\" fill=\"none\"/>\n",
              "    <path d=\"M18.56 5.44l.94 2.06.94-2.06 2.06-.94-2.06-.94-.94-2.06-.94 2.06-2.06.94zm-11 1L8.5 8.5l.94-2.06 2.06-.94-2.06-.94L8.5 2.5l-.94 2.06-2.06.94zm10 10l.94 2.06.94-2.06 2.06-.94-2.06-.94-.94-2.06-.94 2.06-2.06.94z\"/><path d=\"M17.41 7.96l-1.37-1.37c-.4-.4-.92-.59-1.43-.59-.52 0-1.04.2-1.43.59L10.3 9.45l-7.72 7.72c-.78.78-.78 2.05 0 2.83L4 21.41c.39.39.9.59 1.41.59.51 0 1.02-.2 1.41-.59l7.78-7.78 2.81-2.81c.8-.78.8-2.07 0-2.86zM5.41 20L4 18.59l7.72-7.72 1.47 1.35L5.41 20z\"/>\n",
              "  </svg>\n",
              "      </button>\n",
              "      \n",
              "  <style>\n",
              "    .colab-df-container {\n",
              "      display:flex;\n",
              "      flex-wrap:wrap;\n",
              "      gap: 12px;\n",
              "    }\n",
              "\n",
              "    .colab-df-convert {\n",
              "      background-color: #E8F0FE;\n",
              "      border: none;\n",
              "      border-radius: 50%;\n",
              "      cursor: pointer;\n",
              "      display: none;\n",
              "      fill: #1967D2;\n",
              "      height: 32px;\n",
              "      padding: 0 0 0 0;\n",
              "      width: 32px;\n",
              "    }\n",
              "\n",
              "    .colab-df-convert:hover {\n",
              "      background-color: #E2EBFA;\n",
              "      box-shadow: 0px 1px 2px rgba(60, 64, 67, 0.3), 0px 1px 3px 1px rgba(60, 64, 67, 0.15);\n",
              "      fill: #174EA6;\n",
              "    }\n",
              "\n",
              "    [theme=dark] .colab-df-convert {\n",
              "      background-color: #3B4455;\n",
              "      fill: #D2E3FC;\n",
              "    }\n",
              "\n",
              "    [theme=dark] .colab-df-convert:hover {\n",
              "      background-color: #434B5C;\n",
              "      box-shadow: 0px 1px 3px 1px rgba(0, 0, 0, 0.15);\n",
              "      filter: drop-shadow(0px 1px 2px rgba(0, 0, 0, 0.3));\n",
              "      fill: #FFFFFF;\n",
              "    }\n",
              "  </style>\n",
              "\n",
              "      <script>\n",
              "        const buttonEl =\n",
              "          document.querySelector('#df-4b809c32-d06a-4059-b4ba-14d53ae82e56 button.colab-df-convert');\n",
              "        buttonEl.style.display =\n",
              "          google.colab.kernel.accessAllowed ? 'block' : 'none';\n",
              "\n",
              "        async function convertToInteractive(key) {\n",
              "          const element = document.querySelector('#df-4b809c32-d06a-4059-b4ba-14d53ae82e56');\n",
              "          const dataTable =\n",
              "            await google.colab.kernel.invokeFunction('convertToInteractive',\n",
              "                                                     [key], {});\n",
              "          if (!dataTable) return;\n",
              "\n",
              "          const docLinkHtml = 'Like what you see? Visit the ' +\n",
              "            '<a target=\"_blank\" href=https://colab.research.google.com/notebooks/data_table.ipynb>data table notebook</a>'\n",
              "            + ' to learn more about interactive tables.';\n",
              "          element.innerHTML = '';\n",
              "          dataTable['output_type'] = 'display_data';\n",
              "          await google.colab.output.renderOutput(dataTable, element);\n",
              "          const docLink = document.createElement('div');\n",
              "          docLink.innerHTML = docLinkHtml;\n",
              "          element.appendChild(docLink);\n",
              "        }\n",
              "      </script>\n",
              "    </div>\n",
              "  </div>\n",
              "  "
            ]
          },
          "metadata": {},
          "execution_count": 111
        }
      ]
    },
    {
      "cell_type": "code",
      "source": [
        "df_tt['predicted_price'] = pred"
      ],
      "metadata": {
        "id": "HnBqBz9xDKea"
      },
      "execution_count": null,
      "outputs": []
    },
    {
      "cell_type": "code",
      "source": [
        "df_tt.to_csv('/content/data/test_results.csv',index=False)"
      ],
      "metadata": {
        "id": "OMAvrz_qDWf9"
      },
      "execution_count": null,
      "outputs": []
    },
    {
      "cell_type": "code",
      "source": [
        "# Unzipping\n",
        "import zipfile\n",
        "# zip_ref = zipfile.ZipFile('/content/drive/MyDrive/A DATA/data.zip', \"r\")\n",
        "# zip_ref.extractall()\n",
        "# zip_ref.close()\n",
        "zipfile."
      ],
      "metadata": {
        "id": "NzZVUOt6Dd3V"
      },
      "execution_count": null,
      "outputs": []
    },
    {
      "cell_type": "code",
      "source": [
        "# importing required modules\n",
        "from zipfile import ZipFile\n",
        "import os\n",
        "compression = zipfile.ZIP_DEFLATED\n",
        "def get_all_file_paths(directory):\n",
        "\n",
        "\t# initializing empty file paths list\n",
        "\tfile_paths = []\n",
        "\n",
        "\t# crawling through directory and subdirectories\n",
        "\tfor root, directories, files in os.walk(directory):\n",
        "\t\tfor filename in files:\n",
        "\t\t\t# join the two strings in order to form the full filepath.\n",
        "\t\t\tfilepath = os.path.join(root, filename)\n",
        "\t\t\tfile_paths.append(filepath)\n",
        "\n",
        "\t# returning all file paths\n",
        "\treturn file_paths\t\t\n",
        "\n",
        "def main():\n",
        "\t# path to folder which needs to be zipped\n",
        "\tdirectory = '/content/results'\n",
        "\n",
        "\t# calling function to get all file paths in the directory\n",
        "\tfile_paths = get_all_file_paths(directory)\n",
        "\n",
        "\t# printing the list of all files to be zipped\n",
        "\tprint('Following files will be zipped:')\n",
        "\tfor file_name in file_paths:\n",
        "\t\tprint(file_name)\n",
        "\n",
        "\t# writing files to a zipfile\n",
        "\twith ZipFile('/content/drive/MyDrive/A Work/my_python_files.zip','w') as zip:\n",
        "\t\t# writing each file one by one\n",
        "\t\tfor file in file_paths:\n",
        "\t\t\tzip.write(file,compress_type=compression)\n",
        "\n",
        "\tprint('All files zipped successfully!')\t\t\n",
        "\n",
        "\n",
        "if __name__ == \"__main__\":\n",
        "\tmain()\n"
      ],
      "metadata": {
        "colab": {
          "base_uri": "https://localhost:8080/"
        },
        "id": "K_wUwqZDEOPt",
        "outputId": "496d6674-4baa-4aec-bb4d-6b718c96dda4"
      },
      "execution_count": null,
      "outputs": [
        {
          "output_type": "stream",
          "name": "stdout",
          "text": [
            "Following files will be zipped:\n",
            "/content/results/test_results.csv\n",
            "All files zipped successfully!\n"
          ]
        }
      ]
    },
    {
      "cell_type": "code",
      "source": [
        "compression = zipfile.ZIP_DEFLATED"
      ],
      "metadata": {
        "id": "CgbSFWVrEaGz"
      },
      "execution_count": null,
      "outputs": []
    },
    {
      "cell_type": "code",
      "source": [
        "dffg = pd.read_csv('/content/results/test_results.csv')"
      ],
      "metadata": {
        "id": "jp7a4mufE9jw"
      },
      "execution_count": null,
      "outputs": []
    },
    {
      "cell_type": "code",
      "source": [
        "dffg\n"
      ],
      "metadata": {
        "colab": {
          "base_uri": "https://localhost:8080/",
          "height": 503
        },
        "id": "UVFkmfEhGTa-",
        "outputId": "244561e5-789b-44ee-e5c6-0dbd9b883898"
      },
      "execution_count": null,
      "outputs": [
        {
          "output_type": "execute_result",
          "data": {
            "text/plain": [
              "       Unnamed: 0     id                                product_description  \\\n",
              "0               0      0  {'سازگار با': 'C21N1401\\r\\nX455', 'ولتاژ باتری...   \n",
              "1               1      1  {'سازگار با': 'A31N1519\\r\\nX540', 'ولتاژ باتری...   \n",
              "2               2      2  {'تعداد فن': 'ندارد', 'نوع سیستم خنک کنندگی': ...   \n",
              "3               3      3  {'سازگار با': 'A41N1424\\r\\nGL552\\r\\nZX50\\r\\nAS...   \n",
              "4               4      4  {'سازگار با': 'AP31\\r\\nASUS 1008', 'ولتاژ باتر...   \n",
              "...           ...    ...                                                ...   \n",
              "34257       34257  34257  {'ابعاد': '135.5*71.5*9.5', 'ولتاژ ورودی': '9V...   \n",
              "34258       34258  34258  {'ولتاژ ورودی': 'الیاف گیاهی', 'شدت جریان خروج...   \n",
              "34259       34259  34259  {'ولتاژ ورودی': '110-240 ', 'ولتاژ خروجی': 'کر...   \n",
              "34260       34260  34260  {'وزن': 'بند قابل تعویض', 'ولتاژ ورودی': ['5']...   \n",
              "34261       34261  34261  {'ابعاد': '26x101x107', 'وزن': 'گلدوزی', 'ولتا...   \n",
              "\n",
              "                                                  edited  predicted_price  \n",
              "0      سازگار با C21N1401X455 ولتاژ باتری 76 ظرفیت با...     1.843560e+06  \n",
              "1      سازگار با A31N1519X540 ولتاژ باتری 111 ظرفیت ب...     1.935775e+06  \n",
              "2      تعداد فن ندارد نوع سیستم خنک کنندگی ندارد سایر...     9.918066e+05  \n",
              "3      سازگار با A41N1424GL552ZX50ASUS ROG FXASUS ROG...     1.760610e+06  \n",
              "4      سازگار با AP31ASUS 1008 ولتاژ باتری 1095 ظرفیت...     1.836472e+06  \n",
              "...                                                  ...              ...  \n",
              "34257  ابعاد 135571595 ولتاژ ورودی 9V 167A5V 1A ولتاژ...     7.785900e+06  \n",
              "34258  ولتاژ ورودی الیاف گیاهی شدت جریان خروجی 21 آمپ...     6.154701e+06  \n",
              "34259  ولتاژ ورودی 110240  ولتاژ خروجی کراواتی شدت جر...     7.126470e+06  \n",
              "34260  وزن بند قابل تعویض ولتاژ ورودی 5 ولتاژ خروجی 5...     5.771957e+06  \n",
              "34261  ابعاد 26x101x107 وزن گلدوزی ولتاژ خروجی هالتر ...     5.825704e+06  \n",
              "\n",
              "[34262 rows x 5 columns]"
            ],
            "text/html": [
              "\n",
              "  <div id=\"df-5d38488f-9bf1-4cf9-9d4b-e76258005b20\">\n",
              "    <div class=\"colab-df-container\">\n",
              "      <div>\n",
              "<style scoped>\n",
              "    .dataframe tbody tr th:only-of-type {\n",
              "        vertical-align: middle;\n",
              "    }\n",
              "\n",
              "    .dataframe tbody tr th {\n",
              "        vertical-align: top;\n",
              "    }\n",
              "\n",
              "    .dataframe thead th {\n",
              "        text-align: right;\n",
              "    }\n",
              "</style>\n",
              "<table border=\"1\" class=\"dataframe\">\n",
              "  <thead>\n",
              "    <tr style=\"text-align: right;\">\n",
              "      <th></th>\n",
              "      <th>Unnamed: 0</th>\n",
              "      <th>id</th>\n",
              "      <th>product_description</th>\n",
              "      <th>edited</th>\n",
              "      <th>predicted_price</th>\n",
              "    </tr>\n",
              "  </thead>\n",
              "  <tbody>\n",
              "    <tr>\n",
              "      <th>0</th>\n",
              "      <td>0</td>\n",
              "      <td>0</td>\n",
              "      <td>{'سازگار با': 'C21N1401\\r\\nX455', 'ولتاژ باتری...</td>\n",
              "      <td>سازگار با C21N1401X455 ولتاژ باتری 76 ظرفیت با...</td>\n",
              "      <td>1.843560e+06</td>\n",
              "    </tr>\n",
              "    <tr>\n",
              "      <th>1</th>\n",
              "      <td>1</td>\n",
              "      <td>1</td>\n",
              "      <td>{'سازگار با': 'A31N1519\\r\\nX540', 'ولتاژ باتری...</td>\n",
              "      <td>سازگار با A31N1519X540 ولتاژ باتری 111 ظرفیت ب...</td>\n",
              "      <td>1.935775e+06</td>\n",
              "    </tr>\n",
              "    <tr>\n",
              "      <th>2</th>\n",
              "      <td>2</td>\n",
              "      <td>2</td>\n",
              "      <td>{'تعداد فن': 'ندارد', 'نوع سیستم خنک کنندگی': ...</td>\n",
              "      <td>تعداد فن ندارد نوع سیستم خنک کنندگی ندارد سایر...</td>\n",
              "      <td>9.918066e+05</td>\n",
              "    </tr>\n",
              "    <tr>\n",
              "      <th>3</th>\n",
              "      <td>3</td>\n",
              "      <td>3</td>\n",
              "      <td>{'سازگار با': 'A41N1424\\r\\nGL552\\r\\nZX50\\r\\nAS...</td>\n",
              "      <td>سازگار با A41N1424GL552ZX50ASUS ROG FXASUS ROG...</td>\n",
              "      <td>1.760610e+06</td>\n",
              "    </tr>\n",
              "    <tr>\n",
              "      <th>4</th>\n",
              "      <td>4</td>\n",
              "      <td>4</td>\n",
              "      <td>{'سازگار با': 'AP31\\r\\nASUS 1008', 'ولتاژ باتر...</td>\n",
              "      <td>سازگار با AP31ASUS 1008 ولتاژ باتری 1095 ظرفیت...</td>\n",
              "      <td>1.836472e+06</td>\n",
              "    </tr>\n",
              "    <tr>\n",
              "      <th>...</th>\n",
              "      <td>...</td>\n",
              "      <td>...</td>\n",
              "      <td>...</td>\n",
              "      <td>...</td>\n",
              "      <td>...</td>\n",
              "    </tr>\n",
              "    <tr>\n",
              "      <th>34257</th>\n",
              "      <td>34257</td>\n",
              "      <td>34257</td>\n",
              "      <td>{'ابعاد': '135.5*71.5*9.5', 'ولتاژ ورودی': '9V...</td>\n",
              "      <td>ابعاد 135571595 ولتاژ ورودی 9V 167A5V 1A ولتاژ...</td>\n",
              "      <td>7.785900e+06</td>\n",
              "    </tr>\n",
              "    <tr>\n",
              "      <th>34258</th>\n",
              "      <td>34258</td>\n",
              "      <td>34258</td>\n",
              "      <td>{'ولتاژ ورودی': 'الیاف گیاهی', 'شدت جریان خروج...</td>\n",
              "      <td>ولتاژ ورودی الیاف گیاهی شدت جریان خروجی 21 آمپ...</td>\n",
              "      <td>6.154701e+06</td>\n",
              "    </tr>\n",
              "    <tr>\n",
              "      <th>34259</th>\n",
              "      <td>34259</td>\n",
              "      <td>34259</td>\n",
              "      <td>{'ولتاژ ورودی': '110-240 ', 'ولتاژ خروجی': 'کر...</td>\n",
              "      <td>ولتاژ ورودی 110240  ولتاژ خروجی کراواتی شدت جر...</td>\n",
              "      <td>7.126470e+06</td>\n",
              "    </tr>\n",
              "    <tr>\n",
              "      <th>34260</th>\n",
              "      <td>34260</td>\n",
              "      <td>34260</td>\n",
              "      <td>{'وزن': 'بند قابل تعویض', 'ولتاژ ورودی': ['5']...</td>\n",
              "      <td>وزن بند قابل تعویض ولتاژ ورودی 5 ولتاژ خروجی 5...</td>\n",
              "      <td>5.771957e+06</td>\n",
              "    </tr>\n",
              "    <tr>\n",
              "      <th>34261</th>\n",
              "      <td>34261</td>\n",
              "      <td>34261</td>\n",
              "      <td>{'ابعاد': '26x101x107', 'وزن': 'گلدوزی', 'ولتا...</td>\n",
              "      <td>ابعاد 26x101x107 وزن گلدوزی ولتاژ خروجی هالتر ...</td>\n",
              "      <td>5.825704e+06</td>\n",
              "    </tr>\n",
              "  </tbody>\n",
              "</table>\n",
              "<p>34262 rows × 5 columns</p>\n",
              "</div>\n",
              "      <button class=\"colab-df-convert\" onclick=\"convertToInteractive('df-5d38488f-9bf1-4cf9-9d4b-e76258005b20')\"\n",
              "              title=\"Convert this dataframe to an interactive table.\"\n",
              "              style=\"display:none;\">\n",
              "        \n",
              "  <svg xmlns=\"http://www.w3.org/2000/svg\" height=\"24px\"viewBox=\"0 0 24 24\"\n",
              "       width=\"24px\">\n",
              "    <path d=\"M0 0h24v24H0V0z\" fill=\"none\"/>\n",
              "    <path d=\"M18.56 5.44l.94 2.06.94-2.06 2.06-.94-2.06-.94-.94-2.06-.94 2.06-2.06.94zm-11 1L8.5 8.5l.94-2.06 2.06-.94-2.06-.94L8.5 2.5l-.94 2.06-2.06.94zm10 10l.94 2.06.94-2.06 2.06-.94-2.06-.94-.94-2.06-.94 2.06-2.06.94z\"/><path d=\"M17.41 7.96l-1.37-1.37c-.4-.4-.92-.59-1.43-.59-.52 0-1.04.2-1.43.59L10.3 9.45l-7.72 7.72c-.78.78-.78 2.05 0 2.83L4 21.41c.39.39.9.59 1.41.59.51 0 1.02-.2 1.41-.59l7.78-7.78 2.81-2.81c.8-.78.8-2.07 0-2.86zM5.41 20L4 18.59l7.72-7.72 1.47 1.35L5.41 20z\"/>\n",
              "  </svg>\n",
              "      </button>\n",
              "      \n",
              "  <style>\n",
              "    .colab-df-container {\n",
              "      display:flex;\n",
              "      flex-wrap:wrap;\n",
              "      gap: 12px;\n",
              "    }\n",
              "\n",
              "    .colab-df-convert {\n",
              "      background-color: #E8F0FE;\n",
              "      border: none;\n",
              "      border-radius: 50%;\n",
              "      cursor: pointer;\n",
              "      display: none;\n",
              "      fill: #1967D2;\n",
              "      height: 32px;\n",
              "      padding: 0 0 0 0;\n",
              "      width: 32px;\n",
              "    }\n",
              "\n",
              "    .colab-df-convert:hover {\n",
              "      background-color: #E2EBFA;\n",
              "      box-shadow: 0px 1px 2px rgba(60, 64, 67, 0.3), 0px 1px 3px 1px rgba(60, 64, 67, 0.15);\n",
              "      fill: #174EA6;\n",
              "    }\n",
              "\n",
              "    [theme=dark] .colab-df-convert {\n",
              "      background-color: #3B4455;\n",
              "      fill: #D2E3FC;\n",
              "    }\n",
              "\n",
              "    [theme=dark] .colab-df-convert:hover {\n",
              "      background-color: #434B5C;\n",
              "      box-shadow: 0px 1px 3px 1px rgba(0, 0, 0, 0.15);\n",
              "      filter: drop-shadow(0px 1px 2px rgba(0, 0, 0, 0.3));\n",
              "      fill: #FFFFFF;\n",
              "    }\n",
              "  </style>\n",
              "\n",
              "      <script>\n",
              "        const buttonEl =\n",
              "          document.querySelector('#df-5d38488f-9bf1-4cf9-9d4b-e76258005b20 button.colab-df-convert');\n",
              "        buttonEl.style.display =\n",
              "          google.colab.kernel.accessAllowed ? 'block' : 'none';\n",
              "\n",
              "        async function convertToInteractive(key) {\n",
              "          const element = document.querySelector('#df-5d38488f-9bf1-4cf9-9d4b-e76258005b20');\n",
              "          const dataTable =\n",
              "            await google.colab.kernel.invokeFunction('convertToInteractive',\n",
              "                                                     [key], {});\n",
              "          if (!dataTable) return;\n",
              "\n",
              "          const docLinkHtml = 'Like what you see? Visit the ' +\n",
              "            '<a target=\"_blank\" href=https://colab.research.google.com/notebooks/data_table.ipynb>data table notebook</a>'\n",
              "            + ' to learn more about interactive tables.';\n",
              "          element.innerHTML = '';\n",
              "          dataTable['output_type'] = 'display_data';\n",
              "          await google.colab.output.renderOutput(dataTable, element);\n",
              "          const docLink = document.createElement('div');\n",
              "          docLink.innerHTML = docLinkHtml;\n",
              "          element.appendChild(docLink);\n",
              "        }\n",
              "      </script>\n",
              "    </div>\n",
              "  </div>\n",
              "  "
            ]
          },
          "metadata": {},
          "execution_count": 123
        }
      ]
    },
    {
      "cell_type": "code",
      "source": [
        ""
      ],
      "metadata": {
        "id": "YPj0dExjGaAG"
      },
      "execution_count": null,
      "outputs": []
    }
  ]
}