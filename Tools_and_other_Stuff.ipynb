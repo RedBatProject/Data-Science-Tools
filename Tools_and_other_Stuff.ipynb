{
  "nbformat": 4,
  "nbformat_minor": 0,
  "metadata": {
    "colab": {
      "name": "Tools and other Stuff.ipynb",
      "provenance": [],
      "collapsed_sections": [
        "jqsjBq-hju_B",
        "mvFjZj7_jxbh",
        "pCbjg1OLkl_7",
        "ZJYUyfL6mOO2",
        "7GJkp_OmmRKQ"
      ],
      "authorship_tag": "ABX9TyNEAsggbHH7m/smRbwW4lod",
      "include_colab_link": true
    },
    "kernelspec": {
      "name": "python3",
      "display_name": "Python 3"
    },
    "language_info": {
      "name": "python"
    }
  },
  "cells": [
    {
      "cell_type": "markdown",
      "metadata": {
        "id": "view-in-github",
        "colab_type": "text"
      },
      "source": [
        "<a href=\"https://colab.research.google.com/github/horsinnaround/Data-Science-Tools/blob/main/Tools_and_other_Stuff.ipynb\" target=\"_parent\"><img src=\"https://colab.research.google.com/assets/colab-badge.svg\" alt=\"Open In Colab\"/></a>"
      ]
    },
    {
      "cell_type": "markdown",
      "source": [
        "# Importing"
      ],
      "metadata": {
        "id": "jqsjBq-hju_B"
      }
    },
    {
      "cell_type": "code",
      "execution_count": null,
      "metadata": {
        "id": "xUER3xubjoIp"
      },
      "outputs": [],
      "source": [
        "from io import StringIO\n",
        "from sklearn.model_selection import train_test_split\n",
        "from sklearn.feature_extraction.text import CountVectorizer\n",
        "from sklearn.feature_extraction.text import TfidfTransformer\n",
        "from sklearn.naive_bayes import MultinomialNB\n",
        "from sklearn.svm import LinearSVC\n",
        "from sklearn.feature_extraction.text import TfidfVectorizer\n",
        "from sklearn.feature_selection import chi2\n",
        "import numpy as np\n",
        "from sklearn.model_selection import cross_val_score\n",
        "import zipfile\n",
        "from sklearn.decomposition import PCA\n",
        "from sklearn.metrics import mean_squared_error\n",
        "from numpy import array\n",
        "import matplotlib.pyplot as plt\n",
        "from sklearn.svm import SVC\n",
        "from sklearn.linear_model import LogisticRegression\n",
        "from sklearn.ensemble import RandomForestClassifier\n",
        "from sklearn.svm import LinearSVC\n",
        "from sklearn.naive_bayes import MultinomialNB \n",
        "!pip install catboost\n",
        "from xgboost import XGBClassifier\n",
        "from catboost import CatBoostClassifier \n",
        "import pandas as pd\n",
        "from sklearn.svm import SVC\n",
        "from sklearn.neighbors import KNeighborsClassifier\n",
        "from sklearn.neural_network import MLPClassifier\n",
        "\n",
        "from sklearn.metrics import accuracy_score, classification_report\n",
        "from sklearn.metrics import precision_score\n",
        "from sklearn.metrics import recall_score\n",
        "from sklearn.metrics import f1_score\n",
        "import seaborn as sns\n",
        "from time import time\n"
      ]
    },
    {
      "cell_type": "markdown",
      "source": [
        "# All the way with texts"
      ],
      "metadata": {
        "id": "ZdRZUr-TkesQ"
      }
    },
    {
      "cell_type": "markdown",
      "source": [
        "## Text to int\n",
        "\n",
        "for changing dtype of data frame columns to serial or factorize them or make strings ti ints"
      ],
      "metadata": {
        "id": "mvFjZj7_jxbh"
      }
    },
    {
      "cell_type": "code",
      "source": [
        "# df_ = put dataframe here\n",
        "str_to_fac=[]\n",
        "for i in range(len(df.dtypes)):\n",
        "    if df.dtypes[i] == 'object':\n",
        "        to_fac = df[df.columns[i]].factorize()\n",
        "        str_to_fac.append(to_fac)\n",
        "        df_[f'{df.columns[i]}'] = to_fac[0]"
      ],
      "metadata": {
        "id": "MekxJW8ckA3Z"
      },
      "execution_count": null,
      "outputs": []
    },
    {
      "cell_type": "markdown",
      "source": [
        "## Text to vector"
      ],
      "metadata": {
        "id": "pCbjg1OLkl_7"
      }
    },
    {
      "cell_type": "code",
      "source": [
        "# text to vector\n",
        "# from sklearn.feature_extraction.text import TfidfVectorizer\n",
        "# text is the column that you have the sentense\n",
        "tfidf = TfidfVectorizer(sublinear_tf=True, min_df=5, norm='l2', encoding='latin-1', ngram_range=(1, 2), stop_words='english')\n",
        "features = tfidf.fit_transform(df.text).toarray()\n",
        "labels = df.category_id\n",
        "features.shape"
      ],
      "metadata": {
        "id": "qEJKMl3PlFxe"
      },
      "execution_count": null,
      "outputs": []
    },
    {
      "cell_type": "markdown",
      "source": [
        "# Regular ml"
      ],
      "metadata": {
        "id": "jjMQa-XokrjF"
      }
    },
    {
      "cell_type": "markdown",
      "source": [
        "## PCA"
      ],
      "metadata": {
        "id": "sCik9ORSkxMR"
      }
    },
    {
      "cell_type": "code",
      "source": [
        "# from sklearn.decomposition import PCA\n",
        "pca = PCA(n_components=100, copy=True, whiten=False, svd_solver='auto', tol=0.0, iterated_power='auto',random_state=None)\n",
        "features = pca.fit_transform(features)\n",
        "features.shape"
      ],
      "metadata": {
        "id": "awArtkorkzZR"
      },
      "execution_count": null,
      "outputs": []
    },
    {
      "cell_type": "markdown",
      "source": [
        ""
      ],
      "metadata": {
        "id": "xS2KKLfxlpfI"
      }
    },
    {
      "cell_type": "markdown",
      "source": [
        "# Data"
      ],
      "metadata": {
        "id": "ZJYUyfL6mOO2"
      }
    },
    {
      "cell_type": "markdown",
      "source": [
        "## zip unzipping"
      ],
      "metadata": {
        "id": "7GJkp_OmmRKQ"
      }
    },
    {
      "cell_type": "code",
      "source": [
        "# Unzipping\n",
        "import zipfile\n",
        "zip_ref = zipfile.ZipFile('/content/drive/MyDrive/A/hamed thesis/kdd_test.csv.zip', \"r\")\n",
        "zip_ref.extractall('/content/drive/MyDrive/A/hamed thesis/')\n",
        "zip_ref.close()"
      ],
      "metadata": {
        "id": "Kyx9ZKDHmT9r"
      },
      "execution_count": null,
      "outputs": []
    }
  ]
}