{
  "nbformat": 4,
  "nbformat_minor": 0,
  "metadata": {
    "colab": {
      "name": "machine_learning.ipynb",
      "provenance": [],
      "collapsed_sections": [],
      "authorship_tag": "ABX9TyPLW6fYvT/mgT4pQX4fphTe",
      "include_colab_link": true
    },
    "kernelspec": {
      "name": "python3",
      "display_name": "Python 3"
    },
    "language_info": {
      "name": "python"
    }
  },
  "cells": [
    {
      "cell_type": "markdown",
      "metadata": {
        "id": "view-in-github",
        "colab_type": "text"
      },
      "source": [
        "<a href=\"https://colab.research.google.com/github/rizzaesh/Data-Science-Tools/blob/main/machine_learning.ipynb\" target=\"_parent\"><img src=\"https://colab.research.google.com/assets/colab-badge.svg\" alt=\"Open In Colab\"/></a>"
      ]
    },
    {
      "cell_type": "markdown",
      "source": [
        "# Imports"
      ],
      "metadata": {
        "id": "4b5pGDlZ12BQ"
      }
    },
    {
      "cell_type": "markdown",
      "source": [
        "# Import Data (this have some tricky things)"
      ],
      "metadata": {
        "id": "Vz67YqhzzJiv"
      }
    },
    {
      "cell_type": "markdown",
      "source": [
        "# Preprocessing (Data or image)"
      ],
      "metadata": {
        "id": "aP-YEGJzzL9h"
      }
    },
    {
      "cell_type": "markdown",
      "source": [
        "# Train Traditional Models"
      ],
      "metadata": {
        "id": "FoOC4YpczP0U"
      }
    },
    {
      "cell_type": "markdown",
      "source": [
        "# Train Neural Network"
      ],
      "metadata": {
        "id": "z7hW5msIzTFQ"
      }
    },
    {
      "cell_type": "markdown",
      "source": [
        "# Visualise"
      ],
      "metadata": {
        "id": "11KgwEVEzb7Q"
      }
    },
    {
      "cell_type": "markdown",
      "source": [
        "# What Next"
      ],
      "metadata": {
        "id": "sYbppfKYzf-9"
      }
    }
  ]
}