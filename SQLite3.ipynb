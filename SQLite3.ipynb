{
  "nbformat": 4,
  "nbformat_minor": 0,
  "metadata": {
    "colab": {
      "name": "SQLite3.ipynb",
      "provenance": [],
      "authorship_tag": "ABX9TyN2PM2xvOknnsRtF+P4VGho",
      "include_colab_link": true
    },
    "kernelspec": {
      "name": "python3",
      "display_name": "Python 3"
    },
    "language_info": {
      "name": "python"
    }
  },
  "cells": [
    {
      "cell_type": "markdown",
      "metadata": {
        "id": "view-in-github",
        "colab_type": "text"
      },
      "source": [
        "<a href=\"https://colab.research.google.com/github/rizzaesh/Data-Science-Tools/blob/main/SQLite3.ipynb\" target=\"_parent\"><img src=\"https://colab.research.google.com/assets/colab-badge.svg\" alt=\"Open In Colab\"/></a>"
      ]
    },
    {
      "cell_type": "code",
      "execution_count": 1,
      "metadata": {
        "id": "De32Yinz1kq-"
      },
      "outputs": [],
      "source": [
        "import sqlite3"
      ]
    },
    {
      "cell_type": "code",
      "source": [
        "conn = sqlite3.connect('test.db')"
      ],
      "metadata": {
        "id": "kba5-0VZ16uo"
      },
      "execution_count": 12,
      "outputs": []
    },
    {
      "cell_type": "code",
      "source": [
        "cur = conn.cursor()\n",
        "cur.execute('''CREATE TABLE test\n",
        "            (id int, symbol text, price real)''')"
      ],
      "metadata": {
        "colab": {
          "base_uri": "https://localhost:8080/"
        },
        "id": "ACY7JTuP4Epy",
        "outputId": "a3be1c23-27cb-413d-f9d0-bc30aeeb9d6f"
      },
      "execution_count": 17,
      "outputs": [
        {
          "output_type": "execute_result",
          "data": {
            "text/plain": [
              "<sqlite3.Cursor at 0x7f4011545f80>"
            ]
          },
          "metadata": {},
          "execution_count": 17
        }
      ]
    },
    {
      "cell_type": "code",
      "source": [
        "cur.execute('''INSERT INTO test VALUES (2,\"rices\",13.432)''')\n"
      ],
      "metadata": {
        "colab": {
          "base_uri": "https://localhost:8080/"
        },
        "id": "AlA0zmpy4jVA",
        "outputId": "22f3d3c2-d485-4708-80b0-7f44cc1f82ff"
      },
      "execution_count": 20,
      "outputs": [
        {
          "output_type": "execute_result",
          "data": {
            "text/plain": [
              "<sqlite3.Cursor at 0x7f4011545f80>"
            ]
          },
          "metadata": {},
          "execution_count": 20
        }
      ]
    },
    {
      "cell_type": "code",
      "source": [
        "conn.commit()"
      ],
      "metadata": {
        "id": "S7gPMJhV43Sr"
      },
      "execution_count": 22,
      "outputs": []
    },
    {
      "cell_type": "code",
      "source": [
        "conn.close()"
      ],
      "metadata": {
        "id": "_PvDQl0G460I"
      },
      "execution_count": 23,
      "outputs": []
    },
    {
      "cell_type": "code",
      "source": [
        "gn = sqlite3.connect('test.db')\n",
        "cure = gn.cursor()"
      ],
      "metadata": {
        "id": "BnYATGZ849EH"
      },
      "execution_count": 24,
      "outputs": []
    },
    {
      "cell_type": "code",
      "source": [
        "for row in cure.execute('SELECT * FROM test ORDER BY price'):\n",
        "    print(row)"
      ],
      "metadata": {
        "colab": {
          "base_uri": "https://localhost:8080/"
        },
        "id": "JYqQmqth5REy",
        "outputId": "5e4c3c5d-ffb9-4f23-f98a-5b67eda22483"
      },
      "execution_count": 26,
      "outputs": [
        {
          "output_type": "stream",
          "name": "stdout",
          "text": [
            "(1, 'rice', 10.432)\n",
            "(2, 'rices', 13.432)\n"
          ]
        }
      ]
    },
    {
      "cell_type": "code",
      "source": [
        "row[0]"
      ],
      "metadata": {
        "colab": {
          "base_uri": "https://localhost:8080/"
        },
        "id": "tiX8KbOd5h_X",
        "outputId": "890766f5-fcd7-44fb-a762-ab334253e236"
      },
      "execution_count": 28,
      "outputs": [
        {
          "output_type": "execute_result",
          "data": {
            "text/plain": [
              "2"
            ]
          },
          "metadata": {},
          "execution_count": 28
        }
      ]
    },
    {
      "cell_type": "code",
      "source": [
        "name = 'rice'\n",
        "cure.execute(\"SELECT * FROM test WHERE symbol = '%s'\" % name )"
      ],
      "metadata": {
        "colab": {
          "base_uri": "https://localhost:8080/"
        },
        "id": "BjIfNpcO5uam",
        "outputId": "484d7837-5dce-4a52-b952-d4edab562df5"
      },
      "execution_count": 31,
      "outputs": [
        {
          "output_type": "execute_result",
          "data": {
            "text/plain": [
              "<sqlite3.Cursor at 0x7f4011500a40>"
            ]
          },
          "metadata": {},
          "execution_count": 31
        }
      ]
    },
    {
      "cell_type": "code",
      "source": [
        "con = sqlite3.connect(\":memory:\")"
      ],
      "metadata": {
        "id": "lsAZgCWe-0Gd"
      },
      "execution_count": 33,
      "outputs": []
    },
    {
      "cell_type": "code",
      "source": [
        "con = sqlite3.connect(\":memory:\")\n",
        "cor = con.cursor()\n",
        "cor.execute(\"create table lang (name,num)\")\n",
        "cor.execute(\"insert into lang values (?,?)\",(\"C\",1972))\n",
        "# lang = [(\"fortran\",1900),(\"python\",2016),(\"me\",1997)]\n",
        "lang = [\n",
        "    (\"Fortran\", 1957),\n",
        "    (\"Python\", 1991),\n",
        "    (\"Go\", 2009),\n",
        "]\n",
        "cor.executemany(\"insert into lang values (?,?)\",lang)\n",
        "cor.execute(\"select * from lang where num=:now\",{\"now\":1997})\n",
        "\n",
        "cor.execute(\"select * from lang where num=:t\", {'t':1972})\n",
        "print(cor.fetchall())\n",
        "con.close()"
      ],
      "metadata": {
        "colab": {
          "base_uri": "https://localhost:8080/"
        },
        "id": "JEYgDQnf--ha",
        "outputId": "576112a7-2ec3-40ab-d51a-2ac4c311f62b"
      },
      "execution_count": 50,
      "outputs": [
        {
          "output_type": "stream",
          "name": "stdout",
          "text": [
            "[('C', 1972)]\n"
          ]
        }
      ]
    },
    {
      "cell_type": "code",
      "source": [
        "lang2 = [(\"r\",i) for i in range(10000)]"
      ],
      "metadata": {
        "id": "bSsmhlmRDoeT"
      },
      "execution_count": 61,
      "outputs": []
    },
    {
      "cell_type": "code",
      "source": [
        "lang2"
      ],
      "metadata": {
        "id": "c7iXLk1DDxAb"
      },
      "execution_count": null,
      "outputs": []
    },
    {
      "cell_type": "code",
      "source": [
        "con = sqlite3.connect(\"lang.db\")\n",
        "cor = con.cursor()\n",
        "# cor.execute(\"create table lang (name,num)\")\n",
        "cor.execute(\"insert into lang values (?,?)\",(\"C\",1972))\n",
        "# lang = [(\"fortran\",1900),(\"python\",2016),(\"me\",1997)]\n",
        "lang = [\n",
        "    (\"Fortran\", 1957),\n",
        "    (\"Python\", 1991),\n",
        "    (\"Go\", 2009),\n",
        "]\n",
        "cor.executemany(\"insert into lang values (?,?)\",lang2)\n",
        "cor.execute(\"select * from lang where num=:now\",{\"now\":1997})\n",
        "\n",
        "cor.execute(\"select * from lang where num=:t\", {'t':1972})\n",
        "print(cor.fetchall())\n",
        "con.commit()\n",
        "con.close()"
      ],
      "metadata": {
        "colab": {
          "base_uri": "https://localhost:8080/"
        },
        "id": "7Kc8AGtmAc_P",
        "outputId": "f13e54ac-619e-4b0d-89d1-6110d021403f"
      },
      "execution_count": 63,
      "outputs": [
        {
          "output_type": "stream",
          "name": "stdout",
          "text": [
            "[('C', 1972), ('C', 1972), ('r', 1972)]\n"
          ]
        }
      ]
    },
    {
      "cell_type": "code",
      "source": [
        "con = sqlite3.connect(\"lang.db\")\n",
        "cor = con.cursor()\n",
        "# cor.execute(\"create table lang (name,num)\")\n",
        "cor.execute(\"insert into lang values (?,?)\",(\"C\",1972))\n",
        "# lang = [(\"fortran\",1900),(\"python\",2016),(\"me\",1997)]\n",
        "lang = [\n",
        "    (\"Fortran\", 1957),\n",
        "    (\"Python\", 1991),\n",
        "    (\"Go\", 2009),\n",
        "]\n",
        "cor.executemany(\"insert into lang values (?,?)\",lang2)\n",
        "cor.execute(\"select * from lang where num=:now\",{\"now\":1997})\n",
        "\n",
        "cor.execute(\"select * from lang where num=:t\", {'t':1972})\n",
        "print(cor.fetchone()[1])\n",
        "con.commit()\n",
        "con.close()"
      ],
      "metadata": {
        "colab": {
          "base_uri": "https://localhost:8080/"
        },
        "id": "zqR__ypZEoqJ",
        "outputId": "a233c4d2-dc72-478a-ae33-473c7a317257"
      },
      "execution_count": 70,
      "outputs": [
        {
          "output_type": "stream",
          "name": "stdout",
          "text": [
            "1972\n"
          ]
        }
      ]
    },
    {
      "cell_type": "code",
      "source": [
        "con = sqlite3.connect(\"lang.db\")\n",
        "cor = con.cursor()\n",
        "for row in cor.execute('select * from lang'):\n",
        "    print(row)"
      ],
      "metadata": {
        "id": "vvta6VCmCQkv"
      },
      "execution_count": null,
      "outputs": []
    },
    {
      "cell_type": "code",
      "source": [
        "row"
      ],
      "metadata": {
        "colab": {
          "base_uri": "https://localhost:8080/"
        },
        "id": "rwLmrovjD_NI",
        "outputId": "9e5619ad-de36-4d0d-b112-d29f8364c57d"
      },
      "execution_count": 68,
      "outputs": [
        {
          "output_type": "execute_result",
          "data": {
            "text/plain": [
              "('r', 9999)"
            ]
          },
          "metadata": {},
          "execution_count": 68
        }
      ]
    },
    {
      "cell_type": "code",
      "source": [
        "database = sqlite3.connect(\"database2.db\")"
      ],
      "metadata": {
        "id": "F7XwxYTbOgQd"
      },
      "execution_count": 156,
      "outputs": []
    },
    {
      "cell_type": "code",
      "source": [
        "datacur = database.cursor()"
      ],
      "metadata": {
        "id": "U6diIE1ZQ0Xz"
      },
      "execution_count": 157,
      "outputs": []
    },
    {
      "cell_type": "code",
      "source": [
        "datacur.execute('create table data (\"id\",\"name\",\"access\")')"
      ],
      "metadata": {
        "colab": {
          "base_uri": "https://localhost:8080/"
        },
        "id": "s8VaOQdsWDg5",
        "outputId": "3fdff221-8177-4126-8d65-b3fc71272bdf"
      },
      "execution_count": 140,
      "outputs": [
        {
          "output_type": "execute_result",
          "data": {
            "text/plain": [
              "<sqlite3.Cursor at 0x7f400f5906c0>"
            ]
          },
          "metadata": {},
          "execution_count": 140
        }
      ]
    },
    {
      "cell_type": "code",
      "source": [
        "datacur.execute(\"insert into data values (?,?,?)\",(3,'eraghi',1))"
      ],
      "metadata": {
        "colab": {
          "base_uri": "https://localhost:8080/"
        },
        "id": "LOzilEfWQ8Va",
        "outputId": "139ccd66-207a-4553-c167-2055aa1f5652"
      },
      "execution_count": 160,
      "outputs": [
        {
          "output_type": "execute_result",
          "data": {
            "text/plain": [
              "<sqlite3.Cursor at 0x7f400f55e180>"
            ]
          },
          "metadata": {},
          "execution_count": 160
        }
      ]
    },
    {
      "cell_type": "code",
      "source": [
        "database.commit()\n",
        "\n",
        "database.close()"
      ],
      "metadata": {
        "id": "gYtbnqjeSA30"
      },
      "execution_count": 174,
      "outputs": []
    },
    {
      "cell_type": "code",
      "source": [
        "database = sqlite3.connect('database2.db')\n",
        "# datacur\n",
        "for row in database.execute('delete from data where id=:t',{'t':1}):\n",
        "    print(row)\n",
        "# this code will delete records wherer id is 1"
      ],
      "metadata": {
        "id": "pOeWEaCPReCr"
      },
      "execution_count": 163,
      "outputs": []
    },
    {
      "cell_type": "code",
      "source": [
        "database = sqlite3.connect('database2.db')\n",
        "# datacur\n",
        "for row in database.execute('select * from data where id=:t',{'t':3}):\n",
        "    print(row)"
      ],
      "metadata": {
        "colab": {
          "base_uri": "https://localhost:8080/"
        },
        "id": "8Jw-ATNrTCtO",
        "outputId": "26eaa211-01ab-4be1-8f8f-ebeeb0976c2d"
      },
      "execution_count": 175,
      "outputs": [
        {
          "output_type": "stream",
          "name": "stdout",
          "text": [
            "(3, 'eraghiii', 1)\n"
          ]
        }
      ]
    },
    {
      "cell_type": "code",
      "source": [
        "database = sqlite3.connect('database2.db')\n",
        "# datacur\n",
        "database.execute('update data set name=\"eraghiii\" where id=3')"
      ],
      "metadata": {
        "colab": {
          "base_uri": "https://localhost:8080/"
        },
        "id": "nAsHf98BT7hW",
        "outputId": "de8ff1b4-7c78-4862-dd22-2850df62d95b"
      },
      "execution_count": 173,
      "outputs": [
        {
          "output_type": "execute_result",
          "data": {
            "text/plain": [
              "<sqlite3.Cursor at 0x7f400f55e880>"
            ]
          },
          "metadata": {},
          "execution_count": 173
        }
      ]
    }
  ]
}